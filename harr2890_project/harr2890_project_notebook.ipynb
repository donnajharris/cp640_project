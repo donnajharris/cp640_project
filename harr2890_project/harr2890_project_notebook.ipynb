{
 "cells": [
  {
   "cell_type": "markdown",
   "id": "d9ccf0a1",
   "metadata": {},
   "source": [
    "# Using Historical Data to Predict Batting Success"
   ]
  },
  {
   "cell_type": "markdown",
   "id": "dc7e52fc",
   "metadata": {},
   "source": [
    "Authored by: Donna J. Harris (994042890)\n",
    "\n",
    "Email: harr2890@mylaurier.ca\n",
    "\n",
    "For: CP640 Machine Learning (S22) with Professor Elham Harirpoush"
   ]
  },
  {
   "cell_type": "markdown",
   "id": "85114b3c",
   "metadata": {},
   "source": [
    "## Introductory Comments"
   ]
  },
  {
   "cell_type": "markdown",
   "id": "ad2535f3",
   "metadata": {},
   "source": [
    "Based on the project proposal of the same name, this Jupyter Notebook demonstrates the process and exploration of Major League Baseball batting data from 1901 to 2021 to the end of discovering how or if historical data can be used to predict batting success.\n",
    "\n",
    "The Kaggle dataset being used as the primary data source can be found in the `data` folder of the project folder structure: `./data/mlbbatting1901-2021.csv`"
   ]
  },
  {
   "cell_type": "markdown",
   "id": "d824acc6",
   "metadata": {},
   "source": [
    "Each data record in the original dataset represents an individual batter's performance in a single game. This is why there are so many records. In a single game, there will be at least 18 batters with plate appearances across both teams, and often more with player substitutions, especially across extra innings."
   ]
  },
  {
   "cell_type": "markdown",
   "id": "462f0427",
   "metadata": {},
   "source": [
    "## Environment Setup"
   ]
  },
  {
   "cell_type": "markdown",
   "id": "02d011a8",
   "metadata": {},
   "source": [
    "Import and establish environment for initial work."
   ]
  },
  {
   "cell_type": "code",
   "execution_count": 1,
   "id": "2c518769",
   "metadata": {},
   "outputs": [],
   "source": [
    "import pandas as pd"
   ]
  },
  {
   "cell_type": "markdown",
   "id": "8d3b658a",
   "metadata": {},
   "source": [
    "## Preprocessing"
   ]
  },
  {
   "cell_type": "markdown",
   "id": "c2d57325",
   "metadata": {},
   "source": [
    "### Original Data"
   ]
  },
  {
   "cell_type": "markdown",
   "id": "59a8e97f",
   "metadata": {},
   "source": [
    "Acquire the data from the Kaggle dataset and place into a dataframe."
   ]
  },
  {
   "cell_type": "code",
   "execution_count": 2,
   "id": "52d5e171",
   "metadata": {},
   "outputs": [],
   "source": [
    "original_data_source = \"./data/mlbbatting1901-2021.csv\"\n",
    "\n",
    "df = pd.read_csv(original_data_source)"
   ]
  },
  {
   "cell_type": "markdown",
   "id": "ab7f37d3",
   "metadata": {},
   "source": [
    "Confirm the original data has been loaded into the data frame. (It should start with the earliest records from 1901 and end with the latest records from 2021.)"
   ]
  },
  {
   "cell_type": "code",
   "execution_count": 3,
   "id": "3c021708",
   "metadata": {},
   "outputs": [
    {
     "name": "stdout",
     "output_type": "stream",
     "text": [
      "                ID            Player        Date   Tm  Opp    Rslt  PA  AB  R  \\\n",
      "0        crossmo01       Monte Cross  1901-04-18  PHI  BRO  L 7-12   5   4  2   \n",
      "1        dahlebi01       Bill Dahlen  1901-04-18  BRO  PHI  W 12-7   5   4  2   \n",
      "2         dalyto01          Tom Daly  1901-04-18  BRO  PHI  W 12-7   5   5  1   \n",
      "3        davisle01       Lefty Davis  1901-04-18  BRO  PHI  W 12-7   5   5  1   \n",
      "4        delahed01      Ed Delahanty  1901-04-18  PHI  BRO  L 7-12   5   4  1   \n",
      "...            ...               ...         ...  ...  ...     ...  ..  .. ..   \n",
      "4285624  woodfja01     Jake Woodford  2021-10-03  STL  CHC   L 2-3   2   1  0   \n",
      "4285625  yastrmi01  Mike Yastrzemski  2021-10-03  SFG  SDP  W 11-4   4   3  1   \n",
      "4285626  zimmebr01    Bradley Zimmer  2021-10-03  CLE  TEX   W 6-0   4   4  1   \n",
      "4285627  zimmery01    Ryan Zimmerman  2021-10-03  WSN  BOS   L 5-7   4   3  0   \n",
      "4285628  zuninmi01       Mike Zunino  2021-10-03  TBR  NYY   L 0-1   4   4  0   \n",
      "\n",
      "         H  ...  GDP  SB   CS    WPA   RE24    aLI  BOP  Pos Summary  DFS(DK)  \\\n",
      "0        2  ...  NaN   0  NaN    NaN    NaN    NaN    8           SS      NaN   \n",
      "1        3  ...  NaN   2  NaN    NaN    NaN    NaN    7           SS      NaN   \n",
      "2        2  ...  NaN   0  NaN    NaN    NaN    NaN    6           2B      NaN   \n",
      "3        1  ...  NaN   0  NaN    NaN    NaN    NaN    1           LF      NaN   \n",
      "4        2  ...  NaN   0  NaN    NaN    NaN    NaN    3           1B      NaN   \n",
      "...     ..  ...  ...  ..  ...    ...    ...    ...  ...          ...      ...   \n",
      "4285624  0  ...  0.0   0  0.0 -0.045 -0.413  1.530    9            P      NaN   \n",
      "4285625  1  ...  0.0   0  0.0  0.023  1.648  0.570    7           CF     13.0   \n",
      "4285626  2  ...  0.0   2  0.0  0.065  0.828  0.442    6           RF     20.0   \n",
      "4285627  0  ...  0.0   0  0.0 -0.051 -0.356  1.565    5           1B      4.0   \n",
      "4285628  0  ...  0.0   0  0.0 -0.184 -1.214  1.633    7            C      0.0   \n",
      "\n",
      "         DFS(FD)  \n",
      "0            NaN  \n",
      "1            NaN  \n",
      "2            NaN  \n",
      "3            NaN  \n",
      "4            NaN  \n",
      "...          ...  \n",
      "4285624      NaN  \n",
      "4285625     19.2  \n",
      "4285626     24.7  \n",
      "4285627      6.5  \n",
      "4285628      0.0  \n",
      "\n",
      "[4285629 rows x 31 columns]\n"
     ]
    }
   ],
   "source": [
    "print(df)"
   ]
  },
  {
   "cell_type": "code",
   "execution_count": 4,
   "id": "073d9204",
   "metadata": {},
   "outputs": [
    {
     "name": "stdout",
     "output_type": "stream",
     "text": [
      "Index(['ID', 'Player', 'Date', 'Tm', 'Opp', 'Rslt', 'PA', 'AB', 'R', 'H', '2B',\n",
      "       '3B', 'HR', 'RBI', 'BB', 'IBB', 'SO', 'HBP', 'SH', 'SF', 'ROE', 'GDP',\n",
      "       'SB', 'CS', 'WPA', 'RE24', 'aLI', 'BOP', 'Pos Summary', 'DFS(DK)',\n",
      "       'DFS(FD)'],\n",
      "      dtype='object')\n"
     ]
    }
   ],
   "source": [
    "print(df.columns)"
   ]
  },
  {
   "cell_type": "markdown",
   "id": "e0c97d87",
   "metadata": {},
   "source": [
    "We have our confirmation that there are 31 feature columns and 4,285,629 data records."
   ]
  },
  {
   "cell_type": "markdown",
   "id": "76ffe2d9",
   "metadata": {},
   "source": [
    "### Extract Data"
   ]
  },
  {
   "cell_type": "markdown",
   "id": "3ab8c05e",
   "metadata": {},
   "source": [
    "There is some data that might be of use to us that is trapped in existing columns. First, we want to extract the result of the game and the score of the game from the `'Rslt'` column. Then, we want to extract the year the game was played (denoting the season) from the `'Date'` column."
   ]
  },
  {
   "cell_type": "code",
   "execution_count": 5,
   "id": "e3b1c58d",
   "metadata": {},
   "outputs": [],
   "source": [
    "df[['Result','Score']] = df['Rslt'].str.split(' ', expand=True)\n",
    "\n",
    "df['Season'] = df['Date'].str[:4]"
   ]
  },
  {
   "cell_type": "markdown",
   "id": "d9c5faa7",
   "metadata": {},
   "source": [
    "### Column Removal"
   ]
  },
  {
   "cell_type": "markdown",
   "id": "d296fcab",
   "metadata": {},
   "source": [
    "There are a number of columns in the original dataset that we know before going any further that we have no use for.\n",
    "\n",
    "We no longer need `'Rslt'`, as we just split its interesting information into separate columns. Likewise with `'Date'`, we have what we need in the new `'Season'` column, so we can remove the `'Date'` column."
   ]
  },
  {
   "cell_type": "code",
   "execution_count": 6,
   "id": "c8a0a15b",
   "metadata": {
    "scrolled": true
   },
   "outputs": [],
   "source": [
    "del df['Rslt']"
   ]
  },
  {
   "cell_type": "code",
   "execution_count": 7,
   "id": "368c427a",
   "metadata": {},
   "outputs": [],
   "source": [
    "del df['Date']"
   ]
  },
  {
   "cell_type": "markdown",
   "id": "9ea65cb4",
   "metadata": {},
   "source": [
    "Daily fantasy sports points (used for fantasy leagues and betting) have no purpose within this project, so we can safely remove `'DFS(DK)'` and `'DFS(FD)'` from the data."
   ]
  },
  {
   "cell_type": "code",
   "execution_count": 8,
   "id": "a4a44ee8",
   "metadata": {},
   "outputs": [],
   "source": [
    "del df['DFS(DK)']\n",
    "del df['DFS(FD)']"
   ]
  },
  {
   "cell_type": "markdown",
   "id": "fa985f2a",
   "metadata": {},
   "source": [
    "Similarly, to reduce complexity, we are not considering any statistics relating to fielding or base running/stealing. As such, we can remove `'SB'` and `'CS'`, which are the number of stolen bases and time caught stealing, respectively, as well as the `'Pos Summary'` (position summary) data."
   ]
  },
  {
   "cell_type": "code",
   "execution_count": 9,
   "id": "26d30e2f",
   "metadata": {},
   "outputs": [],
   "source": [
    "del df['SB']\n",
    "del df['CS']\n",
    "del df['Pos Summary']"
   ]
  },
  {
   "cell_type": "markdown",
   "id": "d826d3aa",
   "metadata": {},
   "source": [
    "To further reduce complexity, we will remove the `'IBB'` (intentional walks) column as this is a subset of values tracked under the walks column (`'BB'`).  (Reference: https://en.wikipedia.org/wiki/Base_on_balls#Intentional_base_on_balls)"
   ]
  },
  {
   "cell_type": "code",
   "execution_count": 10,
   "id": "b0be5943",
   "metadata": {},
   "outputs": [],
   "source": [
    "del df['IBB']"
   ]
  },
  {
   "cell_type": "markdown",
   "id": "45fb8106",
   "metadata": {},
   "source": [
    "Similarly, we will remove the `'SF'` (sacrifice fly) column as this is a subset of values tracked under the runs batted in (`'RBI'`) column. (Reference: https://www.mlb.com/glossary/standard-stats/sacrifice-fly)"
   ]
  },
  {
   "cell_type": "code",
   "execution_count": 11,
   "id": "d6c474bb",
   "metadata": {},
   "outputs": [],
   "source": [
    "del df['SF']"
   ]
  },
  {
   "cell_type": "markdown",
   "id": "d1d6c2b2",
   "metadata": {},
   "source": [
    "We can remove the `'GDP'` column, which represents the number of times a player hits into a double play (two outs). While this statistic has some bearing to the success of a batter, for this project we will exclude this nuance and focus more on the aspects of run production and getting on base through other statistical means."
   ]
  },
  {
   "cell_type": "code",
   "execution_count": 12,
   "id": "a43145ba",
   "metadata": {},
   "outputs": [],
   "source": [
    "del df['GDP']"
   ]
  },
  {
   "cell_type": "markdown",
   "id": "c26e722c",
   "metadata": {},
   "source": [
    "Similarly to `'GDP'`, we will disregard the `'ROE'` column, which represents the number of times a player reaches base due to a fielding error by the opposing team. Like `'GDP'`, this statistic has some bearing to the success of a batter but it leans more toward their running abilities and street smarts of the player, as well as a bit of luck. Again, for this project, these nuances will be excluded for simplicity."
   ]
  },
  {
   "cell_type": "code",
   "execution_count": 13,
   "id": "f151808b",
   "metadata": {},
   "outputs": [],
   "source": [
    "del df['ROE']"
   ]
  },
  {
   "cell_type": "markdown",
   "id": "551a4577",
   "metadata": {},
   "source": [
    "Before continuing on to value checking, let's look and see where the data is at after these processing operations."
   ]
  },
  {
   "cell_type": "code",
   "execution_count": 14,
   "id": "fc7e07e9",
   "metadata": {},
   "outputs": [
    {
     "name": "stdout",
     "output_type": "stream",
     "text": [
      "                ID            Player   Tm  Opp  PA  AB  R  H  2B  3B  ...  SO  \\\n",
      "0        crossmo01       Monte Cross  PHI  BRO   5   4  2  2   1   0  ...   0   \n",
      "1        dahlebi01       Bill Dahlen  BRO  PHI   5   4  2  3   0   0  ...   1   \n",
      "2         dalyto01          Tom Daly  BRO  PHI   5   5  1  2   1   0  ...   1   \n",
      "3        davisle01       Lefty Davis  BRO  PHI   5   5  1  1   0   0  ...   0   \n",
      "4        delahed01      Ed Delahanty  PHI  BRO   5   4  1  2   0   0  ...   0   \n",
      "...            ...               ...  ...  ...  ..  .. .. ..  ..  ..  ...  ..   \n",
      "4285624  woodfja01     Jake Woodford  STL  CHC   2   1  0  0   0   0  ...   0   \n",
      "4285625  yastrmi01  Mike Yastrzemski  SFG  SDP   4   3  1  1   1   0  ...   1   \n",
      "4285626  zimmebr01    Bradley Zimmer  CLE  TEX   4   4  1  2   0   0  ...   0   \n",
      "4285627  zimmery01    Ryan Zimmerman  WSN  BOS   4   3  0  0   0   0  ...   2   \n",
      "4285628  zuninmi01       Mike Zunino  TBR  NYY   4   4  0  0   0   0  ...   1   \n",
      "\n",
      "         HBP  SH    WPA   RE24    aLI  BOP  Result  Score  Season  \n",
      "0          0   0    NaN    NaN    NaN    8       L   7-12    1901  \n",
      "1          0   0    NaN    NaN    NaN    7       W   12-7    1901  \n",
      "2          0   0    NaN    NaN    NaN    6       W   12-7    1901  \n",
      "3          0   0    NaN    NaN    NaN    1       W   12-7    1901  \n",
      "4          0   0    NaN    NaN    NaN    3       L   7-12    1901  \n",
      "...      ...  ..    ...    ...    ...  ...     ...    ...     ...  \n",
      "4285624    0   1 -0.045 -0.413  1.530    9       L    2-3    2021  \n",
      "4285625    0   0  0.023  1.648  0.570    7       W   11-4    2021  \n",
      "4285626    0   0  0.065  0.828  0.442    6       W    6-0    2021  \n",
      "4285627    0   0 -0.051 -0.356  1.565    5       L    5-7    2021  \n",
      "4285628    0   0 -0.184 -1.214  1.633    7       L    0-1    2021  \n",
      "\n",
      "[4285629 rows x 23 columns]\n"
     ]
    }
   ],
   "source": [
    "print(df)"
   ]
  },
  {
   "cell_type": "code",
   "execution_count": 15,
   "id": "7e26ae0c",
   "metadata": {},
   "outputs": [
    {
     "name": "stdout",
     "output_type": "stream",
     "text": [
      "Index(['ID', 'Player', 'Tm', 'Opp', 'PA', 'AB', 'R', 'H', '2B', '3B', 'HR',\n",
      "       'RBI', 'BB', 'SO', 'HBP', 'SH', 'WPA', 'RE24', 'aLI', 'BOP', 'Result',\n",
      "       'Score', 'Season'],\n",
      "      dtype='object')\n"
     ]
    }
   ],
   "source": [
    "print(df.columns)"
   ]
  },
  {
   "cell_type": "markdown",
   "id": "d9a8ec56",
   "metadata": {},
   "source": [
    "We added three new columns (`'Result'`, `'Score'`, and `'Season'`) -- which we may or may not need later -- and also removed ten existing columns. So, this looks correct: 31 original features + 3 new features - 11 features = 23 feature columns.\n",
    "\n",
    "We still have 4,285,629 data records, as we have not removed any records yet."
   ]
  },
  {
   "cell_type": "markdown",
   "id": "7d354713",
   "metadata": {},
   "source": [
    "### Value Checking and Data Validation"
   ]
  },
  {
   "cell_type": "markdown",
   "id": "cadf51d4",
   "metadata": {},
   "source": [
    "**ID - Player ID**\n",
    "\n",
    "Should be unique to each player. This will indicate how many players we currently have, based on player ID."
   ]
  },
  {
   "cell_type": "code",
   "execution_count": 16,
   "id": "46dfe26e",
   "metadata": {},
   "outputs": [
    {
     "name": "stdout",
     "output_type": "stream",
     "text": [
      "['crossmo01' 'dahlebi01' 'dalyto01' ... 'adonjo01' 'paynety01' 'stridsp01']\n",
      "\n",
      "Number of unique player IDs:  15985\n"
     ]
    }
   ],
   "source": [
    "print(pd.unique(df['ID']))\n",
    "\n",
    "print(\"\\nNumber of unique player IDs: \", len(pd.unique(df['ID'])))"
   ]
  },
  {
   "cell_type": "markdown",
   "id": "dc264d51",
   "metadata": {},
   "source": [
    "**Player - Player Name**\n",
    "\n",
    "Should be roughly the same number of player IDs. Discrepancies are possible, errors in spelling, etc. but this is not highly significant for our statistics since we will key everything on the more reliable Player ID. We will hang onto this field to help humanly identify players by name. "
   ]
  },
  {
   "cell_type": "code",
   "execution_count": 17,
   "id": "5fefd32f",
   "metadata": {},
   "outputs": [
    {
     "name": "stdout",
     "output_type": "stream",
     "text": [
      "['Monte Cross' 'Bill Dahlen' 'Tom Daly' ... 'Joan Adon' 'Tyler Payne'\n",
      " 'Spencer Strider']\n",
      "\n",
      "Number of unique player names:  15595\n"
     ]
    }
   ],
   "source": [
    "print(pd.unique(df['Player']))\n",
    "\n",
    "print(\"\\nNumber of unique player names: \", len(pd.unique(df['Player'])))"
   ]
  },
  {
   "cell_type": "markdown",
   "id": "99733240",
   "metadata": {},
   "source": [
    "**Note:** We found there were 15,985 unique IDs and 15,595 unique player names, which is a difference of 390 in favour of the IDs. This could easily be explained by different players over the years with the same name. This is a nuance that will be disregarded for this project. As previously stated, we will use the ID for all but human identification purposes."
   ]
  },
  {
   "cell_type": "markdown",
   "id": "234ab3e0",
   "metadata": {},
   "source": [
    "**Season - Year the game was played in**\n",
    "(Extracted from `'Date'`)\n",
    "\n",
    "The values should all be visibly in YYYY format between the years of 1901 and 2021, inclusive."
   ]
  },
  {
   "cell_type": "code",
   "execution_count": 18,
   "id": "b3b0df0c",
   "metadata": {},
   "outputs": [
    {
     "name": "stdout",
     "output_type": "stream",
     "text": [
      "['1901' '1902' '1903' '1904' '1905' '1906' '1907' '1908' '1909' '1910'\n",
      " '1911' '1912' '1913' '1914' '1915' '1916' '1917' '1918' '1919' '1920'\n",
      " '1921' '1922' '1923' '1924' '1925' '1926' '1927' '1928' '1929' '1930'\n",
      " '1931' '1932' '1933' '1934' '1935' '1936' '1937' '1938' '1939' '1940'\n",
      " '1941' '1942' '1943' '1944' '1945' '1946' '1947' '1948' '1949' '1950'\n",
      " '1951' '1952' '1953' '1954' '1955' '1956' '1957' '1958' '1959' '1960'\n",
      " '1961' '1962' '1963' '1964' '1965' '1966' '1967' '1968' '1969' '1970'\n",
      " '1971' '1972' '1973' '1974' '1975' '1976' '1977' '1978' '1979' '1980'\n",
      " '1981' '1982' '1983' '1984' '1985' '1986' '1987' '1988' '1989' '1990'\n",
      " '1991' '1992' '1993' '1994' '1995' '1996' '1997' '1998' '1999' '2000'\n",
      " '2001' '2002' '2003' '2004' '2005' '2006' '2007' '2008' '2009' '2010'\n",
      " '2011' '2012' '2013' '2014' '2015' '2016' '2017' '2018' '2019' '2020'\n",
      " '2021']\n"
     ]
    }
   ],
   "source": [
    "print(pd.unique(df['Season']))"
   ]
  },
  {
   "cell_type": "markdown",
   "id": "fb1951f8",
   "metadata": {},
   "source": [
    "**Tm - Player's Team** and **Opp - Opponent**\n",
    "\n",
    "The team values (both the player's team and the opposing team) should all be visibly in ZZZ format, belonging to a recognizable team between the 1901-2021 seasons. These are fields that will likely get dropped later on, but I'm keeping them until I know for sure I don't want them."
   ]
  },
  {
   "cell_type": "code",
   "execution_count": 19,
   "id": "61b61017",
   "metadata": {},
   "outputs": [
    {
     "name": "stdout",
     "output_type": "stream",
     "text": [
      "Player's Team (Tm):\n",
      " ['PHI' 'BRO' 'BSN' 'NYG' 'STL' 'CHC' 'PIT' 'CIN' 'CLE' 'CHW' 'MLA' 'DET'\n",
      " 'PHA' 'WSH' 'BOS' 'BLA' 'SLB' 'NYY' 'BUF' 'BAL' 'PBS' 'BTT' 'CHI' 'IND'\n",
      " 'SLM' 'KCP' 'NEW' 'MLN' 'KCA' 'LAD' 'SFG' 'WSA' 'MIN' 'LAA' 'HOU' 'NYM'\n",
      " 'CAL' 'ATL' 'OAK' 'KCR' 'MON' 'SDP' 'SEP' 'MIL' 'TEX' 'SEA' 'TOR' 'FLA'\n",
      " 'COL' 'ANA' 'ARI' 'TBD' 'WSN' 'TBR' 'MIA']\n",
      "\n",
      "Opposing Team (Opp):\n",
      " ['BRO' 'PHI' 'NYG' 'BSN' 'CHC' 'STL' 'CIN' 'PIT' 'CHW' 'CLE' 'DET' 'MLA'\n",
      " 'WSH' 'PHA' 'BLA' 'BOS' 'SLB' 'NYY' 'BAL' 'BUF' 'BTT' 'PBS' 'KCP' 'SLM'\n",
      " 'IND' 'CHI' 'NEW' 'MLN' 'KCA' 'SFG' 'LAD' 'WSA' 'MIN' 'LAA' 'HOU' 'NYM'\n",
      " 'CAL' 'ATL' 'OAK' 'MON' 'SDP' 'KCR' 'SEP' 'MIL' 'TEX' 'SEA' 'TOR' 'COL'\n",
      " 'FLA' 'ANA' 'ARI' 'TBD' 'WSN' 'TBR' 'MIA']\n"
     ]
    }
   ],
   "source": [
    "print(\"Player's Team (Tm):\\n\", pd.unique(df['Tm']))\n",
    "print(\"\\nOpposing Team (Opp):\\n\", pd.unique(df['Opp']))"
   ]
  },
  {
   "cell_type": "markdown",
   "id": "4e7e57b2",
   "metadata": {},
   "source": [
    "**PA - Plate Appearances**\n",
    "\n",
    "Appearances should be an integer value, between the range of 1 and some upper value. (A 0 would indicate the player didn't bat in the game which would mean there should not be a record.)\n",
    "\n",
    "The upper value will vary, although (speaking as a baseball fan) five plate appearances is pretty standard in a regular, nine-inning, low scoring game. But as soon as you get into higher scores and/or extra inning games, players can be up to bat many times."
   ]
  },
  {
   "cell_type": "code",
   "execution_count": 20,
   "id": "20d07e7e",
   "metadata": {},
   "outputs": [
    {
     "name": "stdout",
     "output_type": "stream",
     "text": [
      "[ 5  4  3  1  2  6  7  8  9 10 11 12]\n"
     ]
    }
   ],
   "source": [
    "print(pd.unique(df['PA']))"
   ]
  },
  {
   "cell_type": "markdown",
   "id": "dd41b838",
   "metadata": {},
   "source": [
    "**Note:** 12 was the upper value. I'm curious of what era these are from, so let's take a look:"
   ]
  },
  {
   "cell_type": "code",
   "execution_count": 21,
   "id": "2a89f9c0",
   "metadata": {},
   "outputs": [
    {
     "name": "stdout",
     "output_type": "stream",
     "text": [
      "                ID         Player   Tm  Opp  PA  AB  R  H  2B  3B  ...  SO  \\\n",
      "2062446  millafe01   Felix Millan  NYM  STL  12  10  1  4   0   0  ...   0   \n",
      "2062447  milnejo01    John Milner  NYM  STL  12  10  0  2   1   0  ...   3   \n",
      "2458599  baineha01  Harold Baines  CHW  MIL  12  10  1  2   1   0  ...   0   \n",
      "2458643   fiskca01   Carlton Fisk  CHW  MIL  12  11  1  3   1   0  ...   3   \n",
      "2458686    lawru01       Rudy Law  CHW  MIL  12  11  1  4   0   0  ...   0   \n",
      "\n",
      "         HBP  SH    WPA   RE24    aLI  BOP  Result  Score  Season  \n",
      "2062446    0   1  0.060  0.422  1.894    2       L    3-4    1974  \n",
      "2062447    0   0 -0.250 -0.399  2.147    4       L    3-4    1974  \n",
      "2458599    0   0  0.195 -0.083  2.204    5       W    7-6    1984  \n",
      "2458643    0   0 -0.237 -0.649  2.455    2       W    7-6    1984  \n",
      "2458686    0   0  0.511  1.816  1.958    1       W    7-6    1984  \n",
      "\n",
      "[5 rows x 23 columns]\n"
     ]
    }
   ],
   "source": [
    "print(df[df['PA'] == 12])"
   ]
  },
  {
   "cell_type": "markdown",
   "id": "b4145cf3",
   "metadata": {},
   "source": [
    "**AB - At Bats**\n",
    "\n",
    "Similarly to Plate Appearances, At Bats should be an integer value. It should be between the range of 0 and some upper value. (Here, a 0 would indicate the player had one plate appearance that did not statistically count as an At Bat, such as a walk.)\n",
    "\n",
    "The upper range should follow, and not exceed the upper value of Plate Appearances, which was 12. Note that 12 is possible, but does not have to be a value in this collection of data."
   ]
  },
  {
   "cell_type": "code",
   "execution_count": 22,
   "id": "bdcff5c2",
   "metadata": {},
   "outputs": [
    {
     "name": "stdout",
     "output_type": "stream",
     "text": [
      "[ 4  5  3  2  1  6  0  7  8  9 10 11]\n"
     ]
    }
   ],
   "source": [
    "print(pd.unique(df['AB']))"
   ]
  },
  {
   "cell_type": "markdown",
   "id": "205b4101",
   "metadata": {},
   "source": [
    "**Note:** 11 was the upper value, which is less then 12. (The max number of plate appearances.)\n",
    "\n",
    "We should validate that there are no records where there are more At Bats than Plate Appearances."
   ]
  },
  {
   "cell_type": "code",
   "execution_count": 23,
   "id": "47b75e14",
   "metadata": {},
   "outputs": [
    {
     "name": "stdout",
     "output_type": "stream",
     "text": [
      "-----------------------------------------\n",
      "All records with PA < AB\n",
      "-----------------------------------------\n",
      "Empty DataFrame\n",
      "Columns: [ID, Player, Tm, Opp, PA, AB, R, H, 2B, 3B, HR, RBI, BB, SO, HBP, SH, WPA, RE24, aLI, BOP, Result, Score, Season]\n",
      "Index: []\n",
      "\n",
      "[0 rows x 23 columns]\n"
     ]
    }
   ],
   "source": [
    "print(\"-----------------------------------------\")\n",
    "print(\"All records with PA < AB\")\n",
    "print(\"-----------------------------------------\")\n",
    "print(df[df['PA'] < df['AB']])"
   ]
  },
  {
   "cell_type": "markdown",
   "id": "d06f6b17",
   "metadata": {},
   "source": [
    "**Note:** The validation checks pass, as we have found no records where PA < AB. No extra investigation or validation is required here."
   ]
  },
  {
   "cell_type": "markdown",
   "id": "a7c65221",
   "metadata": {},
   "source": [
    "**R - Runs**\n",
    "\n",
    "Runs should also be an integer value, in the range of 0 and some upper value. The upper value can be, at most, one larger than the number of plate appearances. In general, that's 12+1 for this dataset, but that's a highly unlikely value to see as number of runs. (We'll address individual records in the next step.)"
   ]
  },
  {
   "cell_type": "code",
   "execution_count": 24,
   "id": "1f742416",
   "metadata": {},
   "outputs": [
    {
     "name": "stdout",
     "output_type": "stream",
     "text": [
      "[2 1 0 4 3 5 6]\n"
     ]
    }
   ],
   "source": [
    "print(pd.unique(df['R']))"
   ]
  },
  {
   "cell_type": "markdown",
   "id": "e391b070",
   "metadata": {},
   "source": [
    "**Note:** We want to do some validation within each individual data record to look for instances where the number of plate appearances is less than the number of runs (e.g., when a player pinch runs for a teammate and then scores a run they have 0 plate appearances and 1 run). And within that subset of records, look for instances where there is more than a difference of one between the `'PA'` and `'R'` values. (If we find any instances with a difference larger than one, we may have a data issue.)"
   ]
  },
  {
   "cell_type": "code",
   "execution_count": 25,
   "id": "a69d776b",
   "metadata": {},
   "outputs": [
    {
     "name": "stdout",
     "output_type": "stream",
     "text": [
      "-----------------------------------------\n",
      "All records with PA < R\n",
      "-----------------------------------------\n",
      "                ID          Player   Tm  Opp  PA  AB  R  H  2B  3B  ...  SO  \\\n",
      "97903     lowebo01      Bobby Lowe  DET  WSH   1   1  2  1   1   0  ...   0   \n",
      "203202   stanljo02     Joe Stanley  CHC  BSN   1   0  2  0   0   0  ...   0   \n",
      "221883   collibi02    Bill Collins  BSN  STL   1   1  2  1   0   0  ...   0   \n",
      "223671   keelewi01   Willie Keeler  NYG  CHC   1   1  2  1   0   0  ...   0   \n",
      "230698   butlear01      Art Butler  BSN  PHI   1   1  2  0   0   0  ...   1   \n",
      "...            ...             ...  ...  ...  ..  .. .. ..  ..  ..  ...  ..   \n",
      "4245067  hamilbi02  Billy Hamilton  CHW  MIN   1   1  2  0   0   0  ...   0   \n",
      "4256455  dubonma01  Mauricio Dubon  SFG  PHI   1   1  2  1   0   0  ...   0   \n",
      "4262325  whiteel04       Eli White  TEX  OAK   1   1  2  0   0   0  ...   1   \n",
      "4264040   kempto01       Tony Kemp  OAK  LAA   1   1  2  1   0   0  ...   0   \n",
      "4268197  davisjo05  Jonathan Davis  NYY  BAL   1   1  2  1   0   0  ...   0   \n",
      "\n",
      "         HBP  SH    WPA   RE24   aLI  BOP  Result  Score  Season  \n",
      "97903      0   0    NaN    NaN   NaN    6       W    8-7    1905  \n",
      "203202     0   0    NaN    NaN   NaN    2       W    9-1    1909  \n",
      "221883     0   0    NaN    NaN   NaN    9       W    9-6    1910  \n",
      "223671     0   0    NaN    NaN   NaN    1       W   18-9    1910  \n",
      "230698     0   0    NaN    NaN   NaN    5       L   9-10    1911  \n",
      "...      ...  ..    ...    ...   ...  ...     ...    ...     ...  \n",
      "4245067    0   0  0.015 -0.158  0.32    7       W    9-3    2021  \n",
      "4256455    0   0  0.000  0.127  0.00    3       W   11-2    2021  \n",
      "4262325    0   0 -0.109 -0.329  3.84    2       L    4-8    2021  \n",
      "4264040    0   0  0.002  0.126  0.04    9       W    6-0    2021  \n",
      "4268197    0   0  0.001  0.389  0.02    8       W   10-3    2021  \n",
      "\n",
      "[457 rows x 23 columns]\n",
      "\n",
      "\n",
      "-----------------------------------------\n",
      "All records with PA < R where PA != R-1\n",
      "-----------------------------------------\n",
      "Empty DataFrame\n",
      "Columns: [ID, Player, Tm, Opp, PA, AB, R, H, 2B, 3B, HR, RBI, BB, SO, HBP, SH, WPA, RE24, aLI, BOP, Result, Score, Season]\n",
      "Index: []\n",
      "\n",
      "[0 rows x 23 columns]\n"
     ]
    }
   ],
   "source": [
    "records_pa_lt_r = df[df['PA'] < df['R']]\n",
    "print(\"-----------------------------------------\")\n",
    "print(\"All records with PA < R\")\n",
    "print(\"-----------------------------------------\")\n",
    "print(records_pa_lt_r)\n",
    "\n",
    "print(\"\\n\\n-----------------------------------------\")\n",
    "print(\"All records with PA < R where PA != R-1\")\n",
    "print(\"-----------------------------------------\")\n",
    "print(records_pa_lt_r[ records_pa_lt_r['PA'] != ((records_pa_lt_r['R']-1)) ])\n"
   ]
  },
  {
   "cell_type": "markdown",
   "id": "192bc1b9",
   "metadata": {},
   "source": [
    "**Note:** The validation checks pass, as we have found no records where PA < R and PA != R-1. No extra investigation or validation is required here."
   ]
  },
  {
   "cell_type": "markdown",
   "id": "cfe34c5c",
   "metadata": {},
   "source": [
    "**H - Hits**\n",
    "\n",
    "Hits should also be an integer value, in the range of 0 and some upper value. The upper value can be, at most, the number of plate appearances. In general, that's 12 for this dataset, but that's a highly unlikely value to see as number of hits. (We'll address individual records in the next step.)"
   ]
  },
  {
   "cell_type": "code",
   "execution_count": 26,
   "id": "0229b8a9",
   "metadata": {},
   "outputs": [
    {
     "data": {
      "text/plain": [
       "array([2, 3, 1, 0, 4, 5, 6, 9, 7])"
      ]
     },
     "execution_count": 26,
     "metadata": {},
     "output_type": "execute_result"
    }
   ],
   "source": [
    "pd.unique(df['H'])"
   ]
  },
  {
   "cell_type": "markdown",
   "id": "60876252",
   "metadata": {},
   "source": [
    "**Note:** We should also confirm that there are never more hits than plate appearances within individual records."
   ]
  },
  {
   "cell_type": "code",
   "execution_count": 27,
   "id": "ab2d80ee",
   "metadata": {},
   "outputs": [
    {
     "name": "stdout",
     "output_type": "stream",
     "text": [
      "-----------------------------------------\n",
      "All records with PA < H\n",
      "-----------------------------------------\n",
      "Empty DataFrame\n",
      "Columns: [ID, Player, Tm, Opp, PA, AB, R, H, 2B, 3B, HR, RBI, BB, SO, HBP, SH, WPA, RE24, aLI, BOP, Result, Score, Season]\n",
      "Index: []\n",
      "\n",
      "[0 rows x 23 columns]\n"
     ]
    }
   ],
   "source": [
    "records_pa_lt_h = df[df['PA'] < df['H']]\n",
    "print(\"-----------------------------------------\")\n",
    "print(\"All records with PA < H\")\n",
    "print(\"-----------------------------------------\")\n",
    "print(records_pa_lt_h)"
   ]
  },
  {
   "cell_type": "markdown",
   "id": "2494b8fc",
   "metadata": {},
   "source": [
    "**Note:** The validation checks pass, as we have found no records where PA < H. No extra investigation or validation is required here."
   ]
  },
  {
   "cell_type": "markdown",
   "id": "e578f6d0",
   "metadata": {},
   "source": [
    "**2B - Doubles**\n",
    "**3B - Triples**\n",
    "**HR - Home Run**\n",
    "\n",
    "All of these extra base hits must be integer values, within the range of 0 up to the number of Plate Appearances."
   ]
  },
  {
   "cell_type": "code",
   "execution_count": 28,
   "id": "40ef8390",
   "metadata": {},
   "outputs": [
    {
     "name": "stdout",
     "output_type": "stream",
     "text": [
      "2B:  [1 0 2 4 3]\n",
      "3B:  [0 1 3 2]\n",
      "HR:  [0 1 2 3 4]\n"
     ]
    }
   ],
   "source": [
    "print(\"2B: \", pd.unique(df['2B']))\n",
    "print(\"3B: \", pd.unique(df['3B']))\n",
    "print(\"HR: \", pd.unique(df['HR']))"
   ]
  },
  {
   "cell_type": "markdown",
   "id": "eece88b2",
   "metadata": {},
   "source": [
    "**Note:** These are all reasonable values at a glance.\n",
    "\n",
    "We should also confirm that these values are never greater than the number of Plate Appearances, At Bats, or Hits within individual records. (Note that Hits (`'H'`) represents all kinds of hits, not just single-base hits.)"
   ]
  },
  {
   "cell_type": "code",
   "execution_count": 29,
   "id": "5660a922",
   "metadata": {
    "scrolled": true
   },
   "outputs": [
    {
     "name": "stdout",
     "output_type": "stream",
     "text": [
      "-----------------------------------------\n",
      "All records with PA < 2B\n",
      "-----------------------------------------\n",
      "                ID          Player   Tm  Opp  PA  AB  R  H  2B  3B  ...  SO  \\\n",
      "1275367  robined01  Eddie Robinson  CHW  SLB   1   1  0  0   2   0  ...   0   \n",
      "\n",
      "         HBP  SH  WPA  RE24  aLI  BOP  Result  Score  Season  \n",
      "1275367    0   0  NaN   NaN  NaN    4       L   6-10    1950  \n",
      "\n",
      "[1 rows x 23 columns]\n",
      "\n",
      "-----------------------------------------\n",
      "All records with PA < 3B\n",
      "-----------------------------------------\n",
      "Empty DataFrame\n",
      "Columns: [ID, Player, Tm, Opp, PA, AB, R, H, 2B, 3B, HR, RBI, BB, SO, HBP, SH, WPA, RE24, aLI, BOP, Result, Score, Season]\n",
      "Index: []\n",
      "\n",
      "[0 rows x 23 columns]\n",
      "\n",
      "-----------------------------------------\n",
      "All records with PA < HR\n",
      "-----------------------------------------\n",
      "Empty DataFrame\n",
      "Columns: [ID, Player, Tm, Opp, PA, AB, R, H, 2B, 3B, HR, RBI, BB, SO, HBP, SH, WPA, RE24, aLI, BOP, Result, Score, Season]\n",
      "Index: []\n",
      "\n",
      "[0 rows x 23 columns]\n",
      "\n",
      "-----------------------------------------\n",
      "All records with AB < 2B\n",
      "-----------------------------------------\n",
      "                ID          Player   Tm  Opp  PA  AB  R  H  2B  3B  ...  SO  \\\n",
      "1275367  robined01  Eddie Robinson  CHW  SLB   1   1  0  0   2   0  ...   0   \n",
      "\n",
      "         HBP  SH  WPA  RE24  aLI  BOP  Result  Score  Season  \n",
      "1275367    0   0  NaN   NaN  NaN    4       L   6-10    1950  \n",
      "\n",
      "[1 rows x 23 columns]\n",
      "\n",
      "-----------------------------------------\n",
      "All records with AB < 3B\n",
      "-----------------------------------------\n",
      "Empty DataFrame\n",
      "Columns: [ID, Player, Tm, Opp, PA, AB, R, H, 2B, 3B, HR, RBI, BB, SO, HBP, SH, WPA, RE24, aLI, BOP, Result, Score, Season]\n",
      "Index: []\n",
      "\n",
      "[0 rows x 23 columns]\n",
      "\n",
      "-----------------------------------------\n",
      "All records with AB < HR\n",
      "-----------------------------------------\n",
      "Empty DataFrame\n",
      "Columns: [ID, Player, Tm, Opp, PA, AB, R, H, 2B, 3B, HR, RBI, BB, SO, HBP, SH, WPA, RE24, aLI, BOP, Result, Score, Season]\n",
      "Index: []\n",
      "\n",
      "[0 rows x 23 columns]\n",
      "\n",
      "-----------------------------------------\n",
      "All records with H < 2B\n",
      "-----------------------------------------\n",
      "                ID          Player   Tm  Opp  PA  AB  R  H  2B  3B  ...  SO  \\\n",
      "1275367  robined01  Eddie Robinson  CHW  SLB   1   1  0  0   2   0  ...   0   \n",
      "\n",
      "         HBP  SH  WPA  RE24  aLI  BOP  Result  Score  Season  \n",
      "1275367    0   0  NaN   NaN  NaN    4       L   6-10    1950  \n",
      "\n",
      "[1 rows x 23 columns]\n",
      "\n",
      "-----------------------------------------\n",
      "All records with H < 3B\n",
      "-----------------------------------------\n",
      "                ID      Player   Tm  Opp  PA  AB  R  H  2B  3B  ...  SO  HBP  \\\n",
      "1272928  tiptojo01  Joe Tipton  PHA  CHW   3   2  0  0   0   1  ...   1    0   \n",
      "\n",
      "         SH  WPA  RE24  aLI  BOP  Result  Score  Season  \n",
      "1272928   0  NaN   NaN  NaN    8       L   3-10    1950  \n",
      "\n",
      "[1 rows x 23 columns]\n",
      "\n",
      "-----------------------------------------\n",
      "All records with H < HR\n",
      "-----------------------------------------\n",
      "Empty DataFrame\n",
      "Columns: [ID, Player, Tm, Opp, PA, AB, R, H, 2B, 3B, HR, RBI, BB, SO, HBP, SH, WPA, RE24, aLI, BOP, Result, Score, Season]\n",
      "Index: []\n",
      "\n",
      "[0 rows x 23 columns]\n"
     ]
    }
   ],
   "source": [
    "records_pa_lt_2b = df[df['PA'] < df['2B']]\n",
    "print(\"-----------------------------------------\")\n",
    "print(\"All records with PA < 2B\")\n",
    "print(\"-----------------------------------------\")\n",
    "print(records_pa_lt_2b)\n",
    "\n",
    "\n",
    "records_pa_lt_3b = df[df['PA'] < df['3B']]\n",
    "print(\"\\n-----------------------------------------\")\n",
    "print(\"All records with PA < 3B\")\n",
    "print(\"-----------------------------------------\")\n",
    "print(records_pa_lt_3b)\n",
    "\n",
    "\n",
    "records_pa_lt_hr = df[df['PA'] < df['HR']]\n",
    "print(\"\\n-----------------------------------------\")\n",
    "print(\"All records with PA < HR\")\n",
    "print(\"-----------------------------------------\")\n",
    "print(records_pa_lt_hr)\n",
    "\n",
    "\n",
    "records_ab_lt_2b = df[df['AB'] < df['2B']]\n",
    "print(\"\\n-----------------------------------------\")\n",
    "print(\"All records with AB < 2B\")\n",
    "print(\"-----------------------------------------\")\n",
    "print(records_ab_lt_2b)\n",
    "\n",
    "\n",
    "records_ab_lt_3b = df[df['AB'] < df['3B']]\n",
    "print(\"\\n-----------------------------------------\")\n",
    "print(\"All records with AB < 3B\")\n",
    "print(\"-----------------------------------------\")\n",
    "print(records_ab_lt_3b)\n",
    "\n",
    "\n",
    "records_ab_lt_hr = df[df['AB'] < df['HR']]\n",
    "print(\"\\n-----------------------------------------\")\n",
    "print(\"All records with AB < HR\")\n",
    "print(\"-----------------------------------------\")\n",
    "print(records_ab_lt_hr)\n",
    "\n",
    "\n",
    "records_h_lt_2b = df[df['H'] < df['2B']]\n",
    "print(\"\\n-----------------------------------------\")\n",
    "print(\"All records with H < 2B\")\n",
    "print(\"-----------------------------------------\")\n",
    "print(records_h_lt_2b)\n",
    "\n",
    "\n",
    "records_h_lt_3b = df[df['H'] < df['3B']]\n",
    "print(\"\\n-----------------------------------------\")\n",
    "print(\"All records with H < 3B\")\n",
    "print(\"-----------------------------------------\")\n",
    "print(records_h_lt_3b)\n",
    "\n",
    "\n",
    "records_h_lt_hr = df[df['H'] < df['HR']]\n",
    "print(\"\\n-----------------------------------------\")\n",
    "print(\"All records with H < HR\")\n",
    "print(\"-----------------------------------------\")\n",
    "print(records_h_lt_hr)"
   ]
  },
  {
   "cell_type": "markdown",
   "id": "b43c9523",
   "metadata": {},
   "source": [
    "**Note:** These validation checks caught a couple of problematic records. Looking at the entirety of these records, it looks like a simple data error, where the number of Hits needs to be updated to reflect the number of extra base hits. Instead of removing all records for these players, we will make these small data adjustments.\n",
    "\n",
    "**First for Ed Robinson:**"
   ]
  },
  {
   "cell_type": "code",
   "execution_count": 30,
   "id": "6df9d759",
   "metadata": {},
   "outputs": [
    {
     "name": "stdout",
     "output_type": "stream",
     "text": [
      "ID             robined01\n",
      "Player    Eddie Robinson\n",
      "Tm                   CHW\n",
      "Opp                  SLB\n",
      "PA                     1\n",
      "AB                     1\n",
      "R                      0\n",
      "H                      0\n",
      "2B                     2\n",
      "3B                     0\n",
      "HR                     0\n",
      "RBI                  0.0\n",
      "BB                     0\n",
      "SO                     0\n",
      "HBP                    0\n",
      "SH                     0\n",
      "WPA                  NaN\n",
      "RE24                 NaN\n",
      "aLI                  NaN\n",
      "BOP                    4\n",
      "Result                 L\n",
      "Score               6-10\n",
      "Season              1950\n",
      "Name: 1275367, dtype: object\n"
     ]
    }
   ],
   "source": [
    "ed_robinson = 1275367\n",
    "\n",
    "print(df.iloc[ed_robinson])"
   ]
  },
  {
   "cell_type": "markdown",
   "id": "b798d4f7",
   "metadata": {},
   "source": [
    "For **Ed Robinson's record** (1275367), we will use the doubles (`'2B'`) statistic value as the value for Hits, Plate Appearances, and At Bats. These are reasonable guesses, based on the record."
   ]
  },
  {
   "cell_type": "code",
   "execution_count": 31,
   "id": "c1c86b34",
   "metadata": {},
   "outputs": [
    {
     "name": "stdout",
     "output_type": "stream",
     "text": [
      "ID             robined01\n",
      "Player    Eddie Robinson\n",
      "Tm                   CHW\n",
      "Opp                  SLB\n",
      "PA                     2\n",
      "AB                     2\n",
      "R                      0\n",
      "H                      2\n",
      "2B                     2\n",
      "3B                     0\n",
      "HR                     0\n",
      "RBI                  0.0\n",
      "BB                     0\n",
      "SO                     0\n",
      "HBP                    0\n",
      "SH                     0\n",
      "WPA                  NaN\n",
      "RE24                 NaN\n",
      "aLI                  NaN\n",
      "BOP                    4\n",
      "Result                 L\n",
      "Score               6-10\n",
      "Season              1950\n",
      "Name: 1275367, dtype: object\n"
     ]
    }
   ],
   "source": [
    "df.at[ed_robinson, 'H'] = df.at[ed_robinson, '2B']\n",
    "df.at[ed_robinson, 'AB'] = df.at[ed_robinson, '2B']\n",
    "df.at[ed_robinson, 'PA'] = df.at[ed_robinson, '2B']\n",
    "\n",
    "print(df.iloc[ed_robinson])"
   ]
  },
  {
   "cell_type": "markdown",
   "id": "f8db0e78",
   "metadata": {},
   "source": [
    "**Next for Joe Tipton:**"
   ]
  },
  {
   "cell_type": "code",
   "execution_count": 32,
   "id": "6cebcac1",
   "metadata": {},
   "outputs": [
    {
     "name": "stdout",
     "output_type": "stream",
     "text": [
      "ID         tiptojo01\n",
      "Player    Joe Tipton\n",
      "Tm               PHA\n",
      "Opp              CHW\n",
      "PA                 3\n",
      "AB                 2\n",
      "R                  0\n",
      "H                  0\n",
      "2B                 0\n",
      "3B                 1\n",
      "HR                 0\n",
      "RBI              0.0\n",
      "BB                 1\n",
      "SO                 1\n",
      "HBP                0\n",
      "SH                 0\n",
      "WPA              NaN\n",
      "RE24             NaN\n",
      "aLI              NaN\n",
      "BOP                8\n",
      "Result             L\n",
      "Score           3-10\n",
      "Season          1950\n",
      "Name: 1272928, dtype: object\n"
     ]
    }
   ],
   "source": [
    "joe_tipton = 1272928\n",
    "\n",
    "print(df.iloc[joe_tipton])"
   ]
  },
  {
   "cell_type": "markdown",
   "id": "0d402a33",
   "metadata": {},
   "source": [
    "For **Joe Tipton's record** (1272928), we will use the triples (`'3B'`) statistic value as the value for Hits but it is possible that the statistics for Plate Appearances and At Bats is correct. Because it is not obviously wrong, we won't change these. These are reasonable guesses, based on the record."
   ]
  },
  {
   "cell_type": "code",
   "execution_count": 33,
   "id": "56d244fe",
   "metadata": {},
   "outputs": [
    {
     "name": "stdout",
     "output_type": "stream",
     "text": [
      "ID         tiptojo01\n",
      "Player    Joe Tipton\n",
      "Tm               PHA\n",
      "Opp              CHW\n",
      "PA                 3\n",
      "AB                 2\n",
      "R                  0\n",
      "H                  1\n",
      "2B                 0\n",
      "3B                 1\n",
      "HR                 0\n",
      "RBI              0.0\n",
      "BB                 1\n",
      "SO                 1\n",
      "HBP                0\n",
      "SH                 0\n",
      "WPA              NaN\n",
      "RE24             NaN\n",
      "aLI              NaN\n",
      "BOP                8\n",
      "Result             L\n",
      "Score           3-10\n",
      "Season          1950\n",
      "Name: 1272928, dtype: object\n"
     ]
    }
   ],
   "source": [
    "df.at[joe_tipton, 'H'] = df.at[joe_tipton, '3B']\n",
    "\n",
    "print(df.iloc[joe_tipton])"
   ]
  },
  {
   "cell_type": "markdown",
   "id": "5b245d22",
   "metadata": {},
   "source": [
    "**Re-testing the original checks**\n",
    "\n",
    "Re-running the tests that found these data issues should now pass and not introduce any new issues."
   ]
  },
  {
   "cell_type": "code",
   "execution_count": 34,
   "id": "46d8980e",
   "metadata": {},
   "outputs": [
    {
     "name": "stdout",
     "output_type": "stream",
     "text": [
      "-----------------------------------------\n",
      "All records with PA < 2B\n",
      "-----------------------------------------\n",
      "Empty DataFrame\n",
      "Columns: [ID, Player, Tm, Opp, PA, AB, R, H, 2B, 3B, HR, RBI, BB, SO, HBP, SH, WPA, RE24, aLI, BOP, Result, Score, Season]\n",
      "Index: []\n",
      "\n",
      "[0 rows x 23 columns]\n",
      "\n",
      "-----------------------------------------\n",
      "All records with PA < 3B\n",
      "-----------------------------------------\n",
      "Empty DataFrame\n",
      "Columns: [ID, Player, Tm, Opp, PA, AB, R, H, 2B, 3B, HR, RBI, BB, SO, HBP, SH, WPA, RE24, aLI, BOP, Result, Score, Season]\n",
      "Index: []\n",
      "\n",
      "[0 rows x 23 columns]\n",
      "\n",
      "-----------------------------------------\n",
      "All records with PA < HR\n",
      "-----------------------------------------\n",
      "Empty DataFrame\n",
      "Columns: [ID, Player, Tm, Opp, PA, AB, R, H, 2B, 3B, HR, RBI, BB, SO, HBP, SH, WPA, RE24, aLI, BOP, Result, Score, Season]\n",
      "Index: []\n",
      "\n",
      "[0 rows x 23 columns]\n",
      "\n",
      "-----------------------------------------\n",
      "All records with AB < 2B\n",
      "-----------------------------------------\n",
      "Empty DataFrame\n",
      "Columns: [ID, Player, Tm, Opp, PA, AB, R, H, 2B, 3B, HR, RBI, BB, SO, HBP, SH, WPA, RE24, aLI, BOP, Result, Score, Season]\n",
      "Index: []\n",
      "\n",
      "[0 rows x 23 columns]\n",
      "\n",
      "-----------------------------------------\n",
      "All records with AB < 3B\n",
      "-----------------------------------------\n",
      "Empty DataFrame\n",
      "Columns: [ID, Player, Tm, Opp, PA, AB, R, H, 2B, 3B, HR, RBI, BB, SO, HBP, SH, WPA, RE24, aLI, BOP, Result, Score, Season]\n",
      "Index: []\n",
      "\n",
      "[0 rows x 23 columns]\n",
      "\n",
      "-----------------------------------------\n",
      "All records with AB < HR\n",
      "-----------------------------------------\n",
      "Empty DataFrame\n",
      "Columns: [ID, Player, Tm, Opp, PA, AB, R, H, 2B, 3B, HR, RBI, BB, SO, HBP, SH, WPA, RE24, aLI, BOP, Result, Score, Season]\n",
      "Index: []\n",
      "\n",
      "[0 rows x 23 columns]\n",
      "\n",
      "-----------------------------------------\n",
      "All records with H < 2B\n",
      "-----------------------------------------\n",
      "Empty DataFrame\n",
      "Columns: [ID, Player, Tm, Opp, PA, AB, R, H, 2B, 3B, HR, RBI, BB, SO, HBP, SH, WPA, RE24, aLI, BOP, Result, Score, Season]\n",
      "Index: []\n",
      "\n",
      "[0 rows x 23 columns]\n",
      "\n",
      "-----------------------------------------\n",
      "All records with H < 3B\n",
      "-----------------------------------------\n",
      "Empty DataFrame\n",
      "Columns: [ID, Player, Tm, Opp, PA, AB, R, H, 2B, 3B, HR, RBI, BB, SO, HBP, SH, WPA, RE24, aLI, BOP, Result, Score, Season]\n",
      "Index: []\n",
      "\n",
      "[0 rows x 23 columns]\n",
      "\n",
      "-----------------------------------------\n",
      "All records with H < HR\n",
      "-----------------------------------------\n",
      "Empty DataFrame\n",
      "Columns: [ID, Player, Tm, Opp, PA, AB, R, H, 2B, 3B, HR, RBI, BB, SO, HBP, SH, WPA, RE24, aLI, BOP, Result, Score, Season]\n",
      "Index: []\n",
      "\n",
      "[0 rows x 23 columns]\n"
     ]
    }
   ],
   "source": [
    "records_pa_lt_2b = df[df['PA'] < df['2B']]\n",
    "print(\"-----------------------------------------\")\n",
    "print(\"All records with PA < 2B\")\n",
    "print(\"-----------------------------------------\")\n",
    "print(records_pa_lt_2b)\n",
    "\n",
    "\n",
    "records_pa_lt_3b = df[df['PA'] < df['3B']]\n",
    "print(\"\\n-----------------------------------------\")\n",
    "print(\"All records with PA < 3B\")\n",
    "print(\"-----------------------------------------\")\n",
    "print(records_pa_lt_3b)\n",
    "\n",
    "\n",
    "records_pa_lt_hr = df[df['PA'] < df['HR']]\n",
    "print(\"\\n-----------------------------------------\")\n",
    "print(\"All records with PA < HR\")\n",
    "print(\"-----------------------------------------\")\n",
    "print(records_pa_lt_hr)\n",
    "\n",
    "\n",
    "records_ab_lt_2b = df[df['AB'] < df['2B']]\n",
    "print(\"\\n-----------------------------------------\")\n",
    "print(\"All records with AB < 2B\")\n",
    "print(\"-----------------------------------------\")\n",
    "print(records_ab_lt_2b)\n",
    "\n",
    "\n",
    "records_ab_lt_3b = df[df['AB'] < df['3B']]\n",
    "print(\"\\n-----------------------------------------\")\n",
    "print(\"All records with AB < 3B\")\n",
    "print(\"-----------------------------------------\")\n",
    "print(records_ab_lt_3b)\n",
    "\n",
    "\n",
    "records_ab_lt_hr = df[df['AB'] < df['HR']]\n",
    "print(\"\\n-----------------------------------------\")\n",
    "print(\"All records with AB < HR\")\n",
    "print(\"-----------------------------------------\")\n",
    "print(records_ab_lt_hr)\n",
    "\n",
    "\n",
    "records_h_lt_2b = df[df['H'] < df['2B']]\n",
    "print(\"\\n-----------------------------------------\")\n",
    "print(\"All records with H < 2B\")\n",
    "print(\"-----------------------------------------\")\n",
    "print(records_h_lt_2b)\n",
    "\n",
    "\n",
    "records_h_lt_3b = df[df['H'] < df['3B']]\n",
    "print(\"\\n-----------------------------------------\")\n",
    "print(\"All records with H < 3B\")\n",
    "print(\"-----------------------------------------\")\n",
    "print(records_h_lt_3b)\n",
    "\n",
    "\n",
    "records_h_lt_hr = df[df['H'] < df['HR']]\n",
    "print(\"\\n-----------------------------------------\")\n",
    "print(\"All records with H < HR\")\n",
    "print(\"-----------------------------------------\")\n",
    "print(records_h_lt_hr)"
   ]
  },
  {
   "cell_type": "markdown",
   "id": "6d250f4f",
   "metadata": {},
   "source": [
    "**SUCCESS!!** These data issues have been resolved. `'2B'`, `'3B'`, and `'HR'` are now validated."
   ]
  },
  {
   "cell_type": "markdown",
   "id": "cbf8cae3",
   "metadata": {},
   "source": [
    "**RBI - RBIs (Runs Batted In)**\n",
    "\n",
    "This is an important statistic, especially for calculated batting statistics which may prove useful later.\n",
    "\n",
    "RBIs should be an integer value, in the range of 0 and some upper value. The upper value is dependent on the number of runners on base at the time of the plate appearance, which we do not know directly from the data. We can estimate a maximum possible value of Plate Appearances * 4 (the maximum number of runs possible to bat in). This maximum value would be statistically possible but highly unlikely. But it means that if we see a value higher than 12 * 4 = 48 in a single game then it is definitely out of range.\n"
   ]
  },
  {
   "cell_type": "code",
   "execution_count": 35,
   "id": "8ce643ce",
   "metadata": {},
   "outputs": [
    {
     "name": "stdout",
     "output_type": "stream",
     "text": [
      "[ 1.  0.  3.  4.  2.  5.  6.  8.  7. nan  9. 12. 11. 10.]\n"
     ]
    }
   ],
   "source": [
    "print(pd.unique(df['RBI']))"
   ]
  },
  {
   "cell_type": "markdown",
   "id": "165b63ad",
   "metadata": {},
   "source": [
    "**Note:** Of course, we don't see anything nearly as extreme as 48, but we have multiple problems here: (1) RBI is stored as a Float value, which makes no sense in this context, and (2) we have a NaN/undefined value to deal with.\n",
    "\n",
    "While it would be nice to convert to integer values, the presence of NaN values blocks our carrying out this operation. So, first, we have to make a decision about how to deal with the NaN values.\n",
    "\n",
    "Let's look at how many records include these NaN values and how many unique players are impacted by this data issue."
   ]
  },
  {
   "cell_type": "code",
   "execution_count": 36,
   "id": "ad3b07ee",
   "metadata": {},
   "outputs": [
    {
     "name": "stdout",
     "output_type": "stream",
     "text": [
      "               ID           Player   Tm  Opp  PA  AB  R  H  2B  3B  ...  SO  \\\n",
      "41584   becklja01     Jake Beckley  CIN  PIT   4   4  2  2   0   0  ...   0   \n",
      "41594   corcoto01   Tommy Corcoran  CIN  PIT   4   4  0  0   0   0  ...   0   \n",
      "41598   donlimi01      Mike Donlin  CIN  PIT   4   4  1  1   0   0  ...   0   \n",
      "41615   kellejo01       Joe Kelley  CIN  PIT   4   3  0  1   0   0  ...   0   \n",
      "41621   magooge01    George Magoon  CIN  PIT   3   3  0  1   0   0  ...   0   \n",
      "...           ...              ...  ...  ...  ..  .. .. ..  ..  ..  ...  ..   \n",
      "476024  wambsbi01  Bill Wambsganss  CLE  SLB   4   4  0  1   0   0  ...   0   \n",
      "476025  weavebu01      Buck Weaver  CHW  DET   5   4  1  3   0   2  ...   0   \n",
      "476027  wilkiro01    Roy Wilkinson  CHW  DET   3   3  1  1   1   0  ...   1   \n",
      "476029   woodjo02   Smoky Joe Wood  CLE  SLB   4   4  0  1   0   0  ...   0   \n",
      "476031  youngra01      Ralph Young  DET  CHW   5   4  0  2   0   0  ...   0   \n",
      "\n",
      "        HBP  SH  WPA  RE24  aLI  BOP  Result  Score  Season  \n",
      "41584     0   0  NaN   NaN  NaN    4       L    4-5    1903  \n",
      "41594     0   0  NaN   NaN  NaN    6       L    4-5    1903  \n",
      "41598     0   0  NaN   NaN  NaN    3       L    4-5    1903  \n",
      "41615     0   0  NaN   NaN  NaN    1       L    4-5    1903  \n",
      "41621     0   0  NaN   NaN  NaN    7       L    4-5    1903  \n",
      "...     ...  ..  ...   ...  ...  ...     ...    ...     ...  \n",
      "476024    0   0  NaN   NaN  NaN    6       L    5-8    1919  \n",
      "476025    0   1  NaN   NaN  NaN    3       L   9-10    1919  \n",
      "476027    0   0  NaN   NaN  NaN    9       L   9-10    1919  \n",
      "476029    0   0  NaN   NaN  NaN    7       L    5-8    1919  \n",
      "476031    0   1  NaN   NaN  NaN    2       W   10-9    1919  \n",
      "\n",
      "[33300 rows x 23 columns]\n",
      "\n",
      "ID           becklja01\n",
      "Player    Jake Beckley\n",
      "Tm                 CIN\n",
      "Opp                PIT\n",
      "PA                   4\n",
      "AB                   4\n",
      "R                    2\n",
      "H                    2\n",
      "2B                   0\n",
      "3B                   0\n",
      "HR                   0\n",
      "RBI                NaN\n",
      "BB                   0\n",
      "SO                   0\n",
      "HBP                  0\n",
      "SH                   0\n",
      "WPA                NaN\n",
      "RE24               NaN\n",
      "aLI                NaN\n",
      "BOP                  4\n",
      "Result               L\n",
      "Score              4-5\n",
      "Season            1903\n",
      "Name: 41584, dtype: object\n",
      "\n",
      "Unique Players with this RBI-NaN problem:\n",
      "['becklja01' 'corcoto01' 'donlimi01' ... 'flagsir01' 'mccleha01'\n",
      " 'wilkiro01']\n",
      "Count:  1649\n",
      "\n",
      "\n",
      "Percentage of overall records ( 4285629 ) impacted:  0.7770154626077058\n",
      "There are 1649 players impacted by these 33300 records.\n",
      "\n"
     ]
    }
   ],
   "source": [
    "rbi_is_nan = df.loc[pd.isna(df['RBI'])]\n",
    "print(rbi_is_nan)\n",
    "print()\n",
    "print(df.iloc[41584])\n",
    "\n",
    "print(\"\\nUnique Players with this RBI-NaN problem:\")\n",
    "rbi_nan_players = pd.unique(rbi_is_nan['ID'])\n",
    "print(rbi_nan_players)\n",
    "print(\"Count: \",len(rbi_nan_players))\n",
    "\n",
    "print()\n",
    "print(\"\\nPercentage of overall records (\",len(df),\") impacted: \", len(rbi_is_nan)/len(df)*100)\n",
    "print(\"There are\",len(rbi_nan_players),\"players impacted by these\",len(rbi_is_nan),\"records.\")\n",
    "print(\"\")"
   ]
  },
  {
   "cell_type": "markdown",
   "id": "f8ef78ef",
   "metadata": {},
   "source": [
    "While the number of overall records impacted is less than 1%, we see that there are many more players than there are records with this problem, which means that it is safest to remove all records for these players -- not only the problematic ones. Since all of the impacted data records are from seasons early in the 20th century, this does not raise any great concerns for this project."
   ]
  },
  {
   "cell_type": "code",
   "execution_count": 43,
   "id": "b3f88d80",
   "metadata": {},
   "outputs": [
    {
     "name": "stdout",
     "output_type": "stream",
     "text": [
      "\n",
      "Test for an empty list of RBI==NaN values, after removing rows:\n",
      "\n",
      " Empty DataFrame\n",
      "Columns: [ID, Player, Tm, Opp, PA, AB, R, H, 2B, 3B, HR, RBI, BB, SO, HBP, SH, WPA, RE24, aLI, BOP, Result, Score, Season]\n",
      "Index: []\n",
      "\n",
      "[0 rows x 23 columns]\n",
      "\n",
      "\n",
      "Reduced to 3715522 records in main data frame after removing those players records entirely.\n"
     ]
    }
   ],
   "source": [
    "# the removal\n",
    "df = df[df['ID'].isin(rbi_nan_players) == False]\n",
    "\n",
    "# test\n",
    "print(\"\\nTest for an empty list of RBI==NaN values, after removing rows:\\n\\n\", df.loc[pd.isna(df['RBI'])])\n",
    "print(\"\\n\\nReduced to\",len(df),\"records in main data frame after removing those players records entirely.\")"
   ]
  },
  {
   "cell_type": "markdown",
   "id": "e9e1ef5c",
   "metadata": {},
   "source": [
    "**Finally,** we can address our other issue: converting the type for RBI from float to integer."
   ]
  },
  {
   "cell_type": "code",
   "execution_count": 45,
   "id": "6640b9f4",
   "metadata": {},
   "outputs": [
    {
     "name": "stdout",
     "output_type": "stream",
     "text": [
      "[ 0  1  3  2  4  5  6  7  8 12  9 11 10]\n"
     ]
    }
   ],
   "source": [
    "df['RBI']=df['RBI'].astype(int)\n",
    "# test\n",
    "print(pd.unique(df['RBI']))"
   ]
  },
  {
   "cell_type": "markdown",
   "id": "46d2864d",
   "metadata": {},
   "source": [
    "**SUCCESS!!** No NaN values and all Integer values. And all of these are reasonable values at a glance.\n",
    "\n",
    "We should also confirm that RBI values are never greater than the number of ((Plate Appearances OR At Bats OR Hits) * 4) within individual records.  !!!????? WHATA THE HECK AM I TESTING HERE????"
   ]
  },
  {
   "cell_type": "code",
   "execution_count": 62,
   "id": "2c478868",
   "metadata": {},
   "outputs": [
    {
     "name": "stdout",
     "output_type": "stream",
     "text": [
      "\n",
      "-----------------------------------------\n",
      "All records with PA*4 < RBI\n",
      "-----------------------------------------\n",
      "Empty DataFrame\n",
      "Columns: [ID, Player, Tm, Opp, PA, AB, R, H, 2B, 3B, HR, RBI, BB, SO, HBP, SH, WPA, RE24, aLI, BOP, Result, Score, Season]\n",
      "Index: []\n",
      "\n",
      "[0 rows x 23 columns]\n",
      "\n",
      "-----------------------------------------\n",
      "All records with AB*4 < RBI\n",
      "-----------------------------------------\n",
      "                ID          Player   Tm  Opp  PA  AB  R  H  2B  3B  ...  SO  \\\n",
      "15887    clingbi01  Billy Clingman  WSH  CLE   1   0  1  0   0   0  ...   0   \n",
      "167006   mchalji01      Jim McHale  BOS  CLE   1   0  1  0   0   0  ...   0   \n",
      "169505   manuemo01    Moxie Manuel  CHW  NYY   1   0  0  0   0   0  ...   0   \n",
      "236378   priesjo01   Johnny Priest  NYY  PHA   1   0  0  0   0   0  ...   0   \n",
      "277614    graydo02       Stan Gray  PIT  BSN   1   0  0  0   0   0  ...   0   \n",
      "...            ...             ...  ...  ...  ..  .. .. ..  ..  ..  ...  ..   \n",
      "4282558  ramoshe01     Henry Ramos  ARI  ATL   1   0  0  0   0   0  ...   0   \n",
      "4282691   boltsk01       Skye Bolt  OAK  HOU   1   0  1  0   0   0  ...   0   \n",
      "4282702  calhowi01  Willie Calhoun  TEX  BAL   1   0  0  0   0   0  ...   0   \n",
      "4283794  castrja01    Jason Castro  HOU  TBR   1   0  0  0   0   0  ...   0   \n",
      "4284259  marshbr02   Brandon Marsh  LAA  TEX   1   0  0  0   0   0  ...   0   \n",
      "\n",
      "         HBP  SH    WPA   RE24   aLI  BOP  Result  Score  Season  \n",
      "15887      1   0    NaN    NaN   NaN    8       W  13-11    1901  \n",
      "167006     0   0    NaN    NaN   NaN    9       W    8-6    1908  \n",
      "169505     0   1    NaN    NaN   NaN    9       W    6-3    1908  \n",
      "236378     0   1    NaN    NaN   NaN    9       L    5-8    1911  \n",
      "277614     0   1    NaN    NaN   NaN    3       W    8-7    1912  \n",
      "...      ...  ..    ...    ...   ...  ...     ...    ...     ...  \n",
      "4282558    0   0  0.032  0.161  1.31    2       W    6-4    2021  \n",
      "4282691    0   0  0.000  1.000  0.01    1       W   14-2    2021  \n",
      "4282702    0   0 -0.095 -0.176  2.91    8       W    8-5    2021  \n",
      "4283794    0   0  0.164  1.000  5.53    9       W    4-3    2021  \n",
      "4284259    0   0  0.002 -0.098  0.00    2       W    7-2    2021  \n",
      "\n",
      "[6010 rows x 23 columns]\n",
      "\n",
      "-----------------------------------------\n",
      "All records with H*4 < RBI\n",
      "-----------------------------------------\n",
      "                ID            Player   Tm  Opp  PA  AB  R  H  2B  3B  ...  SO  \\\n",
      "22       crolifr01      Fred Crolius  BSN  NYG   4   4  0  0   0   0  ...   0   \n",
      "121      mccorba01   Barry McCormick  CHC  STL   4   4  0  0   0   0  ...   1   \n",
      "236      shugafr01     Frank Shugart  CHW  CLE   4   2  2  0   0   0  ...   0   \n",
      "321      dungasa01        Sam Dungan  WSH  PHA   5   5  0  0   0   0  ...   0   \n",
      "379      robinwi01  Wilbert Robinson  BLA  BOS   4   4  0  0   0   0  ...   0   \n",
      "...            ...               ...  ...  ...  ..  .. .. ..  ..  ..  ...  ..   \n",
      "4285408  gordoni01       Nick Gordon  MIN  KCR   4   4  0  0   0   0  ...   0   \n",
      "4285468  machama01     Manny Machado  SDP  SFG   3   2  0  0   0   0  ...   1   \n",
      "4285480  mccarja02     Jake McCarthy  ARI  COL   4   3  1  0   0   0  ...   1   \n",
      "4285617   wadela01   LaMonte Wade Jr  SFG  SDP   5   3  0  0   0   0  ...   0   \n",
      "4285627  zimmery01    Ryan Zimmerman  WSN  BOS   4   3  0  0   0   0  ...   2   \n",
      "\n",
      "         HBP  SH    WPA   RE24    aLI  BOP  Result  Score  Season  \n",
      "22         0   0    NaN    NaN    NaN    6       W    7-0    1901  \n",
      "121        0   0    NaN    NaN    NaN    7       L   5-12    1901  \n",
      "236        0   0    NaN    NaN    NaN    4       W    8-2    1901  \n",
      "321        0   0    NaN    NaN    NaN    4       W    5-1    1901  \n",
      "379        0   0    NaN    NaN    NaN    8       W   10-6    1901  \n",
      "...      ...  ..    ...    ...    ...  ...     ...    ...     ...  \n",
      "4285408    0   0 -0.013 -0.657  0.423    8       W    7-3    2021  \n",
      "4285468    0   0  0.001 -0.047  0.640    3       L   4-11    2021  \n",
      "4285480    0   0  0.114  0.739  1.527    7       W    5-4    2021  \n",
      "4285617    0   0  0.010 -0.300  0.618    3       W   11-4    2021  \n",
      "4285627    0   0 -0.051 -0.356  1.565    5       L    5-7    2021  \n",
      "\n",
      "[87629 rows x 23 columns]\n"
     ]
    }
   ],
   "source": [
    "records_pa_lt_rbi = df[df['PA']*4 < (df['RBI']) ]\n",
    "print(\"\\n-----------------------------------------\")\n",
    "print(\"All records with PA*4 < RBI\")\n",
    "print(\"-----------------------------------------\")\n",
    "print(records_pa4_lt_rbi4)\n",
    "\n",
    "records_ab4_lt_rbi4 = df[df['AB']*4 < (df['RBI']) ]\n",
    "print(\"\\n-----------------------------------------\")\n",
    "print(\"All records with AB*4 < RBI\")\n",
    "print(\"-----------------------------------------\")\n",
    "print(records_ab4_lt_rbi4)\n",
    "\n",
    "\n",
    "records_h4_lt_rbi4 = df[df['H']*4 < (df['RBI']) ]\n",
    "print(\"\\n-----------------------------------------\")\n",
    "print(\"All records with H*4 < RBI\")\n",
    "print(\"-----------------------------------------\")\n",
    "print(records_h4_lt_rbi4)\n"
   ]
  },
  {
   "cell_type": "code",
   "execution_count": 61,
   "id": "22687b95",
   "metadata": {},
   "outputs": [
    {
     "name": "stdout",
     "output_type": "stream",
     "text": [
      "ID           delahed01\n",
      "Player    Ed Delahanty\n",
      "Tm                 PHI\n",
      "Opp                BRO\n",
      "PA                   4\n",
      "AB                   4\n",
      "R                    0\n",
      "H                    0\n",
      "2B                   0\n",
      "3B                   0\n",
      "HR                   0\n",
      "RBI                  0\n",
      "BB                   0\n",
      "SO                   2\n",
      "HBP                  0\n",
      "SH                   0\n",
      "WPA                NaN\n",
      "RE24               NaN\n",
      "aLI                NaN\n",
      "BOP                  3\n",
      "Result               L\n",
      "Score             2-10\n",
      "Season            1901\n",
      "Name: 28, dtype: object\n"
     ]
    }
   ],
   "source": [
    "print(df.iloc[4])"
   ]
  },
  {
   "cell_type": "markdown",
   "id": "4c84375e",
   "metadata": {},
   "source": [
    "All RBI-related data issues have been resolved. `'RBI'` is now validated."
   ]
  },
  {
   "cell_type": "markdown",
   "id": "3b02fea8",
   "metadata": {},
   "source": [
    "**BB - Base On Balls (Walks)**\n",
    "\n",
    "Walks should be an integer value, within the range of 0 up to the number of Plate Appearances."
   ]
  },
  {
   "cell_type": "code",
   "execution_count": 47,
   "id": "1153592d",
   "metadata": {},
   "outputs": [
    {
     "data": {
      "text/plain": [
       "array([1, 0, 2, 3, 4, 5, 6])"
      ]
     },
     "execution_count": 47,
     "metadata": {},
     "output_type": "execute_result"
    }
   ],
   "source": [
    "pd.unique(df['BB'])"
   ]
  },
  {
   "cell_type": "markdown",
   "id": "f4898a5b",
   "metadata": {},
   "source": []
  },
  {
   "cell_type": "code",
   "execution_count": null,
   "id": "1f80e9ea",
   "metadata": {},
   "outputs": [],
   "source": [
    "# SO - Strikeouts\n",
    "\n",
    "df_main['SO'].head()\n",
    "\n",
    "pd.unique(df_main['SO'])"
   ]
  },
  {
   "cell_type": "code",
   "execution_count": null,
   "id": "9e89d55a",
   "metadata": {},
   "outputs": [],
   "source": [
    "# HBP - Hit By Pitch\n",
    "\n",
    "## NOTE: https://en.wikipedia.org/wiki/Base_on_balls\n",
    "# HBP is NOT recorded as a BB  (\"A hit by pitch is not counted statistically as a walk, though the effect is mostly the same, with the batter receiving a free pass to first base.\")\n",
    "\n",
    "df_main['HBP'].head()\n",
    "\n",
    "pd.unique(df_main['HBP'])"
   ]
  },
  {
   "cell_type": "code",
   "execution_count": null,
   "id": "f515854c",
   "metadata": {},
   "outputs": [],
   "source": [
    "# SH - Sacrifice Hits\n",
    "\n",
    "df_main['SH'].head()\n",
    "\n",
    "pd.unique(df_main['SH'])"
   ]
  },
  {
   "cell_type": "code",
   "execution_count": null,
   "id": "f6ae2e74",
   "metadata": {},
   "outputs": [],
   "source": [
    "# WPA - Win Probability Added\n",
    "\n",
    "df_main['WPA'].head()\n",
    "\n",
    "pd.unique(df_main['WPA'])\n",
    "\n",
    "# Remove these rows ????\n",
    "#print(df_main.loc[pd.isna(df_main['WPA'])])\n",
    "\n",
    "\n",
    "# do it?'\n",
    "df_main = df_main[pd.notna(df_main['WPA'])]\n",
    "\n",
    "df_main"
   ]
  },
  {
   "cell_type": "code",
   "execution_count": null,
   "id": "905c09d8",
   "metadata": {},
   "outputs": [],
   "source": [
    "# RE24 - Base-Out Runs Added\n",
    "\n",
    "df_main['RE24'].head()\n",
    "\n",
    "pd.unique(df_main['RE24'])\n",
    "\n",
    "# Remove these rows ????\n",
    "#print(df_main.loc[pd.isna(df_main['RE24'])])\n",
    "\n",
    "\n",
    "# do it?'\n",
    "df_main = df_main[pd.notna(df_main['RE24'])]\n",
    "\n",
    "df_main"
   ]
  },
  {
   "cell_type": "code",
   "execution_count": null,
   "id": "79e9f148",
   "metadata": {},
   "outputs": [],
   "source": [
    "# aLI - Average Leverage Index\n",
    "\n",
    "df_main['aLI'].head()\n",
    "\n",
    "pd.unique(df_main['aLI'])\n",
    "\n",
    "# Remove these rows ????\n",
    "#print(df_main.loc[pd.isna(df_main['aLI'])])\n",
    "\n",
    "\n",
    "# do it?'\n",
    "df_main = df_main[pd.notna(df_main['aLI'])]\n",
    "\n",
    "df_main"
   ]
  },
  {
   "cell_type": "code",
   "execution_count": null,
   "id": "83674bd6",
   "metadata": {},
   "outputs": [],
   "source": [
    "# BOP - Batting Order Position\n",
    "\n",
    "df_main['BOP'].head()\n",
    "\n",
    "pd.unique(df_main['BOP'])"
   ]
  },
  {
   "cell_type": "code",
   "execution_count": null,
   "id": "4172f85e",
   "metadata": {},
   "outputs": [],
   "source": [
    "# Result\n",
    "\n",
    "df_main['Result'].head()\n",
    "\n",
    "pd.unique(df_main['Result'])"
   ]
  },
  {
   "cell_type": "code",
   "execution_count": null,
   "id": "08967595",
   "metadata": {},
   "outputs": [],
   "source": [
    "# Score\n",
    "\n",
    "df_main['Score'].head()\n",
    "\n",
    "pd.unique(df_main['Score'])"
   ]
  },
  {
   "cell_type": "code",
   "execution_count": null,
   "id": "1607d995",
   "metadata": {},
   "outputs": [],
   "source": []
  },
  {
   "cell_type": "code",
   "execution_count": null,
   "id": "44f84b83",
   "metadata": {},
   "outputs": [],
   "source": []
  },
  {
   "cell_type": "code",
   "execution_count": null,
   "id": "a90243a4",
   "metadata": {},
   "outputs": [],
   "source": []
  },
  {
   "cell_type": "markdown",
   "id": "975b4e57",
   "metadata": {},
   "source": [
    "### Visualization(s)"
   ]
  },
  {
   "cell_type": "markdown",
   "id": "65a772d2",
   "metadata": {},
   "source": [
    "??? Before and after bar graphs?"
   ]
  },
  {
   "cell_type": "code",
   "execution_count": null,
   "id": "220d56d7",
   "metadata": {},
   "outputs": [],
   "source": []
  },
  {
   "cell_type": "markdown",
   "id": "494caf67",
   "metadata": {},
   "source": [
    "## Model Selection"
   ]
  },
  {
   "cell_type": "markdown",
   "id": "68f9212a",
   "metadata": {},
   "source": []
  },
  {
   "cell_type": "code",
   "execution_count": null,
   "id": "035d986e",
   "metadata": {},
   "outputs": [],
   "source": []
  },
  {
   "cell_type": "markdown",
   "id": "dfe0d013",
   "metadata": {},
   "source": [
    "### Visualization(s)"
   ]
  },
  {
   "cell_type": "markdown",
   "id": "c7baad70",
   "metadata": {},
   "source": []
  },
  {
   "cell_type": "code",
   "execution_count": null,
   "id": "625ba792",
   "metadata": {},
   "outputs": [],
   "source": []
  },
  {
   "cell_type": "code",
   "execution_count": null,
   "id": "52d2bba0",
   "metadata": {},
   "outputs": [],
   "source": []
  },
  {
   "cell_type": "code",
   "execution_count": null,
   "id": "bd7ecb2e",
   "metadata": {},
   "outputs": [],
   "source": []
  },
  {
   "cell_type": "code",
   "execution_count": null,
   "id": "4455e0e0",
   "metadata": {},
   "outputs": [],
   "source": []
  },
  {
   "cell_type": "markdown",
   "id": "c043bc25",
   "metadata": {},
   "source": [
    "## Model Evaluation"
   ]
  },
  {
   "cell_type": "markdown",
   "id": "01cea507",
   "metadata": {},
   "source": []
  },
  {
   "cell_type": "code",
   "execution_count": null,
   "id": "b1d35fc9",
   "metadata": {},
   "outputs": [],
   "source": []
  },
  {
   "cell_type": "code",
   "execution_count": null,
   "id": "e2773a44",
   "metadata": {},
   "outputs": [],
   "source": []
  },
  {
   "cell_type": "markdown",
   "id": "e18a4ee1",
   "metadata": {},
   "source": [
    "### Visualization(s)"
   ]
  },
  {
   "cell_type": "markdown",
   "id": "3749b89c",
   "metadata": {},
   "source": []
  },
  {
   "cell_type": "code",
   "execution_count": null,
   "id": "ce8c6200",
   "metadata": {},
   "outputs": [],
   "source": []
  },
  {
   "cell_type": "markdown",
   "id": "e55a72b0",
   "metadata": {},
   "source": [
    "## Concluding Comments"
   ]
  },
  {
   "cell_type": "markdown",
   "id": "c8d8eb49",
   "metadata": {},
   "source": []
  },
  {
   "cell_type": "markdown",
   "id": "637d84ce",
   "metadata": {},
   "source": []
  }
 ],
 "metadata": {
  "kernelspec": {
   "display_name": "Python 3 (ipykernel)",
   "language": "python",
   "name": "python3"
  },
  "language_info": {
   "codemirror_mode": {
    "name": "ipython",
    "version": 3
   },
   "file_extension": ".py",
   "mimetype": "text/x-python",
   "name": "python",
   "nbconvert_exporter": "python",
   "pygments_lexer": "ipython3",
   "version": "3.9.13"
  }
 },
 "nbformat": 4,
 "nbformat_minor": 5
}
