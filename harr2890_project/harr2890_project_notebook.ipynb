{
 "cells": [
  {
   "cell_type": "markdown",
   "id": "469ffd13",
   "metadata": {},
   "source": [
    "# Using Historical Data to Predict Batting Success"
   ]
  },
  {
   "cell_type": "markdown",
   "id": "4fd96e6c",
   "metadata": {},
   "source": [
    "Authored by: Donna J. Harris (994042890)\n",
    "\n",
    "Email: harr2890@mylaurier.ca\n",
    "\n",
    "For: CP640 Machine Learning (S22) with Professor Elham Harirpoush"
   ]
  },
  {
   "cell_type": "markdown",
   "id": "40a3a7bb",
   "metadata": {},
   "source": [
    "## Introductory Comments"
   ]
  },
  {
   "cell_type": "markdown",
   "id": "5365c78b",
   "metadata": {},
   "source": [
    "Based on the project proposal of the same name, this Jupyter Notebook demonstrates the process and exploration of Major League Baseball batting data from 1901 to 2021 to the end of discovering how or if historical data can be used to predict batting success.\n",
    "\n",
    "The Kaggle dataset being used as the primary data source can be found in the `data` folder of the project folder structure: `./data/mlbbatting1901-2021.csv`"
   ]
  },
  {
   "cell_type": "markdown",
   "id": "a0232ff4",
   "metadata": {},
   "source": [
    "Each data record in the original dataset represents an individual batter's performance in a single game. This is why there are so many records. In a single game, there will be at least 18 batters with plate appearances across both teams, and often more with player substitutions, especially across extra innings."
   ]
  },
  {
   "cell_type": "markdown",
   "id": "ba6e28c0",
   "metadata": {},
   "source": [
    "## Environment Setup"
   ]
  },
  {
   "cell_type": "markdown",
   "id": "a0f622eb",
   "metadata": {},
   "source": [
    "Import and establish environment for initial work, including showing all dataframe column values."
   ]
  },
  {
   "cell_type": "code",
   "execution_count": 1,
   "id": "b9c73aed",
   "metadata": {},
   "outputs": [],
   "source": [
    "import pandas as pd\n",
    "\n",
    "pd.set_option('display.max_columns', None)"
   ]
  },
  {
   "cell_type": "markdown",
   "id": "5fbf4620",
   "metadata": {},
   "source": [
    "## Preprocessing"
   ]
  },
  {
   "cell_type": "markdown",
   "id": "57f8811f",
   "metadata": {},
   "source": [
    "### Original Data"
   ]
  },
  {
   "cell_type": "markdown",
   "id": "57ac0cc5",
   "metadata": {},
   "source": [
    "Acquire the data from the Kaggle dataset and place into a dataframe."
   ]
  },
  {
   "cell_type": "code",
   "execution_count": 2,
   "id": "840bda33",
   "metadata": {},
   "outputs": [],
   "source": [
    "original_data_source = \"./data/mlbbatting1901-2021.csv\"\n",
    "\n",
    "df = pd.read_csv(original_data_source)"
   ]
  },
  {
   "cell_type": "markdown",
   "id": "7d056d8a",
   "metadata": {},
   "source": [
    "Confirm the original data has been loaded into the data frame. (It should start with the earliest records from 1901 and end with the latest records from 2021.)"
   ]
  },
  {
   "cell_type": "code",
   "execution_count": 3,
   "id": "5c87da9a",
   "metadata": {},
   "outputs": [
    {
     "name": "stdout",
     "output_type": "stream",
     "text": [
      "                ID            Player        Date   Tm  Opp    Rslt  PA  AB  R  \\\n",
      "0        crossmo01       Monte Cross  1901-04-18  PHI  BRO  L 7-12   5   4  2   \n",
      "1        dahlebi01       Bill Dahlen  1901-04-18  BRO  PHI  W 12-7   5   4  2   \n",
      "2         dalyto01          Tom Daly  1901-04-18  BRO  PHI  W 12-7   5   5  1   \n",
      "3        davisle01       Lefty Davis  1901-04-18  BRO  PHI  W 12-7   5   5  1   \n",
      "4        delahed01      Ed Delahanty  1901-04-18  PHI  BRO  L 7-12   5   4  1   \n",
      "...            ...               ...         ...  ...  ...     ...  ..  .. ..   \n",
      "4285624  woodfja01     Jake Woodford  2021-10-03  STL  CHC   L 2-3   2   1  0   \n",
      "4285625  yastrmi01  Mike Yastrzemski  2021-10-03  SFG  SDP  W 11-4   4   3  1   \n",
      "4285626  zimmebr01    Bradley Zimmer  2021-10-03  CLE  TEX   W 6-0   4   4  1   \n",
      "4285627  zimmery01    Ryan Zimmerman  2021-10-03  WSN  BOS   L 5-7   4   3  0   \n",
      "4285628  zuninmi01       Mike Zunino  2021-10-03  TBR  NYY   L 0-1   4   4  0   \n",
      "\n",
      "         H  2B  3B  HR  RBI  BB  IBB  SO  HBP  SH   SF  ROE  GDP  SB   CS  \\\n",
      "0        2   1   0   0  1.0   1  NaN   0    0   0  NaN  NaN  NaN   0  NaN   \n",
      "1        3   0   0   0  0.0   1  NaN   1    0   0  NaN  NaN  NaN   2  NaN   \n",
      "2        2   1   0   0  3.0   0  NaN   1    0   0  NaN  NaN  NaN   0  NaN   \n",
      "3        1   0   0   0  0.0   0  NaN   0    0   0  NaN  NaN  NaN   0  NaN   \n",
      "4        2   0   0   0  0.0   1  NaN   0    0   0  NaN  NaN  NaN   0  NaN   \n",
      "...     ..  ..  ..  ..  ...  ..  ...  ..  ...  ..  ...  ...  ...  ..  ...   \n",
      "4285624  0   0   0   0  0.0   0  0.0   0    0   1  0.0  0.0  0.0   0  0.0   \n",
      "4285625  1   1   0   0  2.0   1  0.0   1    0   0  0.0  0.0  0.0   0  0.0   \n",
      "4285626  2   0   0   0  1.0   0  0.0   0    0   0  0.0  0.0  0.0   2  0.0   \n",
      "4285627  0   0   0   0  1.0   1  0.0   2    0   0  0.0  0.0  0.0   0  0.0   \n",
      "4285628  0   0   0   0  0.0   0  0.0   1    0   0  0.0  0.0  0.0   0  0.0   \n",
      "\n",
      "           WPA   RE24    aLI  BOP Pos Summary  DFS(DK)  DFS(FD)  \n",
      "0          NaN    NaN    NaN    8          SS      NaN      NaN  \n",
      "1          NaN    NaN    NaN    7          SS      NaN      NaN  \n",
      "2          NaN    NaN    NaN    6          2B      NaN      NaN  \n",
      "3          NaN    NaN    NaN    1          LF      NaN      NaN  \n",
      "4          NaN    NaN    NaN    3          1B      NaN      NaN  \n",
      "...        ...    ...    ...  ...         ...      ...      ...  \n",
      "4285624 -0.045 -0.413  1.530    9           P      NaN      NaN  \n",
      "4285625  0.023  1.648  0.570    7          CF     13.0     19.2  \n",
      "4285626  0.065  0.828  0.442    6          RF     20.0     24.7  \n",
      "4285627 -0.051 -0.356  1.565    5          1B      4.0      6.5  \n",
      "4285628 -0.184 -1.214  1.633    7           C      0.0      0.0  \n",
      "\n",
      "[4285629 rows x 31 columns]\n"
     ]
    }
   ],
   "source": [
    "print(df)"
   ]
  },
  {
   "cell_type": "code",
   "execution_count": 4,
   "id": "f2981b8c",
   "metadata": {},
   "outputs": [
    {
     "name": "stdout",
     "output_type": "stream",
     "text": [
      "Index(['ID', 'Player', 'Date', 'Tm', 'Opp', 'Rslt', 'PA', 'AB', 'R', 'H', '2B',\n",
      "       '3B', 'HR', 'RBI', 'BB', 'IBB', 'SO', 'HBP', 'SH', 'SF', 'ROE', 'GDP',\n",
      "       'SB', 'CS', 'WPA', 'RE24', 'aLI', 'BOP', 'Pos Summary', 'DFS(DK)',\n",
      "       'DFS(FD)'],\n",
      "      dtype='object')\n"
     ]
    }
   ],
   "source": [
    "print(df.columns)"
   ]
  },
  {
   "cell_type": "markdown",
   "id": "f65994ee",
   "metadata": {},
   "source": [
    "We have our confirmation that there are 31 feature columns and 4,285,629 data records."
   ]
  },
  {
   "cell_type": "markdown",
   "id": "08e12d88",
   "metadata": {},
   "source": [
    "### Extract Data"
   ]
  },
  {
   "cell_type": "markdown",
   "id": "c17c103d",
   "metadata": {},
   "source": [
    "There is some data that might be of use to us that is trapped in existing columns. First, we want to extract the result of the game and the score of the game from the `'Rslt'` column. Then, we want to extract the year the game was played (denoting the season) from the `'Date'` column."
   ]
  },
  {
   "cell_type": "code",
   "execution_count": 5,
   "id": "0ce5e646",
   "metadata": {},
   "outputs": [],
   "source": [
    "df[['Result','Score']] = df['Rslt'].str.split(' ', expand=True)\n",
    "\n",
    "df['Season'] = df['Date'].str[:4]"
   ]
  },
  {
   "cell_type": "markdown",
   "id": "f0d92db9",
   "metadata": {},
   "source": [
    "### Column Removal"
   ]
  },
  {
   "cell_type": "markdown",
   "id": "3f52f91b",
   "metadata": {},
   "source": [
    "There are a number of columns in the original dataset that we know before going any further that we have no use for.\n",
    "\n",
    "We no longer need `'Rslt'`, as we just split its interesting information into separate columns. Likewise with `'Date'`, we have what we need in the new `'Season'` column, so we can remove the `'Date'` column."
   ]
  },
  {
   "cell_type": "code",
   "execution_count": 6,
   "id": "1598e4c4",
   "metadata": {
    "scrolled": true
   },
   "outputs": [],
   "source": [
    "del df['Rslt']"
   ]
  },
  {
   "cell_type": "code",
   "execution_count": 7,
   "id": "95bb7fdb",
   "metadata": {},
   "outputs": [],
   "source": [
    "del df['Date']"
   ]
  },
  {
   "cell_type": "markdown",
   "id": "7e9b3184",
   "metadata": {},
   "source": [
    "Daily fantasy sports points (used for fantasy leagues and betting) have no purpose within this project, so we can safely remove `'DFS(DK)'` and `'DFS(FD)'` from the data."
   ]
  },
  {
   "cell_type": "code",
   "execution_count": 8,
   "id": "49b7b60b",
   "metadata": {},
   "outputs": [],
   "source": [
    "del df['DFS(DK)']\n",
    "del df['DFS(FD)']"
   ]
  },
  {
   "cell_type": "markdown",
   "id": "f60674d8",
   "metadata": {},
   "source": [
    "Similarly, to reduce complexity, we are not considering any statistics relating to fielding or base running/stealing. As such, we can remove `'SB'` and `'CS'`, which are the number of stolen bases and time caught stealing, respectively, as well as the `'Pos Summary'` (position summary) data."
   ]
  },
  {
   "cell_type": "code",
   "execution_count": 9,
   "id": "afa88240",
   "metadata": {},
   "outputs": [],
   "source": [
    "del df['SB']\n",
    "del df['CS']\n",
    "del df['Pos Summary']"
   ]
  },
  {
   "cell_type": "markdown",
   "id": "b2b9278d",
   "metadata": {},
   "source": [
    "To further reduce complexity, we will remove the `'IBB'` (intentional walks) column as this is a subset of values tracked under the walks column (`'BB'`).  (Reference: https://en.wikipedia.org/wiki/Base_on_balls#Intentional_base_on_balls)"
   ]
  },
  {
   "cell_type": "code",
   "execution_count": 10,
   "id": "1be353fa",
   "metadata": {},
   "outputs": [],
   "source": [
    "del df['IBB']"
   ]
  },
  {
   "cell_type": "markdown",
   "id": "1efbec4f",
   "metadata": {},
   "source": [
    "We can remove the `'GDP'` column, which represents the number of times a player hits into a double play (two outs). While this statistic has some bearing to the success of a batter, for this project we will exclude this nuance and focus more on the aspects of run production and getting on base through other statistical means."
   ]
  },
  {
   "cell_type": "code",
   "execution_count": 11,
   "id": "cc906eec",
   "metadata": {},
   "outputs": [],
   "source": [
    "del df['GDP']"
   ]
  },
  {
   "cell_type": "markdown",
   "id": "a9935c43",
   "metadata": {},
   "source": [
    "Similarly to `'GDP'`, we will disregard the `'ROE'` column, which represents the number of times a player reaches base due to a fielding error by the opposing team. Like `'GDP'`, this statistic has some bearing to the success of a batter but it leans more toward their running abilities and street smarts of the player, as well as a bit of luck. Again, for this project, these nuances will be excluded for simplicity."
   ]
  },
  {
   "cell_type": "code",
   "execution_count": 12,
   "id": "3ac17286",
   "metadata": {},
   "outputs": [],
   "source": [
    "del df['ROE']"
   ]
  },
  {
   "cell_type": "markdown",
   "id": "84ce2442",
   "metadata": {},
   "source": [
    "Before continuing on to value checking, let's look and see where the data is at after these processing operations."
   ]
  },
  {
   "cell_type": "code",
   "execution_count": 13,
   "id": "944eced5",
   "metadata": {},
   "outputs": [
    {
     "name": "stdout",
     "output_type": "stream",
     "text": [
      "                ID            Player   Tm  Opp  PA  AB  R  H  2B  3B  HR  RBI  \\\n",
      "0        crossmo01       Monte Cross  PHI  BRO   5   4  2  2   1   0   0  1.0   \n",
      "1        dahlebi01       Bill Dahlen  BRO  PHI   5   4  2  3   0   0   0  0.0   \n",
      "2         dalyto01          Tom Daly  BRO  PHI   5   5  1  2   1   0   0  3.0   \n",
      "3        davisle01       Lefty Davis  BRO  PHI   5   5  1  1   0   0   0  0.0   \n",
      "4        delahed01      Ed Delahanty  PHI  BRO   5   4  1  2   0   0   0  0.0   \n",
      "...            ...               ...  ...  ...  ..  .. .. ..  ..  ..  ..  ...   \n",
      "4285624  woodfja01     Jake Woodford  STL  CHC   2   1  0  0   0   0   0  0.0   \n",
      "4285625  yastrmi01  Mike Yastrzemski  SFG  SDP   4   3  1  1   1   0   0  2.0   \n",
      "4285626  zimmebr01    Bradley Zimmer  CLE  TEX   4   4  1  2   0   0   0  1.0   \n",
      "4285627  zimmery01    Ryan Zimmerman  WSN  BOS   4   3  0  0   0   0   0  1.0   \n",
      "4285628  zuninmi01       Mike Zunino  TBR  NYY   4   4  0  0   0   0   0  0.0   \n",
      "\n",
      "         BB  SO  HBP  SH   SF    WPA   RE24    aLI  BOP Result Score Season  \n",
      "0         1   0    0   0  NaN    NaN    NaN    NaN    8      L  7-12   1901  \n",
      "1         1   1    0   0  NaN    NaN    NaN    NaN    7      W  12-7   1901  \n",
      "2         0   1    0   0  NaN    NaN    NaN    NaN    6      W  12-7   1901  \n",
      "3         0   0    0   0  NaN    NaN    NaN    NaN    1      W  12-7   1901  \n",
      "4         1   0    0   0  NaN    NaN    NaN    NaN    3      L  7-12   1901  \n",
      "...      ..  ..  ...  ..  ...    ...    ...    ...  ...    ...   ...    ...  \n",
      "4285624   0   0    0   1  0.0 -0.045 -0.413  1.530    9      L   2-3   2021  \n",
      "4285625   1   1    0   0  0.0  0.023  1.648  0.570    7      W  11-4   2021  \n",
      "4285626   0   0    0   0  0.0  0.065  0.828  0.442    6      W   6-0   2021  \n",
      "4285627   1   2    0   0  0.0 -0.051 -0.356  1.565    5      L   5-7   2021  \n",
      "4285628   0   1    0   0  0.0 -0.184 -1.214  1.633    7      L   0-1   2021  \n",
      "\n",
      "[4285629 rows x 24 columns]\n"
     ]
    }
   ],
   "source": [
    "print(df)"
   ]
  },
  {
   "cell_type": "code",
   "execution_count": 14,
   "id": "798a02ab",
   "metadata": {},
   "outputs": [
    {
     "name": "stdout",
     "output_type": "stream",
     "text": [
      "Index(['ID', 'Player', 'Tm', 'Opp', 'PA', 'AB', 'R', 'H', '2B', '3B', 'HR',\n",
      "       'RBI', 'BB', 'SO', 'HBP', 'SH', 'SF', 'WPA', 'RE24', 'aLI', 'BOP',\n",
      "       'Result', 'Score', 'Season'],\n",
      "      dtype='object')\n"
     ]
    }
   ],
   "source": [
    "print(df.columns)"
   ]
  },
  {
   "cell_type": "markdown",
   "id": "0563b189",
   "metadata": {},
   "source": [
    "We added three new columns (`'Result'`, `'Score'`, and `'Season'`) -- which we may or may not need later -- and also removed ten existing columns. So, this looks correct: 31 original features + 3 new features - 11 features = 23 feature columns.\n",
    "\n",
    "We still have 4,285,629 data records, as we have not removed any records yet."
   ]
  },
  {
   "cell_type": "markdown",
   "id": "2b93ddab",
   "metadata": {},
   "source": [
    "### Value Checking and Data Validation"
   ]
  },
  {
   "cell_type": "markdown",
   "id": "89c16340",
   "metadata": {},
   "source": [
    "**ID - Player ID**\n",
    "\n",
    "Should be unique to each player. This will indicate how many players we currently have, based on player ID."
   ]
  },
  {
   "cell_type": "code",
   "execution_count": 16,
   "id": "8995c267",
   "metadata": {},
   "outputs": [
    {
     "name": "stdout",
     "output_type": "stream",
     "text": [
      "['crossmo01' 'dahlebi01' 'dalyto01' ... 'adonjo01' 'paynety01' 'stridsp01']\n",
      "\n",
      "Number of unique player IDs:  15985\n"
     ]
    }
   ],
   "source": [
    "print(pd.unique(df['ID']))\n",
    "\n",
    "print(\"\\nNumber of unique player IDs: \", len(pd.unique(df['ID'])))"
   ]
  },
  {
   "cell_type": "markdown",
   "id": "6c1cf467",
   "metadata": {},
   "source": [
    "**Player - Player Name**\n",
    "\n",
    "Should be roughly the same number of player IDs. Discrepancies are possible, errors in spelling, etc. but this is not highly significant for our statistics since we will key everything on the more reliable Player ID. We will hang onto this field to help humanly identify players by name. "
   ]
  },
  {
   "cell_type": "code",
   "execution_count": 17,
   "id": "7c969ac8",
   "metadata": {},
   "outputs": [
    {
     "name": "stdout",
     "output_type": "stream",
     "text": [
      "['Monte Cross' 'Bill Dahlen' 'Tom Daly' ... 'Joan Adon' 'Tyler Payne'\n",
      " 'Spencer Strider']\n",
      "\n",
      "Number of unique player names:  15595\n"
     ]
    }
   ],
   "source": [
    "print(pd.unique(df['Player']))\n",
    "\n",
    "print(\"\\nNumber of unique player names: \", len(pd.unique(df['Player'])))"
   ]
  },
  {
   "cell_type": "markdown",
   "id": "f24e7744",
   "metadata": {},
   "source": [
    "**Note:** We found there were 15,985 unique IDs and 15,595 unique player names, which is a difference of 390 in favour of the IDs. This could easily be explained by different players over the years with the same name. This is a nuance that will be disregarded for this project. As previously stated, we will use the ID for all but human identification purposes."
   ]
  },
  {
   "cell_type": "markdown",
   "id": "b17ee4b0",
   "metadata": {},
   "source": [
    "**Season - Year the game was played in**\n",
    "(Extracted from `'Date'`)\n",
    "\n",
    "The values should all be visibly in YYYY format between the years of 1901 and 2021, inclusive.\n",
    "\n",
    "Ideally, these values will be Integers -- but they have started as strings."
   ]
  },
  {
   "cell_type": "code",
   "execution_count": 18,
   "id": "95a14e9e",
   "metadata": {
    "scrolled": true
   },
   "outputs": [
    {
     "name": "stdout",
     "output_type": "stream",
     "text": [
      "['1901' '1902' '1903' '1904' '1905' '1906' '1907' '1908' '1909' '1910'\n",
      " '1911' '1912' '1913' '1914' '1915' '1916' '1917' '1918' '1919' '1920'\n",
      " '1921' '1922' '1923' '1924' '1925' '1926' '1927' '1928' '1929' '1930'\n",
      " '1931' '1932' '1933' '1934' '1935' '1936' '1937' '1938' '1939' '1940'\n",
      " '1941' '1942' '1943' '1944' '1945' '1946' '1947' '1948' '1949' '1950'\n",
      " '1951' '1952' '1953' '1954' '1955' '1956' '1957' '1958' '1959' '1960'\n",
      " '1961' '1962' '1963' '1964' '1965' '1966' '1967' '1968' '1969' '1970'\n",
      " '1971' '1972' '1973' '1974' '1975' '1976' '1977' '1978' '1979' '1980'\n",
      " '1981' '1982' '1983' '1984' '1985' '1986' '1987' '1988' '1989' '1990'\n",
      " '1991' '1992' '1993' '1994' '1995' '1996' '1997' '1998' '1999' '2000'\n",
      " '2001' '2002' '2003' '2004' '2005' '2006' '2007' '2008' '2009' '2010'\n",
      " '2011' '2012' '2013' '2014' '2015' '2016' '2017' '2018' '2019' '2020'\n",
      " '2021']\n"
     ]
    }
   ],
   "source": [
    "print(pd.unique(df['Season']))"
   ]
  },
  {
   "cell_type": "markdown",
   "id": "52e04103",
   "metadata": {},
   "source": [
    "We can see visibly that these values are all YYYY integers, so let's convert them to actual integers in the dataframe."
   ]
  },
  {
   "cell_type": "code",
   "execution_count": 79,
   "id": "08b5ff99",
   "metadata": {},
   "outputs": [
    {
     "name": "stdout",
     "output_type": "stream",
     "text": [
      "[1901 1902 1903 1904 1905 1906 1907 1908 1909 1910 1911 1912 1913 1914\n",
      " 1915 1916 1917 1918 1919 1920 1921 1922 1923 1924 1925 1926 1927 1928\n",
      " 1929 1930 1931 1932 1933 1934 1935 1936 1937 1938 1939 1940 1941 1942\n",
      " 1943 1944 1945 1946 1947 1948 1949 1950 1951 1952 1953 1954 1955 1956\n",
      " 1957 1958 1959 1960 1961 1962 1963 1964 1965 1966 1967 1968 1969 1970\n",
      " 1971 1972 1973 1974 1975 1976 1977 1978 1979 1980 1981 1982 1983 1984\n",
      " 1985 1986 1987 1988 1989 1990 1991 1992 1993 1994 1995 1996 1997 1998\n",
      " 1999 2000 2001 2002 2003 2004 2005 2006 2007 2008 2009 2010 2011 2012\n",
      " 2013 2014 2015 2016 2017 2018 2019 2020 2021]\n"
     ]
    }
   ],
   "source": [
    "df['Season'] = df['Season'].astype(int)\n",
    "# test\n",
    "print(pd.unique(df['Season']))"
   ]
  },
  {
   "cell_type": "markdown",
   "id": "2c10c38f",
   "metadata": {},
   "source": [
    "**Tm - Player's Team** and **Opp - Opponent**\n",
    "\n",
    "The team values (both the player's team and the opposing team) should all be visibly in ZZZ format, belonging to a recognizable team between the 1901-2021 seasons. These are fields that will likely get dropped later on, but I'm keeping them until I know for sure I don't want them."
   ]
  },
  {
   "cell_type": "code",
   "execution_count": 19,
   "id": "557b4082",
   "metadata": {},
   "outputs": [
    {
     "name": "stdout",
     "output_type": "stream",
     "text": [
      "Player's Team (Tm):\n",
      " ['PHI' 'BRO' 'BSN' 'NYG' 'STL' 'CHC' 'PIT' 'CIN' 'CLE' 'CHW' 'MLA' 'DET'\n",
      " 'PHA' 'WSH' 'BOS' 'BLA' 'SLB' 'NYY' 'BUF' 'BAL' 'PBS' 'BTT' 'CHI' 'IND'\n",
      " 'SLM' 'KCP' 'NEW' 'MLN' 'KCA' 'LAD' 'SFG' 'WSA' 'MIN' 'LAA' 'HOU' 'NYM'\n",
      " 'CAL' 'ATL' 'OAK' 'KCR' 'MON' 'SDP' 'SEP' 'MIL' 'TEX' 'SEA' 'TOR' 'FLA'\n",
      " 'COL' 'ANA' 'ARI' 'TBD' 'WSN' 'TBR' 'MIA']\n",
      "\n",
      "Opposing Team (Opp):\n",
      " ['BRO' 'PHI' 'NYG' 'BSN' 'CHC' 'STL' 'CIN' 'PIT' 'CHW' 'CLE' 'DET' 'MLA'\n",
      " 'WSH' 'PHA' 'BLA' 'BOS' 'SLB' 'NYY' 'BAL' 'BUF' 'BTT' 'PBS' 'KCP' 'SLM'\n",
      " 'IND' 'CHI' 'NEW' 'MLN' 'KCA' 'SFG' 'LAD' 'WSA' 'MIN' 'LAA' 'HOU' 'NYM'\n",
      " 'CAL' 'ATL' 'OAK' 'MON' 'SDP' 'KCR' 'SEP' 'MIL' 'TEX' 'SEA' 'TOR' 'COL'\n",
      " 'FLA' 'ANA' 'ARI' 'TBD' 'WSN' 'TBR' 'MIA']\n"
     ]
    }
   ],
   "source": [
    "print(\"Player's Team (Tm):\\n\", pd.unique(df['Tm']))\n",
    "print(\"\\nOpposing Team (Opp):\\n\", pd.unique(df['Opp']))"
   ]
  },
  {
   "cell_type": "markdown",
   "id": "4c391c2d",
   "metadata": {},
   "source": [
    "**PA - Plate Appearances**\n",
    "\n",
    "Appearances should be an integer value, between the range of 1 and some upper value. (A 0 would indicate the player didn't bat in the game which would mean there should not be a record.)\n",
    "\n",
    "The upper value will vary, although (speaking as a baseball fan) five plate appearances is pretty standard in a regular, nine-inning, low scoring game. But as soon as you get into higher scores and/or extra inning games, players can be up to bat many times."
   ]
  },
  {
   "cell_type": "code",
   "execution_count": 20,
   "id": "71076a32",
   "metadata": {},
   "outputs": [
    {
     "name": "stdout",
     "output_type": "stream",
     "text": [
      "[ 5  4  3  1  2  6  7  8  9 10 11 12]\n"
     ]
    }
   ],
   "source": [
    "print(pd.unique(df['PA']))"
   ]
  },
  {
   "cell_type": "markdown",
   "id": "08e7c8f2",
   "metadata": {},
   "source": [
    "**Note:** 12 was the upper value. I'm curious of what era these are from, so let's take a look:"
   ]
  },
  {
   "cell_type": "code",
   "execution_count": 80,
   "id": "d38a9d3d",
   "metadata": {},
   "outputs": [
    {
     "name": "stdout",
     "output_type": "stream",
     "text": [
      "                ID         Player   Tm  Opp  PA  AB  R  H  2B  3B  HR  RBI  \\\n",
      "2062446  millafe01   Felix Millan  NYM  STL  12  10  1  4   0   0   0  0.0   \n",
      "2062447  milnejo01    John Milner  NYM  STL  12  10  0  2   1   0   0  1.0   \n",
      "2458599  baineha01  Harold Baines  CHW  MIL  12  10  1  2   1   0   1  1.0   \n",
      "2458643   fiskca01   Carlton Fisk  CHW  MIL  12  11  1  3   1   0   0  1.0   \n",
      "2458686    lawru01       Rudy Law  CHW  MIL  12  11  1  4   0   0   0  1.0   \n",
      "\n",
      "         BB  SO  HBP  SH Result  Season  \n",
      "2062446   1   0    0   1      L    1974  \n",
      "2062447   2   3    0   0      L    1974  \n",
      "2458599   2   0    0   0      W    1984  \n",
      "2458643   1   3    0   0      W    1984  \n",
      "2458686   1   0    0   0      W    1984  \n"
     ]
    }
   ],
   "source": [
    "print(df[df['PA'] == 12])"
   ]
  },
  {
   "cell_type": "markdown",
   "id": "c56951a7",
   "metadata": {},
   "source": [
    "**AB - At Bats**\n",
    "\n",
    "Similarly to Plate Appearances, At Bats should be an integer value. It should be between the range of 0 and some upper value. (Here, a 0 would indicate the player had one plate appearance that did not statistically count as an At Bat, such as a walk.)\n",
    "\n",
    "The upper range should follow, and not exceed the upper value of Plate Appearances, which was 12. Note that 12 is possible, but does not have to be a value in this collection of data."
   ]
  },
  {
   "cell_type": "code",
   "execution_count": 22,
   "id": "b388b97a",
   "metadata": {},
   "outputs": [
    {
     "name": "stdout",
     "output_type": "stream",
     "text": [
      "[ 4  5  3  2  1  6  0  7  8  9 10 11]\n"
     ]
    }
   ],
   "source": [
    "print(pd.unique(df['AB']))"
   ]
  },
  {
   "cell_type": "markdown",
   "id": "2b95c36c",
   "metadata": {},
   "source": [
    "**Note:** 11 was the upper value, which is less then 12. (The max number of plate appearances.)\n",
    "\n",
    "We should validate that there are no records where there are more At Bats than Plate Appearances."
   ]
  },
  {
   "cell_type": "code",
   "execution_count": 23,
   "id": "ea1fb2d4",
   "metadata": {},
   "outputs": [
    {
     "name": "stdout",
     "output_type": "stream",
     "text": [
      "-----------------------------------------\n",
      "All records with PA < AB\n",
      "-----------------------------------------\n",
      "Empty DataFrame\n",
      "Columns: [ID, Player, Tm, Opp, PA, AB, R, H, 2B, 3B, HR, RBI, BB, SO, HBP, SH, SF, WPA, RE24, aLI, BOP, Result, Score, Season]\n",
      "Index: []\n"
     ]
    }
   ],
   "source": [
    "print(\"-----------------------------------------\")\n",
    "print(\"All records with PA < AB\")\n",
    "print(\"-----------------------------------------\")\n",
    "print(df[df['PA'] < df['AB']])"
   ]
  },
  {
   "cell_type": "markdown",
   "id": "43c7e62f",
   "metadata": {},
   "source": [
    "**Note:** The validation checks pass, as we have found no records where PA < AB. No extra investigation or validation is required here."
   ]
  },
  {
   "cell_type": "markdown",
   "id": "07132903",
   "metadata": {},
   "source": [
    "**R - Runs**\n",
    "\n",
    "Runs should also be an integer value, in the range of 0 and some upper value. The upper value can be, at most, one larger than the number of plate appearances. In general, that's 12+1 for this dataset, but that's a highly unlikely value to see as number of runs. (We'll address individual records in the next step.)"
   ]
  },
  {
   "cell_type": "code",
   "execution_count": 24,
   "id": "7d378404",
   "metadata": {},
   "outputs": [
    {
     "name": "stdout",
     "output_type": "stream",
     "text": [
      "[2 1 0 4 3 5 6]\n"
     ]
    }
   ],
   "source": [
    "print(pd.unique(df['R']))"
   ]
  },
  {
   "cell_type": "markdown",
   "id": "8dd3e85b",
   "metadata": {},
   "source": [
    "**Note:** We want to do some validation within each individual data record to look for instances where the number of plate appearances is less than the number of runs (e.g., when a player pinch runs for a teammate and then scores a run they have 0 plate appearances and 1 run). And within that subset of records, look for instances where there is more than a difference of one between the `'PA'` and `'R'` values. (If we find any instances with a difference larger than one, we may have a data issue.)"
   ]
  },
  {
   "cell_type": "code",
   "execution_count": 25,
   "id": "ae2e72e1",
   "metadata": {},
   "outputs": [
    {
     "name": "stdout",
     "output_type": "stream",
     "text": [
      "-----------------------------------------\n",
      "All records with PA < R\n",
      "-----------------------------------------\n",
      "                ID          Player   Tm  Opp  PA  AB  R  H  2B  3B  HR  RBI  \\\n",
      "97903     lowebo01      Bobby Lowe  DET  WSH   1   1  2  1   1   0   0  0.0   \n",
      "203202   stanljo02     Joe Stanley  CHC  BSN   1   0  2  0   0   0   0  0.0   \n",
      "221883   collibi02    Bill Collins  BSN  STL   1   1  2  1   0   0   0  NaN   \n",
      "223671   keelewi01   Willie Keeler  NYG  CHC   1   1  2  1   0   0   0  NaN   \n",
      "230698   butlear01      Art Butler  BSN  PHI   1   1  2  0   0   0   0  NaN   \n",
      "...            ...             ...  ...  ...  ..  .. .. ..  ..  ..  ..  ...   \n",
      "4245067  hamilbi02  Billy Hamilton  CHW  MIN   1   1  2  0   0   0   0  0.0   \n",
      "4256455  dubonma01  Mauricio Dubon  SFG  PHI   1   1  2  1   0   0   0  0.0   \n",
      "4262325  whiteel04       Eli White  TEX  OAK   1   1  2  0   0   0   0  0.0   \n",
      "4264040   kempto01       Tony Kemp  OAK  LAA   1   1  2  1   0   0   0  0.0   \n",
      "4268197  davisjo05  Jonathan Davis  NYY  BAL   1   1  2  1   0   0   0  0.0   \n",
      "\n",
      "         BB  SO  HBP  SH   SF    WPA   RE24   aLI  BOP Result Score Season  \n",
      "97903     0   0    0   0  NaN    NaN    NaN   NaN    6      W   8-7   1905  \n",
      "203202    1   0    0   0  NaN    NaN    NaN   NaN    2      W   9-1   1909  \n",
      "221883    0   0    0   0  NaN    NaN    NaN   NaN    9      W   9-6   1910  \n",
      "223671    0   0    0   0  NaN    NaN    NaN   NaN    1      W  18-9   1910  \n",
      "230698    0   1    0   0  NaN    NaN    NaN   NaN    5      L  9-10   1911  \n",
      "...      ..  ..  ...  ..  ...    ...    ...   ...  ...    ...   ...    ...  \n",
      "4245067   0   0    0   0  0.0  0.015 -0.158  0.32    7      W   9-3   2021  \n",
      "4256455   0   0    0   0  0.0  0.000  0.127  0.00    3      W  11-2   2021  \n",
      "4262325   0   1    0   0  0.0 -0.109 -0.329  3.84    2      L   4-8   2021  \n",
      "4264040   0   0    0   0  0.0  0.002  0.126  0.04    9      W   6-0   2021  \n",
      "4268197   0   0    0   0  0.0  0.001  0.389  0.02    8      W  10-3   2021  \n",
      "\n",
      "[457 rows x 24 columns]\n",
      "\n",
      "\n",
      "-----------------------------------------\n",
      "All records with PA < R where PA != R-1\n",
      "-----------------------------------------\n",
      "Empty DataFrame\n",
      "Columns: [ID, Player, Tm, Opp, PA, AB, R, H, 2B, 3B, HR, RBI, BB, SO, HBP, SH, SF, WPA, RE24, aLI, BOP, Result, Score, Season]\n",
      "Index: []\n"
     ]
    }
   ],
   "source": [
    "records_pa_lt_r = df[df['PA'] < df['R']]\n",
    "print(\"-----------------------------------------\")\n",
    "print(\"All records with PA < R\")\n",
    "print(\"-----------------------------------------\")\n",
    "print(records_pa_lt_r)\n",
    "\n",
    "print(\"\\n\\n-----------------------------------------\")\n",
    "print(\"All records with PA < R where PA != R-1\")\n",
    "print(\"-----------------------------------------\")\n",
    "print(records_pa_lt_r[ records_pa_lt_r['PA'] != ((records_pa_lt_r['R']-1)) ])\n"
   ]
  },
  {
   "cell_type": "markdown",
   "id": "326a7f40",
   "metadata": {},
   "source": [
    "**Note:** The validation checks pass, as we have found no records where PA < R and PA != R-1. No extra investigation or validation is required here."
   ]
  },
  {
   "cell_type": "markdown",
   "id": "a4378568",
   "metadata": {},
   "source": [
    "**H - Hits**\n",
    "\n",
    "Hits should also be an integer value, in the range of 0 and some upper value. The upper value can be, at most, the number of plate appearances. In general, that's 12 for this dataset, but that's a highly unlikely value to see as number of hits. (We'll address individual records in the next step.)"
   ]
  },
  {
   "cell_type": "code",
   "execution_count": 26,
   "id": "ce06819c",
   "metadata": {},
   "outputs": [
    {
     "data": {
      "text/plain": [
       "array([2, 3, 1, 0, 4, 5, 6, 9, 7])"
      ]
     },
     "execution_count": 26,
     "metadata": {},
     "output_type": "execute_result"
    }
   ],
   "source": [
    "pd.unique(df['H'])"
   ]
  },
  {
   "cell_type": "markdown",
   "id": "dcd4c1ee",
   "metadata": {},
   "source": [
    "**Note:** We should also confirm that there are never more hits than plate appearances within individual records."
   ]
  },
  {
   "cell_type": "code",
   "execution_count": 27,
   "id": "e309255b",
   "metadata": {},
   "outputs": [
    {
     "name": "stdout",
     "output_type": "stream",
     "text": [
      "-----------------------------------------\n",
      "All records with PA < H\n",
      "-----------------------------------------\n",
      "Empty DataFrame\n",
      "Columns: [ID, Player, Tm, Opp, PA, AB, R, H, 2B, 3B, HR, RBI, BB, SO, HBP, SH, SF, WPA, RE24, aLI, BOP, Result, Score, Season]\n",
      "Index: []\n"
     ]
    }
   ],
   "source": [
    "records_pa_lt_h = df[df['PA'] < df['H']]\n",
    "print(\"-----------------------------------------\")\n",
    "print(\"All records with PA < H\")\n",
    "print(\"-----------------------------------------\")\n",
    "print(records_pa_lt_h)"
   ]
  },
  {
   "cell_type": "markdown",
   "id": "d2a50cd9",
   "metadata": {},
   "source": [
    "**Note:** The validation checks pass, as we have found no records where PA < H. No extra investigation or validation is required here."
   ]
  },
  {
   "cell_type": "markdown",
   "id": "fe81b7e3",
   "metadata": {},
   "source": [
    "**2B - Doubles**\n",
    "**3B - Triples**\n",
    "**HR - Home Run**\n",
    "\n",
    "All of these extra base hits must be integer values, within the range of 0 up to the number of Plate Appearances."
   ]
  },
  {
   "cell_type": "code",
   "execution_count": 28,
   "id": "5d65209c",
   "metadata": {},
   "outputs": [
    {
     "name": "stdout",
     "output_type": "stream",
     "text": [
      "2B:  [1 0 2 4 3]\n",
      "3B:  [0 1 3 2]\n",
      "HR:  [0 1 2 3 4]\n"
     ]
    }
   ],
   "source": [
    "print(\"2B: \", pd.unique(df['2B']))\n",
    "print(\"3B: \", pd.unique(df['3B']))\n",
    "print(\"HR: \", pd.unique(df['HR']))"
   ]
  },
  {
   "cell_type": "markdown",
   "id": "6af2b640",
   "metadata": {},
   "source": [
    "**Note:** These are all reasonable values at a glance.\n",
    "\n",
    "We should also confirm that these values are never greater than the number of Plate Appearances, At Bats, or Hits within individual records. (Note that Hits (`'H'`) represents all kinds of hits, not just single-base hits.)"
   ]
  },
  {
   "cell_type": "code",
   "execution_count": 29,
   "id": "dd1beb83",
   "metadata": {
    "scrolled": true
   },
   "outputs": [
    {
     "name": "stdout",
     "output_type": "stream",
     "text": [
      "-----------------------------------------\n",
      "All records with PA < 2B\n",
      "-----------------------------------------\n",
      "                ID          Player   Tm  Opp  PA  AB  R  H  2B  3B  HR  RBI  \\\n",
      "1275367  robined01  Eddie Robinson  CHW  SLB   1   1  0  0   2   0   0  0.0   \n",
      "\n",
      "         BB  SO  HBP  SH  SF  WPA  RE24  aLI  BOP Result Score Season  \n",
      "1275367   0   0    0   0 NaN  NaN   NaN  NaN    4      L  6-10   1950  \n",
      "\n",
      "-----------------------------------------\n",
      "All records with PA < 3B\n",
      "-----------------------------------------\n",
      "Empty DataFrame\n",
      "Columns: [ID, Player, Tm, Opp, PA, AB, R, H, 2B, 3B, HR, RBI, BB, SO, HBP, SH, SF, WPA, RE24, aLI, BOP, Result, Score, Season]\n",
      "Index: []\n",
      "\n",
      "-----------------------------------------\n",
      "All records with PA < HR\n",
      "-----------------------------------------\n",
      "Empty DataFrame\n",
      "Columns: [ID, Player, Tm, Opp, PA, AB, R, H, 2B, 3B, HR, RBI, BB, SO, HBP, SH, SF, WPA, RE24, aLI, BOP, Result, Score, Season]\n",
      "Index: []\n",
      "\n",
      "-----------------------------------------\n",
      "All records with AB < 2B\n",
      "-----------------------------------------\n",
      "                ID          Player   Tm  Opp  PA  AB  R  H  2B  3B  HR  RBI  \\\n",
      "1275367  robined01  Eddie Robinson  CHW  SLB   1   1  0  0   2   0   0  0.0   \n",
      "\n",
      "         BB  SO  HBP  SH  SF  WPA  RE24  aLI  BOP Result Score Season  \n",
      "1275367   0   0    0   0 NaN  NaN   NaN  NaN    4      L  6-10   1950  \n",
      "\n",
      "-----------------------------------------\n",
      "All records with AB < 3B\n",
      "-----------------------------------------\n",
      "Empty DataFrame\n",
      "Columns: [ID, Player, Tm, Opp, PA, AB, R, H, 2B, 3B, HR, RBI, BB, SO, HBP, SH, SF, WPA, RE24, aLI, BOP, Result, Score, Season]\n",
      "Index: []\n",
      "\n",
      "-----------------------------------------\n",
      "All records with AB < HR\n",
      "-----------------------------------------\n",
      "Empty DataFrame\n",
      "Columns: [ID, Player, Tm, Opp, PA, AB, R, H, 2B, 3B, HR, RBI, BB, SO, HBP, SH, SF, WPA, RE24, aLI, BOP, Result, Score, Season]\n",
      "Index: []\n",
      "\n",
      "-----------------------------------------\n",
      "All records with H < 2B\n",
      "-----------------------------------------\n",
      "                ID          Player   Tm  Opp  PA  AB  R  H  2B  3B  HR  RBI  \\\n",
      "1275367  robined01  Eddie Robinson  CHW  SLB   1   1  0  0   2   0   0  0.0   \n",
      "\n",
      "         BB  SO  HBP  SH  SF  WPA  RE24  aLI  BOP Result Score Season  \n",
      "1275367   0   0    0   0 NaN  NaN   NaN  NaN    4      L  6-10   1950  \n",
      "\n",
      "-----------------------------------------\n",
      "All records with H < 3B\n",
      "-----------------------------------------\n",
      "                ID      Player   Tm  Opp  PA  AB  R  H  2B  3B  HR  RBI  BB  \\\n",
      "1272928  tiptojo01  Joe Tipton  PHA  CHW   3   2  0  0   0   1   0  0.0   1   \n",
      "\n",
      "         SO  HBP  SH  SF  WPA  RE24  aLI  BOP Result Score Season  \n",
      "1272928   1    0   0 NaN  NaN   NaN  NaN    8      L  3-10   1950  \n",
      "\n",
      "-----------------------------------------\n",
      "All records with H < HR\n",
      "-----------------------------------------\n",
      "Empty DataFrame\n",
      "Columns: [ID, Player, Tm, Opp, PA, AB, R, H, 2B, 3B, HR, RBI, BB, SO, HBP, SH, SF, WPA, RE24, aLI, BOP, Result, Score, Season]\n",
      "Index: []\n"
     ]
    }
   ],
   "source": [
    "records_pa_lt_2b = df[df['PA'] < df['2B']]\n",
    "print(\"-----------------------------------------\")\n",
    "print(\"All records with PA < 2B\")\n",
    "print(\"-----------------------------------------\")\n",
    "print(records_pa_lt_2b)\n",
    "\n",
    "\n",
    "records_pa_lt_3b = df[df['PA'] < df['3B']]\n",
    "print(\"\\n-----------------------------------------\")\n",
    "print(\"All records with PA < 3B\")\n",
    "print(\"-----------------------------------------\")\n",
    "print(records_pa_lt_3b)\n",
    "\n",
    "\n",
    "records_pa_lt_hr = df[df['PA'] < df['HR']]\n",
    "print(\"\\n-----------------------------------------\")\n",
    "print(\"All records with PA < HR\")\n",
    "print(\"-----------------------------------------\")\n",
    "print(records_pa_lt_hr)\n",
    "\n",
    "\n",
    "records_ab_lt_2b = df[df['AB'] < df['2B']]\n",
    "print(\"\\n-----------------------------------------\")\n",
    "print(\"All records with AB < 2B\")\n",
    "print(\"-----------------------------------------\")\n",
    "print(records_ab_lt_2b)\n",
    "\n",
    "\n",
    "records_ab_lt_3b = df[df['AB'] < df['3B']]\n",
    "print(\"\\n-----------------------------------------\")\n",
    "print(\"All records with AB < 3B\")\n",
    "print(\"-----------------------------------------\")\n",
    "print(records_ab_lt_3b)\n",
    "\n",
    "\n",
    "records_ab_lt_hr = df[df['AB'] < df['HR']]\n",
    "print(\"\\n-----------------------------------------\")\n",
    "print(\"All records with AB < HR\")\n",
    "print(\"-----------------------------------------\")\n",
    "print(records_ab_lt_hr)\n",
    "\n",
    "\n",
    "records_h_lt_2b = df[df['H'] < df['2B']]\n",
    "print(\"\\n-----------------------------------------\")\n",
    "print(\"All records with H < 2B\")\n",
    "print(\"-----------------------------------------\")\n",
    "print(records_h_lt_2b)\n",
    "\n",
    "\n",
    "records_h_lt_3b = df[df['H'] < df['3B']]\n",
    "print(\"\\n-----------------------------------------\")\n",
    "print(\"All records with H < 3B\")\n",
    "print(\"-----------------------------------------\")\n",
    "print(records_h_lt_3b)\n",
    "\n",
    "\n",
    "records_h_lt_hr = df[df['H'] < df['HR']]\n",
    "print(\"\\n-----------------------------------------\")\n",
    "print(\"All records with H < HR\")\n",
    "print(\"-----------------------------------------\")\n",
    "print(records_h_lt_hr)"
   ]
  },
  {
   "cell_type": "markdown",
   "id": "0e10054d",
   "metadata": {},
   "source": [
    "**Note:** These validation checks caught a couple of problematic records. Looking at the entirety of these records, it looks like a simple data error, where the number of Hits needs to be updated to reflect the number of extra base hits. Instead of removing all records for these players, we will make these small data adjustments.\n",
    "\n",
    "**First for Ed Robinson:**"
   ]
  },
  {
   "cell_type": "code",
   "execution_count": 30,
   "id": "a9be224c",
   "metadata": {},
   "outputs": [
    {
     "data": {
      "text/html": [
       "<div>\n",
       "<style scoped>\n",
       "    .dataframe tbody tr th:only-of-type {\n",
       "        vertical-align: middle;\n",
       "    }\n",
       "\n",
       "    .dataframe tbody tr th {\n",
       "        vertical-align: top;\n",
       "    }\n",
       "\n",
       "    .dataframe thead th {\n",
       "        text-align: right;\n",
       "    }\n",
       "</style>\n",
       "<table border=\"1\" class=\"dataframe\">\n",
       "  <thead>\n",
       "    <tr style=\"text-align: right;\">\n",
       "      <th></th>\n",
       "      <th>ID</th>\n",
       "      <th>Player</th>\n",
       "      <th>Tm</th>\n",
       "      <th>Opp</th>\n",
       "      <th>PA</th>\n",
       "      <th>AB</th>\n",
       "      <th>R</th>\n",
       "      <th>H</th>\n",
       "      <th>2B</th>\n",
       "      <th>3B</th>\n",
       "      <th>HR</th>\n",
       "      <th>RBI</th>\n",
       "      <th>BB</th>\n",
       "      <th>SO</th>\n",
       "      <th>HBP</th>\n",
       "      <th>SH</th>\n",
       "      <th>SF</th>\n",
       "      <th>WPA</th>\n",
       "      <th>RE24</th>\n",
       "      <th>aLI</th>\n",
       "      <th>BOP</th>\n",
       "      <th>Result</th>\n",
       "      <th>Score</th>\n",
       "      <th>Season</th>\n",
       "    </tr>\n",
       "  </thead>\n",
       "  <tbody>\n",
       "    <tr>\n",
       "      <th>1275367</th>\n",
       "      <td>robined01</td>\n",
       "      <td>Eddie Robinson</td>\n",
       "      <td>CHW</td>\n",
       "      <td>SLB</td>\n",
       "      <td>1</td>\n",
       "      <td>1</td>\n",
       "      <td>0</td>\n",
       "      <td>0</td>\n",
       "      <td>2</td>\n",
       "      <td>0</td>\n",
       "      <td>0</td>\n",
       "      <td>0.0</td>\n",
       "      <td>0</td>\n",
       "      <td>0</td>\n",
       "      <td>0</td>\n",
       "      <td>0</td>\n",
       "      <td>NaN</td>\n",
       "      <td>NaN</td>\n",
       "      <td>NaN</td>\n",
       "      <td>NaN</td>\n",
       "      <td>4</td>\n",
       "      <td>L</td>\n",
       "      <td>6-10</td>\n",
       "      <td>1950</td>\n",
       "    </tr>\n",
       "  </tbody>\n",
       "</table>\n",
       "</div>"
      ],
      "text/plain": [
       "                ID          Player   Tm  Opp  PA  AB  R  H  2B  3B  HR  RBI  \\\n",
       "1275367  robined01  Eddie Robinson  CHW  SLB   1   1  0  0   2   0   0  0.0   \n",
       "\n",
       "         BB  SO  HBP  SH  SF  WPA  RE24  aLI  BOP Result Score Season  \n",
       "1275367   0   0    0   0 NaN  NaN   NaN  NaN    4      L  6-10   1950  "
      ]
     },
     "execution_count": 30,
     "metadata": {},
     "output_type": "execute_result"
    }
   ],
   "source": [
    "ed_robinson = 1275367\n",
    "\n",
    "df.loc[[ed_robinson]]"
   ]
  },
  {
   "cell_type": "markdown",
   "id": "588e79a8",
   "metadata": {},
   "source": [
    "For **Ed Robinson's record** (1275367), we will use the doubles (`'2B'`) statistic value as the value for Hits, Plate Appearances, and At Bats. These are reasonable guesses, based on the record."
   ]
  },
  {
   "cell_type": "code",
   "execution_count": 31,
   "id": "4b9082b9",
   "metadata": {},
   "outputs": [
    {
     "data": {
      "text/html": [
       "<div>\n",
       "<style scoped>\n",
       "    .dataframe tbody tr th:only-of-type {\n",
       "        vertical-align: middle;\n",
       "    }\n",
       "\n",
       "    .dataframe tbody tr th {\n",
       "        vertical-align: top;\n",
       "    }\n",
       "\n",
       "    .dataframe thead th {\n",
       "        text-align: right;\n",
       "    }\n",
       "</style>\n",
       "<table border=\"1\" class=\"dataframe\">\n",
       "  <thead>\n",
       "    <tr style=\"text-align: right;\">\n",
       "      <th></th>\n",
       "      <th>ID</th>\n",
       "      <th>Player</th>\n",
       "      <th>Tm</th>\n",
       "      <th>Opp</th>\n",
       "      <th>PA</th>\n",
       "      <th>AB</th>\n",
       "      <th>R</th>\n",
       "      <th>H</th>\n",
       "      <th>2B</th>\n",
       "      <th>3B</th>\n",
       "      <th>HR</th>\n",
       "      <th>RBI</th>\n",
       "      <th>BB</th>\n",
       "      <th>SO</th>\n",
       "      <th>HBP</th>\n",
       "      <th>SH</th>\n",
       "      <th>SF</th>\n",
       "      <th>WPA</th>\n",
       "      <th>RE24</th>\n",
       "      <th>aLI</th>\n",
       "      <th>BOP</th>\n",
       "      <th>Result</th>\n",
       "      <th>Score</th>\n",
       "      <th>Season</th>\n",
       "    </tr>\n",
       "  </thead>\n",
       "  <tbody>\n",
       "    <tr>\n",
       "      <th>1275367</th>\n",
       "      <td>robined01</td>\n",
       "      <td>Eddie Robinson</td>\n",
       "      <td>CHW</td>\n",
       "      <td>SLB</td>\n",
       "      <td>2</td>\n",
       "      <td>2</td>\n",
       "      <td>0</td>\n",
       "      <td>2</td>\n",
       "      <td>2</td>\n",
       "      <td>0</td>\n",
       "      <td>0</td>\n",
       "      <td>0.0</td>\n",
       "      <td>0</td>\n",
       "      <td>0</td>\n",
       "      <td>0</td>\n",
       "      <td>0</td>\n",
       "      <td>NaN</td>\n",
       "      <td>NaN</td>\n",
       "      <td>NaN</td>\n",
       "      <td>NaN</td>\n",
       "      <td>4</td>\n",
       "      <td>L</td>\n",
       "      <td>6-10</td>\n",
       "      <td>1950</td>\n",
       "    </tr>\n",
       "  </tbody>\n",
       "</table>\n",
       "</div>"
      ],
      "text/plain": [
       "                ID          Player   Tm  Opp  PA  AB  R  H  2B  3B  HR  RBI  \\\n",
       "1275367  robined01  Eddie Robinson  CHW  SLB   2   2  0  2   2   0   0  0.0   \n",
       "\n",
       "         BB  SO  HBP  SH  SF  WPA  RE24  aLI  BOP Result Score Season  \n",
       "1275367   0   0    0   0 NaN  NaN   NaN  NaN    4      L  6-10   1950  "
      ]
     },
     "execution_count": 31,
     "metadata": {},
     "output_type": "execute_result"
    }
   ],
   "source": [
    "df.at[ed_robinson, 'H'] = df.at[ed_robinson, '2B']\n",
    "df.at[ed_robinson, 'AB'] = df.at[ed_robinson, '2B']\n",
    "df.at[ed_robinson, 'PA'] = df.at[ed_robinson, '2B']\n",
    "\n",
    "df.loc[[ed_robinson]]"
   ]
  },
  {
   "cell_type": "markdown",
   "id": "62788d1a",
   "metadata": {},
   "source": [
    "**Next for Joe Tipton:**"
   ]
  },
  {
   "cell_type": "code",
   "execution_count": 32,
   "id": "76926b73",
   "metadata": {},
   "outputs": [
    {
     "data": {
      "text/html": [
       "<div>\n",
       "<style scoped>\n",
       "    .dataframe tbody tr th:only-of-type {\n",
       "        vertical-align: middle;\n",
       "    }\n",
       "\n",
       "    .dataframe tbody tr th {\n",
       "        vertical-align: top;\n",
       "    }\n",
       "\n",
       "    .dataframe thead th {\n",
       "        text-align: right;\n",
       "    }\n",
       "</style>\n",
       "<table border=\"1\" class=\"dataframe\">\n",
       "  <thead>\n",
       "    <tr style=\"text-align: right;\">\n",
       "      <th></th>\n",
       "      <th>ID</th>\n",
       "      <th>Player</th>\n",
       "      <th>Tm</th>\n",
       "      <th>Opp</th>\n",
       "      <th>PA</th>\n",
       "      <th>AB</th>\n",
       "      <th>R</th>\n",
       "      <th>H</th>\n",
       "      <th>2B</th>\n",
       "      <th>3B</th>\n",
       "      <th>HR</th>\n",
       "      <th>RBI</th>\n",
       "      <th>BB</th>\n",
       "      <th>SO</th>\n",
       "      <th>HBP</th>\n",
       "      <th>SH</th>\n",
       "      <th>SF</th>\n",
       "      <th>WPA</th>\n",
       "      <th>RE24</th>\n",
       "      <th>aLI</th>\n",
       "      <th>BOP</th>\n",
       "      <th>Result</th>\n",
       "      <th>Score</th>\n",
       "      <th>Season</th>\n",
       "    </tr>\n",
       "  </thead>\n",
       "  <tbody>\n",
       "    <tr>\n",
       "      <th>1272928</th>\n",
       "      <td>tiptojo01</td>\n",
       "      <td>Joe Tipton</td>\n",
       "      <td>PHA</td>\n",
       "      <td>CHW</td>\n",
       "      <td>3</td>\n",
       "      <td>2</td>\n",
       "      <td>0</td>\n",
       "      <td>0</td>\n",
       "      <td>0</td>\n",
       "      <td>1</td>\n",
       "      <td>0</td>\n",
       "      <td>0.0</td>\n",
       "      <td>1</td>\n",
       "      <td>1</td>\n",
       "      <td>0</td>\n",
       "      <td>0</td>\n",
       "      <td>NaN</td>\n",
       "      <td>NaN</td>\n",
       "      <td>NaN</td>\n",
       "      <td>NaN</td>\n",
       "      <td>8</td>\n",
       "      <td>L</td>\n",
       "      <td>3-10</td>\n",
       "      <td>1950</td>\n",
       "    </tr>\n",
       "  </tbody>\n",
       "</table>\n",
       "</div>"
      ],
      "text/plain": [
       "                ID      Player   Tm  Opp  PA  AB  R  H  2B  3B  HR  RBI  BB  \\\n",
       "1272928  tiptojo01  Joe Tipton  PHA  CHW   3   2  0  0   0   1   0  0.0   1   \n",
       "\n",
       "         SO  HBP  SH  SF  WPA  RE24  aLI  BOP Result Score Season  \n",
       "1272928   1    0   0 NaN  NaN   NaN  NaN    8      L  3-10   1950  "
      ]
     },
     "execution_count": 32,
     "metadata": {},
     "output_type": "execute_result"
    }
   ],
   "source": [
    "joe_tipton = 1272928\n",
    "\n",
    "df.loc[[joe_tipton]]"
   ]
  },
  {
   "cell_type": "markdown",
   "id": "1d106924",
   "metadata": {},
   "source": [
    "For **Joe Tipton's record** (1272928), we will use the triples (`'3B'`) statistic value as the value for Hits but it is possible that the statistics for Plate Appearances and At Bats is correct. Because it is not obviously wrong, we won't change these. These are reasonable guesses, based on the record."
   ]
  },
  {
   "cell_type": "code",
   "execution_count": 33,
   "id": "d64b3862",
   "metadata": {},
   "outputs": [
    {
     "data": {
      "text/html": [
       "<div>\n",
       "<style scoped>\n",
       "    .dataframe tbody tr th:only-of-type {\n",
       "        vertical-align: middle;\n",
       "    }\n",
       "\n",
       "    .dataframe tbody tr th {\n",
       "        vertical-align: top;\n",
       "    }\n",
       "\n",
       "    .dataframe thead th {\n",
       "        text-align: right;\n",
       "    }\n",
       "</style>\n",
       "<table border=\"1\" class=\"dataframe\">\n",
       "  <thead>\n",
       "    <tr style=\"text-align: right;\">\n",
       "      <th></th>\n",
       "      <th>ID</th>\n",
       "      <th>Player</th>\n",
       "      <th>Tm</th>\n",
       "      <th>Opp</th>\n",
       "      <th>PA</th>\n",
       "      <th>AB</th>\n",
       "      <th>R</th>\n",
       "      <th>H</th>\n",
       "      <th>2B</th>\n",
       "      <th>3B</th>\n",
       "      <th>HR</th>\n",
       "      <th>RBI</th>\n",
       "      <th>BB</th>\n",
       "      <th>SO</th>\n",
       "      <th>HBP</th>\n",
       "      <th>SH</th>\n",
       "      <th>SF</th>\n",
       "      <th>WPA</th>\n",
       "      <th>RE24</th>\n",
       "      <th>aLI</th>\n",
       "      <th>BOP</th>\n",
       "      <th>Result</th>\n",
       "      <th>Score</th>\n",
       "      <th>Season</th>\n",
       "    </tr>\n",
       "  </thead>\n",
       "  <tbody>\n",
       "    <tr>\n",
       "      <th>1272928</th>\n",
       "      <td>tiptojo01</td>\n",
       "      <td>Joe Tipton</td>\n",
       "      <td>PHA</td>\n",
       "      <td>CHW</td>\n",
       "      <td>3</td>\n",
       "      <td>2</td>\n",
       "      <td>0</td>\n",
       "      <td>1</td>\n",
       "      <td>0</td>\n",
       "      <td>1</td>\n",
       "      <td>0</td>\n",
       "      <td>0.0</td>\n",
       "      <td>1</td>\n",
       "      <td>1</td>\n",
       "      <td>0</td>\n",
       "      <td>0</td>\n",
       "      <td>NaN</td>\n",
       "      <td>NaN</td>\n",
       "      <td>NaN</td>\n",
       "      <td>NaN</td>\n",
       "      <td>8</td>\n",
       "      <td>L</td>\n",
       "      <td>3-10</td>\n",
       "      <td>1950</td>\n",
       "    </tr>\n",
       "  </tbody>\n",
       "</table>\n",
       "</div>"
      ],
      "text/plain": [
       "                ID      Player   Tm  Opp  PA  AB  R  H  2B  3B  HR  RBI  BB  \\\n",
       "1272928  tiptojo01  Joe Tipton  PHA  CHW   3   2  0  1   0   1   0  0.0   1   \n",
       "\n",
       "         SO  HBP  SH  SF  WPA  RE24  aLI  BOP Result Score Season  \n",
       "1272928   1    0   0 NaN  NaN   NaN  NaN    8      L  3-10   1950  "
      ]
     },
     "execution_count": 33,
     "metadata": {},
     "output_type": "execute_result"
    }
   ],
   "source": [
    "df.at[joe_tipton, 'H'] = df.at[joe_tipton, '3B']\n",
    "\n",
    "df.loc[[joe_tipton]]"
   ]
  },
  {
   "cell_type": "markdown",
   "id": "46e06655",
   "metadata": {},
   "source": [
    "**Re-testing the original checks**\n",
    "\n",
    "Re-running the tests that found these data issues should now pass and not introduce any new issues."
   ]
  },
  {
   "cell_type": "code",
   "execution_count": 34,
   "id": "d76eb7e7",
   "metadata": {},
   "outputs": [
    {
     "name": "stdout",
     "output_type": "stream",
     "text": [
      "-----------------------------------------\n",
      "All records with PA < 2B\n",
      "-----------------------------------------\n",
      "Empty DataFrame\n",
      "Columns: [ID, Player, Tm, Opp, PA, AB, R, H, 2B, 3B, HR, RBI, BB, SO, HBP, SH, SF, WPA, RE24, aLI, BOP, Result, Score, Season]\n",
      "Index: []\n",
      "\n",
      "-----------------------------------------\n",
      "All records with PA < 3B\n",
      "-----------------------------------------\n",
      "Empty DataFrame\n",
      "Columns: [ID, Player, Tm, Opp, PA, AB, R, H, 2B, 3B, HR, RBI, BB, SO, HBP, SH, SF, WPA, RE24, aLI, BOP, Result, Score, Season]\n",
      "Index: []\n",
      "\n",
      "-----------------------------------------\n",
      "All records with PA < HR\n",
      "-----------------------------------------\n",
      "Empty DataFrame\n",
      "Columns: [ID, Player, Tm, Opp, PA, AB, R, H, 2B, 3B, HR, RBI, BB, SO, HBP, SH, SF, WPA, RE24, aLI, BOP, Result, Score, Season]\n",
      "Index: []\n",
      "\n",
      "-----------------------------------------\n",
      "All records with AB < 2B\n",
      "-----------------------------------------\n",
      "Empty DataFrame\n",
      "Columns: [ID, Player, Tm, Opp, PA, AB, R, H, 2B, 3B, HR, RBI, BB, SO, HBP, SH, SF, WPA, RE24, aLI, BOP, Result, Score, Season]\n",
      "Index: []\n",
      "\n",
      "-----------------------------------------\n",
      "All records with AB < 3B\n",
      "-----------------------------------------\n",
      "Empty DataFrame\n",
      "Columns: [ID, Player, Tm, Opp, PA, AB, R, H, 2B, 3B, HR, RBI, BB, SO, HBP, SH, SF, WPA, RE24, aLI, BOP, Result, Score, Season]\n",
      "Index: []\n",
      "\n",
      "-----------------------------------------\n",
      "All records with AB < HR\n",
      "-----------------------------------------\n",
      "Empty DataFrame\n",
      "Columns: [ID, Player, Tm, Opp, PA, AB, R, H, 2B, 3B, HR, RBI, BB, SO, HBP, SH, SF, WPA, RE24, aLI, BOP, Result, Score, Season]\n",
      "Index: []\n",
      "\n",
      "-----------------------------------------\n",
      "All records with H < 2B\n",
      "-----------------------------------------\n",
      "Empty DataFrame\n",
      "Columns: [ID, Player, Tm, Opp, PA, AB, R, H, 2B, 3B, HR, RBI, BB, SO, HBP, SH, SF, WPA, RE24, aLI, BOP, Result, Score, Season]\n",
      "Index: []\n",
      "\n",
      "-----------------------------------------\n",
      "All records with H < 3B\n",
      "-----------------------------------------\n",
      "Empty DataFrame\n",
      "Columns: [ID, Player, Tm, Opp, PA, AB, R, H, 2B, 3B, HR, RBI, BB, SO, HBP, SH, SF, WPA, RE24, aLI, BOP, Result, Score, Season]\n",
      "Index: []\n",
      "\n",
      "-----------------------------------------\n",
      "All records with H < HR\n",
      "-----------------------------------------\n",
      "Empty DataFrame\n",
      "Columns: [ID, Player, Tm, Opp, PA, AB, R, H, 2B, 3B, HR, RBI, BB, SO, HBP, SH, SF, WPA, RE24, aLI, BOP, Result, Score, Season]\n",
      "Index: []\n"
     ]
    }
   ],
   "source": [
    "records_pa_lt_2b = df[df['PA'] < df['2B']]\n",
    "print(\"-----------------------------------------\")\n",
    "print(\"All records with PA < 2B\")\n",
    "print(\"-----------------------------------------\")\n",
    "print(records_pa_lt_2b)\n",
    "\n",
    "\n",
    "records_pa_lt_3b = df[df['PA'] < df['3B']]\n",
    "print(\"\\n-----------------------------------------\")\n",
    "print(\"All records with PA < 3B\")\n",
    "print(\"-----------------------------------------\")\n",
    "print(records_pa_lt_3b)\n",
    "\n",
    "\n",
    "records_pa_lt_hr = df[df['PA'] < df['HR']]\n",
    "print(\"\\n-----------------------------------------\")\n",
    "print(\"All records with PA < HR\")\n",
    "print(\"-----------------------------------------\")\n",
    "print(records_pa_lt_hr)\n",
    "\n",
    "\n",
    "records_ab_lt_2b = df[df['AB'] < df['2B']]\n",
    "print(\"\\n-----------------------------------------\")\n",
    "print(\"All records with AB < 2B\")\n",
    "print(\"-----------------------------------------\")\n",
    "print(records_ab_lt_2b)\n",
    "\n",
    "\n",
    "records_ab_lt_3b = df[df['AB'] < df['3B']]\n",
    "print(\"\\n-----------------------------------------\")\n",
    "print(\"All records with AB < 3B\")\n",
    "print(\"-----------------------------------------\")\n",
    "print(records_ab_lt_3b)\n",
    "\n",
    "\n",
    "records_ab_lt_hr = df[df['AB'] < df['HR']]\n",
    "print(\"\\n-----------------------------------------\")\n",
    "print(\"All records with AB < HR\")\n",
    "print(\"-----------------------------------------\")\n",
    "print(records_ab_lt_hr)\n",
    "\n",
    "\n",
    "records_h_lt_2b = df[df['H'] < df['2B']]\n",
    "print(\"\\n-----------------------------------------\")\n",
    "print(\"All records with H < 2B\")\n",
    "print(\"-----------------------------------------\")\n",
    "print(records_h_lt_2b)\n",
    "\n",
    "\n",
    "records_h_lt_3b = df[df['H'] < df['3B']]\n",
    "print(\"\\n-----------------------------------------\")\n",
    "print(\"All records with H < 3B\")\n",
    "print(\"-----------------------------------------\")\n",
    "print(records_h_lt_3b)\n",
    "\n",
    "\n",
    "records_h_lt_hr = df[df['H'] < df['HR']]\n",
    "print(\"\\n-----------------------------------------\")\n",
    "print(\"All records with H < HR\")\n",
    "print(\"-----------------------------------------\")\n",
    "print(records_h_lt_hr)"
   ]
  },
  {
   "cell_type": "markdown",
   "id": "d6db6fac",
   "metadata": {},
   "source": [
    "**SUCCESS!!** These data issues have been resolved. `'2B'`, `'3B'`, and `'HR'` are now validated."
   ]
  },
  {
   "cell_type": "markdown",
   "id": "c91536b6",
   "metadata": {},
   "source": [
    "**RBI - RBIs (Runs Batted In)**\n",
    "\n",
    "This is an important statistic, especially for calculated batting statistics which may prove useful later.\n",
    "\n",
    "RBIs should be an integer value, in the range of 0 and some upper value. The upper value is dependent on the number of runners on base at the time of the plate appearance, which we do not know directly from the data. We can estimate a maximum possible value of Plate Appearances * 4 (the maximum number of runs possible to bat in). This maximum value would be statistically possible but highly unlikely. But it means that if we see a value higher than 12 * 4 = 48 in a single game then it is definitely out of range.\n"
   ]
  },
  {
   "cell_type": "code",
   "execution_count": 35,
   "id": "0501ffe7",
   "metadata": {},
   "outputs": [
    {
     "name": "stdout",
     "output_type": "stream",
     "text": [
      "[ 1.  0.  3.  4.  2.  5.  6.  8.  7. nan  9. 12. 11. 10.]\n"
     ]
    }
   ],
   "source": [
    "print(pd.unique(df['RBI']))"
   ]
  },
  {
   "cell_type": "markdown",
   "id": "d7229dcc",
   "metadata": {},
   "source": [
    "**Note:** Of course, we don't see anything nearly as extreme as 48, but we have multiple problems here: (1) RBI is stored as a Float value, which makes no sense in this context, and (2) we have a NaN/undefined value to deal with.\n",
    "\n",
    "While it would be nice to convert to integer values, the presence of NaN values blocks our carrying out this operation. So, first, we have to make a decision about how to deal with the NaN values.\n",
    "\n",
    "Let's look at how many records include these NaN values and how many unique players are impacted by this data issue."
   ]
  },
  {
   "cell_type": "code",
   "execution_count": 36,
   "id": "77402474",
   "metadata": {},
   "outputs": [
    {
     "name": "stdout",
     "output_type": "stream",
     "text": [
      "               ID           Player   Tm  Opp  PA  AB  R  H  2B  3B  HR  RBI  \\\n",
      "41584   becklja01     Jake Beckley  CIN  PIT   4   4  2  2   0   0   0  NaN   \n",
      "41594   corcoto01   Tommy Corcoran  CIN  PIT   4   4  0  0   0   0   0  NaN   \n",
      "41598   donlimi01      Mike Donlin  CIN  PIT   4   4  1  1   0   0   0  NaN   \n",
      "41615   kellejo01       Joe Kelley  CIN  PIT   4   3  0  1   0   0   0  NaN   \n",
      "41621   magooge01    George Magoon  CIN  PIT   3   3  0  1   0   0   0  NaN   \n",
      "...           ...              ...  ...  ...  ..  .. .. ..  ..  ..  ..  ...   \n",
      "476024  wambsbi01  Bill Wambsganss  CLE  SLB   4   4  0  1   0   0   0  NaN   \n",
      "476025  weavebu01      Buck Weaver  CHW  DET   5   4  1  3   0   2   0  NaN   \n",
      "476027  wilkiro01    Roy Wilkinson  CHW  DET   3   3  1  1   1   0   0  NaN   \n",
      "476029   woodjo02   Smoky Joe Wood  CLE  SLB   4   4  0  1   0   0   0  NaN   \n",
      "476031  youngra01      Ralph Young  DET  CHW   5   4  0  2   0   0   0  NaN   \n",
      "\n",
      "        BB  SO  HBP  SH  SF  WPA  RE24  aLI  BOP Result Score Season  \n",
      "41584    0   0    0   0 NaN  NaN   NaN  NaN    4      L   4-5   1903  \n",
      "41594    0   0    0   0 NaN  NaN   NaN  NaN    6      L   4-5   1903  \n",
      "41598    0   0    0   0 NaN  NaN   NaN  NaN    3      L   4-5   1903  \n",
      "41615    1   0    0   0 NaN  NaN   NaN  NaN    1      L   4-5   1903  \n",
      "41621    0   0    0   0 NaN  NaN   NaN  NaN    7      L   4-5   1903  \n",
      "...     ..  ..  ...  ..  ..  ...   ...  ...  ...    ...   ...    ...  \n",
      "476024   0   0    0   0 NaN  NaN   NaN  NaN    6      L   5-8   1919  \n",
      "476025   0   0    0   1 NaN  NaN   NaN  NaN    3      L  9-10   1919  \n",
      "476027   0   1    0   0 NaN  NaN   NaN  NaN    9      L  9-10   1919  \n",
      "476029   0   0    0   0 NaN  NaN   NaN  NaN    7      L   5-8   1919  \n",
      "476031   0   0    0   1 NaN  NaN   NaN  NaN    2      W  10-9   1919  \n",
      "\n",
      "[33300 rows x 24 columns]\n",
      "\n",
      "\n",
      "Unique Players with this RBI-NaN problem:\n",
      "['becklja01' 'corcoto01' 'donlimi01' ... 'flagsir01' 'mccleha01'\n",
      " 'wilkiro01']\n",
      "Count:  1649\n",
      "\n",
      "\n",
      "Percentage of overall records ( 4285629 ) impacted:  0.7770154626077058\n",
      "There are 1649 players impacted by these 33300 records.\n",
      "\n"
     ]
    }
   ],
   "source": [
    "rbi_is_nan = df.loc[pd.isna(df['RBI'])]\n",
    "print(rbi_is_nan)\n",
    "print()\n",
    "\n",
    "print(\"\\nUnique Players with this RBI-NaN problem:\")\n",
    "rbi_nan_players = pd.unique(rbi_is_nan['ID'])\n",
    "print(rbi_nan_players)\n",
    "print(\"Count: \",len(rbi_nan_players))\n",
    "\n",
    "print()\n",
    "print(\"\\nPercentage of overall records (\",len(df),\") impacted: \", len(rbi_is_nan)/len(df)*100)\n",
    "print(\"There are\",len(rbi_nan_players),\"players impacted by these\",len(rbi_is_nan),\"records.\")\n",
    "print(\"\")"
   ]
  },
  {
   "cell_type": "markdown",
   "id": "673a0597",
   "metadata": {},
   "source": [
    "While the number of overall records impacted is less than 1%, we see that there are many more players than there are records with this problem, which means that it is safest to remove all records for these players -- not only the problematic ones. Since all of the impacted data records are from seasons early in the 20th century, this does not raise any great concerns for this project."
   ]
  },
  {
   "cell_type": "code",
   "execution_count": 37,
   "id": "beedf672",
   "metadata": {},
   "outputs": [
    {
     "name": "stdout",
     "output_type": "stream",
     "text": [
      "\n",
      "Test for an empty list of RBI==NaN values, after removing rows:\n",
      "\n",
      " Empty DataFrame\n",
      "Columns: [ID, Player, Tm, Opp, PA, AB, R, H, 2B, 3B, HR, RBI, BB, SO, HBP, SH, SF, WPA, RE24, aLI, BOP, Result, Score, Season]\n",
      "Index: []\n",
      "\n",
      "\n",
      "Reduced to 3715522 records in main data frame after removing those players records entirely.\n"
     ]
    }
   ],
   "source": [
    "# the removal\n",
    "df = df[df['ID'].isin(rbi_nan_players) == False]\n",
    "\n",
    "# test\n",
    "print(\"\\nTest for an empty list of RBI==NaN values, after removing rows:\\n\\n\", df.loc[pd.isna(df['RBI'])])\n",
    "print(\"\\n\\nReduced to\",len(df),\"records in main data frame after removing those players records entirely.\")"
   ]
  },
  {
   "cell_type": "markdown",
   "id": "1092e4ab",
   "metadata": {},
   "source": [
    "**Finally,** we can address our other issue: converting the type for RBI from float to integer."
   ]
  },
  {
   "cell_type": "code",
   "execution_count": 38,
   "id": "1b0ecbb0",
   "metadata": {},
   "outputs": [
    {
     "name": "stdout",
     "output_type": "stream",
     "text": [
      "[ 0.  1.  3.  2.  4.  5.  6.  7.  8. 12.  9. 11. 10.]\n"
     ]
    }
   ],
   "source": [
    "df['RBI'].astype(int)\n",
    "# test\n",
    "print(pd.unique(df['RBI']))"
   ]
  },
  {
   "cell_type": "markdown",
   "id": "ae2c4d28",
   "metadata": {},
   "source": [
    "**SUCCESS!!** No NaN values and all Integer values. And all of these are reasonable values at a glance.\n",
    "\n",
    "We should also confirm that RBI values are never greater than the number of Plate Appearances within individual records. (Note: There are many different scenarios for earning an RBI, but they all require a corresponding Plate Appearance.)"
   ]
  },
  {
   "cell_type": "code",
   "execution_count": 39,
   "id": "41759113",
   "metadata": {},
   "outputs": [
    {
     "name": "stdout",
     "output_type": "stream",
     "text": [
      "\n",
      "-----------------------------------------\n",
      "All records with PA*4 < RBI\n",
      "-----------------------------------------\n",
      "Empty DataFrame\n",
      "Columns: [ID, Player, Tm, Opp, PA, AB, R, H, 2B, 3B, HR, RBI, BB, SO, HBP, SH, SF, WPA, RE24, aLI, BOP, Result, Score, Season]\n",
      "Index: []\n"
     ]
    }
   ],
   "source": [
    "records_pa4_lt_rbi = df[df['PA']*4 < (df['RBI']) ]\n",
    "print(\"\\n-----------------------------------------\")\n",
    "print(\"All records with PA*4 < RBI\")\n",
    "print(\"-----------------------------------------\")\n",
    "print(records_pa4_lt_rbi)"
   ]
  },
  {
   "cell_type": "markdown",
   "id": "f5c350a1",
   "metadata": {},
   "source": [
    "**Note:** All RBI-related data issues have been resolved and our check within a record has passed. `'RBI'` is now validated."
   ]
  },
  {
   "cell_type": "markdown",
   "id": "96b4dfd5",
   "metadata": {},
   "source": [
    "**BB - Base On Balls (Walks)**\n",
    "\n",
    "Walks should be an integer value, within the range of 0 up to the number of Plate Appearances."
   ]
  },
  {
   "cell_type": "code",
   "execution_count": 40,
   "id": "e964ca76",
   "metadata": {},
   "outputs": [
    {
     "data": {
      "text/plain": [
       "array([1, 0, 2, 3, 4, 5, 6])"
      ]
     },
     "execution_count": 40,
     "metadata": {},
     "output_type": "execute_result"
    }
   ],
   "source": [
    "pd.unique(df['BB'])"
   ]
  },
  {
   "cell_type": "markdown",
   "id": "dc2bea0b",
   "metadata": {},
   "source": [
    "**Note:** These are all reasonable values at a glance.\n",
    "\n",
    "We should also confirm that Walk values are never greater than the number of Plate Appearances within individual records."
   ]
  },
  {
   "cell_type": "code",
   "execution_count": 41,
   "id": "25def045",
   "metadata": {},
   "outputs": [
    {
     "name": "stdout",
     "output_type": "stream",
     "text": [
      "\n",
      "-----------------------------------------\n",
      "All records with PA < BB\n",
      "-----------------------------------------\n",
      "Empty DataFrame\n",
      "Columns: [ID, Player, Tm, Opp, PA, AB, R, H, 2B, 3B, HR, RBI, BB, SO, HBP, SH, SF, WPA, RE24, aLI, BOP, Result, Score, Season]\n",
      "Index: []\n"
     ]
    }
   ],
   "source": [
    "records_pa_lt_bb = df[df['PA'] < (df['BB']) ]\n",
    "print(\"\\n-----------------------------------------\")\n",
    "print(\"All records with PA < BB\")\n",
    "print(\"-----------------------------------------\")\n",
    "print(records_pa_lt_bb)"
   ]
  },
  {
   "cell_type": "markdown",
   "id": "d4121a86",
   "metadata": {},
   "source": [
    "**HBP - Hit By Pitch**\n",
    "\n",
    "Hit By Pitch should be an integer value, within the range of 0 up to the number of Plate Appearances.\n",
    "\n",
    "Reference: https://en.wikipedia.org/wiki/Base_on_balls\n",
    "HBP is **not** recorded as a walk/BB. (\"A hit by pitch is not counted statistically as a walk, though the effect is mostly the same, with the batter receiving a free pass to first base.\")"
   ]
  },
  {
   "cell_type": "code",
   "execution_count": 51,
   "id": "01b2a572",
   "metadata": {},
   "outputs": [
    {
     "data": {
      "text/plain": [
       "array([0, 1, 2, 3])"
      ]
     },
     "execution_count": 51,
     "metadata": {},
     "output_type": "execute_result"
    }
   ],
   "source": [
    "pd.unique(df['HBP'])"
   ]
  },
  {
   "cell_type": "markdown",
   "id": "76d87fe0",
   "metadata": {},
   "source": [
    "**Note:** These are all reasonable values at a glance.\n",
    "\n",
    "We should also confirm that HBP values are never greater than the number of Plate Appearances within individual records."
   ]
  },
  {
   "cell_type": "code",
   "execution_count": 52,
   "id": "4a1fef75",
   "metadata": {},
   "outputs": [
    {
     "name": "stdout",
     "output_type": "stream",
     "text": [
      "\n",
      "-----------------------------------------\n",
      "All records with PA < HBP\n",
      "-----------------------------------------\n",
      "Empty DataFrame\n",
      "Columns: [ID, Player, Tm, Opp, PA, AB, R, H, 2B, 3B, HR, RBI, BB, SO, HBP, SH, SF, WPA, RE24, aLI, BOP, Result, Score, Season]\n",
      "Index: []\n"
     ]
    }
   ],
   "source": [
    "records_pa_lt_hbp = df[df['PA'] < (df['HBP']) ]\n",
    "print(\"\\n-----------------------------------------\")\n",
    "print(\"All records with PA < HBP\")\n",
    "print(\"-----------------------------------------\")\n",
    "print(records_pa_lt_hbp)"
   ]
  },
  {
   "cell_type": "markdown",
   "id": "fc8ec156",
   "metadata": {},
   "source": [
    "**SO - Strikeouts**\n",
    "\n",
    "Strikeouts should be an integer value, within the range of 0 up to the number of Plate Appearances."
   ]
  },
  {
   "cell_type": "code",
   "execution_count": 42,
   "id": "72df4e23",
   "metadata": {},
   "outputs": [
    {
     "name": "stdout",
     "output_type": "stream",
     "text": [
      "[0 2 1 3 4 5 6]\n"
     ]
    }
   ],
   "source": [
    "print(pd.unique(df['SO']))"
   ]
  },
  {
   "cell_type": "markdown",
   "id": "a1bc9439",
   "metadata": {},
   "source": [
    "**Note:** These are all reasonable values at a glance.\n",
    "\n",
    "We should also confirm that Strikeout values are never greater than the number of Plate Appearances or At Bats within individual records."
   ]
  },
  {
   "cell_type": "code",
   "execution_count": 43,
   "id": "5f36f15f",
   "metadata": {},
   "outputs": [
    {
     "name": "stdout",
     "output_type": "stream",
     "text": [
      "\n",
      "-----------------------------------------\n",
      "All records with PA < SO\n",
      "-----------------------------------------\n",
      "Empty DataFrame\n",
      "Columns: [ID, Player, Tm, Opp, PA, AB, R, H, 2B, 3B, HR, RBI, BB, SO, HBP, SH, SF, WPA, RE24, aLI, BOP, Result, Score, Season]\n",
      "Index: []\n",
      "\n",
      "-----------------------------------------\n",
      "All records with AB < SO\n",
      "-----------------------------------------\n",
      "                ID       Player   Tm  Opp  PA  AB  R  H  2B  3B  HR  RBI  BB  \\\n",
      "1252967  frienow01  Owen Friend  SLB  NYY   2   0  1  0   0   0   0  0.0   1   \n",
      "\n",
      "         SO  HBP  SH  SF  WPA  RE24  aLI  BOP Result Score Season  \n",
      "1252967   1    0   1 NaN  NaN   NaN  NaN    8      L  9-11   1950  \n"
     ]
    }
   ],
   "source": [
    "records_pa_lt_so = df[df['PA'] < (df['SO']) ]\n",
    "print(\"\\n-----------------------------------------\")\n",
    "print(\"All records with PA < SO\")\n",
    "print(\"-----------------------------------------\")\n",
    "print(records_pa_lt_so)\n",
    "\n",
    "records_ab_lt_so = df[df['AB'] < (df['SO']) ]\n",
    "print(\"\\n-----------------------------------------\")\n",
    "print(\"All records with AB < SO\")\n",
    "print(\"-----------------------------------------\")\n",
    "print(records_ab_lt_so)"
   ]
  },
  {
   "cell_type": "markdown",
   "id": "2d744358",
   "metadata": {},
   "source": [
    "**Note:** We found one record with a strikeout but no at bats -- which doesn't make sense."
   ]
  },
  {
   "cell_type": "code",
   "execution_count": 81,
   "id": "8aa14f9e",
   "metadata": {},
   "outputs": [
    {
     "data": {
      "text/html": [
       "<div>\n",
       "<style scoped>\n",
       "    .dataframe tbody tr th:only-of-type {\n",
       "        vertical-align: middle;\n",
       "    }\n",
       "\n",
       "    .dataframe tbody tr th {\n",
       "        vertical-align: top;\n",
       "    }\n",
       "\n",
       "    .dataframe thead th {\n",
       "        text-align: right;\n",
       "    }\n",
       "</style>\n",
       "<table border=\"1\" class=\"dataframe\">\n",
       "  <thead>\n",
       "    <tr style=\"text-align: right;\">\n",
       "      <th></th>\n",
       "      <th>ID</th>\n",
       "      <th>Player</th>\n",
       "      <th>Tm</th>\n",
       "      <th>Opp</th>\n",
       "      <th>PA</th>\n",
       "      <th>AB</th>\n",
       "      <th>R</th>\n",
       "      <th>H</th>\n",
       "      <th>2B</th>\n",
       "      <th>3B</th>\n",
       "      <th>HR</th>\n",
       "      <th>RBI</th>\n",
       "      <th>BB</th>\n",
       "      <th>SO</th>\n",
       "      <th>HBP</th>\n",
       "      <th>SH</th>\n",
       "      <th>Result</th>\n",
       "      <th>Season</th>\n",
       "    </tr>\n",
       "  </thead>\n",
       "  <tbody>\n",
       "    <tr>\n",
       "      <th>1252967</th>\n",
       "      <td>frienow01</td>\n",
       "      <td>Owen Friend</td>\n",
       "      <td>SLB</td>\n",
       "      <td>NYY</td>\n",
       "      <td>3</td>\n",
       "      <td>1</td>\n",
       "      <td>1</td>\n",
       "      <td>0</td>\n",
       "      <td>0</td>\n",
       "      <td>0</td>\n",
       "      <td>0</td>\n",
       "      <td>0.0</td>\n",
       "      <td>1</td>\n",
       "      <td>1</td>\n",
       "      <td>0</td>\n",
       "      <td>1</td>\n",
       "      <td>L</td>\n",
       "      <td>1950</td>\n",
       "    </tr>\n",
       "  </tbody>\n",
       "</table>\n",
       "</div>"
      ],
      "text/plain": [
       "                ID       Player   Tm  Opp  PA  AB  R  H  2B  3B  HR  RBI  BB  \\\n",
       "1252967  frienow01  Owen Friend  SLB  NYY   3   1  1  0   0   0   0  0.0   1   \n",
       "\n",
       "         SO  HBP  SH Result  Season  \n",
       "1252967   1    0   1      L    1950  "
      ]
     },
     "execution_count": 81,
     "metadata": {},
     "output_type": "execute_result"
    }
   ],
   "source": [
    "owen_friend = 1252967\n",
    "df.loc[[owen_friend]]"
   ]
  },
  {
   "cell_type": "markdown",
   "id": "40f79942",
   "metadata": {},
   "source": [
    "Looking closer we can make a minor data adjustment for this record, and assume that there should be two At Bats instead of 0. In this game, the player stuck out once -- which means there was at least one At Bat.\n",
    "\n",
    "Note: we also see a sacrifice hit (`'SH'`) listed. But, Sacrifice Hits and Flies (`'SF'`) do not count as times At Bat. They do, however, count as Plate Appearances.\n",
    "\n",
    "These statistics demonstrate there must have been at least one At Bat. There was also one Walk (`'BB'`), which should mean there was at least three Plate Appearances, between the Sacrifice Hit, the Walk, and the Strikeout.\n",
    "\n",
    "The most reasonable guess here is to set PA = 3 and AB = 1."
   ]
  },
  {
   "cell_type": "code",
   "execution_count": 56,
   "id": "fbab1f66",
   "metadata": {},
   "outputs": [
    {
     "data": {
      "text/html": [
       "<div>\n",
       "<style scoped>\n",
       "    .dataframe tbody tr th:only-of-type {\n",
       "        vertical-align: middle;\n",
       "    }\n",
       "\n",
       "    .dataframe tbody tr th {\n",
       "        vertical-align: top;\n",
       "    }\n",
       "\n",
       "    .dataframe thead th {\n",
       "        text-align: right;\n",
       "    }\n",
       "</style>\n",
       "<table border=\"1\" class=\"dataframe\">\n",
       "  <thead>\n",
       "    <tr style=\"text-align: right;\">\n",
       "      <th></th>\n",
       "      <th>ID</th>\n",
       "      <th>Player</th>\n",
       "      <th>Tm</th>\n",
       "      <th>Opp</th>\n",
       "      <th>PA</th>\n",
       "      <th>AB</th>\n",
       "      <th>R</th>\n",
       "      <th>H</th>\n",
       "      <th>2B</th>\n",
       "      <th>3B</th>\n",
       "      <th>HR</th>\n",
       "      <th>RBI</th>\n",
       "      <th>BB</th>\n",
       "      <th>SO</th>\n",
       "      <th>HBP</th>\n",
       "      <th>SH</th>\n",
       "      <th>SF</th>\n",
       "      <th>WPA</th>\n",
       "      <th>RE24</th>\n",
       "      <th>aLI</th>\n",
       "      <th>BOP</th>\n",
       "      <th>Result</th>\n",
       "      <th>Score</th>\n",
       "      <th>Season</th>\n",
       "    </tr>\n",
       "  </thead>\n",
       "  <tbody>\n",
       "    <tr>\n",
       "      <th>1252967</th>\n",
       "      <td>frienow01</td>\n",
       "      <td>Owen Friend</td>\n",
       "      <td>SLB</td>\n",
       "      <td>NYY</td>\n",
       "      <td>3</td>\n",
       "      <td>1</td>\n",
       "      <td>1</td>\n",
       "      <td>0</td>\n",
       "      <td>0</td>\n",
       "      <td>0</td>\n",
       "      <td>0</td>\n",
       "      <td>0.0</td>\n",
       "      <td>1</td>\n",
       "      <td>1</td>\n",
       "      <td>0</td>\n",
       "      <td>1</td>\n",
       "      <td>NaN</td>\n",
       "      <td>NaN</td>\n",
       "      <td>NaN</td>\n",
       "      <td>NaN</td>\n",
       "      <td>8</td>\n",
       "      <td>L</td>\n",
       "      <td>9-11</td>\n",
       "      <td>1950</td>\n",
       "    </tr>\n",
       "  </tbody>\n",
       "</table>\n",
       "</div>"
      ],
      "text/plain": [
       "                ID       Player   Tm  Opp  PA  AB  R  H  2B  3B  HR  RBI  BB  \\\n",
       "1252967  frienow01  Owen Friend  SLB  NYY   3   1  1  0   0   0   0  0.0   1   \n",
       "\n",
       "         SO  HBP  SH  SF  WPA  RE24  aLI  BOP Result Score Season  \n",
       "1252967   1    0   1 NaN  NaN   NaN  NaN    8      L  9-11   1950  "
      ]
     },
     "execution_count": 56,
     "metadata": {},
     "output_type": "execute_result"
    }
   ],
   "source": [
    "df.at[owen_friend, 'PA'] = 3\n",
    "df.at[owen_friend, 'AB'] = 1\n",
    "\n",
    "df.loc[[owen_friend]]"
   ]
  },
  {
   "cell_type": "markdown",
   "id": "ce5390e8",
   "metadata": {},
   "source": [
    "Re-Testing:"
   ]
  },
  {
   "cell_type": "code",
   "execution_count": 57,
   "id": "61bbc33b",
   "metadata": {},
   "outputs": [
    {
     "name": "stdout",
     "output_type": "stream",
     "text": [
      "\n",
      "-----------------------------------------\n",
      "All records with PA < SO\n",
      "-----------------------------------------\n",
      "Empty DataFrame\n",
      "Columns: [ID, Player, Tm, Opp, PA, AB, R, H, 2B, 3B, HR, RBI, BB, SO, HBP, SH, SF, WPA, RE24, aLI, BOP, Result, Score, Season]\n",
      "Index: []\n",
      "\n",
      "-----------------------------------------\n",
      "All records with AB < SO\n",
      "-----------------------------------------\n",
      "Empty DataFrame\n",
      "Columns: [ID, Player, Tm, Opp, PA, AB, R, H, 2B, 3B, HR, RBI, BB, SO, HBP, SH, SF, WPA, RE24, aLI, BOP, Result, Score, Season]\n",
      "Index: []\n"
     ]
    }
   ],
   "source": [
    "records_pa_lt_so = df[df['PA'] < (df['SO']) ]\n",
    "print(\"\\n-----------------------------------------\")\n",
    "print(\"All records with PA < SO\")\n",
    "print(\"-----------------------------------------\")\n",
    "print(records_pa_lt_so)\n",
    "\n",
    "records_ab_lt_so = df[df['AB'] < (df['SO']) ]\n",
    "print(\"\\n-----------------------------------------\")\n",
    "print(\"All records with AB < SO\")\n",
    "print(\"-----------------------------------------\")\n",
    "print(records_ab_lt_so)"
   ]
  },
  {
   "cell_type": "markdown",
   "id": "15b3f8d3",
   "metadata": {},
   "source": [
    "**SH - Sacrifice Hits**\n",
    "\n",
    "Sacrifice Hits should be an integer value, within the range of 0 up to the number of Plate Appearances.\n",
    "\n",
    "Note: Sacrifice plays do not count against the batter and, as such, don't count as At Bats.\n",
    "\n",
    "References:\n",
    "https://www.mlb.com/glossary/standard-stats/sacrifice-bunt\n",
    "https://www.baseball-reference.com/bullpen/Sacrifice_hit"
   ]
  },
  {
   "cell_type": "code",
   "execution_count": 53,
   "id": "b3e5115d",
   "metadata": {},
   "outputs": [
    {
     "data": {
      "text/plain": [
       "array([0, 1, 2, 3, 4])"
      ]
     },
     "execution_count": 53,
     "metadata": {},
     "output_type": "execute_result"
    }
   ],
   "source": [
    "pd.unique(df['SH'])"
   ]
  },
  {
   "cell_type": "markdown",
   "id": "82ee8d94",
   "metadata": {},
   "source": [
    "**Note:** These are all reasonable values at a glance.\n",
    "\n",
    "We should also confirm that Sacrifce Hits values are never greater than the number of Plate Appearances within individual records."
   ]
  },
  {
   "cell_type": "code",
   "execution_count": 58,
   "id": "dd9e6292",
   "metadata": {},
   "outputs": [
    {
     "name": "stdout",
     "output_type": "stream",
     "text": [
      "\n",
      "-----------------------------------------\n",
      "All records with PA < SH\n",
      "-----------------------------------------\n",
      "Empty DataFrame\n",
      "Columns: [ID, Player, Tm, Opp, PA, AB, R, H, 2B, 3B, HR, RBI, BB, SO, HBP, SH, SF, WPA, RE24, aLI, BOP, Result, Score, Season]\n",
      "Index: []\n"
     ]
    }
   ],
   "source": [
    "records_pa_lt_sh = df[df['PA'] < (df['SH']) ]\n",
    "print(\"\\n-----------------------------------------\")\n",
    "print(\"All records with PA < SH\")\n",
    "print(\"-----------------------------------------\")\n",
    "print(records_pa_lt_sh)"
   ]
  },
  {
   "cell_type": "markdown",
   "id": "55cdedaa",
   "metadata": {},
   "source": [
    "**SF - Sacrifice Flies**\n",
    "\n",
    "Sacrifice Flies should be an integer value, within the range of 0 up to the number of Plate Appearances.\n",
    "\n",
    "Note: Sacrifice plays do not count against the batter and, as such, don't count as At Bats.\n",
    "\n",
    "Reference:\n",
    "https://www.mlb.com/glossary/standard-stats/sacrifice-fly"
   ]
  },
  {
   "cell_type": "code",
   "execution_count": 59,
   "id": "0a2dd6a6",
   "metadata": {},
   "outputs": [
    {
     "data": {
      "text/plain": [
       "array([nan,  0.,  1.,  2.,  3.])"
      ]
     },
     "execution_count": 59,
     "metadata": {},
     "output_type": "execute_result"
    }
   ],
   "source": [
    "pd.unique(df['SF'])"
   ]
  },
  {
   "cell_type": "markdown",
   "id": "e0b8edb4",
   "metadata": {},
   "source": [
    "**Note:** We find that our Sacrifice Flies data is non-integer -- as with the RBI data processing, this is because there are NaN values present.\n",
    "\n",
    "We will take the same approach for investigation, record removal, and conversion as with RBI."
   ]
  },
  {
   "cell_type": "code",
   "execution_count": 60,
   "id": "487eb016",
   "metadata": {},
   "outputs": [
    {
     "name": "stdout",
     "output_type": "stream",
     "text": [
      "                ID           Player   Tm  Opp  PA  AB  R  H  2B  3B  HR  RBI  \\\n",
      "4        delahed01     Ed Delahanty  PHI  BRO   5   4  1  2   0   0   0  0.0   \n",
      "5        dolanjo02        Joe Dolan  PHI  BRO   5   5  0  1   0   0   0  1.0   \n",
      "21       childcu01     Cupid Childs  CHC  STL   5   5  1  1   0   0   0  0.0   \n",
      "22       crolifr01     Fred Crolius  BSN  NYG   4   4  0  0   0   0   0  1.0   \n",
      "28       delahed01     Ed Delahanty  PHI  BRO   4   4  0  0   0   0   0  0.0   \n",
      "...            ...              ...  ...  ...  ..  .. .. ..  ..  ..  ..  ...   \n",
      "1355415  wyrosjo01  Johnny Wyrostek  PHI  BRO   4   4  0  1   0   0   0  0.0   \n",
      "1355416   yosted01       Eddie Yost  WSH  PHA   5   3  1  2   1   0   0  1.0   \n",
      "1355417  youngbo01      Bobby Young  SLB  CHW   4   4  0  0   0   0   0  0.0   \n",
      "1355418  zernigu01      Gus Zernial  PHA  WSH   5   4  2  3   0   0   0  3.0   \n",
      "1670929  bankser01      Ernie Banks  CHC  LAD   1   1  0  0   0   0   0  0.0   \n",
      "\n",
      "         BB  SO  HBP  SH  SF    WPA   RE24    aLI  BOP Result Score Season  \n",
      "4         1   0    0   0 NaN    NaN    NaN    NaN    3      L  7-12   1901  \n",
      "5         0   0    0   0 NaN    NaN    NaN    NaN    7      L  7-12   1901  \n",
      "21        0   0    0   0 NaN    NaN    NaN    NaN    1      W   8-7   1901  \n",
      "22        0   0    0   0 NaN    NaN    NaN    NaN    6      W   7-0   1901  \n",
      "28        0   2    0   0 NaN    NaN    NaN    NaN    3      L  2-10   1901  \n",
      "...      ..  ..  ...  ..  ..    ...    ...    ...  ...    ...   ...    ...  \n",
      "1355415   0   0    0   0 NaN -0.082 -0.625  0.810    7      L   2-8   1953  \n",
      "1355416   2   0    0   0 NaN  0.148  1.831  0.662    1      L   2-9   1953  \n",
      "1355417   0   2    0   0 NaN -0.097 -0.672  0.958    8      L   1-2   1953  \n",
      "1355418   1   0    0   0 NaN  0.217  2.700  1.046    4      W   9-2   1953  \n",
      "1670929   0   0    0   0 NaN    NaN    NaN    NaN    5      W   4-3   1964  \n",
      "\n",
      "[785313 rows x 24 columns]\n",
      "\n",
      "\n",
      "Unique Players with this SF-NaN problem:\n",
      "['delahed01' 'dolanjo02' 'childcu01' ... 'pisonji01' 'tomandi01'\n",
      " 'baileed01']\n",
      "Count:  4751\n",
      "\n",
      "\n",
      "Percentage of overall records ( 3715522 ) impacted:  21.13600726896517\n",
      "There are 4751 players impacted by these 785313 records.\n",
      "\n"
     ]
    }
   ],
   "source": [
    "sf_is_nan = df.loc[pd.isna(df['SF'])]\n",
    "print(sf_is_nan)\n",
    "print()\n",
    "\n",
    "print(\"\\nUnique Players with this SF-NaN problem:\")\n",
    "sf_nan_players = pd.unique(sf_is_nan['ID'])\n",
    "print(sf_nan_players)\n",
    "print(\"Count: \",len(sf_nan_players))\n",
    "\n",
    "print()\n",
    "print(\"\\nPercentage of overall records (\",len(df),\") impacted: \", len(sf_is_nan)/len(df)*100)\n",
    "print(\"There are\",len(sf_nan_players),\"players impacted by these\",len(sf_is_nan),\"records.\")\n",
    "print(\"\")"
   ]
  },
  {
   "cell_type": "markdown",
   "id": "54e5bebf",
   "metadata": {},
   "source": [
    "We see here that a much larger percentage of our dataset is impacted (21%), so before removing all of these records and all of the player data associated, we need to consider the potential importance of the Sacrifice Flies feature for the project.\n",
    "\n",
    "Removing the SF column itself might be the better approach... but first lets look at the other data with NaN values (WPA, RE24, aLI) and see how much data is impacted there. There are a few different directions we can take with this data... ***So, we will return to this...***"
   ]
  },
  {
   "cell_type": "markdown",
   "id": "1200577a",
   "metadata": {},
   "source": [
    "**WPA - Win Probability Added**\n",
    "\n",
    "\n",
    "Reference:\n",
    "https://en.wikipedia.org/wiki/Win_probability_added"
   ]
  },
  {
   "cell_type": "code",
   "execution_count": 61,
   "id": "133f1c0e",
   "metadata": {},
   "outputs": [
    {
     "data": {
      "text/plain": [
       "array([   nan,  0.03 , -0.042, ...,  0.974,  0.947, -0.655])"
      ]
     },
     "execution_count": 61,
     "metadata": {},
     "output_type": "execute_result"
    }
   ],
   "source": [
    "pd.unique(df['WPA'])"
   ]
  },
  {
   "cell_type": "code",
   "execution_count": 62,
   "id": "9577a505",
   "metadata": {},
   "outputs": [
    {
     "name": "stdout",
     "output_type": "stream",
     "text": [
      "                ID         Player   Tm  Opp  PA  AB  R  H  2B  3B  HR  RBI  \\\n",
      "4        delahed01   Ed Delahanty  PHI  BRO   5   4  1  2   0   0   0  0.0   \n",
      "5        dolanjo02      Joe Dolan  PHI  BRO   5   5  0  1   0   0   0  1.0   \n",
      "21       childcu01   Cupid Childs  CHC  STL   5   5  1  1   0   0   0  0.0   \n",
      "22       crolifr01   Fred Crolius  BSN  NYG   4   4  0  0   0   0   0  1.0   \n",
      "28       delahed01   Ed Delahanty  PHI  BRO   4   4  0  0   0   0   0  0.0   \n",
      "...            ...            ...  ...  ...  ..  .. .. ..  ..  ..  ..  ...   \n",
      "1981210  raderdo02     Doug Rader  HOU  ATL   4   4  1  2   0   0   1  1.0   \n",
      "1981254  watsobo01     Bob Watson  HOU  ATL   4   4  0  1   0   0   0  1.0   \n",
      "1981257  williea02  Earl Williams  ATL  HOU   4   4  0  2   0   0   0  1.0   \n",
      "1981259  wilsodo01     Don Wilson  HOU  ATL   3   2  0  0   0   0   0  0.0   \n",
      "1981262   wynnji01       Jim Wynn  HOU  ATL   5   4  1  1   0   0   0  1.0   \n",
      "\n",
      "         BB  SO  HBP  SH   SF  WPA  RE24  aLI  BOP Result Score Season  \n",
      "4         1   0    0   0  NaN  NaN   NaN  NaN    3      L  7-12   1901  \n",
      "5         0   0    0   0  NaN  NaN   NaN  NaN    7      L  7-12   1901  \n",
      "21        0   0    0   0  NaN  NaN   NaN  NaN    1      W   8-7   1901  \n",
      "22        0   0    0   0  NaN  NaN   NaN  NaN    6      W   7-0   1901  \n",
      "28        0   2    0   0  NaN  NaN   NaN  NaN    3      L  2-10   1901  \n",
      "...      ..  ..  ...  ..  ...  ...   ...  ...  ...    ...   ...    ...  \n",
      "1981210   0   0    0   0  0.0  NaN   NaN  NaN    6      W   5-3   1972  \n",
      "1981254   0   1    0   0  0.0  NaN   NaN  NaN    5      W   5-3   1972  \n",
      "1981257   0   0    0   0  0.0  NaN   NaN  NaN    4      L   3-5   1972  \n",
      "1981259   0   2    0   1  0.0  NaN   NaN  NaN    9      W   5-3   1972  \n",
      "1981262   1   0    0   0  0.0  NaN   NaN  NaN    2      W   5-3   1972  \n",
      "\n",
      "[118667 rows x 24 columns]\n",
      "\n",
      "\n",
      "Unique Players with this SF-NaN problem:\n",
      "['delahed01' 'dolanjo02' 'childcu01' ... 'didiebo01' 'gilbrro01'\n",
      " 'mcquemi01']\n",
      "Count:  4234\n",
      "\n",
      "\n",
      "Percentage of overall records ( 3715522 ) impacted:  3.193817719286819\n",
      "There are 4234 players impacted by these 118667 records.\n",
      "\n"
     ]
    }
   ],
   "source": [
    "wpa_is_nan = df.loc[pd.isna(df['WPA'])]\n",
    "print(wpa_is_nan)\n",
    "print()\n",
    "\n",
    "print(\"\\nUnique Players with this SF-NaN problem:\")\n",
    "wpa_nan_players = pd.unique(wpa_is_nan['ID'])\n",
    "print(wpa_nan_players)\n",
    "print(\"Count: \",len(wpa_nan_players))\n",
    "\n",
    "print()\n",
    "print(\"\\nPercentage of overall records (\",len(df),\") impacted: \", len(wpa_is_nan)/len(df)*100)\n",
    "print(\"There are\",len(wpa_nan_players),\"players impacted by these\",len(wpa_is_nan),\"records.\")\n",
    "print(\"\")"
   ]
  },
  {
   "cell_type": "markdown",
   "id": "bf62002e",
   "metadata": {},
   "source": [
    "**RE24 - Base-Out Runs Added**\n",
    "This statistic represents the run expectancy based on 24 base outs.\n",
    "\n",
    "Reference:\n",
    "https://thebaseballscholar.com/2017/08/14/sabermetrics-101-re24/"
   ]
  },
  {
   "cell_type": "code",
   "execution_count": 64,
   "id": "e723ee90",
   "metadata": {},
   "outputs": [
    {
     "data": {
      "text/plain": [
       "array([   nan,  1.036, -0.138, ...,  5.928, -3.176,  5.142])"
      ]
     },
     "execution_count": 64,
     "metadata": {},
     "output_type": "execute_result"
    }
   ],
   "source": [
    "pd.unique(df['RE24'])"
   ]
  },
  {
   "cell_type": "code",
   "execution_count": 63,
   "id": "968ab9dc",
   "metadata": {},
   "outputs": [
    {
     "name": "stdout",
     "output_type": "stream",
     "text": [
      "                ID         Player   Tm  Opp  PA  AB  R  H  2B  3B  HR  RBI  \\\n",
      "4        delahed01   Ed Delahanty  PHI  BRO   5   4  1  2   0   0   0  0.0   \n",
      "5        dolanjo02      Joe Dolan  PHI  BRO   5   5  0  1   0   0   0  1.0   \n",
      "21       childcu01   Cupid Childs  CHC  STL   5   5  1  1   0   0   0  0.0   \n",
      "22       crolifr01   Fred Crolius  BSN  NYG   4   4  0  0   0   0   0  1.0   \n",
      "28       delahed01   Ed Delahanty  PHI  BRO   4   4  0  0   0   0   0  0.0   \n",
      "...            ...            ...  ...  ...  ..  .. .. ..  ..  ..  ..  ...   \n",
      "1981210  raderdo02     Doug Rader  HOU  ATL   4   4  1  2   0   0   1  1.0   \n",
      "1981254  watsobo01     Bob Watson  HOU  ATL   4   4  0  1   0   0   0  1.0   \n",
      "1981257  williea02  Earl Williams  ATL  HOU   4   4  0  2   0   0   0  1.0   \n",
      "1981259  wilsodo01     Don Wilson  HOU  ATL   3   2  0  0   0   0   0  0.0   \n",
      "1981262   wynnji01       Jim Wynn  HOU  ATL   5   4  1  1   0   0   0  1.0   \n",
      "\n",
      "         BB  SO  HBP  SH   SF  WPA  RE24  aLI  BOP Result Score Season  \n",
      "4         1   0    0   0  NaN  NaN   NaN  NaN    3      L  7-12   1901  \n",
      "5         0   0    0   0  NaN  NaN   NaN  NaN    7      L  7-12   1901  \n",
      "21        0   0    0   0  NaN  NaN   NaN  NaN    1      W   8-7   1901  \n",
      "22        0   0    0   0  NaN  NaN   NaN  NaN    6      W   7-0   1901  \n",
      "28        0   2    0   0  NaN  NaN   NaN  NaN    3      L  2-10   1901  \n",
      "...      ..  ..  ...  ..  ...  ...   ...  ...  ...    ...   ...    ...  \n",
      "1981210   0   0    0   0  0.0  NaN   NaN  NaN    6      W   5-3   1972  \n",
      "1981254   0   1    0   0  0.0  NaN   NaN  NaN    5      W   5-3   1972  \n",
      "1981257   0   0    0   0  0.0  NaN   NaN  NaN    4      L   3-5   1972  \n",
      "1981259   0   2    0   1  0.0  NaN   NaN  NaN    9      W   5-3   1972  \n",
      "1981262   1   0    0   0  0.0  NaN   NaN  NaN    2      W   5-3   1972  \n",
      "\n",
      "[118667 rows x 24 columns]\n",
      "\n",
      "\n",
      "Unique Players with this SF-NaN problem:\n",
      "['delahed01' 'dolanjo02' 'childcu01' ... 'didiebo01' 'gilbrro01'\n",
      " 'mcquemi01']\n",
      "Count:  4234\n",
      "\n",
      "\n",
      "Percentage of overall records ( 3715522 ) impacted:  3.193817719286819\n",
      "There are 4234 players impacted by these 118667 records.\n",
      "\n"
     ]
    }
   ],
   "source": [
    "re24_is_nan = df.loc[pd.isna(df['RE24'])]\n",
    "print(re24_is_nan)\n",
    "print()\n",
    "\n",
    "print(\"\\nUnique Players with this SF-NaN problem:\")\n",
    "re24_nan_players = pd.unique(re24_is_nan['ID'])\n",
    "print(re24_nan_players)\n",
    "print(\"Count: \",len(re24_nan_players))\n",
    "\n",
    "print()\n",
    "print(\"\\nPercentage of overall records (\",len(df),\") impacted: \", len(re24_is_nan)/len(df)*100)\n",
    "print(\"There are\",len(re24_nan_players),\"players impacted by these\",len(re24_is_nan),\"records.\")\n",
    "print(\"\")"
   ]
  },
  {
   "cell_type": "markdown",
   "id": "49079ac9",
   "metadata": {},
   "source": [
    "**aLI - Average Leverage Index**\n",
    "\n",
    "Reference:\n",
    "https://www.azsnakepit.com/2021/11/9/22742763/what-average-leverage-index-revealed-about-the-2021-diamondbacks"
   ]
  },
  {
   "cell_type": "code",
   "execution_count": 65,
   "id": "f1ee7ea0",
   "metadata": {},
   "outputs": [
    {
     "data": {
      "text/plain": [
       "array([  nan, 0.14 , 1.187, ..., 4.373, 3.954, 7.45 ])"
      ]
     },
     "execution_count": 65,
     "metadata": {},
     "output_type": "execute_result"
    }
   ],
   "source": [
    "pd.unique(df['aLI'])"
   ]
  },
  {
   "cell_type": "code",
   "execution_count": 66,
   "id": "27fd85ac",
   "metadata": {
    "scrolled": true
   },
   "outputs": [
    {
     "name": "stdout",
     "output_type": "stream",
     "text": [
      "                ID         Player   Tm  Opp  PA  AB  R  H  2B  3B  HR  RBI  \\\n",
      "4        delahed01   Ed Delahanty  PHI  BRO   5   4  1  2   0   0   0  0.0   \n",
      "5        dolanjo02      Joe Dolan  PHI  BRO   5   5  0  1   0   0   0  1.0   \n",
      "21       childcu01   Cupid Childs  CHC  STL   5   5  1  1   0   0   0  0.0   \n",
      "22       crolifr01   Fred Crolius  BSN  NYG   4   4  0  0   0   0   0  1.0   \n",
      "28       delahed01   Ed Delahanty  PHI  BRO   4   4  0  0   0   0   0  0.0   \n",
      "...            ...            ...  ...  ...  ..  .. .. ..  ..  ..  ..  ...   \n",
      "1981210  raderdo02     Doug Rader  HOU  ATL   4   4  1  2   0   0   1  1.0   \n",
      "1981254  watsobo01     Bob Watson  HOU  ATL   4   4  0  1   0   0   0  1.0   \n",
      "1981257  williea02  Earl Williams  ATL  HOU   4   4  0  2   0   0   0  1.0   \n",
      "1981259  wilsodo01     Don Wilson  HOU  ATL   3   2  0  0   0   0   0  0.0   \n",
      "1981262   wynnji01       Jim Wynn  HOU  ATL   5   4  1  1   0   0   0  1.0   \n",
      "\n",
      "         BB  SO  HBP  SH   SF  WPA  RE24  aLI  BOP Result Score Season  \n",
      "4         1   0    0   0  NaN  NaN   NaN  NaN    3      L  7-12   1901  \n",
      "5         0   0    0   0  NaN  NaN   NaN  NaN    7      L  7-12   1901  \n",
      "21        0   0    0   0  NaN  NaN   NaN  NaN    1      W   8-7   1901  \n",
      "22        0   0    0   0  NaN  NaN   NaN  NaN    6      W   7-0   1901  \n",
      "28        0   2    0   0  NaN  NaN   NaN  NaN    3      L  2-10   1901  \n",
      "...      ..  ..  ...  ..  ...  ...   ...  ...  ...    ...   ...    ...  \n",
      "1981210   0   0    0   0  0.0  NaN   NaN  NaN    6      W   5-3   1972  \n",
      "1981254   0   1    0   0  0.0  NaN   NaN  NaN    5      W   5-3   1972  \n",
      "1981257   0   0    0   0  0.0  NaN   NaN  NaN    4      L   3-5   1972  \n",
      "1981259   0   2    0   1  0.0  NaN   NaN  NaN    9      W   5-3   1972  \n",
      "1981262   1   0    0   0  0.0  NaN   NaN  NaN    2      W   5-3   1972  \n",
      "\n",
      "[118667 rows x 24 columns]\n",
      "\n",
      "\n",
      "Unique Players with this SF-NaN problem:\n",
      "['delahed01' 'dolanjo02' 'childcu01' ... 'didiebo01' 'gilbrro01'\n",
      " 'mcquemi01']\n",
      "Count:  4234\n",
      "\n",
      "\n",
      "Percentage of overall records ( 3715522 ) impacted:  3.193817719286819\n",
      "There are 4234 players impacted by these 118667 records.\n",
      "\n"
     ]
    }
   ],
   "source": [
    "ali_is_nan = df.loc[pd.isna(df['aLI'])]\n",
    "print(ali_is_nan)\n",
    "print()\n",
    "\n",
    "print(\"\\nUnique Players with this SF-NaN problem:\")\n",
    "ali_nan_players = pd.unique(ali_is_nan['ID'])\n",
    "print(ali_nan_players)\n",
    "print(\"Count: \",len(ali_nan_players))\n",
    "\n",
    "print()\n",
    "print(\"\\nPercentage of overall records (\",len(df),\") impacted: \", len(ali_is_nan)/len(df)*100)\n",
    "print(\"There are\",len(ali_nan_players),\"players impacted by these\",len(ali_is_nan),\"records.\")\n",
    "print(\"\")"
   ]
  },
  {
   "cell_type": "markdown",
   "id": "949a193b",
   "metadata": {},
   "source": [
    "**Note:** An interesting phenomenon was seen with the WPA, RE24, and aLI statistics. They all seem to have been calculated in a similar range of time."
   ]
  },
  {
   "cell_type": "markdown",
   "id": "05c532a5",
   "metadata": {},
   "source": [
    "***A DECISION ... FOR SF, WPA, RE24, and aLI STATISTICS***\n",
    "\n",
    "After looking at all of this data, the nature of the statistics, and the goals of this project, the best decision is to remove these four features entirely. `'SF'` does not add much to the overall narrative of the batter we are creating here (although it has larger implications within the game), and the other three statistics are quite advanced to a point that is beyond the scope of this project.\n",
    "\n",
    "So, we will remove these columns from the data frame."
   ]
  },
  {
   "cell_type": "code",
   "execution_count": 67,
   "id": "e16d899c",
   "metadata": {},
   "outputs": [],
   "source": [
    "del df['SF']\n",
    "del df['WPA']\n",
    "del df['RE24']\n",
    "del df['aLI']"
   ]
  },
  {
   "cell_type": "code",
   "execution_count": 68,
   "id": "8a6ae20c",
   "metadata": {
    "scrolled": true
   },
   "outputs": [
    {
     "data": {
      "text/html": [
       "<div>\n",
       "<style scoped>\n",
       "    .dataframe tbody tr th:only-of-type {\n",
       "        vertical-align: middle;\n",
       "    }\n",
       "\n",
       "    .dataframe tbody tr th {\n",
       "        vertical-align: top;\n",
       "    }\n",
       "\n",
       "    .dataframe thead th {\n",
       "        text-align: right;\n",
       "    }\n",
       "</style>\n",
       "<table border=\"1\" class=\"dataframe\">\n",
       "  <thead>\n",
       "    <tr style=\"text-align: right;\">\n",
       "      <th></th>\n",
       "      <th>ID</th>\n",
       "      <th>Player</th>\n",
       "      <th>Tm</th>\n",
       "      <th>Opp</th>\n",
       "      <th>PA</th>\n",
       "      <th>AB</th>\n",
       "      <th>R</th>\n",
       "      <th>H</th>\n",
       "      <th>2B</th>\n",
       "      <th>3B</th>\n",
       "      <th>HR</th>\n",
       "      <th>RBI</th>\n",
       "      <th>BB</th>\n",
       "      <th>SO</th>\n",
       "      <th>HBP</th>\n",
       "      <th>SH</th>\n",
       "      <th>BOP</th>\n",
       "      <th>Result</th>\n",
       "      <th>Score</th>\n",
       "      <th>Season</th>\n",
       "    </tr>\n",
       "  </thead>\n",
       "  <tbody>\n",
       "    <tr>\n",
       "      <th>4</th>\n",
       "      <td>delahed01</td>\n",
       "      <td>Ed Delahanty</td>\n",
       "      <td>PHI</td>\n",
       "      <td>BRO</td>\n",
       "      <td>5</td>\n",
       "      <td>4</td>\n",
       "      <td>1</td>\n",
       "      <td>2</td>\n",
       "      <td>0</td>\n",
       "      <td>0</td>\n",
       "      <td>0</td>\n",
       "      <td>0.0</td>\n",
       "      <td>1</td>\n",
       "      <td>0</td>\n",
       "      <td>0</td>\n",
       "      <td>0</td>\n",
       "      <td>3</td>\n",
       "      <td>L</td>\n",
       "      <td>7-12</td>\n",
       "      <td>1901</td>\n",
       "    </tr>\n",
       "    <tr>\n",
       "      <th>5</th>\n",
       "      <td>dolanjo02</td>\n",
       "      <td>Joe Dolan</td>\n",
       "      <td>PHI</td>\n",
       "      <td>BRO</td>\n",
       "      <td>5</td>\n",
       "      <td>5</td>\n",
       "      <td>0</td>\n",
       "      <td>1</td>\n",
       "      <td>0</td>\n",
       "      <td>0</td>\n",
       "      <td>0</td>\n",
       "      <td>1.0</td>\n",
       "      <td>0</td>\n",
       "      <td>0</td>\n",
       "      <td>0</td>\n",
       "      <td>0</td>\n",
       "      <td>7</td>\n",
       "      <td>L</td>\n",
       "      <td>7-12</td>\n",
       "      <td>1901</td>\n",
       "    </tr>\n",
       "    <tr>\n",
       "      <th>21</th>\n",
       "      <td>childcu01</td>\n",
       "      <td>Cupid Childs</td>\n",
       "      <td>CHC</td>\n",
       "      <td>STL</td>\n",
       "      <td>5</td>\n",
       "      <td>5</td>\n",
       "      <td>1</td>\n",
       "      <td>1</td>\n",
       "      <td>0</td>\n",
       "      <td>0</td>\n",
       "      <td>0</td>\n",
       "      <td>0.0</td>\n",
       "      <td>0</td>\n",
       "      <td>0</td>\n",
       "      <td>0</td>\n",
       "      <td>0</td>\n",
       "      <td>1</td>\n",
       "      <td>W</td>\n",
       "      <td>8-7</td>\n",
       "      <td>1901</td>\n",
       "    </tr>\n",
       "    <tr>\n",
       "      <th>22</th>\n",
       "      <td>crolifr01</td>\n",
       "      <td>Fred Crolius</td>\n",
       "      <td>BSN</td>\n",
       "      <td>NYG</td>\n",
       "      <td>4</td>\n",
       "      <td>4</td>\n",
       "      <td>0</td>\n",
       "      <td>0</td>\n",
       "      <td>0</td>\n",
       "      <td>0</td>\n",
       "      <td>0</td>\n",
       "      <td>1.0</td>\n",
       "      <td>0</td>\n",
       "      <td>0</td>\n",
       "      <td>0</td>\n",
       "      <td>0</td>\n",
       "      <td>6</td>\n",
       "      <td>W</td>\n",
       "      <td>7-0</td>\n",
       "      <td>1901</td>\n",
       "    </tr>\n",
       "    <tr>\n",
       "      <th>28</th>\n",
       "      <td>delahed01</td>\n",
       "      <td>Ed Delahanty</td>\n",
       "      <td>PHI</td>\n",
       "      <td>BRO</td>\n",
       "      <td>4</td>\n",
       "      <td>4</td>\n",
       "      <td>0</td>\n",
       "      <td>0</td>\n",
       "      <td>0</td>\n",
       "      <td>0</td>\n",
       "      <td>0</td>\n",
       "      <td>0.0</td>\n",
       "      <td>0</td>\n",
       "      <td>2</td>\n",
       "      <td>0</td>\n",
       "      <td>0</td>\n",
       "      <td>3</td>\n",
       "      <td>L</td>\n",
       "      <td>2-10</td>\n",
       "      <td>1901</td>\n",
       "    </tr>\n",
       "    <tr>\n",
       "      <th>...</th>\n",
       "      <td>...</td>\n",
       "      <td>...</td>\n",
       "      <td>...</td>\n",
       "      <td>...</td>\n",
       "      <td>...</td>\n",
       "      <td>...</td>\n",
       "      <td>...</td>\n",
       "      <td>...</td>\n",
       "      <td>...</td>\n",
       "      <td>...</td>\n",
       "      <td>...</td>\n",
       "      <td>...</td>\n",
       "      <td>...</td>\n",
       "      <td>...</td>\n",
       "      <td>...</td>\n",
       "      <td>...</td>\n",
       "      <td>...</td>\n",
       "      <td>...</td>\n",
       "      <td>...</td>\n",
       "      <td>...</td>\n",
       "    </tr>\n",
       "    <tr>\n",
       "      <th>4285624</th>\n",
       "      <td>woodfja01</td>\n",
       "      <td>Jake Woodford</td>\n",
       "      <td>STL</td>\n",
       "      <td>CHC</td>\n",
       "      <td>2</td>\n",
       "      <td>1</td>\n",
       "      <td>0</td>\n",
       "      <td>0</td>\n",
       "      <td>0</td>\n",
       "      <td>0</td>\n",
       "      <td>0</td>\n",
       "      <td>0.0</td>\n",
       "      <td>0</td>\n",
       "      <td>0</td>\n",
       "      <td>0</td>\n",
       "      <td>1</td>\n",
       "      <td>9</td>\n",
       "      <td>L</td>\n",
       "      <td>2-3</td>\n",
       "      <td>2021</td>\n",
       "    </tr>\n",
       "    <tr>\n",
       "      <th>4285625</th>\n",
       "      <td>yastrmi01</td>\n",
       "      <td>Mike Yastrzemski</td>\n",
       "      <td>SFG</td>\n",
       "      <td>SDP</td>\n",
       "      <td>4</td>\n",
       "      <td>3</td>\n",
       "      <td>1</td>\n",
       "      <td>1</td>\n",
       "      <td>1</td>\n",
       "      <td>0</td>\n",
       "      <td>0</td>\n",
       "      <td>2.0</td>\n",
       "      <td>1</td>\n",
       "      <td>1</td>\n",
       "      <td>0</td>\n",
       "      <td>0</td>\n",
       "      <td>7</td>\n",
       "      <td>W</td>\n",
       "      <td>11-4</td>\n",
       "      <td>2021</td>\n",
       "    </tr>\n",
       "    <tr>\n",
       "      <th>4285626</th>\n",
       "      <td>zimmebr01</td>\n",
       "      <td>Bradley Zimmer</td>\n",
       "      <td>CLE</td>\n",
       "      <td>TEX</td>\n",
       "      <td>4</td>\n",
       "      <td>4</td>\n",
       "      <td>1</td>\n",
       "      <td>2</td>\n",
       "      <td>0</td>\n",
       "      <td>0</td>\n",
       "      <td>0</td>\n",
       "      <td>1.0</td>\n",
       "      <td>0</td>\n",
       "      <td>0</td>\n",
       "      <td>0</td>\n",
       "      <td>0</td>\n",
       "      <td>6</td>\n",
       "      <td>W</td>\n",
       "      <td>6-0</td>\n",
       "      <td>2021</td>\n",
       "    </tr>\n",
       "    <tr>\n",
       "      <th>4285627</th>\n",
       "      <td>zimmery01</td>\n",
       "      <td>Ryan Zimmerman</td>\n",
       "      <td>WSN</td>\n",
       "      <td>BOS</td>\n",
       "      <td>4</td>\n",
       "      <td>3</td>\n",
       "      <td>0</td>\n",
       "      <td>0</td>\n",
       "      <td>0</td>\n",
       "      <td>0</td>\n",
       "      <td>0</td>\n",
       "      <td>1.0</td>\n",
       "      <td>1</td>\n",
       "      <td>2</td>\n",
       "      <td>0</td>\n",
       "      <td>0</td>\n",
       "      <td>5</td>\n",
       "      <td>L</td>\n",
       "      <td>5-7</td>\n",
       "      <td>2021</td>\n",
       "    </tr>\n",
       "    <tr>\n",
       "      <th>4285628</th>\n",
       "      <td>zuninmi01</td>\n",
       "      <td>Mike Zunino</td>\n",
       "      <td>TBR</td>\n",
       "      <td>NYY</td>\n",
       "      <td>4</td>\n",
       "      <td>4</td>\n",
       "      <td>0</td>\n",
       "      <td>0</td>\n",
       "      <td>0</td>\n",
       "      <td>0</td>\n",
       "      <td>0</td>\n",
       "      <td>0.0</td>\n",
       "      <td>0</td>\n",
       "      <td>1</td>\n",
       "      <td>0</td>\n",
       "      <td>0</td>\n",
       "      <td>7</td>\n",
       "      <td>L</td>\n",
       "      <td>0-1</td>\n",
       "      <td>2021</td>\n",
       "    </tr>\n",
       "  </tbody>\n",
       "</table>\n",
       "<p>3715522 rows × 20 columns</p>\n",
       "</div>"
      ],
      "text/plain": [
       "                ID            Player   Tm  Opp  PA  AB  R  H  2B  3B  HR  RBI  \\\n",
       "4        delahed01      Ed Delahanty  PHI  BRO   5   4  1  2   0   0   0  0.0   \n",
       "5        dolanjo02         Joe Dolan  PHI  BRO   5   5  0  1   0   0   0  1.0   \n",
       "21       childcu01      Cupid Childs  CHC  STL   5   5  1  1   0   0   0  0.0   \n",
       "22       crolifr01      Fred Crolius  BSN  NYG   4   4  0  0   0   0   0  1.0   \n",
       "28       delahed01      Ed Delahanty  PHI  BRO   4   4  0  0   0   0   0  0.0   \n",
       "...            ...               ...  ...  ...  ..  .. .. ..  ..  ..  ..  ...   \n",
       "4285624  woodfja01     Jake Woodford  STL  CHC   2   1  0  0   0   0   0  0.0   \n",
       "4285625  yastrmi01  Mike Yastrzemski  SFG  SDP   4   3  1  1   1   0   0  2.0   \n",
       "4285626  zimmebr01    Bradley Zimmer  CLE  TEX   4   4  1  2   0   0   0  1.0   \n",
       "4285627  zimmery01    Ryan Zimmerman  WSN  BOS   4   3  0  0   0   0   0  1.0   \n",
       "4285628  zuninmi01       Mike Zunino  TBR  NYY   4   4  0  0   0   0   0  0.0   \n",
       "\n",
       "         BB  SO  HBP  SH  BOP Result Score Season  \n",
       "4         1   0    0   0    3      L  7-12   1901  \n",
       "5         0   0    0   0    7      L  7-12   1901  \n",
       "21        0   0    0   0    1      W   8-7   1901  \n",
       "22        0   0    0   0    6      W   7-0   1901  \n",
       "28        0   2    0   0    3      L  2-10   1901  \n",
       "...      ..  ..  ...  ..  ...    ...   ...    ...  \n",
       "4285624   0   0    0   1    9      L   2-3   2021  \n",
       "4285625   1   1    0   0    7      W  11-4   2021  \n",
       "4285626   0   0    0   0    6      W   6-0   2021  \n",
       "4285627   1   2    0   0    5      L   5-7   2021  \n",
       "4285628   0   1    0   0    7      L   0-1   2021  \n",
       "\n",
       "[3715522 rows x 20 columns]"
      ]
     },
     "execution_count": 68,
     "metadata": {},
     "output_type": "execute_result"
    }
   ],
   "source": [
    "df"
   ]
  },
  {
   "cell_type": "markdown",
   "id": "24703e0b",
   "metadata": {},
   "source": [
    "Considering what remains, `'BOP'` (Batting Order Position) and the extracted `'Score'`, I do not foresee any use for either of these, so I will remove these columns as well.\n",
    "\n",
    "At this time, I have decided to keep the `'Tm'` and `'Opp'` columns in the data for context but do not anticipate using it in any of the learning aspects of the project."
   ]
  },
  {
   "cell_type": "code",
   "execution_count": 69,
   "id": "003f95d1",
   "metadata": {},
   "outputs": [],
   "source": [
    "del df['BOP']\n",
    "del df['Score']"
   ]
  },
  {
   "cell_type": "code",
   "execution_count": 70,
   "id": "c02a7594",
   "metadata": {},
   "outputs": [
    {
     "data": {
      "text/html": [
       "<div>\n",
       "<style scoped>\n",
       "    .dataframe tbody tr th:only-of-type {\n",
       "        vertical-align: middle;\n",
       "    }\n",
       "\n",
       "    .dataframe tbody tr th {\n",
       "        vertical-align: top;\n",
       "    }\n",
       "\n",
       "    .dataframe thead th {\n",
       "        text-align: right;\n",
       "    }\n",
       "</style>\n",
       "<table border=\"1\" class=\"dataframe\">\n",
       "  <thead>\n",
       "    <tr style=\"text-align: right;\">\n",
       "      <th></th>\n",
       "      <th>ID</th>\n",
       "      <th>Player</th>\n",
       "      <th>Tm</th>\n",
       "      <th>Opp</th>\n",
       "      <th>PA</th>\n",
       "      <th>AB</th>\n",
       "      <th>R</th>\n",
       "      <th>H</th>\n",
       "      <th>2B</th>\n",
       "      <th>3B</th>\n",
       "      <th>HR</th>\n",
       "      <th>RBI</th>\n",
       "      <th>BB</th>\n",
       "      <th>SO</th>\n",
       "      <th>HBP</th>\n",
       "      <th>SH</th>\n",
       "      <th>Result</th>\n",
       "      <th>Season</th>\n",
       "    </tr>\n",
       "  </thead>\n",
       "  <tbody>\n",
       "    <tr>\n",
       "      <th>4</th>\n",
       "      <td>delahed01</td>\n",
       "      <td>Ed Delahanty</td>\n",
       "      <td>PHI</td>\n",
       "      <td>BRO</td>\n",
       "      <td>5</td>\n",
       "      <td>4</td>\n",
       "      <td>1</td>\n",
       "      <td>2</td>\n",
       "      <td>0</td>\n",
       "      <td>0</td>\n",
       "      <td>0</td>\n",
       "      <td>0.0</td>\n",
       "      <td>1</td>\n",
       "      <td>0</td>\n",
       "      <td>0</td>\n",
       "      <td>0</td>\n",
       "      <td>L</td>\n",
       "      <td>1901</td>\n",
       "    </tr>\n",
       "    <tr>\n",
       "      <th>5</th>\n",
       "      <td>dolanjo02</td>\n",
       "      <td>Joe Dolan</td>\n",
       "      <td>PHI</td>\n",
       "      <td>BRO</td>\n",
       "      <td>5</td>\n",
       "      <td>5</td>\n",
       "      <td>0</td>\n",
       "      <td>1</td>\n",
       "      <td>0</td>\n",
       "      <td>0</td>\n",
       "      <td>0</td>\n",
       "      <td>1.0</td>\n",
       "      <td>0</td>\n",
       "      <td>0</td>\n",
       "      <td>0</td>\n",
       "      <td>0</td>\n",
       "      <td>L</td>\n",
       "      <td>1901</td>\n",
       "    </tr>\n",
       "    <tr>\n",
       "      <th>21</th>\n",
       "      <td>childcu01</td>\n",
       "      <td>Cupid Childs</td>\n",
       "      <td>CHC</td>\n",
       "      <td>STL</td>\n",
       "      <td>5</td>\n",
       "      <td>5</td>\n",
       "      <td>1</td>\n",
       "      <td>1</td>\n",
       "      <td>0</td>\n",
       "      <td>0</td>\n",
       "      <td>0</td>\n",
       "      <td>0.0</td>\n",
       "      <td>0</td>\n",
       "      <td>0</td>\n",
       "      <td>0</td>\n",
       "      <td>0</td>\n",
       "      <td>W</td>\n",
       "      <td>1901</td>\n",
       "    </tr>\n",
       "    <tr>\n",
       "      <th>22</th>\n",
       "      <td>crolifr01</td>\n",
       "      <td>Fred Crolius</td>\n",
       "      <td>BSN</td>\n",
       "      <td>NYG</td>\n",
       "      <td>4</td>\n",
       "      <td>4</td>\n",
       "      <td>0</td>\n",
       "      <td>0</td>\n",
       "      <td>0</td>\n",
       "      <td>0</td>\n",
       "      <td>0</td>\n",
       "      <td>1.0</td>\n",
       "      <td>0</td>\n",
       "      <td>0</td>\n",
       "      <td>0</td>\n",
       "      <td>0</td>\n",
       "      <td>W</td>\n",
       "      <td>1901</td>\n",
       "    </tr>\n",
       "    <tr>\n",
       "      <th>28</th>\n",
       "      <td>delahed01</td>\n",
       "      <td>Ed Delahanty</td>\n",
       "      <td>PHI</td>\n",
       "      <td>BRO</td>\n",
       "      <td>4</td>\n",
       "      <td>4</td>\n",
       "      <td>0</td>\n",
       "      <td>0</td>\n",
       "      <td>0</td>\n",
       "      <td>0</td>\n",
       "      <td>0</td>\n",
       "      <td>0.0</td>\n",
       "      <td>0</td>\n",
       "      <td>2</td>\n",
       "      <td>0</td>\n",
       "      <td>0</td>\n",
       "      <td>L</td>\n",
       "      <td>1901</td>\n",
       "    </tr>\n",
       "    <tr>\n",
       "      <th>...</th>\n",
       "      <td>...</td>\n",
       "      <td>...</td>\n",
       "      <td>...</td>\n",
       "      <td>...</td>\n",
       "      <td>...</td>\n",
       "      <td>...</td>\n",
       "      <td>...</td>\n",
       "      <td>...</td>\n",
       "      <td>...</td>\n",
       "      <td>...</td>\n",
       "      <td>...</td>\n",
       "      <td>...</td>\n",
       "      <td>...</td>\n",
       "      <td>...</td>\n",
       "      <td>...</td>\n",
       "      <td>...</td>\n",
       "      <td>...</td>\n",
       "      <td>...</td>\n",
       "    </tr>\n",
       "    <tr>\n",
       "      <th>4285624</th>\n",
       "      <td>woodfja01</td>\n",
       "      <td>Jake Woodford</td>\n",
       "      <td>STL</td>\n",
       "      <td>CHC</td>\n",
       "      <td>2</td>\n",
       "      <td>1</td>\n",
       "      <td>0</td>\n",
       "      <td>0</td>\n",
       "      <td>0</td>\n",
       "      <td>0</td>\n",
       "      <td>0</td>\n",
       "      <td>0.0</td>\n",
       "      <td>0</td>\n",
       "      <td>0</td>\n",
       "      <td>0</td>\n",
       "      <td>1</td>\n",
       "      <td>L</td>\n",
       "      <td>2021</td>\n",
       "    </tr>\n",
       "    <tr>\n",
       "      <th>4285625</th>\n",
       "      <td>yastrmi01</td>\n",
       "      <td>Mike Yastrzemski</td>\n",
       "      <td>SFG</td>\n",
       "      <td>SDP</td>\n",
       "      <td>4</td>\n",
       "      <td>3</td>\n",
       "      <td>1</td>\n",
       "      <td>1</td>\n",
       "      <td>1</td>\n",
       "      <td>0</td>\n",
       "      <td>0</td>\n",
       "      <td>2.0</td>\n",
       "      <td>1</td>\n",
       "      <td>1</td>\n",
       "      <td>0</td>\n",
       "      <td>0</td>\n",
       "      <td>W</td>\n",
       "      <td>2021</td>\n",
       "    </tr>\n",
       "    <tr>\n",
       "      <th>4285626</th>\n",
       "      <td>zimmebr01</td>\n",
       "      <td>Bradley Zimmer</td>\n",
       "      <td>CLE</td>\n",
       "      <td>TEX</td>\n",
       "      <td>4</td>\n",
       "      <td>4</td>\n",
       "      <td>1</td>\n",
       "      <td>2</td>\n",
       "      <td>0</td>\n",
       "      <td>0</td>\n",
       "      <td>0</td>\n",
       "      <td>1.0</td>\n",
       "      <td>0</td>\n",
       "      <td>0</td>\n",
       "      <td>0</td>\n",
       "      <td>0</td>\n",
       "      <td>W</td>\n",
       "      <td>2021</td>\n",
       "    </tr>\n",
       "    <tr>\n",
       "      <th>4285627</th>\n",
       "      <td>zimmery01</td>\n",
       "      <td>Ryan Zimmerman</td>\n",
       "      <td>WSN</td>\n",
       "      <td>BOS</td>\n",
       "      <td>4</td>\n",
       "      <td>3</td>\n",
       "      <td>0</td>\n",
       "      <td>0</td>\n",
       "      <td>0</td>\n",
       "      <td>0</td>\n",
       "      <td>0</td>\n",
       "      <td>1.0</td>\n",
       "      <td>1</td>\n",
       "      <td>2</td>\n",
       "      <td>0</td>\n",
       "      <td>0</td>\n",
       "      <td>L</td>\n",
       "      <td>2021</td>\n",
       "    </tr>\n",
       "    <tr>\n",
       "      <th>4285628</th>\n",
       "      <td>zuninmi01</td>\n",
       "      <td>Mike Zunino</td>\n",
       "      <td>TBR</td>\n",
       "      <td>NYY</td>\n",
       "      <td>4</td>\n",
       "      <td>4</td>\n",
       "      <td>0</td>\n",
       "      <td>0</td>\n",
       "      <td>0</td>\n",
       "      <td>0</td>\n",
       "      <td>0</td>\n",
       "      <td>0.0</td>\n",
       "      <td>0</td>\n",
       "      <td>1</td>\n",
       "      <td>0</td>\n",
       "      <td>0</td>\n",
       "      <td>L</td>\n",
       "      <td>2021</td>\n",
       "    </tr>\n",
       "  </tbody>\n",
       "</table>\n",
       "<p>3715522 rows × 18 columns</p>\n",
       "</div>"
      ],
      "text/plain": [
       "                ID            Player   Tm  Opp  PA  AB  R  H  2B  3B  HR  RBI  \\\n",
       "4        delahed01      Ed Delahanty  PHI  BRO   5   4  1  2   0   0   0  0.0   \n",
       "5        dolanjo02         Joe Dolan  PHI  BRO   5   5  0  1   0   0   0  1.0   \n",
       "21       childcu01      Cupid Childs  CHC  STL   5   5  1  1   0   0   0  0.0   \n",
       "22       crolifr01      Fred Crolius  BSN  NYG   4   4  0  0   0   0   0  1.0   \n",
       "28       delahed01      Ed Delahanty  PHI  BRO   4   4  0  0   0   0   0  0.0   \n",
       "...            ...               ...  ...  ...  ..  .. .. ..  ..  ..  ..  ...   \n",
       "4285624  woodfja01     Jake Woodford  STL  CHC   2   1  0  0   0   0   0  0.0   \n",
       "4285625  yastrmi01  Mike Yastrzemski  SFG  SDP   4   3  1  1   1   0   0  2.0   \n",
       "4285626  zimmebr01    Bradley Zimmer  CLE  TEX   4   4  1  2   0   0   0  1.0   \n",
       "4285627  zimmery01    Ryan Zimmerman  WSN  BOS   4   3  0  0   0   0   0  1.0   \n",
       "4285628  zuninmi01       Mike Zunino  TBR  NYY   4   4  0  0   0   0   0  0.0   \n",
       "\n",
       "         BB  SO  HBP  SH Result Season  \n",
       "4         1   0    0   0      L   1901  \n",
       "5         0   0    0   0      L   1901  \n",
       "21        0   0    0   0      W   1901  \n",
       "22        0   0    0   0      W   1901  \n",
       "28        0   2    0   0      L   1901  \n",
       "...      ..  ..  ...  ..    ...    ...  \n",
       "4285624   0   0    0   1      L   2021  \n",
       "4285625   1   1    0   0      W   2021  \n",
       "4285626   0   0    0   0      W   2021  \n",
       "4285627   1   2    0   0      L   2021  \n",
       "4285628   0   1    0   0      L   2021  \n",
       "\n",
       "[3715522 rows x 18 columns]"
      ]
     },
     "execution_count": 70,
     "metadata": {},
     "output_type": "execute_result"
    }
   ],
   "source": [
    "df"
   ]
  },
  {
   "cell_type": "markdown",
   "id": "f3881e28",
   "metadata": {},
   "source": [
    "**Result**\n",
    "\n",
    "I am intentionally keeping `'Result'` at this time, so that I have options to understand how many winning games a player participated in, although there is a good chance this level of nuance will end up being outside of the scope of the project.\n",
    "\n",
    "These values are extracted strings and should be one of 3 values: \"W\", \"L\", or \"T\". (Note that \"T\" represents a tied game, which is relatively unusual in baseball.)"
   ]
  },
  {
   "cell_type": "code",
   "execution_count": 73,
   "id": "c688a0c2",
   "metadata": {},
   "outputs": [
    {
     "name": "stdout",
     "output_type": "stream",
     "text": [
      "['L' 'W' 'T']\n"
     ]
    }
   ],
   "source": [
    "print(pd.unique(df['Result']))"
   ]
  },
  {
   "cell_type": "markdown",
   "id": "d1ae2617",
   "metadata": {},
   "source": [
    "We might decide later to convert this to numeric values, if it proves to be helpful."
   ]
  },
  {
   "cell_type": "code",
   "execution_count": null,
   "id": "2989f60d",
   "metadata": {},
   "outputs": [],
   "source": []
  },
  {
   "cell_type": "markdown",
   "id": "c12dd3a3",
   "metadata": {},
   "source": [
    "### Looking at Player Data"
   ]
  },
  {
   "cell_type": "markdown",
   "id": "d548f702",
   "metadata": {},
   "source": [
    "So far, we've looked at data from the perspective of each individual game played by an individual player. Now the dat is healthier than when we started, we want to look at individual players during their careers.\n",
    "\n",
    "Keeping in mind that our goal is to find trends that might predict a batter's success in the future, we will want to be able to combine their statistics over time but also attempt to find ways to exameine their data during parts of their careers."
   ]
  },
  {
   "cell_type": "code",
   "execution_count": 77,
   "id": "d3943ea4",
   "metadata": {},
   "outputs": [
    {
     "name": "stdout",
     "output_type": "stream",
     "text": [
      "There are 14336 unique players remaining in this dataset.\n"
     ]
    }
   ],
   "source": [
    "print(\"There are\",len(pd.unique(df['ID'])),\"unique players remaining in this dataset.\")"
   ]
  },
  {
   "cell_type": "markdown",
   "id": "2b7dd740",
   "metadata": {},
   "source": [
    "Let's try splitting the data into these arbitrary categories:"
   ]
  },
  {
   "cell_type": "code",
   "execution_count": 91,
   "id": "b57a4ab4",
   "metadata": {},
   "outputs": [],
   "source": [
    "df_early = df[df['Season'] < 1978].copy()"
   ]
  },
  {
   "cell_type": "code",
   "execution_count": 92,
   "id": "aca08999",
   "metadata": {},
   "outputs": [
    {
     "data": {
      "text/html": [
       "<div>\n",
       "<style scoped>\n",
       "    .dataframe tbody tr th:only-of-type {\n",
       "        vertical-align: middle;\n",
       "    }\n",
       "\n",
       "    .dataframe tbody tr th {\n",
       "        vertical-align: top;\n",
       "    }\n",
       "\n",
       "    .dataframe thead th {\n",
       "        text-align: right;\n",
       "    }\n",
       "</style>\n",
       "<table border=\"1\" class=\"dataframe\">\n",
       "  <thead>\n",
       "    <tr style=\"text-align: right;\">\n",
       "      <th></th>\n",
       "      <th>ID</th>\n",
       "      <th>Player</th>\n",
       "      <th>Tm</th>\n",
       "      <th>Opp</th>\n",
       "      <th>PA</th>\n",
       "      <th>AB</th>\n",
       "      <th>R</th>\n",
       "      <th>H</th>\n",
       "      <th>2B</th>\n",
       "      <th>3B</th>\n",
       "      <th>HR</th>\n",
       "      <th>RBI</th>\n",
       "      <th>BB</th>\n",
       "      <th>SO</th>\n",
       "      <th>HBP</th>\n",
       "      <th>SH</th>\n",
       "      <th>Result</th>\n",
       "      <th>Season</th>\n",
       "    </tr>\n",
       "  </thead>\n",
       "  <tbody>\n",
       "    <tr>\n",
       "      <th>4</th>\n",
       "      <td>delahed01</td>\n",
       "      <td>Ed Delahanty</td>\n",
       "      <td>PHI</td>\n",
       "      <td>BRO</td>\n",
       "      <td>5</td>\n",
       "      <td>4</td>\n",
       "      <td>1</td>\n",
       "      <td>2</td>\n",
       "      <td>0</td>\n",
       "      <td>0</td>\n",
       "      <td>0</td>\n",
       "      <td>0.0</td>\n",
       "      <td>1</td>\n",
       "      <td>0</td>\n",
       "      <td>0</td>\n",
       "      <td>0</td>\n",
       "      <td>L</td>\n",
       "      <td>1901</td>\n",
       "    </tr>\n",
       "    <tr>\n",
       "      <th>5</th>\n",
       "      <td>dolanjo02</td>\n",
       "      <td>Joe Dolan</td>\n",
       "      <td>PHI</td>\n",
       "      <td>BRO</td>\n",
       "      <td>5</td>\n",
       "      <td>5</td>\n",
       "      <td>0</td>\n",
       "      <td>1</td>\n",
       "      <td>0</td>\n",
       "      <td>0</td>\n",
       "      <td>0</td>\n",
       "      <td>1.0</td>\n",
       "      <td>0</td>\n",
       "      <td>0</td>\n",
       "      <td>0</td>\n",
       "      <td>0</td>\n",
       "      <td>L</td>\n",
       "      <td>1901</td>\n",
       "    </tr>\n",
       "    <tr>\n",
       "      <th>21</th>\n",
       "      <td>childcu01</td>\n",
       "      <td>Cupid Childs</td>\n",
       "      <td>CHC</td>\n",
       "      <td>STL</td>\n",
       "      <td>5</td>\n",
       "      <td>5</td>\n",
       "      <td>1</td>\n",
       "      <td>1</td>\n",
       "      <td>0</td>\n",
       "      <td>0</td>\n",
       "      <td>0</td>\n",
       "      <td>0.0</td>\n",
       "      <td>0</td>\n",
       "      <td>0</td>\n",
       "      <td>0</td>\n",
       "      <td>0</td>\n",
       "      <td>W</td>\n",
       "      <td>1901</td>\n",
       "    </tr>\n",
       "    <tr>\n",
       "      <th>22</th>\n",
       "      <td>crolifr01</td>\n",
       "      <td>Fred Crolius</td>\n",
       "      <td>BSN</td>\n",
       "      <td>NYG</td>\n",
       "      <td>4</td>\n",
       "      <td>4</td>\n",
       "      <td>0</td>\n",
       "      <td>0</td>\n",
       "      <td>0</td>\n",
       "      <td>0</td>\n",
       "      <td>0</td>\n",
       "      <td>1.0</td>\n",
       "      <td>0</td>\n",
       "      <td>0</td>\n",
       "      <td>0</td>\n",
       "      <td>0</td>\n",
       "      <td>W</td>\n",
       "      <td>1901</td>\n",
       "    </tr>\n",
       "    <tr>\n",
       "      <th>28</th>\n",
       "      <td>delahed01</td>\n",
       "      <td>Ed Delahanty</td>\n",
       "      <td>PHI</td>\n",
       "      <td>BRO</td>\n",
       "      <td>4</td>\n",
       "      <td>4</td>\n",
       "      <td>0</td>\n",
       "      <td>0</td>\n",
       "      <td>0</td>\n",
       "      <td>0</td>\n",
       "      <td>0</td>\n",
       "      <td>0.0</td>\n",
       "      <td>0</td>\n",
       "      <td>2</td>\n",
       "      <td>0</td>\n",
       "      <td>0</td>\n",
       "      <td>L</td>\n",
       "      <td>1901</td>\n",
       "    </tr>\n",
       "    <tr>\n",
       "      <th>...</th>\n",
       "      <td>...</td>\n",
       "      <td>...</td>\n",
       "      <td>...</td>\n",
       "      <td>...</td>\n",
       "      <td>...</td>\n",
       "      <td>...</td>\n",
       "      <td>...</td>\n",
       "      <td>...</td>\n",
       "      <td>...</td>\n",
       "      <td>...</td>\n",
       "      <td>...</td>\n",
       "      <td>...</td>\n",
       "      <td>...</td>\n",
       "      <td>...</td>\n",
       "      <td>...</td>\n",
       "      <td>...</td>\n",
       "      <td>...</td>\n",
       "      <td>...</td>\n",
       "    </tr>\n",
       "    <tr>\n",
       "      <th>2195460</th>\n",
       "      <td>torrehe01</td>\n",
       "      <td>Hector Torres</td>\n",
       "      <td>TOR</td>\n",
       "      <td>CLE</td>\n",
       "      <td>1</td>\n",
       "      <td>1</td>\n",
       "      <td>0</td>\n",
       "      <td>0</td>\n",
       "      <td>0</td>\n",
       "      <td>0</td>\n",
       "      <td>0</td>\n",
       "      <td>0.0</td>\n",
       "      <td>0</td>\n",
       "      <td>0</td>\n",
       "      <td>0</td>\n",
       "      <td>0</td>\n",
       "      <td>L</td>\n",
       "      <td>1977</td>\n",
       "    </tr>\n",
       "    <tr>\n",
       "      <th>2195461</th>\n",
       "      <td>trillma01</td>\n",
       "      <td>Manny Trillo</td>\n",
       "      <td>CHC</td>\n",
       "      <td>PIT</td>\n",
       "      <td>4</td>\n",
       "      <td>3</td>\n",
       "      <td>0</td>\n",
       "      <td>1</td>\n",
       "      <td>0</td>\n",
       "      <td>0</td>\n",
       "      <td>0</td>\n",
       "      <td>0.0</td>\n",
       "      <td>1</td>\n",
       "      <td>0</td>\n",
       "      <td>0</td>\n",
       "      <td>0</td>\n",
       "      <td>L</td>\n",
       "      <td>1977</td>\n",
       "    </tr>\n",
       "    <tr>\n",
       "      <th>2195462</th>\n",
       "      <td>velezot01</td>\n",
       "      <td>Otto Velez</td>\n",
       "      <td>TOR</td>\n",
       "      <td>CLE</td>\n",
       "      <td>1</td>\n",
       "      <td>1</td>\n",
       "      <td>0</td>\n",
       "      <td>0</td>\n",
       "      <td>0</td>\n",
       "      <td>0</td>\n",
       "      <td>0</td>\n",
       "      <td>1.0</td>\n",
       "      <td>0</td>\n",
       "      <td>0</td>\n",
       "      <td>0</td>\n",
       "      <td>0</td>\n",
       "      <td>L</td>\n",
       "      <td>1977</td>\n",
       "    </tr>\n",
       "    <tr>\n",
       "      <th>2195463</th>\n",
       "      <td>whitsed01</td>\n",
       "      <td>Ed Whitson</td>\n",
       "      <td>PIT</td>\n",
       "      <td>CHC</td>\n",
       "      <td>1</td>\n",
       "      <td>1</td>\n",
       "      <td>0</td>\n",
       "      <td>0</td>\n",
       "      <td>0</td>\n",
       "      <td>0</td>\n",
       "      <td>0</td>\n",
       "      <td>0.0</td>\n",
       "      <td>0</td>\n",
       "      <td>0</td>\n",
       "      <td>0</td>\n",
       "      <td>0</td>\n",
       "      <td>W</td>\n",
       "      <td>1977</td>\n",
       "    </tr>\n",
       "    <tr>\n",
       "      <th>2195464</th>\n",
       "      <td>woodsga01</td>\n",
       "      <td>Gary Woods</td>\n",
       "      <td>TOR</td>\n",
       "      <td>CLE</td>\n",
       "      <td>5</td>\n",
       "      <td>5</td>\n",
       "      <td>0</td>\n",
       "      <td>0</td>\n",
       "      <td>0</td>\n",
       "      <td>0</td>\n",
       "      <td>0</td>\n",
       "      <td>0.0</td>\n",
       "      <td>0</td>\n",
       "      <td>1</td>\n",
       "      <td>0</td>\n",
       "      <td>0</td>\n",
       "      <td>L</td>\n",
       "      <td>1977</td>\n",
       "    </tr>\n",
       "  </tbody>\n",
       "</table>\n",
       "<p>1625358 rows × 18 columns</p>\n",
       "</div>"
      ],
      "text/plain": [
       "                ID         Player   Tm  Opp  PA  AB  R  H  2B  3B  HR  RBI  \\\n",
       "4        delahed01   Ed Delahanty  PHI  BRO   5   4  1  2   0   0   0  0.0   \n",
       "5        dolanjo02      Joe Dolan  PHI  BRO   5   5  0  1   0   0   0  1.0   \n",
       "21       childcu01   Cupid Childs  CHC  STL   5   5  1  1   0   0   0  0.0   \n",
       "22       crolifr01   Fred Crolius  BSN  NYG   4   4  0  0   0   0   0  1.0   \n",
       "28       delahed01   Ed Delahanty  PHI  BRO   4   4  0  0   0   0   0  0.0   \n",
       "...            ...            ...  ...  ...  ..  .. .. ..  ..  ..  ..  ...   \n",
       "2195460  torrehe01  Hector Torres  TOR  CLE   1   1  0  0   0   0   0  0.0   \n",
       "2195461  trillma01   Manny Trillo  CHC  PIT   4   3  0  1   0   0   0  0.0   \n",
       "2195462  velezot01     Otto Velez  TOR  CLE   1   1  0  0   0   0   0  1.0   \n",
       "2195463  whitsed01     Ed Whitson  PIT  CHC   1   1  0  0   0   0   0  0.0   \n",
       "2195464  woodsga01     Gary Woods  TOR  CLE   5   5  0  0   0   0   0  0.0   \n",
       "\n",
       "         BB  SO  HBP  SH Result  Season  \n",
       "4         1   0    0   0      L    1901  \n",
       "5         0   0    0   0      L    1901  \n",
       "21        0   0    0   0      W    1901  \n",
       "22        0   0    0   0      W    1901  \n",
       "28        0   2    0   0      L    1901  \n",
       "...      ..  ..  ...  ..    ...     ...  \n",
       "2195460   0   0    0   0      L    1977  \n",
       "2195461   1   0    0   0      L    1977  \n",
       "2195462   0   0    0   0      L    1977  \n",
       "2195463   0   0    0   0      W    1977  \n",
       "2195464   0   1    0   0      L    1977  \n",
       "\n",
       "[1625358 rows x 18 columns]"
      ]
     },
     "execution_count": 92,
     "metadata": {},
     "output_type": "execute_result"
    }
   ],
   "source": [
    "df_early"
   ]
  },
  {
   "cell_type": "code",
   "execution_count": 111,
   "id": "3a68c362",
   "metadata": {},
   "outputs": [],
   "source": [
    "df_mid = df[df['Season'] > 1977].copy()"
   ]
  },
  {
   "cell_type": "code",
   "execution_count": 112,
   "id": "0863869d",
   "metadata": {},
   "outputs": [],
   "source": [
    "df_mid = df_mid[df_mid['Season'] < 2012].copy()"
   ]
  },
  {
   "cell_type": "code",
   "execution_count": 113,
   "id": "57b5ef7c",
   "metadata": {},
   "outputs": [
    {
     "data": {
      "text/html": [
       "<div>\n",
       "<style scoped>\n",
       "    .dataframe tbody tr th:only-of-type {\n",
       "        vertical-align: middle;\n",
       "    }\n",
       "\n",
       "    .dataframe tbody tr th {\n",
       "        vertical-align: top;\n",
       "    }\n",
       "\n",
       "    .dataframe thead th {\n",
       "        text-align: right;\n",
       "    }\n",
       "</style>\n",
       "<table border=\"1\" class=\"dataframe\">\n",
       "  <thead>\n",
       "    <tr style=\"text-align: right;\">\n",
       "      <th></th>\n",
       "      <th>ID</th>\n",
       "      <th>Player</th>\n",
       "      <th>Tm</th>\n",
       "      <th>Opp</th>\n",
       "      <th>PA</th>\n",
       "      <th>AB</th>\n",
       "      <th>R</th>\n",
       "      <th>H</th>\n",
       "      <th>2B</th>\n",
       "      <th>3B</th>\n",
       "      <th>HR</th>\n",
       "      <th>RBI</th>\n",
       "      <th>BB</th>\n",
       "      <th>SO</th>\n",
       "      <th>HBP</th>\n",
       "      <th>SH</th>\n",
       "      <th>Result</th>\n",
       "      <th>Season</th>\n",
       "    </tr>\n",
       "  </thead>\n",
       "  <tbody>\n",
       "    <tr>\n",
       "      <th>2195465</th>\n",
       "      <td>adamsgl01</td>\n",
       "      <td>Glenn Adams</td>\n",
       "      <td>MIN</td>\n",
       "      <td>SEA</td>\n",
       "      <td>4</td>\n",
       "      <td>4</td>\n",
       "      <td>0</td>\n",
       "      <td>1</td>\n",
       "      <td>1</td>\n",
       "      <td>0</td>\n",
       "      <td>0</td>\n",
       "      <td>0.0</td>\n",
       "      <td>0</td>\n",
       "      <td>0</td>\n",
       "      <td>0</td>\n",
       "      <td>0</td>\n",
       "      <td>L</td>\n",
       "      <td>1978</td>\n",
       "    </tr>\n",
       "    <tr>\n",
       "      <th>2195466</th>\n",
       "      <td>baezjo01</td>\n",
       "      <td>Jose Baez</td>\n",
       "      <td>SEA</td>\n",
       "      <td>MIN</td>\n",
       "      <td>5</td>\n",
       "      <td>4</td>\n",
       "      <td>0</td>\n",
       "      <td>0</td>\n",
       "      <td>0</td>\n",
       "      <td>0</td>\n",
       "      <td>0</td>\n",
       "      <td>0.0</td>\n",
       "      <td>0</td>\n",
       "      <td>2</td>\n",
       "      <td>0</td>\n",
       "      <td>1</td>\n",
       "      <td>W</td>\n",
       "      <td>1978</td>\n",
       "    </tr>\n",
       "    <tr>\n",
       "      <th>2195467</th>\n",
       "      <td>bochtbr01</td>\n",
       "      <td>Bruce Bochte</td>\n",
       "      <td>SEA</td>\n",
       "      <td>MIN</td>\n",
       "      <td>4</td>\n",
       "      <td>4</td>\n",
       "      <td>1</td>\n",
       "      <td>3</td>\n",
       "      <td>1</td>\n",
       "      <td>0</td>\n",
       "      <td>0</td>\n",
       "      <td>0.0</td>\n",
       "      <td>0</td>\n",
       "      <td>0</td>\n",
       "      <td>0</td>\n",
       "      <td>0</td>\n",
       "      <td>W</td>\n",
       "      <td>1978</td>\n",
       "    </tr>\n",
       "    <tr>\n",
       "      <th>2195468</th>\n",
       "      <td>carewro01</td>\n",
       "      <td>Rod Carew</td>\n",
       "      <td>MIN</td>\n",
       "      <td>SEA</td>\n",
       "      <td>4</td>\n",
       "      <td>4</td>\n",
       "      <td>0</td>\n",
       "      <td>1</td>\n",
       "      <td>0</td>\n",
       "      <td>0</td>\n",
       "      <td>0</td>\n",
       "      <td>0.0</td>\n",
       "      <td>0</td>\n",
       "      <td>1</td>\n",
       "      <td>0</td>\n",
       "      <td>0</td>\n",
       "      <td>L</td>\n",
       "      <td>1978</td>\n",
       "    </tr>\n",
       "    <tr>\n",
       "      <th>2195469</th>\n",
       "      <td>cubbami01</td>\n",
       "      <td>Mike Cubbage</td>\n",
       "      <td>MIN</td>\n",
       "      <td>SEA</td>\n",
       "      <td>4</td>\n",
       "      <td>4</td>\n",
       "      <td>0</td>\n",
       "      <td>1</td>\n",
       "      <td>0</td>\n",
       "      <td>0</td>\n",
       "      <td>0</td>\n",
       "      <td>1.0</td>\n",
       "      <td>0</td>\n",
       "      <td>0</td>\n",
       "      <td>0</td>\n",
       "      <td>0</td>\n",
       "      <td>L</td>\n",
       "      <td>1978</td>\n",
       "    </tr>\n",
       "    <tr>\n",
       "      <th>...</th>\n",
       "      <td>...</td>\n",
       "      <td>...</td>\n",
       "      <td>...</td>\n",
       "      <td>...</td>\n",
       "      <td>...</td>\n",
       "      <td>...</td>\n",
       "      <td>...</td>\n",
       "      <td>...</td>\n",
       "      <td>...</td>\n",
       "      <td>...</td>\n",
       "      <td>...</td>\n",
       "      <td>...</td>\n",
       "      <td>...</td>\n",
       "      <td>...</td>\n",
       "      <td>...</td>\n",
       "      <td>...</td>\n",
       "      <td>...</td>\n",
       "      <td>...</td>\n",
       "    </tr>\n",
       "    <tr>\n",
       "      <th>3805700</th>\n",
       "      <td>youngch04</td>\n",
       "      <td>Chris Young</td>\n",
       "      <td>ARI</td>\n",
       "      <td>LAD</td>\n",
       "      <td>2</td>\n",
       "      <td>2</td>\n",
       "      <td>0</td>\n",
       "      <td>0</td>\n",
       "      <td>0</td>\n",
       "      <td>0</td>\n",
       "      <td>0</td>\n",
       "      <td>0.0</td>\n",
       "      <td>0</td>\n",
       "      <td>2</td>\n",
       "      <td>0</td>\n",
       "      <td>0</td>\n",
       "      <td>L</td>\n",
       "      <td>2011</td>\n",
       "    </tr>\n",
       "    <tr>\n",
       "      <th>3805701</th>\n",
       "      <td>youngde03</td>\n",
       "      <td>Delmon Young</td>\n",
       "      <td>DET</td>\n",
       "      <td>CLE</td>\n",
       "      <td>4</td>\n",
       "      <td>4</td>\n",
       "      <td>1</td>\n",
       "      <td>1</td>\n",
       "      <td>0</td>\n",
       "      <td>0</td>\n",
       "      <td>0</td>\n",
       "      <td>0.0</td>\n",
       "      <td>0</td>\n",
       "      <td>1</td>\n",
       "      <td>0</td>\n",
       "      <td>0</td>\n",
       "      <td>W</td>\n",
       "      <td>2011</td>\n",
       "    </tr>\n",
       "    <tr>\n",
       "      <th>3805702</th>\n",
       "      <td>younger03</td>\n",
       "      <td>Eric Young Jr.</td>\n",
       "      <td>COL</td>\n",
       "      <td>SFG</td>\n",
       "      <td>5</td>\n",
       "      <td>5</td>\n",
       "      <td>1</td>\n",
       "      <td>2</td>\n",
       "      <td>0</td>\n",
       "      <td>1</td>\n",
       "      <td>0</td>\n",
       "      <td>0.0</td>\n",
       "      <td>0</td>\n",
       "      <td>2</td>\n",
       "      <td>0</td>\n",
       "      <td>0</td>\n",
       "      <td>W</td>\n",
       "      <td>2011</td>\n",
       "    </tr>\n",
       "    <tr>\n",
       "      <th>3805703</th>\n",
       "      <td>youngmi02</td>\n",
       "      <td>Michael Young</td>\n",
       "      <td>TEX</td>\n",
       "      <td>LAA</td>\n",
       "      <td>4</td>\n",
       "      <td>4</td>\n",
       "      <td>1</td>\n",
       "      <td>1</td>\n",
       "      <td>0</td>\n",
       "      <td>0</td>\n",
       "      <td>0</td>\n",
       "      <td>0.0</td>\n",
       "      <td>0</td>\n",
       "      <td>0</td>\n",
       "      <td>0</td>\n",
       "      <td>0</td>\n",
       "      <td>W</td>\n",
       "      <td>2011</td>\n",
       "    </tr>\n",
       "    <tr>\n",
       "      <th>3805704</th>\n",
       "      <td>zobribe01</td>\n",
       "      <td>Ben Zobrist</td>\n",
       "      <td>TBR</td>\n",
       "      <td>NYY</td>\n",
       "      <td>6</td>\n",
       "      <td>5</td>\n",
       "      <td>1</td>\n",
       "      <td>1</td>\n",
       "      <td>1</td>\n",
       "      <td>0</td>\n",
       "      <td>0</td>\n",
       "      <td>0.0</td>\n",
       "      <td>1</td>\n",
       "      <td>1</td>\n",
       "      <td>0</td>\n",
       "      <td>0</td>\n",
       "      <td>W</td>\n",
       "      <td>2011</td>\n",
       "    </tr>\n",
       "  </tbody>\n",
       "</table>\n",
       "<p>1610240 rows × 18 columns</p>\n",
       "</div>"
      ],
      "text/plain": [
       "                ID          Player   Tm  Opp  PA  AB  R  H  2B  3B  HR  RBI  \\\n",
       "2195465  adamsgl01     Glenn Adams  MIN  SEA   4   4  0  1   1   0   0  0.0   \n",
       "2195466   baezjo01       Jose Baez  SEA  MIN   5   4  0  0   0   0   0  0.0   \n",
       "2195467  bochtbr01    Bruce Bochte  SEA  MIN   4   4  1  3   1   0   0  0.0   \n",
       "2195468  carewro01       Rod Carew  MIN  SEA   4   4  0  1   0   0   0  0.0   \n",
       "2195469  cubbami01    Mike Cubbage  MIN  SEA   4   4  0  1   0   0   0  1.0   \n",
       "...            ...             ...  ...  ...  ..  .. .. ..  ..  ..  ..  ...   \n",
       "3805700  youngch04     Chris Young  ARI  LAD   2   2  0  0   0   0   0  0.0   \n",
       "3805701  youngde03    Delmon Young  DET  CLE   4   4  1  1   0   0   0  0.0   \n",
       "3805702  younger03  Eric Young Jr.  COL  SFG   5   5  1  2   0   1   0  0.0   \n",
       "3805703  youngmi02   Michael Young  TEX  LAA   4   4  1  1   0   0   0  0.0   \n",
       "3805704  zobribe01     Ben Zobrist  TBR  NYY   6   5  1  1   1   0   0  0.0   \n",
       "\n",
       "         BB  SO  HBP  SH Result  Season  \n",
       "2195465   0   0    0   0      L    1978  \n",
       "2195466   0   2    0   1      W    1978  \n",
       "2195467   0   0    0   0      W    1978  \n",
       "2195468   0   1    0   0      L    1978  \n",
       "2195469   0   0    0   0      L    1978  \n",
       "...      ..  ..  ...  ..    ...     ...  \n",
       "3805700   0   2    0   0      L    2011  \n",
       "3805701   0   1    0   0      W    2011  \n",
       "3805702   0   2    0   0      W    2011  \n",
       "3805703   0   0    0   0      W    2011  \n",
       "3805704   1   1    0   0      W    2011  \n",
       "\n",
       "[1610240 rows x 18 columns]"
      ]
     },
     "execution_count": 113,
     "metadata": {},
     "output_type": "execute_result"
    }
   ],
   "source": [
    "df_mid"
   ]
  },
  {
   "cell_type": "code",
   "execution_count": 99,
   "id": "f3e3895c",
   "metadata": {},
   "outputs": [],
   "source": [
    "df_later = df[df['Season'] > 2011].copy()"
   ]
  },
  {
   "cell_type": "code",
   "execution_count": 100,
   "id": "07d232f3",
   "metadata": {},
   "outputs": [
    {
     "data": {
      "text/html": [
       "<div>\n",
       "<style scoped>\n",
       "    .dataframe tbody tr th:only-of-type {\n",
       "        vertical-align: middle;\n",
       "    }\n",
       "\n",
       "    .dataframe tbody tr th {\n",
       "        vertical-align: top;\n",
       "    }\n",
       "\n",
       "    .dataframe thead th {\n",
       "        text-align: right;\n",
       "    }\n",
       "</style>\n",
       "<table border=\"1\" class=\"dataframe\">\n",
       "  <thead>\n",
       "    <tr style=\"text-align: right;\">\n",
       "      <th></th>\n",
       "      <th>ID</th>\n",
       "      <th>Player</th>\n",
       "      <th>Tm</th>\n",
       "      <th>Opp</th>\n",
       "      <th>PA</th>\n",
       "      <th>AB</th>\n",
       "      <th>R</th>\n",
       "      <th>H</th>\n",
       "      <th>2B</th>\n",
       "      <th>3B</th>\n",
       "      <th>HR</th>\n",
       "      <th>RBI</th>\n",
       "      <th>BB</th>\n",
       "      <th>SO</th>\n",
       "      <th>HBP</th>\n",
       "      <th>SH</th>\n",
       "      <th>Result</th>\n",
       "      <th>Season</th>\n",
       "    </tr>\n",
       "  </thead>\n",
       "  <tbody>\n",
       "    <tr>\n",
       "      <th>3805705</th>\n",
       "      <td>ackledu01</td>\n",
       "      <td>Dustin Ackley</td>\n",
       "      <td>SEA</td>\n",
       "      <td>OAK</td>\n",
       "      <td>5</td>\n",
       "      <td>5</td>\n",
       "      <td>2</td>\n",
       "      <td>2</td>\n",
       "      <td>0</td>\n",
       "      <td>0</td>\n",
       "      <td>1</td>\n",
       "      <td>2.0</td>\n",
       "      <td>0</td>\n",
       "      <td>1</td>\n",
       "      <td>0</td>\n",
       "      <td>0</td>\n",
       "      <td>W</td>\n",
       "      <td>2012</td>\n",
       "    </tr>\n",
       "    <tr>\n",
       "      <th>3805706</th>\n",
       "      <td>allenbr01</td>\n",
       "      <td>Brandon Allen</td>\n",
       "      <td>OAK</td>\n",
       "      <td>SEA</td>\n",
       "      <td>4</td>\n",
       "      <td>4</td>\n",
       "      <td>0</td>\n",
       "      <td>0</td>\n",
       "      <td>0</td>\n",
       "      <td>0</td>\n",
       "      <td>0</td>\n",
       "      <td>0.0</td>\n",
       "      <td>0</td>\n",
       "      <td>2</td>\n",
       "      <td>0</td>\n",
       "      <td>0</td>\n",
       "      <td>L</td>\n",
       "      <td>2012</td>\n",
       "    </tr>\n",
       "    <tr>\n",
       "      <th>3805707</th>\n",
       "      <td>carpmi01</td>\n",
       "      <td>Mike Carp</td>\n",
       "      <td>SEA</td>\n",
       "      <td>OAK</td>\n",
       "      <td>4</td>\n",
       "      <td>4</td>\n",
       "      <td>0</td>\n",
       "      <td>0</td>\n",
       "      <td>0</td>\n",
       "      <td>0</td>\n",
       "      <td>0</td>\n",
       "      <td>0.0</td>\n",
       "      <td>0</td>\n",
       "      <td>0</td>\n",
       "      <td>0</td>\n",
       "      <td>0</td>\n",
       "      <td>W</td>\n",
       "      <td>2012</td>\n",
       "    </tr>\n",
       "    <tr>\n",
       "      <th>3805708</th>\n",
       "      <td>cespeyo01</td>\n",
       "      <td>Yoenis Céspedes</td>\n",
       "      <td>OAK</td>\n",
       "      <td>SEA</td>\n",
       "      <td>4</td>\n",
       "      <td>3</td>\n",
       "      <td>0</td>\n",
       "      <td>1</td>\n",
       "      <td>1</td>\n",
       "      <td>0</td>\n",
       "      <td>0</td>\n",
       "      <td>0.0</td>\n",
       "      <td>0</td>\n",
       "      <td>2</td>\n",
       "      <td>1</td>\n",
       "      <td>0</td>\n",
       "      <td>L</td>\n",
       "      <td>2012</td>\n",
       "    </tr>\n",
       "    <tr>\n",
       "      <th>3805709</th>\n",
       "      <td>crispco01</td>\n",
       "      <td>Coco Crisp</td>\n",
       "      <td>OAK</td>\n",
       "      <td>SEA</td>\n",
       "      <td>5</td>\n",
       "      <td>5</td>\n",
       "      <td>0</td>\n",
       "      <td>0</td>\n",
       "      <td>0</td>\n",
       "      <td>0</td>\n",
       "      <td>0</td>\n",
       "      <td>0.0</td>\n",
       "      <td>0</td>\n",
       "      <td>1</td>\n",
       "      <td>0</td>\n",
       "      <td>0</td>\n",
       "      <td>L</td>\n",
       "      <td>2012</td>\n",
       "    </tr>\n",
       "    <tr>\n",
       "      <th>...</th>\n",
       "      <td>...</td>\n",
       "      <td>...</td>\n",
       "      <td>...</td>\n",
       "      <td>...</td>\n",
       "      <td>...</td>\n",
       "      <td>...</td>\n",
       "      <td>...</td>\n",
       "      <td>...</td>\n",
       "      <td>...</td>\n",
       "      <td>...</td>\n",
       "      <td>...</td>\n",
       "      <td>...</td>\n",
       "      <td>...</td>\n",
       "      <td>...</td>\n",
       "      <td>...</td>\n",
       "      <td>...</td>\n",
       "      <td>...</td>\n",
       "      <td>...</td>\n",
       "    </tr>\n",
       "    <tr>\n",
       "      <th>4285624</th>\n",
       "      <td>woodfja01</td>\n",
       "      <td>Jake Woodford</td>\n",
       "      <td>STL</td>\n",
       "      <td>CHC</td>\n",
       "      <td>2</td>\n",
       "      <td>1</td>\n",
       "      <td>0</td>\n",
       "      <td>0</td>\n",
       "      <td>0</td>\n",
       "      <td>0</td>\n",
       "      <td>0</td>\n",
       "      <td>0.0</td>\n",
       "      <td>0</td>\n",
       "      <td>0</td>\n",
       "      <td>0</td>\n",
       "      <td>1</td>\n",
       "      <td>L</td>\n",
       "      <td>2021</td>\n",
       "    </tr>\n",
       "    <tr>\n",
       "      <th>4285625</th>\n",
       "      <td>yastrmi01</td>\n",
       "      <td>Mike Yastrzemski</td>\n",
       "      <td>SFG</td>\n",
       "      <td>SDP</td>\n",
       "      <td>4</td>\n",
       "      <td>3</td>\n",
       "      <td>1</td>\n",
       "      <td>1</td>\n",
       "      <td>1</td>\n",
       "      <td>0</td>\n",
       "      <td>0</td>\n",
       "      <td>2.0</td>\n",
       "      <td>1</td>\n",
       "      <td>1</td>\n",
       "      <td>0</td>\n",
       "      <td>0</td>\n",
       "      <td>W</td>\n",
       "      <td>2021</td>\n",
       "    </tr>\n",
       "    <tr>\n",
       "      <th>4285626</th>\n",
       "      <td>zimmebr01</td>\n",
       "      <td>Bradley Zimmer</td>\n",
       "      <td>CLE</td>\n",
       "      <td>TEX</td>\n",
       "      <td>4</td>\n",
       "      <td>4</td>\n",
       "      <td>1</td>\n",
       "      <td>2</td>\n",
       "      <td>0</td>\n",
       "      <td>0</td>\n",
       "      <td>0</td>\n",
       "      <td>1.0</td>\n",
       "      <td>0</td>\n",
       "      <td>0</td>\n",
       "      <td>0</td>\n",
       "      <td>0</td>\n",
       "      <td>W</td>\n",
       "      <td>2021</td>\n",
       "    </tr>\n",
       "    <tr>\n",
       "      <th>4285627</th>\n",
       "      <td>zimmery01</td>\n",
       "      <td>Ryan Zimmerman</td>\n",
       "      <td>WSN</td>\n",
       "      <td>BOS</td>\n",
       "      <td>4</td>\n",
       "      <td>3</td>\n",
       "      <td>0</td>\n",
       "      <td>0</td>\n",
       "      <td>0</td>\n",
       "      <td>0</td>\n",
       "      <td>0</td>\n",
       "      <td>1.0</td>\n",
       "      <td>1</td>\n",
       "      <td>2</td>\n",
       "      <td>0</td>\n",
       "      <td>0</td>\n",
       "      <td>L</td>\n",
       "      <td>2021</td>\n",
       "    </tr>\n",
       "    <tr>\n",
       "      <th>4285628</th>\n",
       "      <td>zuninmi01</td>\n",
       "      <td>Mike Zunino</td>\n",
       "      <td>TBR</td>\n",
       "      <td>NYY</td>\n",
       "      <td>4</td>\n",
       "      <td>4</td>\n",
       "      <td>0</td>\n",
       "      <td>0</td>\n",
       "      <td>0</td>\n",
       "      <td>0</td>\n",
       "      <td>0</td>\n",
       "      <td>0.0</td>\n",
       "      <td>0</td>\n",
       "      <td>1</td>\n",
       "      <td>0</td>\n",
       "      <td>0</td>\n",
       "      <td>L</td>\n",
       "      <td>2021</td>\n",
       "    </tr>\n",
       "  </tbody>\n",
       "</table>\n",
       "<p>479924 rows × 18 columns</p>\n",
       "</div>"
      ],
      "text/plain": [
       "                ID            Player   Tm  Opp  PA  AB  R  H  2B  3B  HR  RBI  \\\n",
       "3805705  ackledu01     Dustin Ackley  SEA  OAK   5   5  2  2   0   0   1  2.0   \n",
       "3805706  allenbr01     Brandon Allen  OAK  SEA   4   4  0  0   0   0   0  0.0   \n",
       "3805707   carpmi01         Mike Carp  SEA  OAK   4   4  0  0   0   0   0  0.0   \n",
       "3805708  cespeyo01   Yoenis Céspedes  OAK  SEA   4   3  0  1   1   0   0  0.0   \n",
       "3805709  crispco01        Coco Crisp  OAK  SEA   5   5  0  0   0   0   0  0.0   \n",
       "...            ...               ...  ...  ...  ..  .. .. ..  ..  ..  ..  ...   \n",
       "4285624  woodfja01     Jake Woodford  STL  CHC   2   1  0  0   0   0   0  0.0   \n",
       "4285625  yastrmi01  Mike Yastrzemski  SFG  SDP   4   3  1  1   1   0   0  2.0   \n",
       "4285626  zimmebr01    Bradley Zimmer  CLE  TEX   4   4  1  2   0   0   0  1.0   \n",
       "4285627  zimmery01    Ryan Zimmerman  WSN  BOS   4   3  0  0   0   0   0  1.0   \n",
       "4285628  zuninmi01       Mike Zunino  TBR  NYY   4   4  0  0   0   0   0  0.0   \n",
       "\n",
       "         BB  SO  HBP  SH Result  Season  \n",
       "3805705   0   1    0   0      W    2012  \n",
       "3805706   0   2    0   0      L    2012  \n",
       "3805707   0   0    0   0      W    2012  \n",
       "3805708   0   2    1   0      L    2012  \n",
       "3805709   0   1    0   0      L    2012  \n",
       "...      ..  ..  ...  ..    ...     ...  \n",
       "4285624   0   0    0   1      L    2021  \n",
       "4285625   1   1    0   0      W    2021  \n",
       "4285626   0   0    0   0      W    2021  \n",
       "4285627   1   2    0   0      L    2021  \n",
       "4285628   0   1    0   0      L    2021  \n",
       "\n",
       "[479924 rows x 18 columns]"
      ]
     },
     "execution_count": 100,
     "metadata": {},
     "output_type": "execute_result"
    }
   ],
   "source": [
    "df_later"
   ]
  },
  {
   "cell_type": "code",
   "execution_count": 114,
   "id": "69eab4ed",
   "metadata": {},
   "outputs": [
    {
     "data": {
      "text/html": [
       "<div>\n",
       "<style scoped>\n",
       "    .dataframe tbody tr th:only-of-type {\n",
       "        vertical-align: middle;\n",
       "    }\n",
       "\n",
       "    .dataframe tbody tr th {\n",
       "        vertical-align: top;\n",
       "    }\n",
       "\n",
       "    .dataframe thead th {\n",
       "        text-align: right;\n",
       "    }\n",
       "</style>\n",
       "<table border=\"1\" class=\"dataframe\">\n",
       "  <thead>\n",
       "    <tr style=\"text-align: right;\">\n",
       "      <th></th>\n",
       "      <th>ID</th>\n",
       "      <th>Player</th>\n",
       "      <th>Tm</th>\n",
       "      <th>Opp</th>\n",
       "      <th>PA</th>\n",
       "      <th>AB</th>\n",
       "      <th>R</th>\n",
       "      <th>H</th>\n",
       "      <th>2B</th>\n",
       "      <th>3B</th>\n",
       "      <th>HR</th>\n",
       "      <th>RBI</th>\n",
       "      <th>BB</th>\n",
       "      <th>SO</th>\n",
       "      <th>HBP</th>\n",
       "      <th>SH</th>\n",
       "      <th>Result</th>\n",
       "      <th>Season</th>\n",
       "    </tr>\n",
       "  </thead>\n",
       "  <tbody>\n",
       "    <tr>\n",
       "      <th>2195465</th>\n",
       "      <td>adamsgl01</td>\n",
       "      <td>Glenn Adams</td>\n",
       "      <td>MIN</td>\n",
       "      <td>SEA</td>\n",
       "      <td>4</td>\n",
       "      <td>4</td>\n",
       "      <td>0</td>\n",
       "      <td>1</td>\n",
       "      <td>1</td>\n",
       "      <td>0</td>\n",
       "      <td>0</td>\n",
       "      <td>0.0</td>\n",
       "      <td>0</td>\n",
       "      <td>0</td>\n",
       "      <td>0</td>\n",
       "      <td>0</td>\n",
       "      <td>L</td>\n",
       "      <td>1978</td>\n",
       "    </tr>\n",
       "    <tr>\n",
       "      <th>2195466</th>\n",
       "      <td>baezjo01</td>\n",
       "      <td>Jose Baez</td>\n",
       "      <td>SEA</td>\n",
       "      <td>MIN</td>\n",
       "      <td>5</td>\n",
       "      <td>4</td>\n",
       "      <td>0</td>\n",
       "      <td>0</td>\n",
       "      <td>0</td>\n",
       "      <td>0</td>\n",
       "      <td>0</td>\n",
       "      <td>0.0</td>\n",
       "      <td>0</td>\n",
       "      <td>2</td>\n",
       "      <td>0</td>\n",
       "      <td>1</td>\n",
       "      <td>W</td>\n",
       "      <td>1978</td>\n",
       "    </tr>\n",
       "    <tr>\n",
       "      <th>2195467</th>\n",
       "      <td>bochtbr01</td>\n",
       "      <td>Bruce Bochte</td>\n",
       "      <td>SEA</td>\n",
       "      <td>MIN</td>\n",
       "      <td>4</td>\n",
       "      <td>4</td>\n",
       "      <td>1</td>\n",
       "      <td>3</td>\n",
       "      <td>1</td>\n",
       "      <td>0</td>\n",
       "      <td>0</td>\n",
       "      <td>0.0</td>\n",
       "      <td>0</td>\n",
       "      <td>0</td>\n",
       "      <td>0</td>\n",
       "      <td>0</td>\n",
       "      <td>W</td>\n",
       "      <td>1978</td>\n",
       "    </tr>\n",
       "    <tr>\n",
       "      <th>2195468</th>\n",
       "      <td>carewro01</td>\n",
       "      <td>Rod Carew</td>\n",
       "      <td>MIN</td>\n",
       "      <td>SEA</td>\n",
       "      <td>4</td>\n",
       "      <td>4</td>\n",
       "      <td>0</td>\n",
       "      <td>1</td>\n",
       "      <td>0</td>\n",
       "      <td>0</td>\n",
       "      <td>0</td>\n",
       "      <td>0.0</td>\n",
       "      <td>0</td>\n",
       "      <td>1</td>\n",
       "      <td>0</td>\n",
       "      <td>0</td>\n",
       "      <td>L</td>\n",
       "      <td>1978</td>\n",
       "    </tr>\n",
       "    <tr>\n",
       "      <th>2195469</th>\n",
       "      <td>cubbami01</td>\n",
       "      <td>Mike Cubbage</td>\n",
       "      <td>MIN</td>\n",
       "      <td>SEA</td>\n",
       "      <td>4</td>\n",
       "      <td>4</td>\n",
       "      <td>0</td>\n",
       "      <td>1</td>\n",
       "      <td>0</td>\n",
       "      <td>0</td>\n",
       "      <td>0</td>\n",
       "      <td>1.0</td>\n",
       "      <td>0</td>\n",
       "      <td>0</td>\n",
       "      <td>0</td>\n",
       "      <td>0</td>\n",
       "      <td>L</td>\n",
       "      <td>1978</td>\n",
       "    </tr>\n",
       "    <tr>\n",
       "      <th>...</th>\n",
       "      <td>...</td>\n",
       "      <td>...</td>\n",
       "      <td>...</td>\n",
       "      <td>...</td>\n",
       "      <td>...</td>\n",
       "      <td>...</td>\n",
       "      <td>...</td>\n",
       "      <td>...</td>\n",
       "      <td>...</td>\n",
       "      <td>...</td>\n",
       "      <td>...</td>\n",
       "      <td>...</td>\n",
       "      <td>...</td>\n",
       "      <td>...</td>\n",
       "      <td>...</td>\n",
       "      <td>...</td>\n",
       "      <td>...</td>\n",
       "      <td>...</td>\n",
       "    </tr>\n",
       "    <tr>\n",
       "      <th>3805700</th>\n",
       "      <td>youngch04</td>\n",
       "      <td>Chris Young</td>\n",
       "      <td>ARI</td>\n",
       "      <td>LAD</td>\n",
       "      <td>2</td>\n",
       "      <td>2</td>\n",
       "      <td>0</td>\n",
       "      <td>0</td>\n",
       "      <td>0</td>\n",
       "      <td>0</td>\n",
       "      <td>0</td>\n",
       "      <td>0.0</td>\n",
       "      <td>0</td>\n",
       "      <td>2</td>\n",
       "      <td>0</td>\n",
       "      <td>0</td>\n",
       "      <td>L</td>\n",
       "      <td>2011</td>\n",
       "    </tr>\n",
       "    <tr>\n",
       "      <th>3805701</th>\n",
       "      <td>youngde03</td>\n",
       "      <td>Delmon Young</td>\n",
       "      <td>DET</td>\n",
       "      <td>CLE</td>\n",
       "      <td>4</td>\n",
       "      <td>4</td>\n",
       "      <td>1</td>\n",
       "      <td>1</td>\n",
       "      <td>0</td>\n",
       "      <td>0</td>\n",
       "      <td>0</td>\n",
       "      <td>0.0</td>\n",
       "      <td>0</td>\n",
       "      <td>1</td>\n",
       "      <td>0</td>\n",
       "      <td>0</td>\n",
       "      <td>W</td>\n",
       "      <td>2011</td>\n",
       "    </tr>\n",
       "    <tr>\n",
       "      <th>3805702</th>\n",
       "      <td>younger03</td>\n",
       "      <td>Eric Young Jr.</td>\n",
       "      <td>COL</td>\n",
       "      <td>SFG</td>\n",
       "      <td>5</td>\n",
       "      <td>5</td>\n",
       "      <td>1</td>\n",
       "      <td>2</td>\n",
       "      <td>0</td>\n",
       "      <td>1</td>\n",
       "      <td>0</td>\n",
       "      <td>0.0</td>\n",
       "      <td>0</td>\n",
       "      <td>2</td>\n",
       "      <td>0</td>\n",
       "      <td>0</td>\n",
       "      <td>W</td>\n",
       "      <td>2011</td>\n",
       "    </tr>\n",
       "    <tr>\n",
       "      <th>3805703</th>\n",
       "      <td>youngmi02</td>\n",
       "      <td>Michael Young</td>\n",
       "      <td>TEX</td>\n",
       "      <td>LAA</td>\n",
       "      <td>4</td>\n",
       "      <td>4</td>\n",
       "      <td>1</td>\n",
       "      <td>1</td>\n",
       "      <td>0</td>\n",
       "      <td>0</td>\n",
       "      <td>0</td>\n",
       "      <td>0.0</td>\n",
       "      <td>0</td>\n",
       "      <td>0</td>\n",
       "      <td>0</td>\n",
       "      <td>0</td>\n",
       "      <td>W</td>\n",
       "      <td>2011</td>\n",
       "    </tr>\n",
       "    <tr>\n",
       "      <th>3805704</th>\n",
       "      <td>zobribe01</td>\n",
       "      <td>Ben Zobrist</td>\n",
       "      <td>TBR</td>\n",
       "      <td>NYY</td>\n",
       "      <td>6</td>\n",
       "      <td>5</td>\n",
       "      <td>1</td>\n",
       "      <td>1</td>\n",
       "      <td>1</td>\n",
       "      <td>0</td>\n",
       "      <td>0</td>\n",
       "      <td>0.0</td>\n",
       "      <td>1</td>\n",
       "      <td>1</td>\n",
       "      <td>0</td>\n",
       "      <td>0</td>\n",
       "      <td>W</td>\n",
       "      <td>2011</td>\n",
       "    </tr>\n",
       "  </tbody>\n",
       "</table>\n",
       "<p>1610240 rows × 18 columns</p>\n",
       "</div>"
      ],
      "text/plain": [
       "                ID          Player   Tm  Opp  PA  AB  R  H  2B  3B  HR  RBI  \\\n",
       "2195465  adamsgl01     Glenn Adams  MIN  SEA   4   4  0  1   1   0   0  0.0   \n",
       "2195466   baezjo01       Jose Baez  SEA  MIN   5   4  0  0   0   0   0  0.0   \n",
       "2195467  bochtbr01    Bruce Bochte  SEA  MIN   4   4  1  3   1   0   0  0.0   \n",
       "2195468  carewro01       Rod Carew  MIN  SEA   4   4  0  1   0   0   0  0.0   \n",
       "2195469  cubbami01    Mike Cubbage  MIN  SEA   4   4  0  1   0   0   0  1.0   \n",
       "...            ...             ...  ...  ...  ..  .. .. ..  ..  ..  ..  ...   \n",
       "3805700  youngch04     Chris Young  ARI  LAD   2   2  0  0   0   0   0  0.0   \n",
       "3805701  youngde03    Delmon Young  DET  CLE   4   4  1  1   0   0   0  0.0   \n",
       "3805702  younger03  Eric Young Jr.  COL  SFG   5   5  1  2   0   1   0  0.0   \n",
       "3805703  youngmi02   Michael Young  TEX  LAA   4   4  1  1   0   0   0  0.0   \n",
       "3805704  zobribe01     Ben Zobrist  TBR  NYY   6   5  1  1   1   0   0  0.0   \n",
       "\n",
       "         BB  SO  HBP  SH Result  Season  \n",
       "2195465   0   0    0   0      L    1978  \n",
       "2195466   0   2    0   1      W    1978  \n",
       "2195467   0   0    0   0      W    1978  \n",
       "2195468   0   1    0   0      L    1978  \n",
       "2195469   0   0    0   0      L    1978  \n",
       "...      ..  ..  ...  ..    ...     ...  \n",
       "3805700   0   2    0   0      L    2011  \n",
       "3805701   0   1    0   0      W    2011  \n",
       "3805702   0   2    0   0      W    2011  \n",
       "3805703   0   0    0   0      W    2011  \n",
       "3805704   1   1    0   0      W    2011  \n",
       "\n",
       "[1610240 rows x 18 columns]"
      ]
     },
     "execution_count": 114,
     "metadata": {},
     "output_type": "execute_result"
    }
   ],
   "source": [
    "df_mid"
   ]
  },
  {
   "cell_type": "code",
   "execution_count": 127,
   "id": "a540cf77",
   "metadata": {},
   "outputs": [],
   "source": [
    "temp = df_mid.groupby('ID')"
   ]
  },
  {
   "cell_type": "code",
   "execution_count": 133,
   "id": "ff2ab605",
   "metadata": {},
   "outputs": [
    {
     "data": {
      "text/html": [
       "<div>\n",
       "<style scoped>\n",
       "    .dataframe tbody tr th:only-of-type {\n",
       "        vertical-align: middle;\n",
       "    }\n",
       "\n",
       "    .dataframe tbody tr th {\n",
       "        vertical-align: top;\n",
       "    }\n",
       "\n",
       "    .dataframe thead th {\n",
       "        text-align: right;\n",
       "    }\n",
       "</style>\n",
       "<table border=\"1\" class=\"dataframe\">\n",
       "  <thead>\n",
       "    <tr style=\"text-align: right;\">\n",
       "      <th></th>\n",
       "      <th>PA</th>\n",
       "      <th>AB</th>\n",
       "    </tr>\n",
       "    <tr>\n",
       "      <th>ID</th>\n",
       "      <th></th>\n",
       "      <th></th>\n",
       "    </tr>\n",
       "  </thead>\n",
       "  <tbody>\n",
       "    <tr>\n",
       "      <th>aardsda01</th>\n",
       "      <td>4</td>\n",
       "      <td>3</td>\n",
       "    </tr>\n",
       "    <tr>\n",
       "      <th>aasedo01</th>\n",
       "      <td>5</td>\n",
       "      <td>5</td>\n",
       "    </tr>\n",
       "    <tr>\n",
       "      <th>abadan01</th>\n",
       "      <td>25</td>\n",
       "      <td>21</td>\n",
       "    </tr>\n",
       "    <tr>\n",
       "      <th>abadfe01</th>\n",
       "      <td>1</td>\n",
       "      <td>1</td>\n",
       "    </tr>\n",
       "    <tr>\n",
       "      <th>abbotje01</th>\n",
       "      <td>651</td>\n",
       "      <td>596</td>\n",
       "    </tr>\n",
       "    <tr>\n",
       "      <th>...</th>\n",
       "      <td>...</td>\n",
       "      <td>...</td>\n",
       "    </tr>\n",
       "    <tr>\n",
       "      <th>zoskyed01</th>\n",
       "      <td>53</td>\n",
       "      <td>50</td>\n",
       "    </tr>\n",
       "    <tr>\n",
       "      <th>zuberjo01</th>\n",
       "      <td>151</td>\n",
       "      <td>136</td>\n",
       "    </tr>\n",
       "    <tr>\n",
       "      <th>zuletju01</th>\n",
       "      <td>191</td>\n",
       "      <td>174</td>\n",
       "    </tr>\n",
       "    <tr>\n",
       "      <th>zupcibo01</th>\n",
       "      <td>886</td>\n",
       "      <td>795</td>\n",
       "    </tr>\n",
       "    <tr>\n",
       "      <th>zuvelpa01</th>\n",
       "      <td>545</td>\n",
       "      <td>491</td>\n",
       "    </tr>\n",
       "  </tbody>\n",
       "</table>\n",
       "<p>5707 rows × 2 columns</p>\n",
       "</div>"
      ],
      "text/plain": [
       "            PA   AB\n",
       "ID                 \n",
       "aardsda01    4    3\n",
       "aasedo01     5    5\n",
       "abadan01    25   21\n",
       "abadfe01     1    1\n",
       "abbotje01  651  596\n",
       "...        ...  ...\n",
       "zoskyed01   53   50\n",
       "zuberjo01  151  136\n",
       "zuletju01  191  174\n",
       "zupcibo01  886  795\n",
       "zuvelpa01  545  491\n",
       "\n",
       "[5707 rows x 2 columns]"
      ]
     },
     "execution_count": 133,
     "metadata": {},
     "output_type": "execute_result"
    }
   ],
   "source": [
    "temp[['PA','AB']].sum()"
   ]
  },
  {
   "cell_type": "code",
   "execution_count": null,
   "id": "39e99ce7",
   "metadata": {},
   "outputs": [],
   "source": []
  },
  {
   "cell_type": "markdown",
   "id": "b3e11e21",
   "metadata": {},
   "source": [
    "### Visualization(s)"
   ]
  },
  {
   "cell_type": "markdown",
   "id": "36bcc659",
   "metadata": {},
   "source": [
    "??? Before and after bar graphs?"
   ]
  },
  {
   "cell_type": "code",
   "execution_count": null,
   "id": "1444107a",
   "metadata": {},
   "outputs": [],
   "source": []
  },
  {
   "cell_type": "markdown",
   "id": "e715a52e",
   "metadata": {},
   "source": [
    "## Model Selection"
   ]
  },
  {
   "cell_type": "markdown",
   "id": "37aafbab",
   "metadata": {},
   "source": []
  },
  {
   "cell_type": "code",
   "execution_count": null,
   "id": "aa124dbe",
   "metadata": {},
   "outputs": [],
   "source": []
  },
  {
   "cell_type": "markdown",
   "id": "9a32c049",
   "metadata": {},
   "source": [
    "### Visualization(s)"
   ]
  },
  {
   "cell_type": "markdown",
   "id": "8aaf7814",
   "metadata": {},
   "source": []
  },
  {
   "cell_type": "code",
   "execution_count": null,
   "id": "f59aad33",
   "metadata": {},
   "outputs": [],
   "source": []
  },
  {
   "cell_type": "code",
   "execution_count": null,
   "id": "d9927096",
   "metadata": {},
   "outputs": [],
   "source": []
  },
  {
   "cell_type": "code",
   "execution_count": null,
   "id": "b7588ffc",
   "metadata": {},
   "outputs": [],
   "source": []
  },
  {
   "cell_type": "code",
   "execution_count": null,
   "id": "d97ff11e",
   "metadata": {},
   "outputs": [],
   "source": []
  },
  {
   "cell_type": "markdown",
   "id": "83e257a2",
   "metadata": {},
   "source": [
    "## Model Evaluation"
   ]
  },
  {
   "cell_type": "markdown",
   "id": "4cc8c6ab",
   "metadata": {},
   "source": []
  },
  {
   "cell_type": "code",
   "execution_count": null,
   "id": "48d7a7e6",
   "metadata": {},
   "outputs": [],
   "source": []
  },
  {
   "cell_type": "code",
   "execution_count": null,
   "id": "1cff9707",
   "metadata": {},
   "outputs": [],
   "source": []
  },
  {
   "cell_type": "markdown",
   "id": "cf058585",
   "metadata": {},
   "source": [
    "### Visualization(s)"
   ]
  },
  {
   "cell_type": "markdown",
   "id": "849e80d9",
   "metadata": {},
   "source": []
  },
  {
   "cell_type": "code",
   "execution_count": null,
   "id": "b9e191c3",
   "metadata": {},
   "outputs": [],
   "source": []
  },
  {
   "cell_type": "markdown",
   "id": "263537fb",
   "metadata": {},
   "source": [
    "## Concluding Comments"
   ]
  },
  {
   "cell_type": "markdown",
   "id": "0d46e9ec",
   "metadata": {},
   "source": []
  },
  {
   "cell_type": "markdown",
   "id": "6a0bf37c",
   "metadata": {},
   "source": []
  }
 ],
 "metadata": {
  "kernelspec": {
   "display_name": "Python 3 (ipykernel)",
   "language": "python",
   "name": "python3"
  },
  "language_info": {
   "codemirror_mode": {
    "name": "ipython",
    "version": 3
   },
   "file_extension": ".py",
   "mimetype": "text/x-python",
   "name": "python",
   "nbconvert_exporter": "python",
   "pygments_lexer": "ipython3",
   "version": "3.9.13"
  }
 },
 "nbformat": 4,
 "nbformat_minor": 5
}
