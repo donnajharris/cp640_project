{
 "cells": [
  {
   "cell_type": "markdown",
   "id": "aeff13b0",
   "metadata": {},
   "source": [
    "# Using Historical Data to Predict Batting Success: Step 3 - Hall Of Fame Modelling"
   ]
  },
  {
   "cell_type": "markdown",
   "id": "8ee7cb7d",
   "metadata": {},
   "source": [
    "Authored by: Donna J. Harris (994042890)\n",
    "\n",
    "Email: harr2890@mylaurier.ca\n",
    "\n",
    "For: CP640 Machine Learning (S22) with Professor Elham Harirpoush"
   ]
  },
  {
   "cell_type": "markdown",
   "id": "831ba23d",
   "metadata": {},
   "source": [
    "## Notebook Series"
   ]
  },
  {
   "cell_type": "markdown",
   "id": "56b99fd0",
   "metadata": {},
   "source": [
    "Just a word about the presentation of this project code.\n",
    "\n",
    "The code is organized into a series of locally executed Jupyter notebooks, organized by step and needing to be executed in sequence. This is `harr2890_project_step3_hof_modelling`, the third of XXXXX notebooks.  TODO"
   ]
  },
  {
   "cell_type": "markdown",
   "id": "2cfe6b78",
   "metadata": {},
   "source": [
    "## *Step 3 - Exploration and Modelling for a Hall of Fame Approach*"
   ]
  },
  {
   "cell_type": "markdown",
   "id": "cd06f3c9",
   "metadata": {},
   "source": [
    "word words word TODO\n"
   ]
  },
  {
   "cell_type": "markdown",
   "id": "b619cdff",
   "metadata": {},
   "source": [
    "## Environment Setup"
   ]
  },
  {
   "cell_type": "markdown",
   "id": "2e6427ee",
   "metadata": {},
   "source": [
    "Import and establish environment for our work, including showing all dataframe column values."
   ]
  },
  {
   "cell_type": "code",
   "execution_count": 1,
   "id": "7ab57cb3",
   "metadata": {},
   "outputs": [],
   "source": [
    "import pandas as pd\n",
    "\n",
    "pd.set_option('display.max_columns', None)"
   ]
  },
  {
   "cell_type": "markdown",
   "id": "7708803e",
   "metadata": {},
   "source": [
    "### Pre-Conditions"
   ]
  },
  {
   "cell_type": "markdown",
   "id": "0351cdbc",
   "metadata": {},
   "source": [
    "Steps 1-2 must be run completely before running this notebook.\n",
    "\n",
    "The `data` folder must exist with the following prepared data files:\n",
    "- `mlb_data..... TODO filename`\n",
    "- `hof data..... TODO filename`"
   ]
  },
  {
   "cell_type": "markdown",
   "id": "dd2a8c98",
   "metadata": {},
   "source": [
    "##  Loading Prepared Data Files"
   ]
  },
  {
   "cell_type": "code",
   "execution_count": null,
   "id": "d0b85c3e",
   "metadata": {},
   "outputs": [],
   "source": [
    "## TODO what should filename be???\n",
    "\n",
    "core_mlb_dataset = \"./data/core_mlb_dataset.csv\"\n",
    "df = pd.read_csv(core_mlb_dataset)\n",
    "df"
   ]
  },
  {
   "cell_type": "code",
   "execution_count": null,
   "id": "60438127",
   "metadata": {},
   "outputs": [],
   "source": [
    "## TODO what should filename be???\n",
    "\n",
    "hof_dataset = \"./data/hof_dataset.csv\"\n",
    "hof = pd.read_csv(hof_dataset)\n",
    "hof"
   ]
  },
  {
   "cell_type": "code",
   "execution_count": null,
   "id": "c6821b42",
   "metadata": {},
   "outputs": [],
   "source": []
  },
  {
   "cell_type": "markdown",
   "id": "87067dfc",
   "metadata": {},
   "source": []
  },
  {
   "cell_type": "markdown",
   "id": "d34f19cd",
   "metadata": {},
   "source": [
    "## Modelling (Selection? Experimentation?)"
   ]
  },
  {
   "cell_type": "markdown",
   "id": "e77cb82c",
   "metadata": {},
   "source": []
  },
  {
   "cell_type": "code",
   "execution_count": null,
   "id": "298bfe1a",
   "metadata": {},
   "outputs": [],
   "source": []
  }
 ],
 "metadata": {
  "kernelspec": {
   "display_name": "Python 3 (ipykernel)",
   "language": "python",
   "name": "python3"
  },
  "language_info": {
   "codemirror_mode": {
    "name": "ipython",
    "version": 3
   },
   "file_extension": ".py",
   "mimetype": "text/x-python",
   "name": "python",
   "nbconvert_exporter": "python",
   "pygments_lexer": "ipython3",
   "version": "3.9.13"
  }
 },
 "nbformat": 4,
 "nbformat_minor": 5
}
