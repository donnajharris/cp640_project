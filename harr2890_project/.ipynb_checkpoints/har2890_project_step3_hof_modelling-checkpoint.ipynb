{
 "cells": [
  {
   "cell_type": "markdown",
   "id": "aeff13b0",
   "metadata": {},
   "source": [
    "# Using Historical Data to Predict Batting Success: Step 3 - Hall Of Fame Modelling"
   ]
  },
  {
   "cell_type": "markdown",
   "id": "1cef1136",
   "metadata": {},
   "source": [
    "Authored by: Donna J. Harris (994042890)\n",
    "\n",
    "Email: harr2890@mylaurier.ca\n",
    "\n",
    "For: CP640 Machine Learning (S22) with Professor Elham Harirpoush"
   ]
  },
  {
   "cell_type": "markdown",
   "id": "63b73eca",
   "metadata": {},
   "source": [
    "### Notebook Series"
   ]
  },
  {
   "cell_type": "markdown",
   "id": "7d4fbd33",
   "metadata": {},
   "source": [
    "Just a word about the presentation of this project code.\n",
    "\n",
    "The code is organized into a series of locally executed Jupyter notebooks, organized by step and needing to be executed in sequence. This is `harr2890_project_step3_hof_modelling`, the third of XXXXX notebooks."
   ]
  },
  {
   "cell_type": "markdown",
   "id": "6002d6a5",
   "metadata": {},
   "source": [
    "## Environment Setup"
   ]
  },
  {
   "cell_type": "code",
   "execution_count": 1,
   "id": "e87e3fd6",
   "metadata": {},
   "outputs": [],
   "source": [
    "import pandas as pd\n",
    "\n",
    "pd.set_option('display.max_columns', None)"
   ]
  },
  {
   "cell_type": "markdown",
   "id": "f0b85488",
   "metadata": {},
   "source": [
    "## Load Prepared Data "
   ]
  },
  {
   "cell_type": "markdown",
   "id": "220f2822",
   "metadata": {},
   "source": [
    "### Pre-Conditions"
   ]
  },
  {
   "cell_type": "markdown",
   "id": "38ff44ed",
   "metadata": {},
   "source": [
    "Steps 1-2 must be run completely before running this notebook.\n",
    "\n",
    "The `data` folder must exist with the following prepared data files:\n",
    "- `mlb_data..... TODO filename`\n",
    "- `hof data..... TODO filename`"
   ]
  },
  {
   "cell_type": "markdown",
   "id": "dd2a8c98",
   "metadata": {},
   "source": [
    "###  Loading Prepared Data Files"
   ]
  },
  {
   "cell_type": "code",
   "execution_count": null,
   "id": "1957dde0",
   "metadata": {},
   "outputs": [],
   "source": [
    "## TODO what should filename be???\n",
    "\n",
    "core_mlb_dataset = \"./data/core_mlb_dataset.csv\"\n",
    "df = pd.read_csv(core_mlb_dataset)\n",
    "df"
   ]
  },
  {
   "cell_type": "code",
   "execution_count": null,
   "id": "3f7936fa",
   "metadata": {},
   "outputs": [],
   "source": [
    "## TODO what should filename be???\n",
    "\n",
    "hof_dataset = \"./data/hof_dataset.csv\"\n",
    "hof = pd.read_csv(hof_dataset)\n",
    "hof"
   ]
  },
  {
   "cell_type": "code",
   "execution_count": null,
   "id": "632cff7b",
   "metadata": {},
   "outputs": [],
   "source": []
  },
  {
   "cell_type": "markdown",
   "id": "87067dfc",
   "metadata": {},
   "source": []
  },
  {
   "cell_type": "markdown",
   "id": "d34f19cd",
   "metadata": {},
   "source": [
    "## Modelling (Selection? Experimentation?)"
   ]
  },
  {
   "cell_type": "markdown",
   "id": "1e0210b3",
   "metadata": {},
   "source": []
  },
  {
   "cell_type": "code",
   "execution_count": null,
   "id": "d1a3f2b7",
   "metadata": {},
   "outputs": [],
   "source": []
  }
 ],
 "metadata": {
  "kernelspec": {
   "display_name": "Python 3 (ipykernel)",
   "language": "python",
   "name": "python3"
  },
  "language_info": {
   "codemirror_mode": {
    "name": "ipython",
    "version": 3
   },
   "file_extension": ".py",
   "mimetype": "text/x-python",
   "name": "python",
   "nbconvert_exporter": "python",
   "pygments_lexer": "ipython3",
   "version": "3.9.13"
  }
 },
 "nbformat": 4,
 "nbformat_minor": 5
}
