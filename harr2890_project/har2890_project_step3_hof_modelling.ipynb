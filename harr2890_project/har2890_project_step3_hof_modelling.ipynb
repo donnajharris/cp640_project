{
 "cells": [
  {
   "cell_type": "markdown",
   "id": "aeff13b0",
   "metadata": {},
   "source": [
    "# Using Historical Data to Predict Batting Success: Step 3 - Hall Of Fame Modelling"
   ]
  },
  {
   "cell_type": "markdown",
   "id": "13f2646f",
   "metadata": {},
   "source": [
    "Authored by: Donna J. Harris (994042890)\n",
    "\n",
    "Email: harr2890@mylaurier.ca\n",
    "\n",
    "For: CP640 Machine Learning (S22) with Professor Elham Harirpoush"
   ]
  },
  {
   "cell_type": "markdown",
   "id": "9ceafc8f",
   "metadata": {},
   "source": [
    "## Notebook Series"
   ]
  },
  {
   "cell_type": "markdown",
   "id": "09438e4f",
   "metadata": {},
   "source": [
    "Just a word about the presentation of this project code.\n",
    "\n",
    "The code is organized into a series of locally executed Jupyter notebooks, organized by step and needing to be executed in sequence. This is `harr2890_project_step3_hof_modelling`, the third of XXXXX notebooks.  TODO"
   ]
  },
  {
   "cell_type": "markdown",
   "id": "c0f11f8a",
   "metadata": {},
   "source": [
    "## *Step 3 - Exploration and Modelling for a Hall of Fame Approach*"
   ]
  },
  {
   "cell_type": "markdown",
   "id": "26c557ae",
   "metadata": {},
   "source": [
    "word words word TODO\n"
   ]
  },
  {
   "cell_type": "markdown",
   "id": "684260b1",
   "metadata": {},
   "source": [
    "## Environment Setup"
   ]
  },
  {
   "cell_type": "markdown",
   "id": "f4c088fa",
   "metadata": {},
   "source": [
    "Import and establish environment for our work, including showing all dataframe column values."
   ]
  },
  {
   "cell_type": "code",
   "execution_count": 117,
   "id": "08d132f4",
   "metadata": {},
   "outputs": [],
   "source": [
    "import pandas as pd\n",
    "\n",
    "pd.set_option('display.max_columns', None)"
   ]
  },
  {
   "cell_type": "markdown",
   "id": "6b4b8a24",
   "metadata": {},
   "source": [
    "### Pre-Conditions"
   ]
  },
  {
   "cell_type": "markdown",
   "id": "d1747095",
   "metadata": {},
   "source": [
    "Steps 1-2 must be run completely before running this notebook.\n",
    "\n",
    "The `data` folder must exist with the following prepared data files:\n",
    "- `mlb_data..... TODO filename`\n",
    "- `hof data..... TODO filename`"
   ]
  },
  {
   "cell_type": "markdown",
   "id": "dd2a8c98",
   "metadata": {},
   "source": [
    "##  Loading Prepared Data Files"
   ]
  },
  {
   "cell_type": "code",
   "execution_count": 118,
   "id": "acd33188",
   "metadata": {},
   "outputs": [
    {
     "data": {
      "text/html": [
       "<div>\n",
       "<style scoped>\n",
       "    .dataframe tbody tr th:only-of-type {\n",
       "        vertical-align: middle;\n",
       "    }\n",
       "\n",
       "    .dataframe tbody tr th {\n",
       "        vertical-align: top;\n",
       "    }\n",
       "\n",
       "    .dataframe thead th {\n",
       "        text-align: right;\n",
       "    }\n",
       "</style>\n",
       "<table border=\"1\" class=\"dataframe\">\n",
       "  <thead>\n",
       "    <tr style=\"text-align: right;\">\n",
       "      <th></th>\n",
       "      <th>ID</th>\n",
       "      <th>Player</th>\n",
       "      <th>Number of Seasons</th>\n",
       "      <th>PA</th>\n",
       "      <th>AB</th>\n",
       "      <th>R</th>\n",
       "      <th>H</th>\n",
       "      <th>2B</th>\n",
       "      <th>3B</th>\n",
       "      <th>HR</th>\n",
       "      <th>RBI</th>\n",
       "      <th>BB</th>\n",
       "      <th>SO</th>\n",
       "      <th>HBP</th>\n",
       "      <th>SH</th>\n",
       "      <th>SF</th>\n",
       "      <th>AVG</th>\n",
       "      <th>SLG</th>\n",
       "      <th>OBP</th>\n",
       "      <th>OPS</th>\n",
       "      <th>Inductee</th>\n",
       "    </tr>\n",
       "  </thead>\n",
       "  <tbody>\n",
       "    <tr>\n",
       "      <th>0</th>\n",
       "      <td>aaronha01</td>\n",
       "      <td>Henry Aaron</td>\n",
       "      <td>23</td>\n",
       "      <td>13666</td>\n",
       "      <td>12121</td>\n",
       "      <td>2128</td>\n",
       "      <td>3703</td>\n",
       "      <td>614</td>\n",
       "      <td>96</td>\n",
       "      <td>740</td>\n",
       "      <td>2243</td>\n",
       "      <td>1372</td>\n",
       "      <td>1357</td>\n",
       "      <td>32</td>\n",
       "      <td>21</td>\n",
       "      <td>120</td>\n",
       "      <td>0.305503</td>\n",
       "      <td>0.555152</td>\n",
       "      <td>0.374276</td>\n",
       "      <td>0.929429</td>\n",
       "      <td>1</td>\n",
       "    </tr>\n",
       "    <tr>\n",
       "      <th>1</th>\n",
       "      <td>abreubo01</td>\n",
       "      <td>Bobby Abreu</td>\n",
       "      <td>18</td>\n",
       "      <td>10081</td>\n",
       "      <td>8480</td>\n",
       "      <td>1453</td>\n",
       "      <td>2470</td>\n",
       "      <td>574</td>\n",
       "      <td>59</td>\n",
       "      <td>288</td>\n",
       "      <td>1363</td>\n",
       "      <td>1476</td>\n",
       "      <td>1840</td>\n",
       "      <td>33</td>\n",
       "      <td>7</td>\n",
       "      <td>85</td>\n",
       "      <td>0.291274</td>\n",
       "      <td>0.474764</td>\n",
       "      <td>0.394977</td>\n",
       "      <td>0.869741</td>\n",
       "      <td>0</td>\n",
       "    </tr>\n",
       "    <tr>\n",
       "      <th>2</th>\n",
       "      <td>adairje01</td>\n",
       "      <td>Jerry Adair</td>\n",
       "      <td>13</td>\n",
       "      <td>4314</td>\n",
       "      <td>4019</td>\n",
       "      <td>376</td>\n",
       "      <td>1022</td>\n",
       "      <td>163</td>\n",
       "      <td>19</td>\n",
       "      <td>57</td>\n",
       "      <td>365</td>\n",
       "      <td>207</td>\n",
       "      <td>497</td>\n",
       "      <td>17</td>\n",
       "      <td>41</td>\n",
       "      <td>30</td>\n",
       "      <td>0.254292</td>\n",
       "      <td>0.346852</td>\n",
       "      <td>0.291598</td>\n",
       "      <td>0.638451</td>\n",
       "      <td>0</td>\n",
       "    </tr>\n",
       "    <tr>\n",
       "      <th>3</th>\n",
       "      <td>adamsbo03</td>\n",
       "      <td>Bobby Adams</td>\n",
       "      <td>14</td>\n",
       "      <td>4335</td>\n",
       "      <td>3846</td>\n",
       "      <td>557</td>\n",
       "      <td>1036</td>\n",
       "      <td>180</td>\n",
       "      <td>47</td>\n",
       "      <td>36</td>\n",
       "      <td>294</td>\n",
       "      <td>394</td>\n",
       "      <td>426</td>\n",
       "      <td>16</td>\n",
       "      <td>74</td>\n",
       "      <td>5</td>\n",
       "      <td>0.269371</td>\n",
       "      <td>0.368695</td>\n",
       "      <td>0.339357</td>\n",
       "      <td>0.708052</td>\n",
       "      <td>0</td>\n",
       "    </tr>\n",
       "    <tr>\n",
       "      <th>4</th>\n",
       "      <td>adamsma01</td>\n",
       "      <td>Matt Adams</td>\n",
       "      <td>10</td>\n",
       "      <td>2614</td>\n",
       "      <td>2421</td>\n",
       "      <td>297</td>\n",
       "      <td>624</td>\n",
       "      <td>130</td>\n",
       "      <td>6</td>\n",
       "      <td>118</td>\n",
       "      <td>399</td>\n",
       "      <td>165</td>\n",
       "      <td>643</td>\n",
       "      <td>12</td>\n",
       "      <td>0</td>\n",
       "      <td>16</td>\n",
       "      <td>0.257745</td>\n",
       "      <td>0.462619</td>\n",
       "      <td>0.306427</td>\n",
       "      <td>0.769046</td>\n",
       "      <td>0</td>\n",
       "    </tr>\n",
       "    <tr>\n",
       "      <th>...</th>\n",
       "      <td>...</td>\n",
       "      <td>...</td>\n",
       "      <td>...</td>\n",
       "      <td>...</td>\n",
       "      <td>...</td>\n",
       "      <td>...</td>\n",
       "      <td>...</td>\n",
       "      <td>...</td>\n",
       "      <td>...</td>\n",
       "      <td>...</td>\n",
       "      <td>...</td>\n",
       "      <td>...</td>\n",
       "      <td>...</td>\n",
       "      <td>...</td>\n",
       "      <td>...</td>\n",
       "      <td>...</td>\n",
       "      <td>...</td>\n",
       "      <td>...</td>\n",
       "      <td>...</td>\n",
       "      <td>...</td>\n",
       "      <td>...</td>\n",
       "    </tr>\n",
       "    <tr>\n",
       "      <th>1814</th>\n",
       "      <td>zernigu01</td>\n",
       "      <td>Gus Zernial</td>\n",
       "      <td>11</td>\n",
       "      <td>4361</td>\n",
       "      <td>3940</td>\n",
       "      <td>551</td>\n",
       "      <td>1049</td>\n",
       "      <td>152</td>\n",
       "      <td>21</td>\n",
       "      <td>227</td>\n",
       "      <td>749</td>\n",
       "      <td>375</td>\n",
       "      <td>731</td>\n",
       "      <td>24</td>\n",
       "      <td>2</td>\n",
       "      <td>20</td>\n",
       "      <td>0.266244</td>\n",
       "      <td>0.488325</td>\n",
       "      <td>0.332186</td>\n",
       "      <td>0.820511</td>\n",
       "      <td>0</td>\n",
       "    </tr>\n",
       "    <tr>\n",
       "      <th>1815</th>\n",
       "      <td>zimmedo01</td>\n",
       "      <td>Don Zimmer</td>\n",
       "      <td>12</td>\n",
       "      <td>3523</td>\n",
       "      <td>3218</td>\n",
       "      <td>342</td>\n",
       "      <td>758</td>\n",
       "      <td>127</td>\n",
       "      <td>21</td>\n",
       "      <td>90</td>\n",
       "      <td>348</td>\n",
       "      <td>242</td>\n",
       "      <td>662</td>\n",
       "      <td>13</td>\n",
       "      <td>36</td>\n",
       "      <td>14</td>\n",
       "      <td>0.235550</td>\n",
       "      <td>0.371970</td>\n",
       "      <td>0.290508</td>\n",
       "      <td>0.662478</td>\n",
       "      <td>0</td>\n",
       "    </tr>\n",
       "    <tr>\n",
       "      <th>1816</th>\n",
       "      <td>zimmery01</td>\n",
       "      <td>Ryan Zimmerman</td>\n",
       "      <td>16</td>\n",
       "      <td>7402</td>\n",
       "      <td>6654</td>\n",
       "      <td>963</td>\n",
       "      <td>1846</td>\n",
       "      <td>417</td>\n",
       "      <td>22</td>\n",
       "      <td>284</td>\n",
       "      <td>1061</td>\n",
       "      <td>646</td>\n",
       "      <td>1384</td>\n",
       "      <td>31</td>\n",
       "      <td>1</td>\n",
       "      <td>69</td>\n",
       "      <td>0.277427</td>\n",
       "      <td>0.474752</td>\n",
       "      <td>0.340946</td>\n",
       "      <td>0.815698</td>\n",
       "      <td>0</td>\n",
       "    </tr>\n",
       "    <tr>\n",
       "      <th>1817</th>\n",
       "      <td>ziskri01</td>\n",
       "      <td>Richie Zisk</td>\n",
       "      <td>13</td>\n",
       "      <td>5737</td>\n",
       "      <td>5144</td>\n",
       "      <td>681</td>\n",
       "      <td>1477</td>\n",
       "      <td>245</td>\n",
       "      <td>26</td>\n",
       "      <td>207</td>\n",
       "      <td>792</td>\n",
       "      <td>533</td>\n",
       "      <td>910</td>\n",
       "      <td>12</td>\n",
       "      <td>7</td>\n",
       "      <td>41</td>\n",
       "      <td>0.287131</td>\n",
       "      <td>0.465591</td>\n",
       "      <td>0.352880</td>\n",
       "      <td>0.818471</td>\n",
       "      <td>0</td>\n",
       "    </tr>\n",
       "    <tr>\n",
       "      <th>1818</th>\n",
       "      <td>zobribe01</td>\n",
       "      <td>Ben Zobrist</td>\n",
       "      <td>14</td>\n",
       "      <td>6836</td>\n",
       "      <td>5880</td>\n",
       "      <td>883</td>\n",
       "      <td>1566</td>\n",
       "      <td>349</td>\n",
       "      <td>44</td>\n",
       "      <td>167</td>\n",
       "      <td>768</td>\n",
       "      <td>832</td>\n",
       "      <td>994</td>\n",
       "      <td>31</td>\n",
       "      <td>26</td>\n",
       "      <td>67</td>\n",
       "      <td>0.266327</td>\n",
       "      <td>0.425850</td>\n",
       "      <td>0.356681</td>\n",
       "      <td>0.782532</td>\n",
       "      <td>0</td>\n",
       "    </tr>\n",
       "  </tbody>\n",
       "</table>\n",
       "<p>1819 rows × 21 columns</p>\n",
       "</div>"
      ],
      "text/plain": [
       "             ID          Player  Number of Seasons     PA     AB     R     H  \\\n",
       "0     aaronha01     Henry Aaron                 23  13666  12121  2128  3703   \n",
       "1     abreubo01     Bobby Abreu                 18  10081   8480  1453  2470   \n",
       "2     adairje01     Jerry Adair                 13   4314   4019   376  1022   \n",
       "3     adamsbo03     Bobby Adams                 14   4335   3846   557  1036   \n",
       "4     adamsma01      Matt Adams                 10   2614   2421   297   624   \n",
       "...         ...             ...                ...    ...    ...   ...   ...   \n",
       "1814  zernigu01     Gus Zernial                 11   4361   3940   551  1049   \n",
       "1815  zimmedo01      Don Zimmer                 12   3523   3218   342   758   \n",
       "1816  zimmery01  Ryan Zimmerman                 16   7402   6654   963  1846   \n",
       "1817   ziskri01     Richie Zisk                 13   5737   5144   681  1477   \n",
       "1818  zobribe01     Ben Zobrist                 14   6836   5880   883  1566   \n",
       "\n",
       "       2B  3B   HR   RBI    BB    SO  HBP  SH   SF       AVG       SLG  \\\n",
       "0     614  96  740  2243  1372  1357   32  21  120  0.305503  0.555152   \n",
       "1     574  59  288  1363  1476  1840   33   7   85  0.291274  0.474764   \n",
       "2     163  19   57   365   207   497   17  41   30  0.254292  0.346852   \n",
       "3     180  47   36   294   394   426   16  74    5  0.269371  0.368695   \n",
       "4     130   6  118   399   165   643   12   0   16  0.257745  0.462619   \n",
       "...   ...  ..  ...   ...   ...   ...  ...  ..  ...       ...       ...   \n",
       "1814  152  21  227   749   375   731   24   2   20  0.266244  0.488325   \n",
       "1815  127  21   90   348   242   662   13  36   14  0.235550  0.371970   \n",
       "1816  417  22  284  1061   646  1384   31   1   69  0.277427  0.474752   \n",
       "1817  245  26  207   792   533   910   12   7   41  0.287131  0.465591   \n",
       "1818  349  44  167   768   832   994   31  26   67  0.266327  0.425850   \n",
       "\n",
       "           OBP       OPS  Inductee  \n",
       "0     0.374276  0.929429         1  \n",
       "1     0.394977  0.869741         0  \n",
       "2     0.291598  0.638451         0  \n",
       "3     0.339357  0.708052         0  \n",
       "4     0.306427  0.769046         0  \n",
       "...        ...       ...       ...  \n",
       "1814  0.332186  0.820511         0  \n",
       "1815  0.290508  0.662478         0  \n",
       "1816  0.340946  0.815698         0  \n",
       "1817  0.352880  0.818471         0  \n",
       "1818  0.356681  0.782532         0  \n",
       "\n",
       "[1819 rows x 21 columns]"
      ]
     },
     "execution_count": 118,
     "metadata": {},
     "output_type": "execute_result"
    }
   ],
   "source": [
    "alldata_csv = \"./data/step2_alldata.csv\"\n",
    "alldata = pd.read_csv(alldata_csv)\n",
    "alldata"
   ]
  },
  {
   "cell_type": "code",
   "execution_count": 119,
   "id": "aa19826f",
   "metadata": {},
   "outputs": [
    {
     "data": {
      "text/html": [
       "<div>\n",
       "<style scoped>\n",
       "    .dataframe tbody tr th:only-of-type {\n",
       "        vertical-align: middle;\n",
       "    }\n",
       "\n",
       "    .dataframe tbody tr th {\n",
       "        vertical-align: top;\n",
       "    }\n",
       "\n",
       "    .dataframe thead th {\n",
       "        text-align: right;\n",
       "    }\n",
       "</style>\n",
       "<table border=\"1\" class=\"dataframe\">\n",
       "  <thead>\n",
       "    <tr style=\"text-align: right;\">\n",
       "      <th></th>\n",
       "      <th>ID</th>\n",
       "      <th>Player</th>\n",
       "      <th>Number of Seasons</th>\n",
       "      <th>PA</th>\n",
       "      <th>AB</th>\n",
       "      <th>R</th>\n",
       "      <th>H</th>\n",
       "      <th>2B</th>\n",
       "      <th>3B</th>\n",
       "      <th>HR</th>\n",
       "      <th>RBI</th>\n",
       "      <th>BB</th>\n",
       "      <th>SO</th>\n",
       "      <th>HBP</th>\n",
       "      <th>SH</th>\n",
       "      <th>SF</th>\n",
       "      <th>AVG</th>\n",
       "      <th>SLG</th>\n",
       "      <th>OBP</th>\n",
       "      <th>OPS</th>\n",
       "      <th>Inductee</th>\n",
       "    </tr>\n",
       "  </thead>\n",
       "  <tbody>\n",
       "    <tr>\n",
       "      <th>0</th>\n",
       "      <td>aaronha01</td>\n",
       "      <td>Henry Aaron</td>\n",
       "      <td>23</td>\n",
       "      <td>13666</td>\n",
       "      <td>12121</td>\n",
       "      <td>2128</td>\n",
       "      <td>3703</td>\n",
       "      <td>614</td>\n",
       "      <td>96</td>\n",
       "      <td>740</td>\n",
       "      <td>2243</td>\n",
       "      <td>1372</td>\n",
       "      <td>1357</td>\n",
       "      <td>32</td>\n",
       "      <td>21</td>\n",
       "      <td>120</td>\n",
       "      <td>0.305503</td>\n",
       "      <td>0.555152</td>\n",
       "      <td>0.374276</td>\n",
       "      <td>0.929429</td>\n",
       "      <td>1</td>\n",
       "    </tr>\n",
       "    <tr>\n",
       "      <th>1</th>\n",
       "      <td>abreubo01</td>\n",
       "      <td>Bobby Abreu</td>\n",
       "      <td>18</td>\n",
       "      <td>10081</td>\n",
       "      <td>8480</td>\n",
       "      <td>1453</td>\n",
       "      <td>2470</td>\n",
       "      <td>574</td>\n",
       "      <td>59</td>\n",
       "      <td>288</td>\n",
       "      <td>1363</td>\n",
       "      <td>1476</td>\n",
       "      <td>1840</td>\n",
       "      <td>33</td>\n",
       "      <td>7</td>\n",
       "      <td>85</td>\n",
       "      <td>0.291274</td>\n",
       "      <td>0.474764</td>\n",
       "      <td>0.394977</td>\n",
       "      <td>0.869741</td>\n",
       "      <td>0</td>\n",
       "    </tr>\n",
       "    <tr>\n",
       "      <th>2</th>\n",
       "      <td>adairje01</td>\n",
       "      <td>Jerry Adair</td>\n",
       "      <td>13</td>\n",
       "      <td>4314</td>\n",
       "      <td>4019</td>\n",
       "      <td>376</td>\n",
       "      <td>1022</td>\n",
       "      <td>163</td>\n",
       "      <td>19</td>\n",
       "      <td>57</td>\n",
       "      <td>365</td>\n",
       "      <td>207</td>\n",
       "      <td>497</td>\n",
       "      <td>17</td>\n",
       "      <td>41</td>\n",
       "      <td>30</td>\n",
       "      <td>0.254292</td>\n",
       "      <td>0.346852</td>\n",
       "      <td>0.291598</td>\n",
       "      <td>0.638451</td>\n",
       "      <td>0</td>\n",
       "    </tr>\n",
       "    <tr>\n",
       "      <th>3</th>\n",
       "      <td>adamsbo03</td>\n",
       "      <td>Bobby Adams</td>\n",
       "      <td>14</td>\n",
       "      <td>4335</td>\n",
       "      <td>3846</td>\n",
       "      <td>557</td>\n",
       "      <td>1036</td>\n",
       "      <td>180</td>\n",
       "      <td>47</td>\n",
       "      <td>36</td>\n",
       "      <td>294</td>\n",
       "      <td>394</td>\n",
       "      <td>426</td>\n",
       "      <td>16</td>\n",
       "      <td>74</td>\n",
       "      <td>5</td>\n",
       "      <td>0.269371</td>\n",
       "      <td>0.368695</td>\n",
       "      <td>0.339357</td>\n",
       "      <td>0.708052</td>\n",
       "      <td>0</td>\n",
       "    </tr>\n",
       "    <tr>\n",
       "      <th>4</th>\n",
       "      <td>adamssp01</td>\n",
       "      <td>Sparky Adams</td>\n",
       "      <td>13</td>\n",
       "      <td>6175</td>\n",
       "      <td>5558</td>\n",
       "      <td>839</td>\n",
       "      <td>1588</td>\n",
       "      <td>249</td>\n",
       "      <td>49</td>\n",
       "      <td>9</td>\n",
       "      <td>390</td>\n",
       "      <td>453</td>\n",
       "      <td>222</td>\n",
       "      <td>28</td>\n",
       "      <td>95</td>\n",
       "      <td>0</td>\n",
       "      <td>0.285714</td>\n",
       "      <td>0.353005</td>\n",
       "      <td>0.342606</td>\n",
       "      <td>0.695611</td>\n",
       "      <td>0</td>\n",
       "    </tr>\n",
       "    <tr>\n",
       "      <th>...</th>\n",
       "      <td>...</td>\n",
       "      <td>...</td>\n",
       "      <td>...</td>\n",
       "      <td>...</td>\n",
       "      <td>...</td>\n",
       "      <td>...</td>\n",
       "      <td>...</td>\n",
       "      <td>...</td>\n",
       "      <td>...</td>\n",
       "      <td>...</td>\n",
       "      <td>...</td>\n",
       "      <td>...</td>\n",
       "      <td>...</td>\n",
       "      <td>...</td>\n",
       "      <td>...</td>\n",
       "      <td>...</td>\n",
       "      <td>...</td>\n",
       "      <td>...</td>\n",
       "      <td>...</td>\n",
       "      <td>...</td>\n",
       "      <td>...</td>\n",
       "    </tr>\n",
       "    <tr>\n",
       "      <th>1509</th>\n",
       "      <td>zaungr01</td>\n",
       "      <td>Gregg Zaun</td>\n",
       "      <td>16</td>\n",
       "      <td>4042</td>\n",
       "      <td>3489</td>\n",
       "      <td>431</td>\n",
       "      <td>878</td>\n",
       "      <td>194</td>\n",
       "      <td>9</td>\n",
       "      <td>88</td>\n",
       "      <td>446</td>\n",
       "      <td>479</td>\n",
       "      <td>544</td>\n",
       "      <td>29</td>\n",
       "      <td>14</td>\n",
       "      <td>31</td>\n",
       "      <td>0.251648</td>\n",
       "      <td>0.388077</td>\n",
       "      <td>0.344091</td>\n",
       "      <td>0.732168</td>\n",
       "      <td>0</td>\n",
       "    </tr>\n",
       "    <tr>\n",
       "      <th>1510</th>\n",
       "      <td>zeileto01</td>\n",
       "      <td>Todd Zeile</td>\n",
       "      <td>16</td>\n",
       "      <td>8649</td>\n",
       "      <td>7573</td>\n",
       "      <td>986</td>\n",
       "      <td>2004</td>\n",
       "      <td>397</td>\n",
       "      <td>23</td>\n",
       "      <td>253</td>\n",
       "      <td>1110</td>\n",
       "      <td>945</td>\n",
       "      <td>1279</td>\n",
       "      <td>42</td>\n",
       "      <td>8</td>\n",
       "      <td>81</td>\n",
       "      <td>0.264624</td>\n",
       "      <td>0.423346</td>\n",
       "      <td>0.346140</td>\n",
       "      <td>0.769487</td>\n",
       "      <td>0</td>\n",
       "    </tr>\n",
       "    <tr>\n",
       "      <th>1511</th>\n",
       "      <td>zernigu01</td>\n",
       "      <td>Gus Zernial</td>\n",
       "      <td>11</td>\n",
       "      <td>4361</td>\n",
       "      <td>3940</td>\n",
       "      <td>551</td>\n",
       "      <td>1049</td>\n",
       "      <td>152</td>\n",
       "      <td>21</td>\n",
       "      <td>227</td>\n",
       "      <td>749</td>\n",
       "      <td>375</td>\n",
       "      <td>731</td>\n",
       "      <td>24</td>\n",
       "      <td>2</td>\n",
       "      <td>20</td>\n",
       "      <td>0.266244</td>\n",
       "      <td>0.488325</td>\n",
       "      <td>0.332186</td>\n",
       "      <td>0.820511</td>\n",
       "      <td>0</td>\n",
       "    </tr>\n",
       "    <tr>\n",
       "      <th>1512</th>\n",
       "      <td>zimmedo01</td>\n",
       "      <td>Don Zimmer</td>\n",
       "      <td>12</td>\n",
       "      <td>3523</td>\n",
       "      <td>3218</td>\n",
       "      <td>342</td>\n",
       "      <td>758</td>\n",
       "      <td>127</td>\n",
       "      <td>21</td>\n",
       "      <td>90</td>\n",
       "      <td>348</td>\n",
       "      <td>242</td>\n",
       "      <td>662</td>\n",
       "      <td>13</td>\n",
       "      <td>36</td>\n",
       "      <td>14</td>\n",
       "      <td>0.235550</td>\n",
       "      <td>0.371970</td>\n",
       "      <td>0.290508</td>\n",
       "      <td>0.662478</td>\n",
       "      <td>0</td>\n",
       "    </tr>\n",
       "    <tr>\n",
       "      <th>1513</th>\n",
       "      <td>ziskri01</td>\n",
       "      <td>Richie Zisk</td>\n",
       "      <td>13</td>\n",
       "      <td>5737</td>\n",
       "      <td>5144</td>\n",
       "      <td>681</td>\n",
       "      <td>1477</td>\n",
       "      <td>245</td>\n",
       "      <td>26</td>\n",
       "      <td>207</td>\n",
       "      <td>792</td>\n",
       "      <td>533</td>\n",
       "      <td>910</td>\n",
       "      <td>12</td>\n",
       "      <td>7</td>\n",
       "      <td>41</td>\n",
       "      <td>0.287131</td>\n",
       "      <td>0.465591</td>\n",
       "      <td>0.352880</td>\n",
       "      <td>0.818471</td>\n",
       "      <td>0</td>\n",
       "    </tr>\n",
       "  </tbody>\n",
       "</table>\n",
       "<p>1514 rows × 21 columns</p>\n",
       "</div>"
      ],
      "text/plain": [
       "             ID        Player  Number of Seasons     PA     AB     R     H  \\\n",
       "0     aaronha01   Henry Aaron                 23  13666  12121  2128  3703   \n",
       "1     abreubo01   Bobby Abreu                 18  10081   8480  1453  2470   \n",
       "2     adairje01   Jerry Adair                 13   4314   4019   376  1022   \n",
       "3     adamsbo03   Bobby Adams                 14   4335   3846   557  1036   \n",
       "4     adamssp01  Sparky Adams                 13   6175   5558   839  1588   \n",
       "...         ...           ...                ...    ...    ...   ...   ...   \n",
       "1509   zaungr01    Gregg Zaun                 16   4042   3489   431   878   \n",
       "1510  zeileto01    Todd Zeile                 16   8649   7573   986  2004   \n",
       "1511  zernigu01   Gus Zernial                 11   4361   3940   551  1049   \n",
       "1512  zimmedo01    Don Zimmer                 12   3523   3218   342   758   \n",
       "1513   ziskri01   Richie Zisk                 13   5737   5144   681  1477   \n",
       "\n",
       "       2B  3B   HR   RBI    BB    SO  HBP  SH   SF       AVG       SLG  \\\n",
       "0     614  96  740  2243  1372  1357   32  21  120  0.305503  0.555152   \n",
       "1     574  59  288  1363  1476  1840   33   7   85  0.291274  0.474764   \n",
       "2     163  19   57   365   207   497   17  41   30  0.254292  0.346852   \n",
       "3     180  47   36   294   394   426   16  74    5  0.269371  0.368695   \n",
       "4     249  49    9   390   453   222   28  95    0  0.285714  0.353005   \n",
       "...   ...  ..  ...   ...   ...   ...  ...  ..  ...       ...       ...   \n",
       "1509  194   9   88   446   479   544   29  14   31  0.251648  0.388077   \n",
       "1510  397  23  253  1110   945  1279   42   8   81  0.264624  0.423346   \n",
       "1511  152  21  227   749   375   731   24   2   20  0.266244  0.488325   \n",
       "1512  127  21   90   348   242   662   13  36   14  0.235550  0.371970   \n",
       "1513  245  26  207   792   533   910   12   7   41  0.287131  0.465591   \n",
       "\n",
       "           OBP       OPS  Inductee  \n",
       "0     0.374276  0.929429         1  \n",
       "1     0.394977  0.869741         0  \n",
       "2     0.291598  0.638451         0  \n",
       "3     0.339357  0.708052         0  \n",
       "4     0.342606  0.695611         0  \n",
       "...        ...       ...       ...  \n",
       "1509  0.344091  0.732168         0  \n",
       "1510  0.346140  0.769487         0  \n",
       "1511  0.332186  0.820511         0  \n",
       "1512  0.290508  0.662478         0  \n",
       "1513  0.352880  0.818471         0  \n",
       "\n",
       "[1514 rows x 21 columns]"
      ]
     },
     "execution_count": 119,
     "metadata": {},
     "output_type": "execute_result"
    }
   ],
   "source": [
    "pre_2000_csv = \"./data/step2_pre_2000.csv\"\n",
    "pre_2000 = pd.read_csv(pre_2000_csv)\n",
    "pre_2000"
   ]
  },
  {
   "cell_type": "code",
   "execution_count": 120,
   "id": "5d6d94e2",
   "metadata": {},
   "outputs": [
    {
     "data": {
      "text/html": [
       "<div>\n",
       "<style scoped>\n",
       "    .dataframe tbody tr th:only-of-type {\n",
       "        vertical-align: middle;\n",
       "    }\n",
       "\n",
       "    .dataframe tbody tr th {\n",
       "        vertical-align: top;\n",
       "    }\n",
       "\n",
       "    .dataframe thead th {\n",
       "        text-align: right;\n",
       "    }\n",
       "</style>\n",
       "<table border=\"1\" class=\"dataframe\">\n",
       "  <thead>\n",
       "    <tr style=\"text-align: right;\">\n",
       "      <th></th>\n",
       "      <th>ID</th>\n",
       "      <th>Player</th>\n",
       "      <th>Number of Seasons</th>\n",
       "      <th>PA</th>\n",
       "      <th>AB</th>\n",
       "      <th>R</th>\n",
       "      <th>H</th>\n",
       "      <th>2B</th>\n",
       "      <th>3B</th>\n",
       "      <th>HR</th>\n",
       "      <th>RBI</th>\n",
       "      <th>BB</th>\n",
       "      <th>SO</th>\n",
       "      <th>HBP</th>\n",
       "      <th>SH</th>\n",
       "      <th>SF</th>\n",
       "      <th>AVG</th>\n",
       "      <th>SLG</th>\n",
       "      <th>OBP</th>\n",
       "      <th>OPS</th>\n",
       "      <th>Inductee</th>\n",
       "    </tr>\n",
       "  </thead>\n",
       "  <tbody>\n",
       "    <tr>\n",
       "      <th>0</th>\n",
       "      <td>adamsma01</td>\n",
       "      <td>Matt Adams</td>\n",
       "      <td>10</td>\n",
       "      <td>2614</td>\n",
       "      <td>2421</td>\n",
       "      <td>297</td>\n",
       "      <td>624</td>\n",
       "      <td>130</td>\n",
       "      <td>6</td>\n",
       "      <td>118</td>\n",
       "      <td>399</td>\n",
       "      <td>165</td>\n",
       "      <td>643</td>\n",
       "      <td>12</td>\n",
       "      <td>0</td>\n",
       "      <td>16</td>\n",
       "      <td>0.257745</td>\n",
       "      <td>0.462619</td>\n",
       "      <td>0.306427</td>\n",
       "      <td>0.769046</td>\n",
       "      <td>0</td>\n",
       "    </tr>\n",
       "    <tr>\n",
       "      <th>1</th>\n",
       "      <td>alonsyo01</td>\n",
       "      <td>Yonder Alonso</td>\n",
       "      <td>10</td>\n",
       "      <td>3773</td>\n",
       "      <td>3362</td>\n",
       "      <td>390</td>\n",
       "      <td>872</td>\n",
       "      <td>181</td>\n",
       "      <td>2</td>\n",
       "      <td>100</td>\n",
       "      <td>426</td>\n",
       "      <td>366</td>\n",
       "      <td>648</td>\n",
       "      <td>16</td>\n",
       "      <td>1</td>\n",
       "      <td>28</td>\n",
       "      <td>0.259369</td>\n",
       "      <td>0.403629</td>\n",
       "      <td>0.332450</td>\n",
       "      <td>0.736078</td>\n",
       "      <td>0</td>\n",
       "    </tr>\n",
       "    <tr>\n",
       "      <th>2</th>\n",
       "      <td>altuvjo01</td>\n",
       "      <td>Jose Altuve</td>\n",
       "      <td>11</td>\n",
       "      <td>6346</td>\n",
       "      <td>5778</td>\n",
       "      <td>883</td>\n",
       "      <td>1777</td>\n",
       "      <td>340</td>\n",
       "      <td>29</td>\n",
       "      <td>164</td>\n",
       "      <td>639</td>\n",
       "      <td>443</td>\n",
       "      <td>753</td>\n",
       "      <td>54</td>\n",
       "      <td>26</td>\n",
       "      <td>45</td>\n",
       "      <td>0.307546</td>\n",
       "      <td>0.461578</td>\n",
       "      <td>0.359810</td>\n",
       "      <td>0.821389</td>\n",
       "      <td>0</td>\n",
       "    </tr>\n",
       "    <tr>\n",
       "      <th>3</th>\n",
       "      <td>andinro01</td>\n",
       "      <td>Robert Andino</td>\n",
       "      <td>10</td>\n",
       "      <td>1491</td>\n",
       "      <td>1344</td>\n",
       "      <td>153</td>\n",
       "      <td>313</td>\n",
       "      <td>58</td>\n",
       "      <td>1</td>\n",
       "      <td>18</td>\n",
       "      <td>97</td>\n",
       "      <td>113</td>\n",
       "      <td>313</td>\n",
       "      <td>6</td>\n",
       "      <td>21</td>\n",
       "      <td>7</td>\n",
       "      <td>0.232887</td>\n",
       "      <td>0.317708</td>\n",
       "      <td>0.293878</td>\n",
       "      <td>0.611586</td>\n",
       "      <td>0</td>\n",
       "    </tr>\n",
       "    <tr>\n",
       "      <th>4</th>\n",
       "      <td>andruel01</td>\n",
       "      <td>Elvis Andrus</td>\n",
       "      <td>13</td>\n",
       "      <td>7620</td>\n",
       "      <td>6863</td>\n",
       "      <td>953</td>\n",
       "      <td>1864</td>\n",
       "      <td>328</td>\n",
       "      <td>50</td>\n",
       "      <td>79</td>\n",
       "      <td>673</td>\n",
       "      <td>547</td>\n",
       "      <td>1043</td>\n",
       "      <td>50</td>\n",
       "      <td>103</td>\n",
       "      <td>56</td>\n",
       "      <td>0.271601</td>\n",
       "      <td>0.368498</td>\n",
       "      <td>0.327435</td>\n",
       "      <td>0.695933</td>\n",
       "      <td>0</td>\n",
       "    </tr>\n",
       "    <tr>\n",
       "      <th>...</th>\n",
       "      <td>...</td>\n",
       "      <td>...</td>\n",
       "      <td>...</td>\n",
       "      <td>...</td>\n",
       "      <td>...</td>\n",
       "      <td>...</td>\n",
       "      <td>...</td>\n",
       "      <td>...</td>\n",
       "      <td>...</td>\n",
       "      <td>...</td>\n",
       "      <td>...</td>\n",
       "      <td>...</td>\n",
       "      <td>...</td>\n",
       "      <td>...</td>\n",
       "      <td>...</td>\n",
       "      <td>...</td>\n",
       "      <td>...</td>\n",
       "      <td>...</td>\n",
       "      <td>...</td>\n",
       "      <td>...</td>\n",
       "      <td>...</td>\n",
       "    </tr>\n",
       "    <tr>\n",
       "      <th>300</th>\n",
       "      <td>youngde03</td>\n",
       "      <td>Delmon Young</td>\n",
       "      <td>10</td>\n",
       "      <td>4371</td>\n",
       "      <td>4108</td>\n",
       "      <td>473</td>\n",
       "      <td>1162</td>\n",
       "      <td>218</td>\n",
       "      <td>11</td>\n",
       "      <td>109</td>\n",
       "      <td>566</td>\n",
       "      <td>179</td>\n",
       "      <td>784</td>\n",
       "      <td>40</td>\n",
       "      <td>1</td>\n",
       "      <td>43</td>\n",
       "      <td>0.282863</td>\n",
       "      <td>0.420886</td>\n",
       "      <td>0.316018</td>\n",
       "      <td>0.736904</td>\n",
       "      <td>0</td>\n",
       "    </tr>\n",
       "    <tr>\n",
       "      <th>301</th>\n",
       "      <td>younger03</td>\n",
       "      <td>Eric Young Jr.</td>\n",
       "      <td>10</td>\n",
       "      <td>1926</td>\n",
       "      <td>1725</td>\n",
       "      <td>253</td>\n",
       "      <td>422</td>\n",
       "      <td>67</td>\n",
       "      <td>22</td>\n",
       "      <td>13</td>\n",
       "      <td>112</td>\n",
       "      <td>147</td>\n",
       "      <td>350</td>\n",
       "      <td>23</td>\n",
       "      <td>26</td>\n",
       "      <td>5</td>\n",
       "      <td>0.244638</td>\n",
       "      <td>0.331594</td>\n",
       "      <td>0.311579</td>\n",
       "      <td>0.643173</td>\n",
       "      <td>0</td>\n",
       "    </tr>\n",
       "    <tr>\n",
       "      <th>302</th>\n",
       "      <td>youngmi02</td>\n",
       "      <td>Michael Young</td>\n",
       "      <td>14</td>\n",
       "      <td>8612</td>\n",
       "      <td>7918</td>\n",
       "      <td>1136</td>\n",
       "      <td>2375</td>\n",
       "      <td>441</td>\n",
       "      <td>60</td>\n",
       "      <td>185</td>\n",
       "      <td>1030</td>\n",
       "      <td>575</td>\n",
       "      <td>1235</td>\n",
       "      <td>22</td>\n",
       "      <td>25</td>\n",
       "      <td>72</td>\n",
       "      <td>0.299949</td>\n",
       "      <td>0.440894</td>\n",
       "      <td>0.346105</td>\n",
       "      <td>0.786999</td>\n",
       "      <td>0</td>\n",
       "    </tr>\n",
       "    <tr>\n",
       "      <th>303</th>\n",
       "      <td>zimmery01</td>\n",
       "      <td>Ryan Zimmerman</td>\n",
       "      <td>16</td>\n",
       "      <td>7402</td>\n",
       "      <td>6654</td>\n",
       "      <td>963</td>\n",
       "      <td>1846</td>\n",
       "      <td>417</td>\n",
       "      <td>22</td>\n",
       "      <td>284</td>\n",
       "      <td>1061</td>\n",
       "      <td>646</td>\n",
       "      <td>1384</td>\n",
       "      <td>31</td>\n",
       "      <td>1</td>\n",
       "      <td>69</td>\n",
       "      <td>0.277427</td>\n",
       "      <td>0.474752</td>\n",
       "      <td>0.340946</td>\n",
       "      <td>0.815698</td>\n",
       "      <td>0</td>\n",
       "    </tr>\n",
       "    <tr>\n",
       "      <th>304</th>\n",
       "      <td>zobribe01</td>\n",
       "      <td>Ben Zobrist</td>\n",
       "      <td>14</td>\n",
       "      <td>6836</td>\n",
       "      <td>5880</td>\n",
       "      <td>883</td>\n",
       "      <td>1566</td>\n",
       "      <td>349</td>\n",
       "      <td>44</td>\n",
       "      <td>167</td>\n",
       "      <td>768</td>\n",
       "      <td>832</td>\n",
       "      <td>994</td>\n",
       "      <td>31</td>\n",
       "      <td>26</td>\n",
       "      <td>67</td>\n",
       "      <td>0.266327</td>\n",
       "      <td>0.425850</td>\n",
       "      <td>0.356681</td>\n",
       "      <td>0.782532</td>\n",
       "      <td>0</td>\n",
       "    </tr>\n",
       "  </tbody>\n",
       "</table>\n",
       "<p>305 rows × 21 columns</p>\n",
       "</div>"
      ],
      "text/plain": [
       "            ID          Player  Number of Seasons    PA    AB     R     H  \\\n",
       "0    adamsma01      Matt Adams                 10  2614  2421   297   624   \n",
       "1    alonsyo01   Yonder Alonso                 10  3773  3362   390   872   \n",
       "2    altuvjo01     Jose Altuve                 11  6346  5778   883  1777   \n",
       "3    andinro01   Robert Andino                 10  1491  1344   153   313   \n",
       "4    andruel01    Elvis Andrus                 13  7620  6863   953  1864   \n",
       "..         ...             ...                ...   ...   ...   ...   ...   \n",
       "300  youngde03    Delmon Young                 10  4371  4108   473  1162   \n",
       "301  younger03  Eric Young Jr.                 10  1926  1725   253   422   \n",
       "302  youngmi02   Michael Young                 14  8612  7918  1136  2375   \n",
       "303  zimmery01  Ryan Zimmerman                 16  7402  6654   963  1846   \n",
       "304  zobribe01     Ben Zobrist                 14  6836  5880   883  1566   \n",
       "\n",
       "      2B  3B   HR   RBI   BB    SO  HBP   SH  SF       AVG       SLG  \\\n",
       "0    130   6  118   399  165   643   12    0  16  0.257745  0.462619   \n",
       "1    181   2  100   426  366   648   16    1  28  0.259369  0.403629   \n",
       "2    340  29  164   639  443   753   54   26  45  0.307546  0.461578   \n",
       "3     58   1   18    97  113   313    6   21   7  0.232887  0.317708   \n",
       "4    328  50   79   673  547  1043   50  103  56  0.271601  0.368498   \n",
       "..   ...  ..  ...   ...  ...   ...  ...  ...  ..       ...       ...   \n",
       "300  218  11  109   566  179   784   40    1  43  0.282863  0.420886   \n",
       "301   67  22   13   112  147   350   23   26   5  0.244638  0.331594   \n",
       "302  441  60  185  1030  575  1235   22   25  72  0.299949  0.440894   \n",
       "303  417  22  284  1061  646  1384   31    1  69  0.277427  0.474752   \n",
       "304  349  44  167   768  832   994   31   26  67  0.266327  0.425850   \n",
       "\n",
       "          OBP       OPS  Inductee  \n",
       "0    0.306427  0.769046         0  \n",
       "1    0.332450  0.736078         0  \n",
       "2    0.359810  0.821389         0  \n",
       "3    0.293878  0.611586         0  \n",
       "4    0.327435  0.695933         0  \n",
       "..        ...       ...       ...  \n",
       "300  0.316018  0.736904         0  \n",
       "301  0.311579  0.643173         0  \n",
       "302  0.346105  0.786999         0  \n",
       "303  0.340946  0.815698         0  \n",
       "304  0.356681  0.782532         0  \n",
       "\n",
       "[305 rows x 21 columns]"
      ]
     },
     "execution_count": 120,
     "metadata": {},
     "output_type": "execute_result"
    }
   ],
   "source": [
    "from_2000_csv = \"./data/step2_from_2000.csv\"\n",
    "from_2000 = pd.read_csv(from_2000_csv)\n",
    "from_2000"
   ]
  },
  {
   "cell_type": "markdown",
   "id": "cfc7c929-0ae0-4674-a834-5db98a60adb3",
   "metadata": {},
   "source": [
    "For later, we want the names of players in the `from_2000` data."
   ]
  },
  {
   "cell_type": "code",
   "execution_count": 121,
   "id": "bfd96559-3189-4644-9e30-cbd5fe7e9a75",
   "metadata": {},
   "outputs": [
    {
     "data": {
      "text/plain": [
       "0          Matt Adams\n",
       "1       Yonder Alonso\n",
       "2         Jose Altuve\n",
       "3       Robert Andino\n",
       "4        Elvis Andrus\n",
       "            ...      \n",
       "300      Delmon Young\n",
       "301    Eric Young Jr.\n",
       "302     Michael Young\n",
       "303    Ryan Zimmerman\n",
       "304       Ben Zobrist\n",
       "Name: Player, Length: 305, dtype: object"
      ]
     },
     "execution_count": 121,
     "metadata": {},
     "output_type": "execute_result"
    }
   ],
   "source": [
    "from_2000_names = from_2000['Player']\n",
    "from_2000_names"
   ]
  },
  {
   "cell_type": "markdown",
   "id": "7e6753f2-8294-46eb-8ba6-e8201fd2e57f",
   "metadata": {},
   "source": [
    "## Extract X and y Data from `pre_2000`"
   ]
  },
  {
   "cell_type": "markdown",
   "id": "d5ed226a-7dee-4016-91a6-36d749cb6dd2",
   "metadata": {},
   "source": [
    "`pre_2000` has 1514 records, which will be split into training and testing data later.\n",
    "\n",
    "`pre_2000` has 21 columns, the first two (`ID` and `Player`) are for identification purposes and last column (`Inductee`) is our label. This leaves 18 feature columns for consideration. Also, note that four of the columns (the calculated statistics) are based on other features in the data."
   ]
  },
  {
   "cell_type": "markdown",
   "id": "eb141c62-6db0-48ce-a5ef-aae23c3fbe18",
   "metadata": {},
   "source": [
    "We can extract those 18 feature columns into `X`:"
   ]
  },
  {
   "cell_type": "code",
   "execution_count": 122,
   "id": "c33efc1f-6afc-4fe7-a0f4-4ca133eeed37",
   "metadata": {},
   "outputs": [
    {
     "data": {
      "text/html": [
       "<div>\n",
       "<style scoped>\n",
       "    .dataframe tbody tr th:only-of-type {\n",
       "        vertical-align: middle;\n",
       "    }\n",
       "\n",
       "    .dataframe tbody tr th {\n",
       "        vertical-align: top;\n",
       "    }\n",
       "\n",
       "    .dataframe thead th {\n",
       "        text-align: right;\n",
       "    }\n",
       "</style>\n",
       "<table border=\"1\" class=\"dataframe\">\n",
       "  <thead>\n",
       "    <tr style=\"text-align: right;\">\n",
       "      <th></th>\n",
       "      <th>Number of Seasons</th>\n",
       "      <th>PA</th>\n",
       "      <th>AB</th>\n",
       "      <th>R</th>\n",
       "      <th>H</th>\n",
       "      <th>2B</th>\n",
       "      <th>3B</th>\n",
       "      <th>HR</th>\n",
       "      <th>RBI</th>\n",
       "      <th>BB</th>\n",
       "      <th>SO</th>\n",
       "      <th>HBP</th>\n",
       "      <th>SH</th>\n",
       "      <th>SF</th>\n",
       "      <th>AVG</th>\n",
       "      <th>SLG</th>\n",
       "      <th>OBP</th>\n",
       "      <th>OPS</th>\n",
       "    </tr>\n",
       "  </thead>\n",
       "  <tbody>\n",
       "    <tr>\n",
       "      <th>0</th>\n",
       "      <td>23</td>\n",
       "      <td>13666</td>\n",
       "      <td>12121</td>\n",
       "      <td>2128</td>\n",
       "      <td>3703</td>\n",
       "      <td>614</td>\n",
       "      <td>96</td>\n",
       "      <td>740</td>\n",
       "      <td>2243</td>\n",
       "      <td>1372</td>\n",
       "      <td>1357</td>\n",
       "      <td>32</td>\n",
       "      <td>21</td>\n",
       "      <td>120</td>\n",
       "      <td>0.305503</td>\n",
       "      <td>0.555152</td>\n",
       "      <td>0.374276</td>\n",
       "      <td>0.929429</td>\n",
       "    </tr>\n",
       "    <tr>\n",
       "      <th>1</th>\n",
       "      <td>18</td>\n",
       "      <td>10081</td>\n",
       "      <td>8480</td>\n",
       "      <td>1453</td>\n",
       "      <td>2470</td>\n",
       "      <td>574</td>\n",
       "      <td>59</td>\n",
       "      <td>288</td>\n",
       "      <td>1363</td>\n",
       "      <td>1476</td>\n",
       "      <td>1840</td>\n",
       "      <td>33</td>\n",
       "      <td>7</td>\n",
       "      <td>85</td>\n",
       "      <td>0.291274</td>\n",
       "      <td>0.474764</td>\n",
       "      <td>0.394977</td>\n",
       "      <td>0.869741</td>\n",
       "    </tr>\n",
       "    <tr>\n",
       "      <th>2</th>\n",
       "      <td>13</td>\n",
       "      <td>4314</td>\n",
       "      <td>4019</td>\n",
       "      <td>376</td>\n",
       "      <td>1022</td>\n",
       "      <td>163</td>\n",
       "      <td>19</td>\n",
       "      <td>57</td>\n",
       "      <td>365</td>\n",
       "      <td>207</td>\n",
       "      <td>497</td>\n",
       "      <td>17</td>\n",
       "      <td>41</td>\n",
       "      <td>30</td>\n",
       "      <td>0.254292</td>\n",
       "      <td>0.346852</td>\n",
       "      <td>0.291598</td>\n",
       "      <td>0.638451</td>\n",
       "    </tr>\n",
       "    <tr>\n",
       "      <th>3</th>\n",
       "      <td>14</td>\n",
       "      <td>4335</td>\n",
       "      <td>3846</td>\n",
       "      <td>557</td>\n",
       "      <td>1036</td>\n",
       "      <td>180</td>\n",
       "      <td>47</td>\n",
       "      <td>36</td>\n",
       "      <td>294</td>\n",
       "      <td>394</td>\n",
       "      <td>426</td>\n",
       "      <td>16</td>\n",
       "      <td>74</td>\n",
       "      <td>5</td>\n",
       "      <td>0.269371</td>\n",
       "      <td>0.368695</td>\n",
       "      <td>0.339357</td>\n",
       "      <td>0.708052</td>\n",
       "    </tr>\n",
       "    <tr>\n",
       "      <th>4</th>\n",
       "      <td>13</td>\n",
       "      <td>6175</td>\n",
       "      <td>5558</td>\n",
       "      <td>839</td>\n",
       "      <td>1588</td>\n",
       "      <td>249</td>\n",
       "      <td>49</td>\n",
       "      <td>9</td>\n",
       "      <td>390</td>\n",
       "      <td>453</td>\n",
       "      <td>222</td>\n",
       "      <td>28</td>\n",
       "      <td>95</td>\n",
       "      <td>0</td>\n",
       "      <td>0.285714</td>\n",
       "      <td>0.353005</td>\n",
       "      <td>0.342606</td>\n",
       "      <td>0.695611</td>\n",
       "    </tr>\n",
       "    <tr>\n",
       "      <th>...</th>\n",
       "      <td>...</td>\n",
       "      <td>...</td>\n",
       "      <td>...</td>\n",
       "      <td>...</td>\n",
       "      <td>...</td>\n",
       "      <td>...</td>\n",
       "      <td>...</td>\n",
       "      <td>...</td>\n",
       "      <td>...</td>\n",
       "      <td>...</td>\n",
       "      <td>...</td>\n",
       "      <td>...</td>\n",
       "      <td>...</td>\n",
       "      <td>...</td>\n",
       "      <td>...</td>\n",
       "      <td>...</td>\n",
       "      <td>...</td>\n",
       "      <td>...</td>\n",
       "    </tr>\n",
       "    <tr>\n",
       "      <th>1509</th>\n",
       "      <td>16</td>\n",
       "      <td>4042</td>\n",
       "      <td>3489</td>\n",
       "      <td>431</td>\n",
       "      <td>878</td>\n",
       "      <td>194</td>\n",
       "      <td>9</td>\n",
       "      <td>88</td>\n",
       "      <td>446</td>\n",
       "      <td>479</td>\n",
       "      <td>544</td>\n",
       "      <td>29</td>\n",
       "      <td>14</td>\n",
       "      <td>31</td>\n",
       "      <td>0.251648</td>\n",
       "      <td>0.388077</td>\n",
       "      <td>0.344091</td>\n",
       "      <td>0.732168</td>\n",
       "    </tr>\n",
       "    <tr>\n",
       "      <th>1510</th>\n",
       "      <td>16</td>\n",
       "      <td>8649</td>\n",
       "      <td>7573</td>\n",
       "      <td>986</td>\n",
       "      <td>2004</td>\n",
       "      <td>397</td>\n",
       "      <td>23</td>\n",
       "      <td>253</td>\n",
       "      <td>1110</td>\n",
       "      <td>945</td>\n",
       "      <td>1279</td>\n",
       "      <td>42</td>\n",
       "      <td>8</td>\n",
       "      <td>81</td>\n",
       "      <td>0.264624</td>\n",
       "      <td>0.423346</td>\n",
       "      <td>0.346140</td>\n",
       "      <td>0.769487</td>\n",
       "    </tr>\n",
       "    <tr>\n",
       "      <th>1511</th>\n",
       "      <td>11</td>\n",
       "      <td>4361</td>\n",
       "      <td>3940</td>\n",
       "      <td>551</td>\n",
       "      <td>1049</td>\n",
       "      <td>152</td>\n",
       "      <td>21</td>\n",
       "      <td>227</td>\n",
       "      <td>749</td>\n",
       "      <td>375</td>\n",
       "      <td>731</td>\n",
       "      <td>24</td>\n",
       "      <td>2</td>\n",
       "      <td>20</td>\n",
       "      <td>0.266244</td>\n",
       "      <td>0.488325</td>\n",
       "      <td>0.332186</td>\n",
       "      <td>0.820511</td>\n",
       "    </tr>\n",
       "    <tr>\n",
       "      <th>1512</th>\n",
       "      <td>12</td>\n",
       "      <td>3523</td>\n",
       "      <td>3218</td>\n",
       "      <td>342</td>\n",
       "      <td>758</td>\n",
       "      <td>127</td>\n",
       "      <td>21</td>\n",
       "      <td>90</td>\n",
       "      <td>348</td>\n",
       "      <td>242</td>\n",
       "      <td>662</td>\n",
       "      <td>13</td>\n",
       "      <td>36</td>\n",
       "      <td>14</td>\n",
       "      <td>0.235550</td>\n",
       "      <td>0.371970</td>\n",
       "      <td>0.290508</td>\n",
       "      <td>0.662478</td>\n",
       "    </tr>\n",
       "    <tr>\n",
       "      <th>1513</th>\n",
       "      <td>13</td>\n",
       "      <td>5737</td>\n",
       "      <td>5144</td>\n",
       "      <td>681</td>\n",
       "      <td>1477</td>\n",
       "      <td>245</td>\n",
       "      <td>26</td>\n",
       "      <td>207</td>\n",
       "      <td>792</td>\n",
       "      <td>533</td>\n",
       "      <td>910</td>\n",
       "      <td>12</td>\n",
       "      <td>7</td>\n",
       "      <td>41</td>\n",
       "      <td>0.287131</td>\n",
       "      <td>0.465591</td>\n",
       "      <td>0.352880</td>\n",
       "      <td>0.818471</td>\n",
       "    </tr>\n",
       "  </tbody>\n",
       "</table>\n",
       "<p>1514 rows × 18 columns</p>\n",
       "</div>"
      ],
      "text/plain": [
       "      Number of Seasons     PA     AB     R     H   2B  3B   HR   RBI    BB  \\\n",
       "0                    23  13666  12121  2128  3703  614  96  740  2243  1372   \n",
       "1                    18  10081   8480  1453  2470  574  59  288  1363  1476   \n",
       "2                    13   4314   4019   376  1022  163  19   57   365   207   \n",
       "3                    14   4335   3846   557  1036  180  47   36   294   394   \n",
       "4                    13   6175   5558   839  1588  249  49    9   390   453   \n",
       "...                 ...    ...    ...   ...   ...  ...  ..  ...   ...   ...   \n",
       "1509                 16   4042   3489   431   878  194   9   88   446   479   \n",
       "1510                 16   8649   7573   986  2004  397  23  253  1110   945   \n",
       "1511                 11   4361   3940   551  1049  152  21  227   749   375   \n",
       "1512                 12   3523   3218   342   758  127  21   90   348   242   \n",
       "1513                 13   5737   5144   681  1477  245  26  207   792   533   \n",
       "\n",
       "        SO  HBP  SH   SF       AVG       SLG       OBP       OPS  \n",
       "0     1357   32  21  120  0.305503  0.555152  0.374276  0.929429  \n",
       "1     1840   33   7   85  0.291274  0.474764  0.394977  0.869741  \n",
       "2      497   17  41   30  0.254292  0.346852  0.291598  0.638451  \n",
       "3      426   16  74    5  0.269371  0.368695  0.339357  0.708052  \n",
       "4      222   28  95    0  0.285714  0.353005  0.342606  0.695611  \n",
       "...    ...  ...  ..  ...       ...       ...       ...       ...  \n",
       "1509   544   29  14   31  0.251648  0.388077  0.344091  0.732168  \n",
       "1510  1279   42   8   81  0.264624  0.423346  0.346140  0.769487  \n",
       "1511   731   24   2   20  0.266244  0.488325  0.332186  0.820511  \n",
       "1512   662   13  36   14  0.235550  0.371970  0.290508  0.662478  \n",
       "1513   910   12   7   41  0.287131  0.465591  0.352880  0.818471  \n",
       "\n",
       "[1514 rows x 18 columns]"
      ]
     },
     "execution_count": 122,
     "metadata": {},
     "output_type": "execute_result"
    }
   ],
   "source": [
    "num = pre_2000.shape[1]\n",
    "X = pre_2000[pre_2000.columns[2:num-1]]\n",
    "X"
   ]
  },
  {
   "cell_type": "markdown",
   "id": "ad39959f-65b4-470b-a933-b3702aea8765",
   "metadata": {},
   "source": [
    "We capture the column/feature names into `X_features`:"
   ]
  },
  {
   "cell_type": "code",
   "execution_count": 123,
   "id": "96138473-7ccf-498c-8530-2730279e3604",
   "metadata": {},
   "outputs": [
    {
     "data": {
      "text/plain": [
       "['Number of Seasons',\n",
       " 'PA',\n",
       " 'AB',\n",
       " 'R',\n",
       " 'H',\n",
       " '2B',\n",
       " '3B',\n",
       " 'HR',\n",
       " 'RBI',\n",
       " 'BB',\n",
       " 'SO',\n",
       " 'HBP',\n",
       " 'SH',\n",
       " 'SF',\n",
       " 'AVG',\n",
       " 'SLG',\n",
       " 'OBP',\n",
       " 'OPS']"
      ]
     },
     "execution_count": 123,
     "metadata": {},
     "output_type": "execute_result"
    }
   ],
   "source": [
    "X_features = X.columns.values.tolist()\n",
    "X_features"
   ]
  },
  {
   "cell_type": "markdown",
   "id": "a15fc32f-7a39-4112-8381-785a639ba784",
   "metadata": {},
   "source": [
    "Let's shorten the name of the first feature to 'Seas':"
   ]
  },
  {
   "cell_type": "markdown",
   "id": "c23988fd-27cb-43de-bde6-4b58061fb33d",
   "metadata": {},
   "source": [
    "And, finally, modify the format of `X` to be an array ready for working with `scikit-learn`."
   ]
  },
  {
   "cell_type": "code",
   "execution_count": 124,
   "id": "3179f8da-567a-41cf-802e-17957e9d82c6",
   "metadata": {},
   "outputs": [
    {
     "data": {
      "text/plain": [
       "array([[2.30000000e+01, 1.36660000e+04, 1.21210000e+04, ...,\n",
       "        5.55152215e-01, 3.74276292e-01, 9.29428507e-01],\n",
       "       [1.80000000e+01, 1.00810000e+04, 8.48000000e+03, ...,\n",
       "        4.74764151e-01, 3.94977169e-01, 8.69741320e-01],\n",
       "       [1.30000000e+01, 4.31400000e+03, 4.01900000e+03, ...,\n",
       "        3.46852451e-01, 2.91598409e-01, 6.38450859e-01],\n",
       "       ...,\n",
       "       [1.10000000e+01, 4.36100000e+03, 3.94000000e+03, ...,\n",
       "        4.88324873e-01, 3.32186281e-01, 8.20511154e-01],\n",
       "       [1.20000000e+01, 3.52300000e+03, 3.21800000e+03, ...,\n",
       "        3.71970168e-01, 2.90507600e-01, 6.62477767e-01],\n",
       "       [1.30000000e+01, 5.73700000e+03, 5.14400000e+03, ...,\n",
       "        4.65590980e-01, 3.52879581e-01, 8.18470561e-01]])"
      ]
     },
     "execution_count": 124,
     "metadata": {},
     "output_type": "execute_result"
    }
   ],
   "source": [
    "X = X.values\n",
    "X"
   ]
  },
  {
   "cell_type": "markdown",
   "id": "9baa6b4b-850a-4f54-83d7-d4d0710e6e4a",
   "metadata": {
    "tags": []
   },
   "source": [
    "Similarly for `y`, we'll extract the label column:"
   ]
  },
  {
   "cell_type": "code",
   "execution_count": 125,
   "id": "db7ea37d-fa0b-456e-b696-ba0c0e655835",
   "metadata": {},
   "outputs": [
    {
     "data": {
      "text/html": [
       "<div>\n",
       "<style scoped>\n",
       "    .dataframe tbody tr th:only-of-type {\n",
       "        vertical-align: middle;\n",
       "    }\n",
       "\n",
       "    .dataframe tbody tr th {\n",
       "        vertical-align: top;\n",
       "    }\n",
       "\n",
       "    .dataframe thead th {\n",
       "        text-align: right;\n",
       "    }\n",
       "</style>\n",
       "<table border=\"1\" class=\"dataframe\">\n",
       "  <thead>\n",
       "    <tr style=\"text-align: right;\">\n",
       "      <th></th>\n",
       "      <th>Inductee</th>\n",
       "    </tr>\n",
       "  </thead>\n",
       "  <tbody>\n",
       "    <tr>\n",
       "      <th>0</th>\n",
       "      <td>1</td>\n",
       "    </tr>\n",
       "    <tr>\n",
       "      <th>1</th>\n",
       "      <td>0</td>\n",
       "    </tr>\n",
       "    <tr>\n",
       "      <th>2</th>\n",
       "      <td>0</td>\n",
       "    </tr>\n",
       "    <tr>\n",
       "      <th>3</th>\n",
       "      <td>0</td>\n",
       "    </tr>\n",
       "    <tr>\n",
       "      <th>4</th>\n",
       "      <td>0</td>\n",
       "    </tr>\n",
       "    <tr>\n",
       "      <th>...</th>\n",
       "      <td>...</td>\n",
       "    </tr>\n",
       "    <tr>\n",
       "      <th>1509</th>\n",
       "      <td>0</td>\n",
       "    </tr>\n",
       "    <tr>\n",
       "      <th>1510</th>\n",
       "      <td>0</td>\n",
       "    </tr>\n",
       "    <tr>\n",
       "      <th>1511</th>\n",
       "      <td>0</td>\n",
       "    </tr>\n",
       "    <tr>\n",
       "      <th>1512</th>\n",
       "      <td>0</td>\n",
       "    </tr>\n",
       "    <tr>\n",
       "      <th>1513</th>\n",
       "      <td>0</td>\n",
       "    </tr>\n",
       "  </tbody>\n",
       "</table>\n",
       "<p>1514 rows × 1 columns</p>\n",
       "</div>"
      ],
      "text/plain": [
       "      Inductee\n",
       "0            1\n",
       "1            0\n",
       "2            0\n",
       "3            0\n",
       "4            0\n",
       "...        ...\n",
       "1509         0\n",
       "1510         0\n",
       "1511         0\n",
       "1512         0\n",
       "1513         0\n",
       "\n",
       "[1514 rows x 1 columns]"
      ]
     },
     "execution_count": 125,
     "metadata": {},
     "output_type": "execute_result"
    }
   ],
   "source": [
    "y = pre_2000[['Inductee']]\n",
    "y"
   ]
  },
  {
   "cell_type": "markdown",
   "id": "b99f8a13-8bba-4edc-8b46-0e1416e783bd",
   "metadata": {},
   "source": [
    "Extract the label name:"
   ]
  },
  {
   "cell_type": "code",
   "execution_count": 126,
   "id": "2d0deb2f-327f-4093-b0b3-f824122873e3",
   "metadata": {},
   "outputs": [
    {
     "data": {
      "text/plain": [
       "['Inductee']"
      ]
     },
     "execution_count": 126,
     "metadata": {},
     "output_type": "execute_result"
    }
   ],
   "source": [
    "y_label_name = y.columns.values.tolist()\n",
    "y_label_name"
   ]
  },
  {
   "cell_type": "markdown",
   "id": "e158010e-95d0-4210-95e4-a3be7b863aff",
   "metadata": {},
   "source": [
    "Then, finally, prepare `y` for use with `scikit-learn`."
   ]
  },
  {
   "cell_type": "code",
   "execution_count": 127,
   "id": "632a7162-ac1a-4c27-9503-84f634bd2352",
   "metadata": {},
   "outputs": [
    {
     "data": {
      "text/plain": [
       "array([1, 0, 0, ..., 0, 0, 0])"
      ]
     },
     "execution_count": 127,
     "metadata": {},
     "output_type": "execute_result"
    }
   ],
   "source": [
    "y = pre_2000[y_label_name[0]].values\n",
    "y"
   ]
  },
  {
   "cell_type": "markdown",
   "id": "d8874f62-81c9-4c15-b7bd-c79919af41d6",
   "metadata": {},
   "source": [
    "#### Plotting"
   ]
  },
  {
   "cell_type": "code",
   "execution_count": 128,
   "id": "74a021c8-476e-4ca2-8360-8bfe593a7946",
   "metadata": {},
   "outputs": [
    {
     "data": {
      "image/png": "[encoded data removed]",
      "text/plain": [
       "<Figure size 144x144 with 1 Axes>"
      ]
     },
     "metadata": {
      "needs_background": "light"
     },
     "output_type": "display_data"
    }
   ],
   "source": [
    "# import numpy as np\n",
    "# import pandas as pd\n",
    "# from pandas import Series, DataFrame\n",
    "import matplotlib.pyplot as plt\n",
    "\n",
    "data = [len(pre_2000[pre_2000['Inductee']==0]), len(pre_2000[pre_2000['Inductee']==1])]\n",
    "plt.bar(['Non-Inductees','Inductees'], data)\n",
    "plt.show()"
   ]
  },
  {
   "cell_type": "markdown",
   "id": "c59bf120-8df2-47a3-945b-3caab24703be",
   "metadata": {},
   "source": [
    "### Extraction of X, excluding the calculated statistics"
   ]
  },
  {
   "cell_type": "code",
   "execution_count": 129,
   "id": "be56da18-21d0-4758-bc15-41bed39d3ea2",
   "metadata": {},
   "outputs": [
    {
     "data": {
      "text/html": [
       "<div>\n",
       "<style scoped>\n",
       "    .dataframe tbody tr th:only-of-type {\n",
       "        vertical-align: middle;\n",
       "    }\n",
       "\n",
       "    .dataframe tbody tr th {\n",
       "        vertical-align: top;\n",
       "    }\n",
       "\n",
       "    .dataframe thead th {\n",
       "        text-align: right;\n",
       "    }\n",
       "</style>\n",
       "<table border=\"1\" class=\"dataframe\">\n",
       "  <thead>\n",
       "    <tr style=\"text-align: right;\">\n",
       "      <th></th>\n",
       "      <th>Number of Seasons</th>\n",
       "      <th>PA</th>\n",
       "      <th>AB</th>\n",
       "      <th>R</th>\n",
       "      <th>H</th>\n",
       "      <th>2B</th>\n",
       "      <th>3B</th>\n",
       "      <th>HR</th>\n",
       "      <th>RBI</th>\n",
       "      <th>BB</th>\n",
       "      <th>SO</th>\n",
       "      <th>HBP</th>\n",
       "      <th>SH</th>\n",
       "      <th>SF</th>\n",
       "    </tr>\n",
       "  </thead>\n",
       "  <tbody>\n",
       "    <tr>\n",
       "      <th>0</th>\n",
       "      <td>23</td>\n",
       "      <td>13666</td>\n",
       "      <td>12121</td>\n",
       "      <td>2128</td>\n",
       "      <td>3703</td>\n",
       "      <td>614</td>\n",
       "      <td>96</td>\n",
       "      <td>740</td>\n",
       "      <td>2243</td>\n",
       "      <td>1372</td>\n",
       "      <td>1357</td>\n",
       "      <td>32</td>\n",
       "      <td>21</td>\n",
       "      <td>120</td>\n",
       "    </tr>\n",
       "    <tr>\n",
       "      <th>1</th>\n",
       "      <td>18</td>\n",
       "      <td>10081</td>\n",
       "      <td>8480</td>\n",
       "      <td>1453</td>\n",
       "      <td>2470</td>\n",
       "      <td>574</td>\n",
       "      <td>59</td>\n",
       "      <td>288</td>\n",
       "      <td>1363</td>\n",
       "      <td>1476</td>\n",
       "      <td>1840</td>\n",
       "      <td>33</td>\n",
       "      <td>7</td>\n",
       "      <td>85</td>\n",
       "    </tr>\n",
       "    <tr>\n",
       "      <th>2</th>\n",
       "      <td>13</td>\n",
       "      <td>4314</td>\n",
       "      <td>4019</td>\n",
       "      <td>376</td>\n",
       "      <td>1022</td>\n",
       "      <td>163</td>\n",
       "      <td>19</td>\n",
       "      <td>57</td>\n",
       "      <td>365</td>\n",
       "      <td>207</td>\n",
       "      <td>497</td>\n",
       "      <td>17</td>\n",
       "      <td>41</td>\n",
       "      <td>30</td>\n",
       "    </tr>\n",
       "    <tr>\n",
       "      <th>3</th>\n",
       "      <td>14</td>\n",
       "      <td>4335</td>\n",
       "      <td>3846</td>\n",
       "      <td>557</td>\n",
       "      <td>1036</td>\n",
       "      <td>180</td>\n",
       "      <td>47</td>\n",
       "      <td>36</td>\n",
       "      <td>294</td>\n",
       "      <td>394</td>\n",
       "      <td>426</td>\n",
       "      <td>16</td>\n",
       "      <td>74</td>\n",
       "      <td>5</td>\n",
       "    </tr>\n",
       "    <tr>\n",
       "      <th>4</th>\n",
       "      <td>13</td>\n",
       "      <td>6175</td>\n",
       "      <td>5558</td>\n",
       "      <td>839</td>\n",
       "      <td>1588</td>\n",
       "      <td>249</td>\n",
       "      <td>49</td>\n",
       "      <td>9</td>\n",
       "      <td>390</td>\n",
       "      <td>453</td>\n",
       "      <td>222</td>\n",
       "      <td>28</td>\n",
       "      <td>95</td>\n",
       "      <td>0</td>\n",
       "    </tr>\n",
       "    <tr>\n",
       "      <th>...</th>\n",
       "      <td>...</td>\n",
       "      <td>...</td>\n",
       "      <td>...</td>\n",
       "      <td>...</td>\n",
       "      <td>...</td>\n",
       "      <td>...</td>\n",
       "      <td>...</td>\n",
       "      <td>...</td>\n",
       "      <td>...</td>\n",
       "      <td>...</td>\n",
       "      <td>...</td>\n",
       "      <td>...</td>\n",
       "      <td>...</td>\n",
       "      <td>...</td>\n",
       "    </tr>\n",
       "    <tr>\n",
       "      <th>1509</th>\n",
       "      <td>16</td>\n",
       "      <td>4042</td>\n",
       "      <td>3489</td>\n",
       "      <td>431</td>\n",
       "      <td>878</td>\n",
       "      <td>194</td>\n",
       "      <td>9</td>\n",
       "      <td>88</td>\n",
       "      <td>446</td>\n",
       "      <td>479</td>\n",
       "      <td>544</td>\n",
       "      <td>29</td>\n",
       "      <td>14</td>\n",
       "      <td>31</td>\n",
       "    </tr>\n",
       "    <tr>\n",
       "      <th>1510</th>\n",
       "      <td>16</td>\n",
       "      <td>8649</td>\n",
       "      <td>7573</td>\n",
       "      <td>986</td>\n",
       "      <td>2004</td>\n",
       "      <td>397</td>\n",
       "      <td>23</td>\n",
       "      <td>253</td>\n",
       "      <td>1110</td>\n",
       "      <td>945</td>\n",
       "      <td>1279</td>\n",
       "      <td>42</td>\n",
       "      <td>8</td>\n",
       "      <td>81</td>\n",
       "    </tr>\n",
       "    <tr>\n",
       "      <th>1511</th>\n",
       "      <td>11</td>\n",
       "      <td>4361</td>\n",
       "      <td>3940</td>\n",
       "      <td>551</td>\n",
       "      <td>1049</td>\n",
       "      <td>152</td>\n",
       "      <td>21</td>\n",
       "      <td>227</td>\n",
       "      <td>749</td>\n",
       "      <td>375</td>\n",
       "      <td>731</td>\n",
       "      <td>24</td>\n",
       "      <td>2</td>\n",
       "      <td>20</td>\n",
       "    </tr>\n",
       "    <tr>\n",
       "      <th>1512</th>\n",
       "      <td>12</td>\n",
       "      <td>3523</td>\n",
       "      <td>3218</td>\n",
       "      <td>342</td>\n",
       "      <td>758</td>\n",
       "      <td>127</td>\n",
       "      <td>21</td>\n",
       "      <td>90</td>\n",
       "      <td>348</td>\n",
       "      <td>242</td>\n",
       "      <td>662</td>\n",
       "      <td>13</td>\n",
       "      <td>36</td>\n",
       "      <td>14</td>\n",
       "    </tr>\n",
       "    <tr>\n",
       "      <th>1513</th>\n",
       "      <td>13</td>\n",
       "      <td>5737</td>\n",
       "      <td>5144</td>\n",
       "      <td>681</td>\n",
       "      <td>1477</td>\n",
       "      <td>245</td>\n",
       "      <td>26</td>\n",
       "      <td>207</td>\n",
       "      <td>792</td>\n",
       "      <td>533</td>\n",
       "      <td>910</td>\n",
       "      <td>12</td>\n",
       "      <td>7</td>\n",
       "      <td>41</td>\n",
       "    </tr>\n",
       "  </tbody>\n",
       "</table>\n",
       "<p>1514 rows × 14 columns</p>\n",
       "</div>"
      ],
      "text/plain": [
       "      Number of Seasons     PA     AB     R     H   2B  3B   HR   RBI    BB  \\\n",
       "0                    23  13666  12121  2128  3703  614  96  740  2243  1372   \n",
       "1                    18  10081   8480  1453  2470  574  59  288  1363  1476   \n",
       "2                    13   4314   4019   376  1022  163  19   57   365   207   \n",
       "3                    14   4335   3846   557  1036  180  47   36   294   394   \n",
       "4                    13   6175   5558   839  1588  249  49    9   390   453   \n",
       "...                 ...    ...    ...   ...   ...  ...  ..  ...   ...   ...   \n",
       "1509                 16   4042   3489   431   878  194   9   88   446   479   \n",
       "1510                 16   8649   7573   986  2004  397  23  253  1110   945   \n",
       "1511                 11   4361   3940   551  1049  152  21  227   749   375   \n",
       "1512                 12   3523   3218   342   758  127  21   90   348   242   \n",
       "1513                 13   5737   5144   681  1477  245  26  207   792   533   \n",
       "\n",
       "        SO  HBP  SH   SF  \n",
       "0     1357   32  21  120  \n",
       "1     1840   33   7   85  \n",
       "2      497   17  41   30  \n",
       "3      426   16  74    5  \n",
       "4      222   28  95    0  \n",
       "...    ...  ...  ..  ...  \n",
       "1509   544   29  14   31  \n",
       "1510  1279   42   8   81  \n",
       "1511   731   24   2   20  \n",
       "1512   662   13  36   14  \n",
       "1513   910   12   7   41  \n",
       "\n",
       "[1514 rows x 14 columns]"
      ]
     },
     "execution_count": 129,
     "metadata": {},
     "output_type": "execute_result"
    }
   ],
   "source": [
    "num = pre_2000.shape[1]\n",
    "X_nc = pre_2000[pre_2000.columns[2:num-5]]\n",
    "X_nc"
   ]
  },
  {
   "cell_type": "code",
   "execution_count": 130,
   "id": "2460e1f7-9ce2-4348-addf-5d7ad7e6d423",
   "metadata": {},
   "outputs": [
    {
     "data": {
      "text/plain": [
       "['Number of Seasons',\n",
       " 'PA',\n",
       " 'AB',\n",
       " 'R',\n",
       " 'H',\n",
       " '2B',\n",
       " '3B',\n",
       " 'HR',\n",
       " 'RBI',\n",
       " 'BB',\n",
       " 'SO',\n",
       " 'HBP',\n",
       " 'SH',\n",
       " 'SF']"
      ]
     },
     "execution_count": 130,
     "metadata": {},
     "output_type": "execute_result"
    }
   ],
   "source": [
    "X_nc_features = X_nc.columns.values.tolist()\n",
    "X_nc_features"
   ]
  },
  {
   "cell_type": "code",
   "execution_count": 131,
   "id": "2d00da51-2f00-4f2d-b0e5-037b78f49452",
   "metadata": {},
   "outputs": [
    {
     "data": {
      "text/plain": [
       "array([[   23, 13666, 12121, ...,    32,    21,   120],\n",
       "       [   18, 10081,  8480, ...,    33,     7,    85],\n",
       "       [   13,  4314,  4019, ...,    17,    41,    30],\n",
       "       ...,\n",
       "       [   11,  4361,  3940, ...,    24,     2,    20],\n",
       "       [   12,  3523,  3218, ...,    13,    36,    14],\n",
       "       [   13,  5737,  5144, ...,    12,     7,    41]])"
      ]
     },
     "execution_count": 131,
     "metadata": {},
     "output_type": "execute_result"
    }
   ],
   "source": [
    "X_nc = X_nc.values\n",
    "X_nc"
   ]
  },
  {
   "cell_type": "markdown",
   "id": "16b12c20-6c94-4242-9802-82719ccee3a9",
   "metadata": {},
   "source": [
    "### X and y `from_2000` data"
   ]
  },
  {
   "cell_type": "code",
   "execution_count": 132,
   "id": "4a3329d0-f7a5-4290-80f7-bb6225ff7eb1",
   "metadata": {},
   "outputs": [],
   "source": [
    "num = from_2000.shape[1]\n",
    "X_2000 = from_2000[from_2000.columns[2:num-1]]\n",
    "X_2000_features = X_2000.columns.values.tolist()\n",
    "X_2000 = X_2000.values"
   ]
  },
  {
   "cell_type": "code",
   "execution_count": 133,
   "id": "5e197497-56dc-4cea-8733-01578b3f7cfe",
   "metadata": {
    "tags": []
   },
   "outputs": [
    {
     "data": {
      "text/plain": [
       "array([1, 0, 0, ..., 0, 0, 0])"
      ]
     },
     "execution_count": 133,
     "metadata": {},
     "output_type": "execute_result"
    }
   ],
   "source": [
    "y_2000 = pre_2000[['Inductee']]\n",
    "y_2000_label_name = y_2000.columns.values.tolist()\n",
    "y_2000 = pre_2000[y_label_name[0]].values\n",
    "y_2000"
   ]
  },
  {
   "cell_type": "code",
   "execution_count": 134,
   "id": "0d531f90-65b6-464f-a8ec-74823714eed5",
   "metadata": {},
   "outputs": [
    {
     "data": {
      "text/plain": [
       "18"
      ]
     },
     "execution_count": 134,
     "metadata": {},
     "output_type": "execute_result"
    }
   ],
   "source": [
    "len(X_2000[0])"
   ]
  },
  {
   "cell_type": "markdown",
   "id": "f757252f-8b46-4a65-b5f9-1a85a49f3ea1",
   "metadata": {},
   "source": [
    "#### And X_nc and y `from_2000` data"
   ]
  },
  {
   "cell_type": "code",
   "execution_count": 135,
   "id": "f208dec6-88d4-4615-a73c-92b77c4a5b8a",
   "metadata": {},
   "outputs": [],
   "source": [
    "num = from_2000.shape[1]\n",
    "X_nc_2000 = from_2000[from_2000.columns[2:num-5]]\n",
    "X_nc_2000_features = X_nc_2000.columns.values.tolist()\n",
    "X_nc_2000 = X_nc_2000.values"
   ]
  },
  {
   "cell_type": "code",
   "execution_count": 136,
   "id": "36403a76-e2fe-4e21-91f9-d7b177acd48e",
   "metadata": {},
   "outputs": [
    {
     "data": {
      "text/plain": [
       "14"
      ]
     },
     "execution_count": 136,
     "metadata": {},
     "output_type": "execute_result"
    }
   ],
   "source": [
    "len(X_nc_2000[0])"
   ]
  },
  {
   "cell_type": "markdown",
   "id": "5093fc97-a875-4696-be9f-f5e48ec68a67",
   "metadata": {},
   "source": [
    "## Taking Steps Toward a Model"
   ]
  },
  {
   "cell_type": "markdown",
   "id": "af2ac1f6-93d4-4509-bc8f-eb76efb72e47",
   "metadata": {},
   "source": [
    "`pre_2000` (We are reserving `from_2000`, with its 305 records, for independent testing.)\n",
    "\n",
    "It also has 21 columns, the first two (`ID` and `Player`) are for identification purposes and last column (`Inductee`) is our label. This leaves 18 feature columns for consideration. Also, note that four of the columns (the calculated statistics) are based on other features in the data.\n",
    "\n",
    "This multi-dimensionality might need to be reduced in order to avoid overfitting. "
   ]
  },
  {
   "cell_type": "markdown",
   "id": "fdd92045-afcc-44ce-9e40-f32fae00400a",
   "metadata": {},
   "source": [
    "REFERENCE: https://scikit-learn.org/stable/auto_examples/ensemble/plot_forest_importances.html#sphx-glr-auto-examples-ensemble-plot-forest-importances-py\n",
    "\n",
    "\n",
    "\"This example shows the use of a forest of trees to evaluate the importance of features on an artificial classification task. The blue bars are the feature importances of the forest, along with their inter-trees variability represented by the error bars.\"\n",
    "\n",
    "Our approach uses a forest of trees to evaluate the importance of features, where the blue bars are the feature importances of the forest and the black lines show variability."
   ]
  },
  {
   "cell_type": "markdown",
   "id": "67ba76ea-5b1c-4732-b80d-612e6911b0f4",
   "metadata": {},
   "source": [
    "First, we'll split the `pre_2000` data."
   ]
  },
  {
   "cell_type": "code",
   "execution_count": 138,
   "id": "fc61940d-656b-43b8-b7a8-f468723ff833",
   "metadata": {},
   "outputs": [],
   "source": [
    "# Feature Scaling\n",
    "from sklearn.preprocessing import StandardScaler\n",
    "sc = StandardScaler()\n",
    "X_log = sc.fit_transform(X)"
   ]
  },
  {
   "cell_type": "code",
   "execution_count": 139,
   "id": "89162207-44e3-43d7-8aeb-ccb1f23f4f1c",
   "metadata": {},
   "outputs": [],
   "source": [
    "from sklearn.model_selection import train_test_split\n",
    "\n",
    "#X_train, X_test, y_train, y_test = train_test_split(X, y, test_size = 0.2, random_state = 42)\n",
    "X_train, X_test, y_train, y_test = train_test_split(X_log, y, test_size = 0.2, random_state = 42)"
   ]
  },
  {
   "cell_type": "code",
   "execution_count": null,
   "id": "efab139c-9c06-4915-a0b1-a386f951e35d",
   "metadata": {},
   "outputs": [],
   "source": []
  },
  {
   "cell_type": "markdown",
   "id": "720df7be-02ef-4cf5-9918-19cbb0ac81ab",
   "metadata": {},
   "source": [
    "#####  Logistic first...  ?? SHOULD I EVEN BOTHER WITH THIS???"
   ]
  },
  {
   "cell_type": "code",
   "execution_count": 140,
   "id": "1ed9a98d-6e15-49a3-978a-363831af65ae",
   "metadata": {},
   "outputs": [
    {
     "name": "stdout",
     "output_type": "stream",
     "text": [
      "The performance of the model:\n",
      "------------------------------\n",
      "Confusion matrix for training set\n",
      "[[1071   20]\n",
      " [  61   59]]\n",
      "Confusion matrix for test set\n",
      "[[269   7]\n",
      " [  9  18]] \n",
      "\n",
      "Accuracy of the model for training set: 0.933\n",
      "Accuracy of the model for test set: 0.947\n",
      "\n",
      "Precision of the model for training set: 0.747\n",
      "Precision of the model for test set: 0.720\n",
      "\n",
      "Recall of the model for training set: 0.492\n",
      "Recall of the model for test set: 0.667\n",
      "\n",
      "F1-measure of the model for training set: 0.593\n",
      "F1-measure of the model for test set: 0.692\n",
      "\n",
      "AUC score of the model for training set: 0.737\n",
      "AUC score of the model for test set: 0.821\n",
      "\n",
      "Log loss of the model for training set: 2.310\n",
      "Log loss of the model for test set: 1.824\n",
      "\n"
     ]
    }
   ],
   "source": [
    "\n",
    "\n",
    "from sklearn.linear_model import LogisticRegression\n",
    "from sklearn.metrics import log_loss\n",
    "\n",
    "LogReg = LogisticRegression(solver = 'newton-cg')\n",
    "LogReg.fit(X_train, y_train)\n",
    "\n",
    "y_train_predict = LogReg.predict(X_train)\n",
    "y_test_predict = LogReg.predict(X_test)\n",
    "\n",
    "\n",
    "# Count percentage of correct predictions\n",
    "print(\"The performance of the model:\")\n",
    "print(\"------------------------------\")\n",
    "\n",
    "# Confusion Matrix\n",
    "from sklearn.metrics import confusion_matrix\n",
    "print('Confusion matrix for training set')\n",
    "print(confusion_matrix(y_train,y_train_predict))\n",
    "\n",
    "print('Confusion matrix for test set')\n",
    "print(confusion_matrix(y_test, y_test_predict),'\\n')\n",
    "\n",
    "# Accuracy Score\n",
    "from sklearn.metrics import accuracy_score\n",
    "print('Accuracy of the model for training set: %.3f' % accuracy_score(y_train,y_train_predict))\n",
    "print('Accuracy of the model for test set: %.3f\\n' % accuracy_score(y_test,y_test_predict))\n",
    "\n",
    "# Precision score\n",
    "from sklearn.metrics import precision_score\n",
    "print('Precision of the model for training set: %.3f' % precision_score(y_train,y_train_predict))\n",
    "print('Precision of the model for test set: %.3f\\n' % precision_score(y_test,y_test_predict))\n",
    "\n",
    "# Recall score\n",
    "from sklearn.metrics import recall_score\n",
    "print('Recall of the model for training set: %.3f' % recall_score(y_train,y_train_predict))\n",
    "print('Recall of the model for test set: %.3f\\n' % recall_score(y_test,y_test_predict))\n",
    "\n",
    "# F1 Score\n",
    "from sklearn.metrics import f1_score\n",
    "print('F1-measure of the model for training set: %.3f' % f1_score(y_train,y_train_predict))\n",
    "print('F1-measure of the model for test set: %.3f\\n' % f1_score(y_test,y_test_predict))\n",
    "\n",
    "# AUC score\n",
    "from sklearn.metrics import roc_auc_score\n",
    "print('AUC score of the model for training set: %.3f' % roc_auc_score(y_train,y_train_predict))\n",
    "print('AUC score of the model for test set: %.3f\\n' % roc_auc_score(y_test,y_test_predict))\n",
    "      \n",
    "# Log loss\n",
    "print('Log loss of the model for training set: %.3f' % log_loss(y_train,y_train_predict))\n",
    "print('Log loss of the model for test set: %.3f\\n' % log_loss(y_test,y_test_predict))"
   ]
  },
  {
   "cell_type": "markdown",
   "id": "52132838-9e7f-4017-b0d1-b6fea2b29541",
   "metadata": {},
   "source": []
  },
  {
   "cell_type": "code",
   "execution_count": 195,
   "id": "60cdd960-28e5-48de-a9c3-74df92ce903a",
   "metadata": {},
   "outputs": [],
   "source": [
    "from sklearn.preprocessing import StandardScaler\n",
    "from sklearn.decomposition import PCA\n",
    "from sklearn.pipeline import make_pipeline\n",
    "\n",
    "from sklearn.model_selection import train_test_split\n",
    "\n",
    "X_train, X_test, y_train, y_test = train_test_split(X, y, test_size = 0.2, random_state = 42)\n",
    "#X_train, X_test, y_train, y_test = train_test_split(X_log, y, test_size = 0.2, random_state = 42)\n",
    "\n",
    "\n",
    "unscaled_clf = make_pipeline(PCA(n_components=2), LogisticRegression(solver = 'newton-cg')) #svm.SVC())\n",
    "unscaled_clf.fit(X_train, y_train)\n",
    "pred_test = unscaled_clf.predict(X_test)\n",
    "\n",
    "\n",
    "std_clf = make_pipeline(StandardScaler(), PCA(n_components=2), LogisticRegression(solver = 'newton-cg')) #svm.SVC())\n",
    "std_clf.fit(X_train, y_train)\n",
    "pred_test_std = std_clf.predict(X_test)"
   ]
  },
  {
   "cell_type": "code",
   "execution_count": 200,
   "id": "ff32c832-7d5c-4d4f-8252-a31d2dc7a650",
   "metadata": {},
   "outputs": [
    {
     "name": "stdout",
     "output_type": "stream",
     "text": [
      "\n",
      "Prediction accuracy for the normal test dataset with PCA\n",
      "91.75%\n",
      "\n",
      "\n",
      "Prediction accuracy for the standardized test dataset with PCA\n",
      "92.41%\n",
      "\n",
      "\n",
      "PC 1 without scaling:\n",
      "[5.50993063e-04 7.24004898e-01 6.35811331e-01 1.04560862e-01\n",
      " 1.90274098e-01 3.47995429e-02 5.46522778e-03 2.44743357e-02\n",
      " 1.00176558e-01 7.63163953e-02 8.16852885e-02 4.43428627e-03\n",
      " 1.54453432e-03 5.42295911e-03 4.90569941e-06 1.18110454e-05\n",
      " 6.13828166e-06 1.79493271e-05]\n",
      "\n",
      "PC 1 with scaling:\n",
      "[ 0.17028183  0.28271054  0.27954697  0.28697822  0.28235408  0.28185334\n",
      "  0.18728273  0.2494197   0.28409514  0.26223664  0.23086533  0.17497003\n",
      " -0.01181733  0.20882583  0.20450677  0.23394768  0.20918463  0.2380623 ]\n"
     ]
    },
    {
     "data": {
      "image/png": "[encoded data removed]",
      "text/plain": [
       "<Figure size 720x504 with 2 Axes>"
      ]
     },
     "metadata": {
      "needs_background": "light"
     },
     "output_type": "display_data"
    }
   ],
   "source": [
    "# Show prediction accuracies in scaled and unscaled data.\n",
    "print(\"\\nPrediction accuracy for the normal test dataset with PCA\")\n",
    "print(f\"{accuracy_score(y_test, pred_test):.2%}\\n\")\n",
    "\n",
    "print(\"\\nPrediction accuracy for the standardized test dataset with PCA\")\n",
    "print(f\"{accuracy_score(y_test, pred_test_std):.2%}\\n\")\n",
    "\n",
    "# Extract PCA from pipeline\n",
    "pca = unscaled_clf.named_steps[\"pca\"]\n",
    "pca_std = std_clf.named_steps[\"pca\"]\n",
    "\n",
    "# Show first principal components\n",
    "print(f\"\\nPC 1 without scaling:\\n{pca.components_[0]}\")\n",
    "print(f\"\\nPC 1 with scaling:\\n{pca_std.components_[0]}\")\n",
    "\n",
    "# Use PCA without and with scale on X_train data for visualization.\n",
    "X_train_transformed = pca.transform(X_train)\n",
    "\n",
    "scaler = std_clf.named_steps[\"standardscaler\"]\n",
    "scaled_X_train = scaler.transform(X_train)\n",
    "X_train_std_transformed = pca_std.transform(scaled_X_train)\n",
    "\n",
    "# visualize standardized vs. untouched dataset with PCA performed\n",
    "fig, (ax1, ax2) = plt.subplots(ncols=2, figsize=(10, 7))\n",
    "\n",
    "target_classes = range(0, 2)\n",
    "colors = (\"blue\", \"red\",)\n",
    "markers = (\"^\", \"o\")\n",
    "\n",
    "for target_class, color, marker in zip(target_classes, colors, markers):\n",
    "    ax1.scatter(\n",
    "        x=X_train_transformed[y_train == target_class, 0],\n",
    "        y=X_train_transformed[y_train == target_class, 1],\n",
    "        color=color,\n",
    "        label=f\"class {target_class}\",\n",
    "        alpha=0.5,\n",
    "        marker=marker,\n",
    "    )\n",
    "\n",
    "    ax2.scatter(\n",
    "        x=X_train_std_transformed[y_train == target_class, 0],\n",
    "        y=X_train_std_transformed[y_train == target_class, 1],\n",
    "        color=color,\n",
    "        label=f\"class {target_class}\",\n",
    "        alpha=0.5,\n",
    "        marker=marker,\n",
    "    )\n",
    "\n",
    "ax1.set_title(\"Training dataset after PCA\")\n",
    "ax2.set_title(\"Standardized training dataset after PCA\")\n",
    "\n",
    "for ax in (ax1, ax2):\n",
    "    ax.set_xlabel(\"1st principal component\")\n",
    "    ax.set_ylabel(\"2nd principal component\")\n",
    "    ax.legend(loc=\"upper right\")\n",
    "    ax.grid()\n",
    "\n",
    "plt.tight_layout()\n",
    "\n",
    "plt.show()"
   ]
  },
  {
   "cell_type": "markdown",
   "id": "62f95ec9-f00f-4565-8a8a-c309ffb33595",
   "metadata": {},
   "source": [
    "SVC"
   ]
  },
  {
   "cell_type": "code",
   "execution_count": 201,
   "id": "72de5377-85dd-4606-8ef1-995d999298b0",
   "metadata": {},
   "outputs": [],
   "source": [
    "from sklearn.preprocessing import StandardScaler\n",
    "from sklearn.decomposition import PCA\n",
    "from sklearn.pipeline import make_pipeline\n",
    "\n",
    "from sklearn.model_selection import train_test_split\n",
    "\n",
    "X_train, X_test, y_train, y_test = train_test_split(X, y, test_size = 0.2, random_state = 42)\n",
    "#X_train, X_test, y_train, y_test = train_test_split(X_log, y, test_size = 0.2, random_state = 42)\n",
    "\n",
    "\n",
    "unscaled_clf = make_pipeline(PCA(n_components=2), svm.SVC())\n",
    "unscaled_clf.fit(X_train, y_train)\n",
    "pred_test = unscaled_clf.predict(X_test)\n",
    "\n",
    "\n",
    "std_clf = make_pipeline(StandardScaler(), PCA(n_components=2), svm.SVC())\n",
    "std_clf.fit(X_train, y_train)\n",
    "pred_test_std = std_clf.predict(X_test)"
   ]
  },
  {
   "cell_type": "code",
   "execution_count": 202,
   "id": "6faf9f37-e08f-40c7-b487-777525e93cab",
   "metadata": {},
   "outputs": [
    {
     "name": "stdout",
     "output_type": "stream",
     "text": [
      "\n",
      "Prediction accuracy for the normal test dataset with PCA\n",
      "92.74%\n",
      "\n",
      "\n",
      "Prediction accuracy for the standardized test dataset with PCA\n",
      "92.74%\n",
      "\n",
      "\n",
      "PC 1 without scaling:\n",
      "[5.50993063e-04 7.24004898e-01 6.35811331e-01 1.04560862e-01\n",
      " 1.90274098e-01 3.47995429e-02 5.46522778e-03 2.44743357e-02\n",
      " 1.00176558e-01 7.63163953e-02 8.16852885e-02 4.43428627e-03\n",
      " 1.54453432e-03 5.42295911e-03 4.90569941e-06 1.18110454e-05\n",
      " 6.13828166e-06 1.79493271e-05]\n",
      "\n",
      "PC 1 with scaling:\n",
      "[ 0.17028183  0.28271054  0.27954697  0.28697822  0.28235408  0.28185334\n",
      "  0.18728273  0.2494197   0.28409514  0.26223664  0.23086533  0.17497003\n",
      " -0.01181733  0.20882583  0.20450677  0.23394768  0.20918463  0.2380623 ]\n"
     ]
    },
    {
     "data": {
      "image/png": "[encoded data removed]",
      "text/plain": [
       "<Figure size 720x504 with 2 Axes>"
      ]
     },
     "metadata": {
      "needs_background": "light"
     },
     "output_type": "display_data"
    }
   ],
   "source": [
    "# Show prediction accuracies in scaled and unscaled data.\n",
    "print(\"\\nPrediction accuracy for the normal test dataset with PCA\")\n",
    "print(f\"{accuracy_score(y_test, pred_test):.2%}\\n\")\n",
    "\n",
    "print(\"\\nPrediction accuracy for the standardized test dataset with PCA\")\n",
    "print(f\"{accuracy_score(y_test, pred_test_std):.2%}\\n\")\n",
    "\n",
    "# Extract PCA from pipeline\n",
    "pca = unscaled_clf.named_steps[\"pca\"]\n",
    "pca_std = std_clf.named_steps[\"pca\"]\n",
    "\n",
    "# Show first principal components\n",
    "print(f\"\\nPC 1 without scaling:\\n{pca.components_[0]}\")\n",
    "print(f\"\\nPC 1 with scaling:\\n{pca_std.components_[0]}\")\n",
    "\n",
    "# Use PCA without and with scale on X_train data for visualization.\n",
    "X_train_transformed = pca.transform(X_train)\n",
    "\n",
    "scaler = std_clf.named_steps[\"standardscaler\"]\n",
    "scaled_X_train = scaler.transform(X_train)\n",
    "X_train_std_transformed = pca_std.transform(scaled_X_train)\n",
    "\n",
    "# visualize standardized vs. untouched dataset with PCA performed\n",
    "fig, (ax1, ax2) = plt.subplots(ncols=2, figsize=(10, 7))\n",
    "\n",
    "target_classes = range(0, 2)\n",
    "colors = (\"blue\", \"red\",)\n",
    "markers = (\"^\", \"o\")\n",
    "\n",
    "for target_class, color, marker in zip(target_classes, colors, markers):\n",
    "    ax1.scatter(\n",
    "        x=X_train_transformed[y_train == target_class, 0],\n",
    "        y=X_train_transformed[y_train == target_class, 1],\n",
    "        color=color,\n",
    "        label=f\"class {target_class}\",\n",
    "        alpha=0.5,\n",
    "        marker=marker,\n",
    "    )\n",
    "\n",
    "    ax2.scatter(\n",
    "        x=X_train_std_transformed[y_train == target_class, 0],\n",
    "        y=X_train_std_transformed[y_train == target_class, 1],\n",
    "        color=color,\n",
    "        label=f\"class {target_class}\",\n",
    "        alpha=0.5,\n",
    "        marker=marker,\n",
    "    )\n",
    "\n",
    "ax1.set_title(\"Training dataset after PCA\")\n",
    "ax2.set_title(\"Standardized training dataset after PCA\")\n",
    "\n",
    "for ax in (ax1, ax2):\n",
    "    ax.set_xlabel(\"1st principal component\")\n",
    "    ax.set_ylabel(\"2nd principal component\")\n",
    "    ax.legend(loc=\"upper right\")\n",
    "    ax.grid()\n",
    "\n",
    "plt.tight_layout()\n",
    "\n",
    "plt.show()"
   ]
  },
  {
   "cell_type": "code",
   "execution_count": null,
   "id": "5ce28201-9d59-41e4-9c09-ea51651dff7a",
   "metadata": {},
   "outputs": [],
   "source": []
  },
  {
   "cell_type": "markdown",
   "id": "9d3dcf84-4886-4b8d-b602-f07f67b8b570",
   "metadata": {
    "tags": []
   },
   "source": [
    "#####  SVC next..."
   ]
  },
  {
   "cell_type": "code",
   "execution_count": 141,
   "id": "eac1527c-fa61-4c72-87aa-3f2135f4d279",
   "metadata": {},
   "outputs": [
    {
     "data": {
      "text/html": [
       "<style>#sk-container-id-6 {color: black;background-color: white;}#sk-container-id-6 pre{padding: 0;}#sk-container-id-6 div.sk-toggleable {background-color: white;}#sk-container-id-6 label.sk-toggleable__label {cursor: pointer;display: block;width: 100%;margin-bottom: 0;padding: 0.3em;box-sizing: border-box;text-align: center;}#sk-container-id-6 label.sk-toggleable__label-arrow:before {content: \"▸\";float: left;margin-right: 0.25em;color: #696969;}#sk-container-id-6 label.sk-toggleable__label-arrow:hover:before {color: black;}#sk-container-id-6 div.sk-estimator:hover label.sk-toggleable__label-arrow:before {color: black;}#sk-container-id-6 div.sk-toggleable__content {max-height: 0;max-width: 0;overflow: hidden;text-align: left;background-color: #f0f8ff;}#sk-container-id-6 div.sk-toggleable__content pre {margin: 0.2em;color: black;border-radius: 0.25em;background-color: #f0f8ff;}#sk-container-id-6 input.sk-toggleable__control:checked~div.sk-toggleable__content {max-height: 200px;max-width: 100%;overflow: auto;}#sk-container-id-6 input.sk-toggleable__control:checked~label.sk-toggleable__label-arrow:before {content: \"▾\";}#sk-container-id-6 div.sk-estimator input.sk-toggleable__control:checked~label.sk-toggleable__label {background-color: #d4ebff;}#sk-container-id-6 div.sk-label input.sk-toggleable__control:checked~label.sk-toggleable__label {background-color: #d4ebff;}#sk-container-id-6 input.sk-hidden--visually {border: 0;clip: rect(1px 1px 1px 1px);clip: rect(1px, 1px, 1px, 1px);height: 1px;margin: -1px;overflow: hidden;padding: 0;position: absolute;width: 1px;}#sk-container-id-6 div.sk-estimator {font-family: monospace;background-color: #f0f8ff;border: 1px dotted black;border-radius: 0.25em;box-sizing: border-box;margin-bottom: 0.5em;}#sk-container-id-6 div.sk-estimator:hover {background-color: #d4ebff;}#sk-container-id-6 div.sk-parallel-item::after {content: \"\";width: 100%;border-bottom: 1px solid gray;flex-grow: 1;}#sk-container-id-6 div.sk-label:hover label.sk-toggleable__label {background-color: #d4ebff;}#sk-container-id-6 div.sk-serial::before {content: \"\";position: absolute;border-left: 1px solid gray;box-sizing: border-box;top: 0;bottom: 0;left: 50%;z-index: 0;}#sk-container-id-6 div.sk-serial {display: flex;flex-direction: column;align-items: center;background-color: white;padding-right: 0.2em;padding-left: 0.2em;position: relative;}#sk-container-id-6 div.sk-item {position: relative;z-index: 1;}#sk-container-id-6 div.sk-parallel {display: flex;align-items: stretch;justify-content: center;background-color: white;position: relative;}#sk-container-id-6 div.sk-item::before, #sk-container-id-6 div.sk-parallel-item::before {content: \"\";position: absolute;border-left: 1px solid gray;box-sizing: border-box;top: 0;bottom: 0;left: 50%;z-index: -1;}#sk-container-id-6 div.sk-parallel-item {display: flex;flex-direction: column;z-index: 1;position: relative;background-color: white;}#sk-container-id-6 div.sk-parallel-item:first-child::after {align-self: flex-end;width: 50%;}#sk-container-id-6 div.sk-parallel-item:last-child::after {align-self: flex-start;width: 50%;}#sk-container-id-6 div.sk-parallel-item:only-child::after {width: 0;}#sk-container-id-6 div.sk-dashed-wrapped {border: 1px dashed gray;margin: 0 0.4em 0.5em 0.4em;box-sizing: border-box;padding-bottom: 0.4em;background-color: white;}#sk-container-id-6 div.sk-label label {font-family: monospace;font-weight: bold;display: inline-block;line-height: 1.2em;}#sk-container-id-6 div.sk-label-container {text-align: center;}#sk-container-id-6 div.sk-container {/* jupyter's `normalize.less` sets `[hidden] { display: none; }` but bootstrap.min.css set `[hidden] { display: none !important; }` so we also need the `!important` here to be able to override the default hidden behavior on the sphinx rendered scikit-learn.org. See: https://github.com/scikit-learn/scikit-learn/issues/21755 */display: inline-block !important;position: relative;}#sk-container-id-6 div.sk-text-repr-fallback {display: none;}</style><div id=\"sk-container-id-6\" class=\"sk-top-container\"><div class=\"sk-text-repr-fallback\"><pre>SVC()</pre><b>In a Jupyter environment, please rerun this cell to show the HTML representation or trust the notebook. <br />On GitHub, the HTML representation is unable to render, please try loading this page with nbviewer.org.</b></div><div class=\"sk-container\" hidden><div class=\"sk-item\"><div class=\"sk-estimator sk-toggleable\"><input class=\"sk-toggleable__control sk-hidden--visually\" id=\"sk-estimator-id-6\" type=\"checkbox\" checked><label for=\"sk-estimator-id-6\" class=\"sk-toggleable__label sk-toggleable__label-arrow\">SVC</label><div class=\"sk-toggleable__content\"><pre>SVC()</pre></div></div></div></div></div>"
      ],
      "text/plain": [
       "SVC()"
      ]
     },
     "execution_count": 141,
     "metadata": {},
     "output_type": "execute_result"
    }
   ],
   "source": [
    "from sklearn import svm\n",
    "\n",
    "clf = svm.SVC()\n",
    "clf.fit(X_train, y_train)"
   ]
  },
  {
   "cell_type": "code",
   "execution_count": 142,
   "id": "e4c08e29-b50f-4713-b827-4784f1175eb4",
   "metadata": {},
   "outputs": [],
   "source": [
    "y_predicted_train = clf.predict(X_train)\n",
    "y_predicted_test = clf.predict(X_test)"
   ]
  },
  {
   "cell_type": "code",
   "execution_count": 143,
   "id": "4c67d79e-06ab-41b4-b481-e94b6e7bada5",
   "metadata": {},
   "outputs": [
    {
     "data": {
      "image/png": "[encoded data removed]",
      "text/plain": [
       "<Figure size 144x144 with 2 Axes>"
      ]
     },
     "metadata": {
      "needs_background": "light"
     },
     "output_type": "display_data"
    },
    {
     "data": {
      "image/png": "[encoded data removed]",
      "text/plain": [
       "<Figure size 144x144 with 2 Axes>"
      ]
     },
     "metadata": {
      "needs_background": "light"
     },
     "output_type": "display_data"
    },
    {
     "name": "stdout",
     "output_type": "stream",
     "text": [
      "Accuracy of the model for training set: 0.954\n",
      "Accuracy of the model for test set: 0.950\n",
      "\n",
      "Precision of the model for training set: 0.864\n",
      "Precision of the model for test set: 0.800\n",
      "\n",
      "Recall of the model for training set: 0.633\n",
      "Recall of the model for test set: 0.593\n",
      "\n",
      "F1-Score of the model for training set: 0.731\n",
      "F1-Score of the model for test set: 0.681\n",
      "\n"
     ]
    }
   ],
   "source": [
    "# Confusion Matrices\n",
    "\n",
    "# training\n",
    "import matplotlib.pyplot as plt\n",
    "from sklearn.metrics import ConfusionMatrixDisplay\n",
    "\n",
    "display = ConfusionMatrixDisplay.from_estimator(\n",
    "    clf,\n",
    "    X_train,\n",
    "    y_train,\n",
    "    display_labels=['Non-Inductee',  'Inductee'],\n",
    "    cmap=plt.cm.YlGn\n",
    ")\n",
    "display.ax_.set_title(\"Confusion Matrix - Training Data\")\n",
    "\n",
    "plt.show()\n",
    "\n",
    "# test\n",
    "import matplotlib.pyplot as plt\n",
    "from sklearn.metrics import ConfusionMatrixDisplay\n",
    "\n",
    "display = ConfusionMatrixDisplay.from_estimator(\n",
    "    clf,\n",
    "    X_test,\n",
    "    y_test,\n",
    "    display_labels=['Non-Inductee',  'Inductee'],\n",
    "    cmap=plt.cm.YlGn\n",
    ")\n",
    "display.ax_.set_title(\"Confusion Matrix - Test Data\")\n",
    "\n",
    "plt.show()\n",
    "\n",
    "# Accuracy Score\n",
    "from sklearn.metrics import accuracy_score\n",
    "print('Accuracy of the model for training set: %.3f' % accuracy_score(y_train,y_predicted_train))\n",
    "print('Accuracy of the model for test set: %.3f\\n' % accuracy_score(y_test,y_predicted_test))\n",
    "\n",
    "# Precision score\n",
    "from sklearn.metrics import precision_score\n",
    "print('Precision of the model for training set: %.3f' % precision_score(y_train,y_predicted_train))\n",
    "print('Precision of the model for test set: %.3f\\n' % precision_score(y_test,y_predicted_test))\n",
    "\n",
    "# Recall score\n",
    "from sklearn.metrics import recall_score\n",
    "print('Recall of the model for training set: %.3f' % recall_score(y_train,y_predicted_train))\n",
    "print('Recall of the model for test set: %.3f\\n' % recall_score(y_test,y_predicted_test))\n",
    "\n",
    "# F1 Score\n",
    "from sklearn.metrics import f1_score\n",
    "print('F1-Score of the model for training set: %.3f' % f1_score(y_train,y_predicted_train))\n",
    "print('F1-Score of the model for test set: %.3f\\n' % f1_score(y_test,y_predicted_test))\n",
    "      "
   ]
  },
  {
   "cell_type": "markdown",
   "id": "f32e94f0-3d9b-4b35-9a09-aa00dc034d51",
   "metadata": {},
   "source": [
    "At a quick glance, these metrics look good. The variance between the two sets of data is low but there is a problem.\n",
    "\n",
    "*Recall* - the percentage of correctly identified values - is quite low, which causes the F1-Score to be low as well."
   ]
  },
  {
   "cell_type": "markdown",
   "id": "0fc1207d-db9d-41ec-a137-7a7cc2f1adf9",
   "metadata": {},
   "source": [
    "This begins to point to the challenge and among the bigger problems with this Hall of Fame approach. There are far more non-inductees than inductees in the Major League Baseball Hall of Fame. So, it is easy for the accuracy to be high because most people are not (and never will be) inductees to the Hall of Fame which means that accuracy on its own is a misleading metric."
   ]
  },
  {
   "cell_type": "markdown",
   "id": "cdb4f8ee-5925-4593-bd92-64b877ab319d",
   "metadata": {},
   "source": [
    "## Feature Selection"
   ]
  },
  {
   "cell_type": "markdown",
   "id": "26c2a006-be9e-41ed-b64e-7f74fd40d425",
   "metadata": {},
   "source": [
    "Let's try to improve the Recall results by reducing features in our model.\n",
    "\n",
    "First, we'll create a Random Forest Classifier to help determine feature importance."
   ]
  },
  {
   "cell_type": "code",
   "execution_count": 144,
   "id": "51f7e1db-cb0b-4f42-9a01-3f3c7ce01c2c",
   "metadata": {},
   "outputs": [
    {
     "data": {
      "text/html": [
       "<style>#sk-container-id-7 {color: black;background-color: white;}#sk-container-id-7 pre{padding: 0;}#sk-container-id-7 div.sk-toggleable {background-color: white;}#sk-container-id-7 label.sk-toggleable__label {cursor: pointer;display: block;width: 100%;margin-bottom: 0;padding: 0.3em;box-sizing: border-box;text-align: center;}#sk-container-id-7 label.sk-toggleable__label-arrow:before {content: \"▸\";float: left;margin-right: 0.25em;color: #696969;}#sk-container-id-7 label.sk-toggleable__label-arrow:hover:before {color: black;}#sk-container-id-7 div.sk-estimator:hover label.sk-toggleable__label-arrow:before {color: black;}#sk-container-id-7 div.sk-toggleable__content {max-height: 0;max-width: 0;overflow: hidden;text-align: left;background-color: #f0f8ff;}#sk-container-id-7 div.sk-toggleable__content pre {margin: 0.2em;color: black;border-radius: 0.25em;background-color: #f0f8ff;}#sk-container-id-7 input.sk-toggleable__control:checked~div.sk-toggleable__content {max-height: 200px;max-width: 100%;overflow: auto;}#sk-container-id-7 input.sk-toggleable__control:checked~label.sk-toggleable__label-arrow:before {content: \"▾\";}#sk-container-id-7 div.sk-estimator input.sk-toggleable__control:checked~label.sk-toggleable__label {background-color: #d4ebff;}#sk-container-id-7 div.sk-label input.sk-toggleable__control:checked~label.sk-toggleable__label {background-color: #d4ebff;}#sk-container-id-7 input.sk-hidden--visually {border: 0;clip: rect(1px 1px 1px 1px);clip: rect(1px, 1px, 1px, 1px);height: 1px;margin: -1px;overflow: hidden;padding: 0;position: absolute;width: 1px;}#sk-container-id-7 div.sk-estimator {font-family: monospace;background-color: #f0f8ff;border: 1px dotted black;border-radius: 0.25em;box-sizing: border-box;margin-bottom: 0.5em;}#sk-container-id-7 div.sk-estimator:hover {background-color: #d4ebff;}#sk-container-id-7 div.sk-parallel-item::after {content: \"\";width: 100%;border-bottom: 1px solid gray;flex-grow: 1;}#sk-container-id-7 div.sk-label:hover label.sk-toggleable__label {background-color: #d4ebff;}#sk-container-id-7 div.sk-serial::before {content: \"\";position: absolute;border-left: 1px solid gray;box-sizing: border-box;top: 0;bottom: 0;left: 50%;z-index: 0;}#sk-container-id-7 div.sk-serial {display: flex;flex-direction: column;align-items: center;background-color: white;padding-right: 0.2em;padding-left: 0.2em;position: relative;}#sk-container-id-7 div.sk-item {position: relative;z-index: 1;}#sk-container-id-7 div.sk-parallel {display: flex;align-items: stretch;justify-content: center;background-color: white;position: relative;}#sk-container-id-7 div.sk-item::before, #sk-container-id-7 div.sk-parallel-item::before {content: \"\";position: absolute;border-left: 1px solid gray;box-sizing: border-box;top: 0;bottom: 0;left: 50%;z-index: -1;}#sk-container-id-7 div.sk-parallel-item {display: flex;flex-direction: column;z-index: 1;position: relative;background-color: white;}#sk-container-id-7 div.sk-parallel-item:first-child::after {align-self: flex-end;width: 50%;}#sk-container-id-7 div.sk-parallel-item:last-child::after {align-self: flex-start;width: 50%;}#sk-container-id-7 div.sk-parallel-item:only-child::after {width: 0;}#sk-container-id-7 div.sk-dashed-wrapped {border: 1px dashed gray;margin: 0 0.4em 0.5em 0.4em;box-sizing: border-box;padding-bottom: 0.4em;background-color: white;}#sk-container-id-7 div.sk-label label {font-family: monospace;font-weight: bold;display: inline-block;line-height: 1.2em;}#sk-container-id-7 div.sk-label-container {text-align: center;}#sk-container-id-7 div.sk-container {/* jupyter's `normalize.less` sets `[hidden] { display: none; }` but bootstrap.min.css set `[hidden] { display: none !important; }` so we also need the `!important` here to be able to override the default hidden behavior on the sphinx rendered scikit-learn.org. See: https://github.com/scikit-learn/scikit-learn/issues/21755 */display: inline-block !important;position: relative;}#sk-container-id-7 div.sk-text-repr-fallback {display: none;}</style><div id=\"sk-container-id-7\" class=\"sk-top-container\"><div class=\"sk-text-repr-fallback\"><pre>RandomForestClassifier(random_state=0)</pre><b>In a Jupyter environment, please rerun this cell to show the HTML representation or trust the notebook. <br />On GitHub, the HTML representation is unable to render, please try loading this page with nbviewer.org.</b></div><div class=\"sk-container\" hidden><div class=\"sk-item\"><div class=\"sk-estimator sk-toggleable\"><input class=\"sk-toggleable__control sk-hidden--visually\" id=\"sk-estimator-id-7\" type=\"checkbox\" checked><label for=\"sk-estimator-id-7\" class=\"sk-toggleable__label sk-toggleable__label-arrow\">RandomForestClassifier</label><div class=\"sk-toggleable__content\"><pre>RandomForestClassifier(random_state=0)</pre></div></div></div></div></div>"
      ],
      "text/plain": [
       "RandomForestClassifier(random_state=0)"
      ]
     },
     "execution_count": 144,
     "metadata": {},
     "output_type": "execute_result"
    }
   ],
   "source": [
    "from sklearn.ensemble import RandomForestClassifier\n",
    "\n",
    "forest = RandomForestClassifier(random_state=0)\n",
    "forest.fit(X_train, y_train)"
   ]
  },
  {
   "cell_type": "markdown",
   "id": "888dead2-38b0-451c-8d95-12d42a2e3787",
   "metadata": {},
   "source": [
    "Next, we glean the importances from the forest classifier, first using a \"Mean Decrease in Impurity\" (or MDI) approach."
   ]
  },
  {
   "cell_type": "code",
   "execution_count": 145,
   "id": "54243c73-90bf-4d20-b251-32a67d5d7410",
   "metadata": {},
   "outputs": [],
   "source": [
    "import numpy as np\n",
    "\n",
    "importances = forest.feature_importances_\n",
    "std = np.std([tree.feature_importances_ for tree in forest.estimators_], axis=0)"
   ]
  },
  {
   "cell_type": "markdown",
   "id": "a2f442d4-f072-434c-b51a-5c16a7b14a40",
   "metadata": {},
   "source": [
    "Finally, we can examine feature importances visually."
   ]
  },
  {
   "cell_type": "code",
   "execution_count": 155,
   "id": "ca1844dd-4165-4fa6-92d5-2382283fca53",
   "metadata": {},
   "outputs": [
    {
     "data": {
      "image/png": "[encoded data removed]",
      "text/plain": [
       "<Figure size 576x288 with 1 Axes>"
      ]
     },
     "metadata": {
      "needs_background": "light"
     },
     "output_type": "display_data"
    }
   ],
   "source": [
    "import pandas as pd\n",
    "import matplotlib.pyplot as plt\n",
    "\n",
    "\n",
    "forest_importances = pd.Series(importances, index=X_features)\n",
    "\n",
    "fig, ax = plt.subplots()\n",
    "forest_importances.plot.bar(yerr=std, ax=ax)\n",
    "\n",
    "ax.set_title(\"Feature importances using MDI\")\n",
    "ax.set_ylabel(\"Mean decrease in impurity\")\n",
    "\n",
    "fig.set_figwidth(8)\n",
    "fig.set_figheight(4)"
   ]
  },
  {
   "cell_type": "markdown",
   "id": "997a82a9-f8c3-4d54-8af7-96cf3197faae",
   "metadata": {},
   "source": [
    "Let's look at importances in another way, using a \"Permutation\" approach."
   ]
  },
  {
   "cell_type": "code",
   "execution_count": 156,
   "id": "08c09365-7b29-4977-9696-b19d47f2415b",
   "metadata": {},
   "outputs": [],
   "source": [
    "from sklearn.inspection import permutation_importance\n",
    "\n",
    "result = permutation_importance(\n",
    "    forest, X_test, y_test, n_repeats=10, random_state=42, n_jobs=2\n",
    ")\n",
    "\n",
    "forest_importances = pd.Series(result.importances_mean, index=X_features)"
   ]
  },
  {
   "cell_type": "markdown",
   "id": "cfe75f70-5590-41c8-853f-d6bc77899fcb",
   "metadata": {},
   "source": [
    "And then visualizing the results:"
   ]
  },
  {
   "cell_type": "code",
   "execution_count": 158,
   "id": "07a5a540-868e-4e5a-8f6f-a20493fe0d3a",
   "metadata": {},
   "outputs": [
    {
     "data": {
      "image/png": "[encoded data removed]",
      "text/plain": [
       "<Figure size 576x288 with 1 Axes>"
      ]
     },
     "metadata": {
      "needs_background": "light"
     },
     "output_type": "display_data"
    }
   ],
   "source": [
    "fig, ax = plt.subplots()\n",
    "forest_importances.plot.bar(yerr=result.importances_std, ax=ax)\n",
    "ax.set_title(\"Feature importances using permutation on full model\")\n",
    "ax.set_ylabel(\"Mean accuracy decrease\")\n",
    "\n",
    "fig.set_figwidth(8)\n",
    "fig.set_figheight(4)\n",
    "\n",
    "plt.show()\n"
   ]
  },
  {
   "cell_type": "markdown",
   "id": "01ba8b60-f7bc-4c2f-8487-62da6355e867",
   "metadata": {},
   "source": [
    "There are some interesting discrepencies, so let's remove the calculated statistics and see what the impact is."
   ]
  },
  {
   "cell_type": "code",
   "execution_count": 159,
   "id": "f9523cbd-2593-44d5-90a2-45b28b629efe",
   "metadata": {},
   "outputs": [],
   "source": [
    "X_nc_train, X_nc_test, y_train, y_test = train_test_split(X_nc, y, test_size = 0.2, random_state = 42)"
   ]
  },
  {
   "cell_type": "code",
   "execution_count": 160,
   "id": "0e1e5bb4-b6ae-49cf-9b23-42dd3ded6560",
   "metadata": {},
   "outputs": [
    {
     "data": {
      "text/html": [
       "<style>#sk-container-id-8 {color: black;background-color: white;}#sk-container-id-8 pre{padding: 0;}#sk-container-id-8 div.sk-toggleable {background-color: white;}#sk-container-id-8 label.sk-toggleable__label {cursor: pointer;display: block;width: 100%;margin-bottom: 0;padding: 0.3em;box-sizing: border-box;text-align: center;}#sk-container-id-8 label.sk-toggleable__label-arrow:before {content: \"▸\";float: left;margin-right: 0.25em;color: #696969;}#sk-container-id-8 label.sk-toggleable__label-arrow:hover:before {color: black;}#sk-container-id-8 div.sk-estimator:hover label.sk-toggleable__label-arrow:before {color: black;}#sk-container-id-8 div.sk-toggleable__content {max-height: 0;max-width: 0;overflow: hidden;text-align: left;background-color: #f0f8ff;}#sk-container-id-8 div.sk-toggleable__content pre {margin: 0.2em;color: black;border-radius: 0.25em;background-color: #f0f8ff;}#sk-container-id-8 input.sk-toggleable__control:checked~div.sk-toggleable__content {max-height: 200px;max-width: 100%;overflow: auto;}#sk-container-id-8 input.sk-toggleable__control:checked~label.sk-toggleable__label-arrow:before {content: \"▾\";}#sk-container-id-8 div.sk-estimator input.sk-toggleable__control:checked~label.sk-toggleable__label {background-color: #d4ebff;}#sk-container-id-8 div.sk-label input.sk-toggleable__control:checked~label.sk-toggleable__label {background-color: #d4ebff;}#sk-container-id-8 input.sk-hidden--visually {border: 0;clip: rect(1px 1px 1px 1px);clip: rect(1px, 1px, 1px, 1px);height: 1px;margin: -1px;overflow: hidden;padding: 0;position: absolute;width: 1px;}#sk-container-id-8 div.sk-estimator {font-family: monospace;background-color: #f0f8ff;border: 1px dotted black;border-radius: 0.25em;box-sizing: border-box;margin-bottom: 0.5em;}#sk-container-id-8 div.sk-estimator:hover {background-color: #d4ebff;}#sk-container-id-8 div.sk-parallel-item::after {content: \"\";width: 100%;border-bottom: 1px solid gray;flex-grow: 1;}#sk-container-id-8 div.sk-label:hover label.sk-toggleable__label {background-color: #d4ebff;}#sk-container-id-8 div.sk-serial::before {content: \"\";position: absolute;border-left: 1px solid gray;box-sizing: border-box;top: 0;bottom: 0;left: 50%;z-index: 0;}#sk-container-id-8 div.sk-serial {display: flex;flex-direction: column;align-items: center;background-color: white;padding-right: 0.2em;padding-left: 0.2em;position: relative;}#sk-container-id-8 div.sk-item {position: relative;z-index: 1;}#sk-container-id-8 div.sk-parallel {display: flex;align-items: stretch;justify-content: center;background-color: white;position: relative;}#sk-container-id-8 div.sk-item::before, #sk-container-id-8 div.sk-parallel-item::before {content: \"\";position: absolute;border-left: 1px solid gray;box-sizing: border-box;top: 0;bottom: 0;left: 50%;z-index: -1;}#sk-container-id-8 div.sk-parallel-item {display: flex;flex-direction: column;z-index: 1;position: relative;background-color: white;}#sk-container-id-8 div.sk-parallel-item:first-child::after {align-self: flex-end;width: 50%;}#sk-container-id-8 div.sk-parallel-item:last-child::after {align-self: flex-start;width: 50%;}#sk-container-id-8 div.sk-parallel-item:only-child::after {width: 0;}#sk-container-id-8 div.sk-dashed-wrapped {border: 1px dashed gray;margin: 0 0.4em 0.5em 0.4em;box-sizing: border-box;padding-bottom: 0.4em;background-color: white;}#sk-container-id-8 div.sk-label label {font-family: monospace;font-weight: bold;display: inline-block;line-height: 1.2em;}#sk-container-id-8 div.sk-label-container {text-align: center;}#sk-container-id-8 div.sk-container {/* jupyter's `normalize.less` sets `[hidden] { display: none; }` but bootstrap.min.css set `[hidden] { display: none !important; }` so we also need the `!important` here to be able to override the default hidden behavior on the sphinx rendered scikit-learn.org. See: https://github.com/scikit-learn/scikit-learn/issues/21755 */display: inline-block !important;position: relative;}#sk-container-id-8 div.sk-text-repr-fallback {display: none;}</style><div id=\"sk-container-id-8\" class=\"sk-top-container\"><div class=\"sk-text-repr-fallback\"><pre>RandomForestClassifier(random_state=0)</pre><b>In a Jupyter environment, please rerun this cell to show the HTML representation or trust the notebook. <br />On GitHub, the HTML representation is unable to render, please try loading this page with nbviewer.org.</b></div><div class=\"sk-container\" hidden><div class=\"sk-item\"><div class=\"sk-estimator sk-toggleable\"><input class=\"sk-toggleable__control sk-hidden--visually\" id=\"sk-estimator-id-8\" type=\"checkbox\" checked><label for=\"sk-estimator-id-8\" class=\"sk-toggleable__label sk-toggleable__label-arrow\">RandomForestClassifier</label><div class=\"sk-toggleable__content\"><pre>RandomForestClassifier(random_state=0)</pre></div></div></div></div></div>"
      ],
      "text/plain": [
       "RandomForestClassifier(random_state=0)"
      ]
     },
     "execution_count": 160,
     "metadata": {},
     "output_type": "execute_result"
    }
   ],
   "source": [
    "forest = RandomForestClassifier(random_state=0)\n",
    "forest.fit(X_nc_train, y_train)"
   ]
  },
  {
   "cell_type": "code",
   "execution_count": 161,
   "id": "d04f4b0f-df06-41f9-b405-bc026bc31e4a",
   "metadata": {},
   "outputs": [],
   "source": [
    "nc_importances = forest.feature_importances_\n",
    "std = np.std([tree.feature_importances_ for tree in forest.estimators_], axis=0)"
   ]
  },
  {
   "cell_type": "code",
   "execution_count": 162,
   "id": "0319df99-8649-48ea-85a8-1bbdb83d2499",
   "metadata": {},
   "outputs": [
    {
     "data": {
      "image/png": "[encoded data removed]",
      "text/plain": [
       "<Figure size 576x288 with 1 Axes>"
      ]
     },
     "metadata": {
      "needs_background": "light"
     },
     "output_type": "display_data"
    }
   ],
   "source": [
    "forest_nc_importances = pd.Series(nc_importances, index=X_nc_features)\n",
    "\n",
    "fig, ax = plt.subplots()\n",
    "forest_nc_importances.plot.bar(yerr=std, ax=ax)\n",
    "\n",
    "ax.set_title(\"NC Feature importances using MDI\")\n",
    "ax.set_ylabel(\"Mean decrease in impurity\")\n",
    "\n",
    "fig.set_figwidth(8)\n",
    "fig.set_figheight(4)\n",
    "\n",
    "plt.show()"
   ]
  },
  {
   "cell_type": "markdown",
   "id": "3c7b0635-2994-4498-aa19-218bf8cfa79f",
   "metadata": {},
   "source": []
  },
  {
   "cell_type": "code",
   "execution_count": 163,
   "id": "193b1886-bd57-4d66-8a7e-dcd430a587b0",
   "metadata": {},
   "outputs": [],
   "source": [
    "nc_result = permutation_importance(\n",
    "    forest, X_nc_test, y_test, n_repeats=10, random_state=42, n_jobs=2\n",
    ")\n",
    "\n",
    "forest_nc_importances = pd.Series(nc_result.importances_mean, index=X_nc_features)"
   ]
  },
  {
   "cell_type": "code",
   "execution_count": 165,
   "id": "0a679ba0-ad3c-4307-87f5-63c10201f54c",
   "metadata": {},
   "outputs": [
    {
     "data": {
      "image/png": "[encoded data removed]",
      "text/plain": [
       "<Figure size 576x288 with 1 Axes>"
      ]
     },
     "metadata": {
      "needs_background": "light"
     },
     "output_type": "display_data"
    }
   ],
   "source": [
    "fig, ax = plt.subplots()\n",
    "forest_nc_importances.plot.bar(yerr=nc_result.importances_std, ax=ax)\n",
    "ax.set_title(\"NC Feature importances using permutation on full model\")\n",
    "ax.set_ylabel(\"Mean accuracy decrease\")\n",
    "\n",
    "fig.set_figwidth(8)\n",
    "fig.set_figheight(4)\n",
    "\n",
    "plt.show()"
   ]
  },
  {
   "cell_type": "markdown",
   "id": "d080753c-3b00-41aa-8ba9-aac4924316f1",
   "metadata": {},
   "source": [
    "### trying things with averages"
   ]
  },
  {
   "cell_type": "code",
   "execution_count": 166,
   "id": "14fb7f48-dcc2-4082-9a90-d03c4fdfa77b",
   "metadata": {},
   "outputs": [
    {
     "data": {
      "text/html": [
       "<div>\n",
       "<style scoped>\n",
       "    .dataframe tbody tr th:only-of-type {\n",
       "        vertical-align: middle;\n",
       "    }\n",
       "\n",
       "    .dataframe tbody tr th {\n",
       "        vertical-align: top;\n",
       "    }\n",
       "\n",
       "    .dataframe thead th {\n",
       "        text-align: right;\n",
       "    }\n",
       "</style>\n",
       "<table border=\"1\" class=\"dataframe\">\n",
       "  <thead>\n",
       "    <tr style=\"text-align: right;\">\n",
       "      <th></th>\n",
       "      <th>H</th>\n",
       "      <th>AVG</th>\n",
       "      <th>R</th>\n",
       "    </tr>\n",
       "  </thead>\n",
       "  <tbody>\n",
       "    <tr>\n",
       "      <th>0</th>\n",
       "      <td>3703</td>\n",
       "      <td>0.305503</td>\n",
       "      <td>2128</td>\n",
       "    </tr>\n",
       "    <tr>\n",
       "      <th>1</th>\n",
       "      <td>2470</td>\n",
       "      <td>0.291274</td>\n",
       "      <td>1453</td>\n",
       "    </tr>\n",
       "    <tr>\n",
       "      <th>2</th>\n",
       "      <td>1022</td>\n",
       "      <td>0.254292</td>\n",
       "      <td>376</td>\n",
       "    </tr>\n",
       "    <tr>\n",
       "      <th>3</th>\n",
       "      <td>1036</td>\n",
       "      <td>0.269371</td>\n",
       "      <td>557</td>\n",
       "    </tr>\n",
       "    <tr>\n",
       "      <th>4</th>\n",
       "      <td>1588</td>\n",
       "      <td>0.285714</td>\n",
       "      <td>839</td>\n",
       "    </tr>\n",
       "    <tr>\n",
       "      <th>...</th>\n",
       "      <td>...</td>\n",
       "      <td>...</td>\n",
       "      <td>...</td>\n",
       "    </tr>\n",
       "    <tr>\n",
       "      <th>1509</th>\n",
       "      <td>878</td>\n",
       "      <td>0.251648</td>\n",
       "      <td>431</td>\n",
       "    </tr>\n",
       "    <tr>\n",
       "      <th>1510</th>\n",
       "      <td>2004</td>\n",
       "      <td>0.264624</td>\n",
       "      <td>986</td>\n",
       "    </tr>\n",
       "    <tr>\n",
       "      <th>1511</th>\n",
       "      <td>1049</td>\n",
       "      <td>0.266244</td>\n",
       "      <td>551</td>\n",
       "    </tr>\n",
       "    <tr>\n",
       "      <th>1512</th>\n",
       "      <td>758</td>\n",
       "      <td>0.235550</td>\n",
       "      <td>342</td>\n",
       "    </tr>\n",
       "    <tr>\n",
       "      <th>1513</th>\n",
       "      <td>1477</td>\n",
       "      <td>0.287131</td>\n",
       "      <td>681</td>\n",
       "    </tr>\n",
       "  </tbody>\n",
       "</table>\n",
       "<p>1514 rows × 3 columns</p>\n",
       "</div>"
      ],
      "text/plain": [
       "         H       AVG     R\n",
       "0     3703  0.305503  2128\n",
       "1     2470  0.291274  1453\n",
       "2     1022  0.254292   376\n",
       "3     1036  0.269371   557\n",
       "4     1588  0.285714   839\n",
       "...    ...       ...   ...\n",
       "1509   878  0.251648   431\n",
       "1510  2004  0.264624   986\n",
       "1511  1049  0.266244   551\n",
       "1512   758  0.235550   342\n",
       "1513  1477  0.287131   681\n",
       "\n",
       "[1514 rows x 3 columns]"
      ]
     },
     "execution_count": 166,
     "metadata": {},
     "output_type": "execute_result"
    }
   ],
   "source": [
    "#X_0_features = ['H', 'AVG', 'R', 'OPS', 'PA']   # test recall =  0.259\n",
    "#X_0_features = ['SH', 'AB', 'OPS', 'RBI', 'Number of Seasons']   # test recall = 0.222\n",
    "#X_0_features = ['SH', 'AB', 'OPS']   # test recall = 0.111\n",
    "X_0_features = ['H', 'AVG', 'R']   # test recall = 0.296\n",
    "\n",
    "X_0 = pre_2000[X_0_features]\n",
    "X_0"
   ]
  },
  {
   "cell_type": "code",
   "execution_count": 167,
   "id": "cf9bfa65-cbf3-4491-b7f1-9df9726ba150",
   "metadata": {},
   "outputs": [
    {
     "data": {
      "text/plain": [
       "array([[3.70300000e+03, 3.05502846e-01, 2.12800000e+03],\n",
       "       [2.47000000e+03, 2.91273585e-01, 1.45300000e+03],\n",
       "       [1.02200000e+03, 2.54292112e-01, 3.76000000e+02],\n",
       "       ...,\n",
       "       [1.04900000e+03, 2.66243655e-01, 5.51000000e+02],\n",
       "       [7.58000000e+02, 2.35550031e-01, 3.42000000e+02],\n",
       "       [1.47700000e+03, 2.87130638e-01, 6.81000000e+02]])"
      ]
     },
     "execution_count": 167,
     "metadata": {},
     "output_type": "execute_result"
    }
   ],
   "source": [
    "X_0 = X_0.values\n",
    "X_0"
   ]
  },
  {
   "cell_type": "code",
   "execution_count": 171,
   "id": "0a26b84e-4e4b-4903-8a76-b5fcf5b5dd45",
   "metadata": {},
   "outputs": [],
   "source": [
    "# Feature Scaling\n",
    "from sklearn.preprocessing import StandardScaler\n",
    "sc = StandardScaler()\n",
    "X_0_log = sc.fit_transform(X_0)"
   ]
  },
  {
   "cell_type": "code",
   "execution_count": 172,
   "id": "c581ff6f-d7eb-4a3e-ad30-356a3f161bee",
   "metadata": {},
   "outputs": [],
   "source": [
    "X_0_train, X_0_test, y_train, y_test = train_test_split(X_0_log, y, test_size=0.2, random_state=42)"
   ]
  },
  {
   "cell_type": "code",
   "execution_count": 173,
   "id": "6724916d-65e4-43c1-92ad-b9af6bbb63d7",
   "metadata": {},
   "outputs": [
    {
     "data": {
      "text/html": [
       "<style>#sk-container-id-10 {color: black;background-color: white;}#sk-container-id-10 pre{padding: 0;}#sk-container-id-10 div.sk-toggleable {background-color: white;}#sk-container-id-10 label.sk-toggleable__label {cursor: pointer;display: block;width: 100%;margin-bottom: 0;padding: 0.3em;box-sizing: border-box;text-align: center;}#sk-container-id-10 label.sk-toggleable__label-arrow:before {content: \"▸\";float: left;margin-right: 0.25em;color: #696969;}#sk-container-id-10 label.sk-toggleable__label-arrow:hover:before {color: black;}#sk-container-id-10 div.sk-estimator:hover label.sk-toggleable__label-arrow:before {color: black;}#sk-container-id-10 div.sk-toggleable__content {max-height: 0;max-width: 0;overflow: hidden;text-align: left;background-color: #f0f8ff;}#sk-container-id-10 div.sk-toggleable__content pre {margin: 0.2em;color: black;border-radius: 0.25em;background-color: #f0f8ff;}#sk-container-id-10 input.sk-toggleable__control:checked~div.sk-toggleable__content {max-height: 200px;max-width: 100%;overflow: auto;}#sk-container-id-10 input.sk-toggleable__control:checked~label.sk-toggleable__label-arrow:before {content: \"▾\";}#sk-container-id-10 div.sk-estimator input.sk-toggleable__control:checked~label.sk-toggleable__label {background-color: #d4ebff;}#sk-container-id-10 div.sk-label input.sk-toggleable__control:checked~label.sk-toggleable__label {background-color: #d4ebff;}#sk-container-id-10 input.sk-hidden--visually {border: 0;clip: rect(1px 1px 1px 1px);clip: rect(1px, 1px, 1px, 1px);height: 1px;margin: -1px;overflow: hidden;padding: 0;position: absolute;width: 1px;}#sk-container-id-10 div.sk-estimator {font-family: monospace;background-color: #f0f8ff;border: 1px dotted black;border-radius: 0.25em;box-sizing: border-box;margin-bottom: 0.5em;}#sk-container-id-10 div.sk-estimator:hover {background-color: #d4ebff;}#sk-container-id-10 div.sk-parallel-item::after {content: \"\";width: 100%;border-bottom: 1px solid gray;flex-grow: 1;}#sk-container-id-10 div.sk-label:hover label.sk-toggleable__label {background-color: #d4ebff;}#sk-container-id-10 div.sk-serial::before {content: \"\";position: absolute;border-left: 1px solid gray;box-sizing: border-box;top: 0;bottom: 0;left: 50%;z-index: 0;}#sk-container-id-10 div.sk-serial {display: flex;flex-direction: column;align-items: center;background-color: white;padding-right: 0.2em;padding-left: 0.2em;position: relative;}#sk-container-id-10 div.sk-item {position: relative;z-index: 1;}#sk-container-id-10 div.sk-parallel {display: flex;align-items: stretch;justify-content: center;background-color: white;position: relative;}#sk-container-id-10 div.sk-item::before, #sk-container-id-10 div.sk-parallel-item::before {content: \"\";position: absolute;border-left: 1px solid gray;box-sizing: border-box;top: 0;bottom: 0;left: 50%;z-index: -1;}#sk-container-id-10 div.sk-parallel-item {display: flex;flex-direction: column;z-index: 1;position: relative;background-color: white;}#sk-container-id-10 div.sk-parallel-item:first-child::after {align-self: flex-end;width: 50%;}#sk-container-id-10 div.sk-parallel-item:last-child::after {align-self: flex-start;width: 50%;}#sk-container-id-10 div.sk-parallel-item:only-child::after {width: 0;}#sk-container-id-10 div.sk-dashed-wrapped {border: 1px dashed gray;margin: 0 0.4em 0.5em 0.4em;box-sizing: border-box;padding-bottom: 0.4em;background-color: white;}#sk-container-id-10 div.sk-label label {font-family: monospace;font-weight: bold;display: inline-block;line-height: 1.2em;}#sk-container-id-10 div.sk-label-container {text-align: center;}#sk-container-id-10 div.sk-container {/* jupyter's `normalize.less` sets `[hidden] { display: none; }` but bootstrap.min.css set `[hidden] { display: none !important; }` so we also need the `!important` here to be able to override the default hidden behavior on the sphinx rendered scikit-learn.org. See: https://github.com/scikit-learn/scikit-learn/issues/21755 */display: inline-block !important;position: relative;}#sk-container-id-10 div.sk-text-repr-fallback {display: none;}</style><div id=\"sk-container-id-10\" class=\"sk-top-container\"><div class=\"sk-text-repr-fallback\"><pre>SVC()</pre><b>In a Jupyter environment, please rerun this cell to show the HTML representation or trust the notebook. <br />On GitHub, the HTML representation is unable to render, please try loading this page with nbviewer.org.</b></div><div class=\"sk-container\" hidden><div class=\"sk-item\"><div class=\"sk-estimator sk-toggleable\"><input class=\"sk-toggleable__control sk-hidden--visually\" id=\"sk-estimator-id-10\" type=\"checkbox\" checked><label for=\"sk-estimator-id-10\" class=\"sk-toggleable__label sk-toggleable__label-arrow\">SVC</label><div class=\"sk-toggleable__content\"><pre>SVC()</pre></div></div></div></div></div>"
      ],
      "text/plain": [
       "SVC()"
      ]
     },
     "execution_count": 173,
     "metadata": {},
     "output_type": "execute_result"
    }
   ],
   "source": [
    "from sklearn import svm\n",
    "\n",
    "clf_0 = svm.SVC()\n",
    "clf_0.fit(X_0_train, y_train)"
   ]
  },
  {
   "cell_type": "code",
   "execution_count": 174,
   "id": "37c0bb8a-189b-4bc2-baa9-b2ba7ae5398b",
   "metadata": {},
   "outputs": [],
   "source": [
    "y_predicted_train_0 = clf_0.predict(X_0_train)\n",
    "y_predicted_test_0 = clf_0.predict(X_0_test)"
   ]
  },
  {
   "cell_type": "code",
   "execution_count": 40,
   "id": "dca16d03-da7c-4053-afe4-cf71743084e9",
   "metadata": {
    "jupyter": {
     "source_hidden": true
    },
    "tags": []
   },
   "outputs": [
    {
     "data": {
      "image/png": "[encoded data removed]",
      "text/plain": [
       "<Figure size 432x288 with 2 Axes>"
      ]
     },
     "metadata": {
      "needs_background": "light"
     },
     "output_type": "display_data"
    },
    {
     "data": {
      "image/png": "[encoded data removed]",
      "text/plain": [
       "<Figure size 432x288 with 2 Axes>"
      ]
     },
     "metadata": {
      "needs_background": "light"
     },
     "output_type": "display_data"
    },
    {
     "name": "stdout",
     "output_type": "stream",
     "text": [
      "Accuracy of the model for training set: 0.922\n",
      "Accuracy of the model for test set: 0.931\n",
      "\n",
      "Precision of the model for training set: 0.778\n",
      "Precision of the model for test set: 0.800\n",
      "\n",
      "Recall of the model for training set: 0.292\n",
      "Recall of the model for test set: 0.296\n",
      "\n",
      "F1-Score of the model for training set: 0.424\n",
      "F1-Score of the model for test set: 0.432\n",
      "\n"
     ]
    }
   ],
   "source": [
    "# Confusion Matrices\n",
    "\n",
    "# training\n",
    "import matplotlib.pyplot as plt\n",
    "from sklearn.metrics import ConfusionMatrixDisplay\n",
    "\n",
    "display = ConfusionMatrixDisplay.from_estimator(\n",
    "    clf_0,\n",
    "    X_0_train,\n",
    "    y_train,\n",
    "    display_labels=['Non-Inductee',  'Inductee'],\n",
    "    cmap=plt.cm.YlGn\n",
    ")\n",
    "display.ax_.set_title(\"Confusion Matrix - Training Data\")\n",
    "\n",
    "plt.show()\n",
    "\n",
    "# test\n",
    "import matplotlib.pyplot as plt\n",
    "from sklearn.metrics import ConfusionMatrixDisplay\n",
    "\n",
    "display = ConfusionMatrixDisplay.from_estimator(\n",
    "    clf_0,\n",
    "    X_0_test,\n",
    "    y_test,\n",
    "    display_labels=['Non-Inductee',  'Inductee'],\n",
    "    cmap=plt.cm.YlGn\n",
    ")\n",
    "display.ax_.set_title(\"Confusion Matrix - Test Data\")\n",
    "\n",
    "plt.show()\n",
    "\n",
    "# Accuracy Score\n",
    "from sklearn.metrics import accuracy_score\n",
    "print('Accuracy of the model for training set: %.3f' % accuracy_score(y_train,y_predicted_train_0))\n",
    "print('Accuracy of the model for test set: %.3f\\n' % accuracy_score(y_test,y_predicted_test_0))\n",
    "\n",
    "# Precision score\n",
    "from sklearn.metrics import precision_score\n",
    "print('Precision of the model for training set: %.3f' % precision_score(y_train,y_predicted_train_0))\n",
    "print('Precision of the model for test set: %.3f\\n' % precision_score(y_test,y_predicted_test_0))\n",
    "\n",
    "# Recall score\n",
    "from sklearn.metrics import recall_score\n",
    "print('Recall of the model for training set: %.3f' % recall_score(y_train,y_predicted_train_0))\n",
    "print('Recall of the model for test set: %.3f\\n' % recall_score(y_test,y_predicted_test_0))\n",
    "\n",
    "# F1 Score\n",
    "from sklearn.metrics import f1_score\n",
    "print('F1-Score of the model for training set: %.3f' % f1_score(y_train,y_predicted_train_0))\n",
    "print('F1-Score of the model for test set: %.3f\\n' % f1_score(y_test,y_predicted_test_0))\n"
   ]
  },
  {
   "cell_type": "code",
   "execution_count": null,
   "id": "269a65e6-0377-4e74-aba8-9ec58ec8860d",
   "metadata": {},
   "outputs": [],
   "source": []
  },
  {
   "cell_type": "code",
   "execution_count": null,
   "id": "67da920a-1fda-494a-9e9d-019ebfc5ca10",
   "metadata": {},
   "outputs": [],
   "source": []
  },
  {
   "cell_type": "code",
   "execution_count": null,
   "id": "9495dea9-115f-49a1-a588-17a1d386ac97",
   "metadata": {},
   "outputs": [],
   "source": []
  },
  {
   "cell_type": "markdown",
   "id": "dbcbb008-94f1-4949-bb1a-a05cac64be12",
   "metadata": {},
   "source": [
    "## Redefining X"
   ]
  },
  {
   "cell_type": "code",
   "execution_count": 175,
   "id": "17017d21-44f1-42ad-8954-71f3deeffeb1",
   "metadata": {
    "tags": []
   },
   "outputs": [
    {
     "data": {
      "text/html": [
       "<div>\n",
       "<style scoped>\n",
       "    .dataframe tbody tr th:only-of-type {\n",
       "        vertical-align: middle;\n",
       "    }\n",
       "\n",
       "    .dataframe tbody tr th {\n",
       "        vertical-align: top;\n",
       "    }\n",
       "\n",
       "    .dataframe thead th {\n",
       "        text-align: right;\n",
       "    }\n",
       "</style>\n",
       "<table border=\"1\" class=\"dataframe\">\n",
       "  <thead>\n",
       "    <tr style=\"text-align: right;\">\n",
       "      <th></th>\n",
       "      <th>R</th>\n",
       "      <th>3B</th>\n",
       "      <th>RBI</th>\n",
       "      <th>H</th>\n",
       "      <th>SO</th>\n",
       "    </tr>\n",
       "  </thead>\n",
       "  <tbody>\n",
       "    <tr>\n",
       "      <th>0</th>\n",
       "      <td>2128</td>\n",
       "      <td>96</td>\n",
       "      <td>2243</td>\n",
       "      <td>3703</td>\n",
       "      <td>1357</td>\n",
       "    </tr>\n",
       "    <tr>\n",
       "      <th>1</th>\n",
       "      <td>1453</td>\n",
       "      <td>59</td>\n",
       "      <td>1363</td>\n",
       "      <td>2470</td>\n",
       "      <td>1840</td>\n",
       "    </tr>\n",
       "    <tr>\n",
       "      <th>2</th>\n",
       "      <td>376</td>\n",
       "      <td>19</td>\n",
       "      <td>365</td>\n",
       "      <td>1022</td>\n",
       "      <td>497</td>\n",
       "    </tr>\n",
       "    <tr>\n",
       "      <th>3</th>\n",
       "      <td>557</td>\n",
       "      <td>47</td>\n",
       "      <td>294</td>\n",
       "      <td>1036</td>\n",
       "      <td>426</td>\n",
       "    </tr>\n",
       "    <tr>\n",
       "      <th>4</th>\n",
       "      <td>839</td>\n",
       "      <td>49</td>\n",
       "      <td>390</td>\n",
       "      <td>1588</td>\n",
       "      <td>222</td>\n",
       "    </tr>\n",
       "    <tr>\n",
       "      <th>...</th>\n",
       "      <td>...</td>\n",
       "      <td>...</td>\n",
       "      <td>...</td>\n",
       "      <td>...</td>\n",
       "      <td>...</td>\n",
       "    </tr>\n",
       "    <tr>\n",
       "      <th>1509</th>\n",
       "      <td>431</td>\n",
       "      <td>9</td>\n",
       "      <td>446</td>\n",
       "      <td>878</td>\n",
       "      <td>544</td>\n",
       "    </tr>\n",
       "    <tr>\n",
       "      <th>1510</th>\n",
       "      <td>986</td>\n",
       "      <td>23</td>\n",
       "      <td>1110</td>\n",
       "      <td>2004</td>\n",
       "      <td>1279</td>\n",
       "    </tr>\n",
       "    <tr>\n",
       "      <th>1511</th>\n",
       "      <td>551</td>\n",
       "      <td>21</td>\n",
       "      <td>749</td>\n",
       "      <td>1049</td>\n",
       "      <td>731</td>\n",
       "    </tr>\n",
       "    <tr>\n",
       "      <th>1512</th>\n",
       "      <td>342</td>\n",
       "      <td>21</td>\n",
       "      <td>348</td>\n",
       "      <td>758</td>\n",
       "      <td>662</td>\n",
       "    </tr>\n",
       "    <tr>\n",
       "      <th>1513</th>\n",
       "      <td>681</td>\n",
       "      <td>26</td>\n",
       "      <td>792</td>\n",
       "      <td>1477</td>\n",
       "      <td>910</td>\n",
       "    </tr>\n",
       "  </tbody>\n",
       "</table>\n",
       "<p>1514 rows × 5 columns</p>\n",
       "</div>"
      ],
      "text/plain": [
       "         R  3B   RBI     H    SO\n",
       "0     2128  96  2243  3703  1357\n",
       "1     1453  59  1363  2470  1840\n",
       "2      376  19   365  1022   497\n",
       "3      557  47   294  1036   426\n",
       "4      839  49   390  1588   222\n",
       "...    ...  ..   ...   ...   ...\n",
       "1509   431   9   446   878   544\n",
       "1510   986  23  1110  2004  1279\n",
       "1511   551  21   749  1049   731\n",
       "1512   342  21   348   758   662\n",
       "1513   681  26   792  1477   910\n",
       "\n",
       "[1514 rows x 5 columns]"
      ]
     },
     "execution_count": 175,
     "metadata": {},
     "output_type": "execute_result"
    }
   ],
   "source": [
    "\n",
    "#X_1_features = ['R', 'H', 'RBI']  # test recall = 0.333\n",
    "\n",
    "#X_1_features = ['R', 'H', 'RBI', 'AB']   # test recall = 0.296\n",
    "\n",
    "#X_1_features = ['R', 'H', 'RBI', 'AB', 'PA']   # test recall = 0.296\n",
    "\n",
    "\n",
    "\n",
    "#X_1_features = ['R', '3B', 'RBI']  # test recall = 0.370\n",
    "\n",
    "#X_1_features = ['R', '3B', 'RBI', 'H']   # test recall = 0.296\n",
    "\n",
    "X_1_features = ['R', '3B', 'RBI', 'H', 'SO']   # test recall = 0.556\n",
    "\n",
    "#X_1_features = ['R', '3B', 'RBI', 'H', 'SO', '2B']   # test recall = 0.556\n",
    "\n",
    "#X_1_features = ['R', '3B', 'RBI', 'H', 'SO', '2B', 'Number of Seasons']   # test recall = 0.556\n",
    "\n",
    "\n",
    "\n",
    "X_1 = pre_2000[X_1_features]\n",
    "X_1"
   ]
  },
  {
   "cell_type": "code",
   "execution_count": 176,
   "id": "5b38ccbd-3d4b-49d5-91ca-0f81107a8e25",
   "metadata": {
    "tags": []
   },
   "outputs": [
    {
     "data": {
      "text/plain": [
       "array([[2128,   96, 2243, 3703, 1357],\n",
       "       [1453,   59, 1363, 2470, 1840],\n",
       "       [ 376,   19,  365, 1022,  497],\n",
       "       ...,\n",
       "       [ 551,   21,  749, 1049,  731],\n",
       "       [ 342,   21,  348,  758,  662],\n",
       "       [ 681,   26,  792, 1477,  910]])"
      ]
     },
     "execution_count": 176,
     "metadata": {},
     "output_type": "execute_result"
    }
   ],
   "source": [
    "X_1 = X_1.values\n",
    "X_1"
   ]
  },
  {
   "cell_type": "markdown",
   "id": "ce3454c5-fe17-4557-9f90-e1025c768e9f",
   "metadata": {},
   "source": [
    "## Modelling on reduced X..."
   ]
  },
  {
   "cell_type": "markdown",
   "id": "61257e4a-ec06-4734-92f0-b3a119570f7e",
   "metadata": {},
   "source": [
    "https://scikit-learn.org/stable/tutorial/machine_learning_map/index.html recommends going with Linear SVC, so let's try it."
   ]
  },
  {
   "cell_type": "code",
   "execution_count": 177,
   "id": "ed4c9250-24b6-44de-89f5-f6c5b65851d0",
   "metadata": {},
   "outputs": [],
   "source": [
    "# Feature Scaling\n",
    "from sklearn.preprocessing import StandardScaler\n",
    "sc = StandardScaler()\n",
    "X_1_log = sc.fit_transform(X_1)"
   ]
  },
  {
   "cell_type": "code",
   "execution_count": 43,
   "id": "653be558-1abe-4041-934e-89bc25b7640f",
   "metadata": {},
   "outputs": [],
   "source": [
    "X_1_train, X_1_test, y_train, y_test = train_test_split(X_1_log, y, test_size=0.2, random_state=42)"
   ]
  },
  {
   "cell_type": "code",
   "execution_count": 178,
   "id": "a0b213fe-e5df-4cb6-9c33-9bb69e56d9d4",
   "metadata": {
    "tags": []
   },
   "outputs": [
    {
     "data": {
      "text/html": [
       "<style>#sk-container-id-11 {color: black;background-color: white;}#sk-container-id-11 pre{padding: 0;}#sk-container-id-11 div.sk-toggleable {background-color: white;}#sk-container-id-11 label.sk-toggleable__label {cursor: pointer;display: block;width: 100%;margin-bottom: 0;padding: 0.3em;box-sizing: border-box;text-align: center;}#sk-container-id-11 label.sk-toggleable__label-arrow:before {content: \"▸\";float: left;margin-right: 0.25em;color: #696969;}#sk-container-id-11 label.sk-toggleable__label-arrow:hover:before {color: black;}#sk-container-id-11 div.sk-estimator:hover label.sk-toggleable__label-arrow:before {color: black;}#sk-container-id-11 div.sk-toggleable__content {max-height: 0;max-width: 0;overflow: hidden;text-align: left;background-color: #f0f8ff;}#sk-container-id-11 div.sk-toggleable__content pre {margin: 0.2em;color: black;border-radius: 0.25em;background-color: #f0f8ff;}#sk-container-id-11 input.sk-toggleable__control:checked~div.sk-toggleable__content {max-height: 200px;max-width: 100%;overflow: auto;}#sk-container-id-11 input.sk-toggleable__control:checked~label.sk-toggleable__label-arrow:before {content: \"▾\";}#sk-container-id-11 div.sk-estimator input.sk-toggleable__control:checked~label.sk-toggleable__label {background-color: #d4ebff;}#sk-container-id-11 div.sk-label input.sk-toggleable__control:checked~label.sk-toggleable__label {background-color: #d4ebff;}#sk-container-id-11 input.sk-hidden--visually {border: 0;clip: rect(1px 1px 1px 1px);clip: rect(1px, 1px, 1px, 1px);height: 1px;margin: -1px;overflow: hidden;padding: 0;position: absolute;width: 1px;}#sk-container-id-11 div.sk-estimator {font-family: monospace;background-color: #f0f8ff;border: 1px dotted black;border-radius: 0.25em;box-sizing: border-box;margin-bottom: 0.5em;}#sk-container-id-11 div.sk-estimator:hover {background-color: #d4ebff;}#sk-container-id-11 div.sk-parallel-item::after {content: \"\";width: 100%;border-bottom: 1px solid gray;flex-grow: 1;}#sk-container-id-11 div.sk-label:hover label.sk-toggleable__label {background-color: #d4ebff;}#sk-container-id-11 div.sk-serial::before {content: \"\";position: absolute;border-left: 1px solid gray;box-sizing: border-box;top: 0;bottom: 0;left: 50%;z-index: 0;}#sk-container-id-11 div.sk-serial {display: flex;flex-direction: column;align-items: center;background-color: white;padding-right: 0.2em;padding-left: 0.2em;position: relative;}#sk-container-id-11 div.sk-item {position: relative;z-index: 1;}#sk-container-id-11 div.sk-parallel {display: flex;align-items: stretch;justify-content: center;background-color: white;position: relative;}#sk-container-id-11 div.sk-item::before, #sk-container-id-11 div.sk-parallel-item::before {content: \"\";position: absolute;border-left: 1px solid gray;box-sizing: border-box;top: 0;bottom: 0;left: 50%;z-index: -1;}#sk-container-id-11 div.sk-parallel-item {display: flex;flex-direction: column;z-index: 1;position: relative;background-color: white;}#sk-container-id-11 div.sk-parallel-item:first-child::after {align-self: flex-end;width: 50%;}#sk-container-id-11 div.sk-parallel-item:last-child::after {align-self: flex-start;width: 50%;}#sk-container-id-11 div.sk-parallel-item:only-child::after {width: 0;}#sk-container-id-11 div.sk-dashed-wrapped {border: 1px dashed gray;margin: 0 0.4em 0.5em 0.4em;box-sizing: border-box;padding-bottom: 0.4em;background-color: white;}#sk-container-id-11 div.sk-label label {font-family: monospace;font-weight: bold;display: inline-block;line-height: 1.2em;}#sk-container-id-11 div.sk-label-container {text-align: center;}#sk-container-id-11 div.sk-container {/* jupyter's `normalize.less` sets `[hidden] { display: none; }` but bootstrap.min.css set `[hidden] { display: none !important; }` so we also need the `!important` here to be able to override the default hidden behavior on the sphinx rendered scikit-learn.org. See: https://github.com/scikit-learn/scikit-learn/issues/21755 */display: inline-block !important;position: relative;}#sk-container-id-11 div.sk-text-repr-fallback {display: none;}</style><div id=\"sk-container-id-11\" class=\"sk-top-container\"><div class=\"sk-text-repr-fallback\"><pre>SVC()</pre><b>In a Jupyter environment, please rerun this cell to show the HTML representation or trust the notebook. <br />On GitHub, the HTML representation is unable to render, please try loading this page with nbviewer.org.</b></div><div class=\"sk-container\" hidden><div class=\"sk-item\"><div class=\"sk-estimator sk-toggleable\"><input class=\"sk-toggleable__control sk-hidden--visually\" id=\"sk-estimator-id-11\" type=\"checkbox\" checked><label for=\"sk-estimator-id-11\" class=\"sk-toggleable__label sk-toggleable__label-arrow\">SVC</label><div class=\"sk-toggleable__content\"><pre>SVC()</pre></div></div></div></div></div>"
      ],
      "text/plain": [
       "SVC()"
      ]
     },
     "execution_count": 178,
     "metadata": {},
     "output_type": "execute_result"
    }
   ],
   "source": [
    "from sklearn import svm\n",
    "\n",
    "clf_1 = svm.SVC()\n",
    "clf_1.fit(X_1_train, y_train)"
   ]
  },
  {
   "cell_type": "code",
   "execution_count": 179,
   "id": "ec6edfb1-5f85-4a29-9598-5d05b2c485b7",
   "metadata": {},
   "outputs": [],
   "source": [
    "y_predicted_train_1 = clf_1.predict(X_1_train)\n",
    "y_predicted_test_1 = clf_1.predict(X_1_test)"
   ]
  },
  {
   "cell_type": "code",
   "execution_count": 46,
   "id": "10445892-1454-4fee-8492-618b2a6781de",
   "metadata": {
    "jupyter": {
     "source_hidden": true
    },
    "tags": []
   },
   "outputs": [
    {
     "data": {
      "image/png": "[encoded data removed]",
      "text/plain": [
       "<Figure size 432x288 with 2 Axes>"
      ]
     },
     "metadata": {
      "needs_background": "light"
     },
     "output_type": "display_data"
    },
    {
     "data": {
      "image/png": "[encoded data removed]",
      "text/plain": [
       "<Figure size 432x288 with 2 Axes>"
      ]
     },
     "metadata": {
      "needs_background": "light"
     },
     "output_type": "display_data"
    },
    {
     "name": "stdout",
     "output_type": "stream",
     "text": [
      "Accuracy of the model for training set: 0.931\n",
      "Accuracy of the model for test set: 0.950\n",
      "\n",
      "Precision of the model for training set: 0.757\n",
      "Precision of the model for test set: 0.833\n",
      "\n",
      "Recall of the model for training set: 0.442\n",
      "Recall of the model for test set: 0.556\n",
      "\n",
      "F1-Score of the model for training set: 0.558\n",
      "F1-Score of the model for test set: 0.667\n",
      "\n"
     ]
    }
   ],
   "source": [
    "# Confusion Matrices\n",
    "\n",
    "# training\n",
    "import matplotlib.pyplot as plt\n",
    "from sklearn.metrics import ConfusionMatrixDisplay\n",
    "\n",
    "display = ConfusionMatrixDisplay.from_estimator(\n",
    "    clf_1,\n",
    "    X_1_train,\n",
    "    y_train,\n",
    "    display_labels=['Non-Inductee',  'Inductee'],\n",
    "    cmap=plt.cm.YlGn\n",
    ")\n",
    "display.ax_.set_title(\"Confusion Matrix - Training Data\")\n",
    "\n",
    "plt.show()\n",
    "\n",
    "# test\n",
    "import matplotlib.pyplot as plt\n",
    "from sklearn.metrics import ConfusionMatrixDisplay\n",
    "\n",
    "display = ConfusionMatrixDisplay.from_estimator(\n",
    "    clf_1,\n",
    "    X_1_test,\n",
    "    y_test,\n",
    "    display_labels=['Non-Inductee',  'Inductee'],\n",
    "    cmap=plt.cm.YlGn\n",
    ")\n",
    "display.ax_.set_title(\"Confusion Matrix - Test Data\")\n",
    "\n",
    "plt.show()\n",
    "\n",
    "# Accuracy Score\n",
    "from sklearn.metrics import accuracy_score\n",
    "print('Accuracy of the model for training set: %.3f' % accuracy_score(y_train,y_predicted_train_1))\n",
    "print('Accuracy of the model for test set: %.3f\\n' % accuracy_score(y_test,y_predicted_test_1))\n",
    "\n",
    "# Precision score\n",
    "from sklearn.metrics import precision_score\n",
    "print('Precision of the model for training set: %.3f' % precision_score(y_train,y_predicted_train_1))\n",
    "print('Precision of the model for test set: %.3f\\n' % precision_score(y_test,y_predicted_test_1))\n",
    "\n",
    "# Recall score\n",
    "from sklearn.metrics import recall_score\n",
    "print('Recall of the model for training set: %.3f' % recall_score(y_train,y_predicted_train_1))\n",
    "print('Recall of the model for test set: %.3f\\n' % recall_score(y_test,y_predicted_test_1))\n",
    "\n",
    "# F1 Score\n",
    "from sklearn.metrics import f1_score\n",
    "print('F1-Score of the model for training set: %.3f' % f1_score(y_train,y_predicted_train_1))\n",
    "print('F1-Score of the model for test set: %.3f\\n' % f1_score(y_test,y_predicted_test_1))\n"
   ]
  },
  {
   "cell_type": "code",
   "execution_count": null,
   "id": "48e5c025-7f1b-4c90-af4f-ed6da65f7d6e",
   "metadata": {},
   "outputs": [],
   "source": []
  },
  {
   "cell_type": "code",
   "execution_count": null,
   "id": "60a33684-42f2-4d7e-b69e-ef10c6d0b28b",
   "metadata": {},
   "outputs": [],
   "source": []
  },
  {
   "cell_type": "markdown",
   "id": "e35d2acf-f8af-4f1b-81a6-c9401b9016df",
   "metadata": {},
   "source": []
  },
  {
   "cell_type": "code",
   "execution_count": null,
   "id": "d09cd869-9227-4fbd-a111-1f87a878d0c7",
   "metadata": {},
   "outputs": [
    {
     "name": "stdout",
     "output_type": "stream",
     "text": [
      "Recall of the model for training set: 0.442\n",
      "Recall of the model for test set: 0.556\n",
      "\n"
     ]
    }
   ],
   "source": [
    "\n",
    "clf_1_1 = svm.SVC()\n",
    "\n",
    "\n",
    "\n",
    "clf_1_1.fit(X_1_train, y_train)\n",
    "\n",
    "y_predicted_train_1_1 = clf_1_1.predict(X_1_train)\n",
    "y_predicted_test_1_1 = clf_1_1.predict(X_1_test)\n",
    "#print('For kernel {} the f1 score is: {}'.format('rbf', f1_score(y_test, y_predicted_test_1)))\n",
    "\n",
    "# Recall score\n",
    "from sklearn.metrics import recall_score\n",
    "print('Recall of the model for training set: %.3f' % recall_score(y_train,y_predicted_train_1_1))\n",
    "print('Recall of the model for test set: %.3f\\n' % recall_score(y_test,y_predicted_test_1_1))"
   ]
  },
  {
   "cell_type": "code",
   "execution_count": null,
   "id": "5e4d50c3-0724-4b6e-a4da-606b79c7f597",
   "metadata": {},
   "outputs": [],
   "source": []
  },
  {
   "cell_type": "code",
   "execution_count": null,
   "id": "74e75f94-70bc-4772-a333-0ace20ccc462",
   "metadata": {},
   "outputs": [],
   "source": []
  },
  {
   "cell_type": "code",
   "execution_count": null,
   "id": "5be518f9-2d48-446f-ac0e-a15d80f19a0e",
   "metadata": {},
   "outputs": [],
   "source": []
  },
  {
   "cell_type": "code",
   "execution_count": null,
   "id": "bafcc381-6725-4af0-ba8c-fe0db7f14c10",
   "metadata": {},
   "outputs": [],
   "source": []
  },
  {
   "cell_type": "code",
   "execution_count": null,
   "id": "1352ccee-257b-4f30-a413-7b6dac82b087",
   "metadata": {},
   "outputs": [],
   "source": []
  },
  {
   "cell_type": "code",
   "execution_count": null,
   "id": "89a9a2d6-3b3a-43b1-8d71-3009d1f35672",
   "metadata": {},
   "outputs": [],
   "source": []
  },
  {
   "cell_type": "markdown",
   "id": "26ab5e5e-4324-44d8-baa2-a9ba378a5102",
   "metadata": {},
   "source": [
    "## Look at Reserved TEST data (actual predictions)"
   ]
  },
  {
   "cell_type": "markdown",
   "id": "d9520170-d3c9-48a1-b6e0-f4518b786cc5",
   "metadata": {},
   "source": [
    "There are no Hall of Fame inductees in the data where players have careers that start in 2000 or later."
   ]
  },
  {
   "cell_type": "code",
   "execution_count": 48,
   "id": "3fdccb28-820e-48ae-b669-a43c0a28ddcc",
   "metadata": {},
   "outputs": [
    {
     "data": {
      "text/html": [
       "<div>\n",
       "<style scoped>\n",
       "    .dataframe tbody tr th:only-of-type {\n",
       "        vertical-align: middle;\n",
       "    }\n",
       "\n",
       "    .dataframe tbody tr th {\n",
       "        vertical-align: top;\n",
       "    }\n",
       "\n",
       "    .dataframe thead th {\n",
       "        text-align: right;\n",
       "    }\n",
       "</style>\n",
       "<table border=\"1\" class=\"dataframe\">\n",
       "  <thead>\n",
       "    <tr style=\"text-align: right;\">\n",
       "      <th></th>\n",
       "      <th>ID</th>\n",
       "      <th>Player</th>\n",
       "      <th>Number of Seasons</th>\n",
       "      <th>PA</th>\n",
       "      <th>AB</th>\n",
       "      <th>R</th>\n",
       "      <th>H</th>\n",
       "      <th>2B</th>\n",
       "      <th>3B</th>\n",
       "      <th>HR</th>\n",
       "      <th>RBI</th>\n",
       "      <th>BB</th>\n",
       "      <th>SO</th>\n",
       "      <th>HBP</th>\n",
       "      <th>SH</th>\n",
       "      <th>SF</th>\n",
       "      <th>AVG</th>\n",
       "      <th>SLG</th>\n",
       "      <th>OBP</th>\n",
       "      <th>OPS</th>\n",
       "      <th>Inductee</th>\n",
       "    </tr>\n",
       "  </thead>\n",
       "  <tbody>\n",
       "  </tbody>\n",
       "</table>\n",
       "</div>"
      ],
      "text/plain": [
       "Empty DataFrame\n",
       "Columns: [ID, Player, Number of Seasons, PA, AB, R, H, 2B, 3B, HR, RBI, BB, SO, HBP, SH, SF, AVG, SLG, OBP, OPS, Inductee]\n",
       "Index: []"
      ]
     },
     "execution_count": 48,
     "metadata": {},
     "output_type": "execute_result"
    }
   ],
   "source": [
    "from_2000[from_2000['Inductee'] == 1]"
   ]
  },
  {
   "cell_type": "markdown",
   "id": "2354d16a-b2f6-4b22-8e3b-435e97c8c814",
   "metadata": {},
   "source": [
    "Before moving on to another experiment, let's look at how our models fare with unseen data with players who are (mostly) too recent to be in the Hall of Fame."
   ]
  },
  {
   "cell_type": "markdown",
   "id": "2774baa8-0fbc-4d5f-8b94-3dd5047e053e",
   "metadata": {},
   "source": [
    "#### Logistic Regression model"
   ]
  },
  {
   "cell_type": "code",
   "execution_count": 185,
   "id": "a1374d92-ca95-420e-a93b-c3c8fc4f6001",
   "metadata": {},
   "outputs": [],
   "source": [
    "y_2000_log_predict = LogReg.predict(X_2000)"
   ]
  },
  {
   "cell_type": "code",
   "execution_count": 186,
   "id": "16143a4f-6ea8-4b50-a764-dba2744b3d88",
   "metadata": {},
   "outputs": [
    {
     "data": {
      "text/plain": [
       "array([0, 0, 0, 0, 0, 0, 0, 0, 0, 0, 0, 0, 0, 0, 0, 0, 0, 0, 0, 0, 0, 0,\n",
       "       0, 0, 0, 0, 0, 0, 0, 0, 0, 0, 0, 0, 0, 0, 0, 0, 0, 0, 0, 0, 0, 0,\n",
       "       0, 0, 0, 0, 0, 0, 0, 0, 0, 0, 0, 0, 0, 0, 0, 0, 0, 0, 0, 0, 0, 0,\n",
       "       0, 0, 0, 0, 0, 0, 0, 0, 0, 0, 0, 0, 0, 0, 0, 0, 0, 0, 0, 0, 0, 0,\n",
       "       0, 0, 0, 0, 0, 0, 0, 0, 0, 0, 0, 0, 0, 0, 0, 0, 0, 0, 0, 0, 0, 0,\n",
       "       0, 0, 0, 0, 0, 0, 0, 0, 0, 0, 0, 0, 0, 0, 0, 0, 0, 0, 0, 0, 0, 0,\n",
       "       0, 0, 0, 0, 0, 0, 0, 0, 0, 0, 0, 0, 0, 0, 0, 0, 0, 0, 0, 0, 0, 0,\n",
       "       0, 0, 0, 0, 0, 0, 0, 0, 0, 0, 0, 0, 0, 0, 0, 0, 0, 0, 0, 0, 0, 0,\n",
       "       0, 0, 0, 0, 0, 0, 0, 0, 0, 0, 0, 0, 0, 0, 0, 0, 0, 0, 0, 0, 0, 0,\n",
       "       0, 0, 0, 0, 0, 0, 0, 0, 0, 0, 0, 0, 0, 0, 0, 0, 0, 0, 0, 0, 0, 0,\n",
       "       0, 0, 0, 0, 0, 0, 0, 0, 0, 0, 0, 0, 0, 0, 0, 0, 0, 0, 0, 0, 0, 0,\n",
       "       0, 0, 0, 0, 0, 0, 0, 0, 0, 0, 0, 0, 0, 0, 0, 0, 0, 0, 0, 0, 0, 0,\n",
       "       0, 0, 0, 0, 0, 0, 0, 0, 0, 0, 0, 0, 0, 0, 0, 0, 0, 0, 0, 0, 0, 0,\n",
       "       0, 0, 0, 0, 0, 0, 0, 0, 0, 0, 0, 0, 0, 0, 0, 0, 0, 0, 0])"
      ]
     },
     "execution_count": 186,
     "metadata": {},
     "output_type": "execute_result"
    }
   ],
   "source": [
    "y_2000_log_predict"
   ]
  },
  {
   "cell_type": "code",
   "execution_count": 188,
   "id": "14d4b37e-5193-417c-8689-9080e79c477a",
   "metadata": {},
   "outputs": [
    {
     "data": {
      "text/plain": [
       "[]"
      ]
     },
     "execution_count": 188,
     "metadata": {},
     "output_type": "execute_result"
    }
   ],
   "source": [
    "hof_preds_log = []\n",
    "i = 0\n",
    "for pred in y_2000_log_predict:\n",
    "    if pred == 1:\n",
    "        hof_preds_log.append(i)\n",
    "    i += 1\n",
    "    \n",
    "hof_preds_log"
   ]
  },
  {
   "cell_type": "code",
   "execution_count": null,
   "id": "21a10b46-1b2c-4061-9009-2c04e1a0bfe2",
   "metadata": {},
   "outputs": [],
   "source": []
  },
  {
   "cell_type": "code",
   "execution_count": null,
   "id": "332e0e33-d6ec-4e19-9839-556a8f17cbd7",
   "metadata": {},
   "outputs": [],
   "source": []
  },
  {
   "cell_type": "code",
   "execution_count": null,
   "id": "898874da-9a9a-4979-9a95-66a1c192cb5c",
   "metadata": {},
   "outputs": [],
   "source": []
  },
  {
   "cell_type": "markdown",
   "id": "af3e697a-5a88-4cf5-9e5b-96143c7d9b04",
   "metadata": {},
   "source": [
    "#### clf model"
   ]
  },
  {
   "cell_type": "code",
   "execution_count": 49,
   "id": "b080852e-35b6-4670-aa4a-3164a8dd434c",
   "metadata": {},
   "outputs": [],
   "source": [
    "X_2000 = from_2000[X_features]\n",
    "X_2000\n",
    "\n",
    "y_2000_predict = clf.predict(X_2000.values)"
   ]
  },
  {
   "cell_type": "code",
   "execution_count": 50,
   "id": "dbc39c67-cbfd-44bd-87ac-0154afb971f0",
   "metadata": {},
   "outputs": [
    {
     "data": {
      "text/plain": [
       "array([0, 0, 0, 0, 0, 0, 0, 0, 0, 0, 0, 0, 0, 0, 0, 0, 0, 0, 0, 0, 0, 0,\n",
       "       0, 0, 0, 0, 0, 0, 0, 0, 0, 0, 0, 0, 0, 0, 1, 0, 0, 0, 0, 0, 0, 0,\n",
       "       0, 0, 0, 0, 0, 0, 0, 0, 0, 0, 0, 0, 0, 0, 0, 0, 0, 0, 0, 0, 0, 0,\n",
       "       0, 0, 0, 0, 0, 0, 0, 0, 0, 0, 0, 0, 0, 0, 0, 0, 0, 0, 0, 0, 0, 0,\n",
       "       0, 0, 0, 0, 0, 0, 0, 0, 0, 0, 0, 0, 0, 0, 0, 0, 0, 0, 0, 0, 0, 0,\n",
       "       0, 0, 0, 0, 0, 0, 0, 0, 0, 0, 0, 0, 0, 0, 0, 0, 0, 0, 0, 0, 0, 0,\n",
       "       0, 0, 0, 0, 0, 0, 0, 0, 0, 0, 0, 0, 0, 0, 0, 0, 0, 0, 0, 0, 0, 0,\n",
       "       0, 0, 0, 0, 0, 0, 0, 0, 0, 0, 0, 0, 0, 0, 0, 0, 0, 0, 0, 0, 0, 0,\n",
       "       0, 0, 0, 0, 0, 0, 0, 0, 0, 0, 0, 0, 0, 0, 0, 0, 0, 0, 0, 0, 0, 0,\n",
       "       0, 0, 0, 0, 0, 0, 0, 0, 0, 0, 0, 0, 0, 0, 0, 0, 0, 0, 0, 0, 0, 0,\n",
       "       0, 0, 0, 0, 0, 1, 0, 0, 0, 0, 0, 0, 0, 0, 0, 0, 0, 0, 0, 0, 0, 0,\n",
       "       0, 0, 0, 0, 0, 0, 0, 0, 0, 0, 0, 0, 0, 0, 0, 0, 0, 0, 0, 0, 0, 0,\n",
       "       0, 0, 0, 0, 0, 0, 1, 0, 0, 0, 0, 0, 0, 0, 0, 0, 0, 0, 0, 0, 0, 0,\n",
       "       0, 0, 0, 0, 0, 0, 0, 0, 0, 0, 0, 0, 0, 0, 0, 0, 0, 0, 0])"
      ]
     },
     "execution_count": 50,
     "metadata": {},
     "output_type": "execute_result"
    }
   ],
   "source": [
    "y_2000_predict"
   ]
  },
  {
   "cell_type": "code",
   "execution_count": 51,
   "id": "f54ca4aa-ae1e-4757-ac95-2c7284bd6c27",
   "metadata": {},
   "outputs": [
    {
     "data": {
      "text/plain": [
       "[36, 225, 270]"
      ]
     },
     "execution_count": 51,
     "metadata": {},
     "output_type": "execute_result"
    }
   ],
   "source": [
    "hof_preds = []\n",
    "i = 0\n",
    "for pred in y_2000_predict:\n",
    "    if pred == 1:\n",
    "        hof_preds.append(i)\n",
    "    i += 1\n",
    "    \n",
    "hof_preds"
   ]
  },
  {
   "cell_type": "code",
   "execution_count": 52,
   "id": "c424afa5-77dd-4c01-b6bc-0f2e1eb5a7d6",
   "metadata": {},
   "outputs": [
    {
     "name": "stdout",
     "output_type": "stream",
     "text": [
      "Miguel Cabrera\n",
      "Albert Pujols\n",
      "Ichiro Suzuki\n"
     ]
    }
   ],
   "source": [
    "for player in hof_preds:\n",
    "    print(from_2000_names[player])"
   ]
  },
  {
   "cell_type": "markdown",
   "id": "59b54549-0016-453e-b59c-cacd9d20e7b6",
   "metadata": {},
   "source": [
    "#### clf_1 model"
   ]
  },
  {
   "cell_type": "code",
   "execution_count": 53,
   "id": "07465f71-ba36-46b2-b611-7bef192a6398",
   "metadata": {},
   "outputs": [],
   "source": [
    "X_2000_1 = from_2000[X_1_features]\n",
    "X_2000_1\n",
    "\n",
    "y_2000_predict_1 = clf_1.predict(X_2000_1.values)"
   ]
  },
  {
   "cell_type": "code",
   "execution_count": 54,
   "id": "939c06c1-8c78-4e17-8a48-bfe67adbb8e0",
   "metadata": {},
   "outputs": [
    {
     "data": {
      "text/plain": [
       "array([0, 0, 0, 0, 0, 0, 0, 0, 0, 0, 0, 0, 0, 0, 0, 0, 0, 0, 0, 0, 0, 0,\n",
       "       0, 0, 0, 0, 0, 0, 0, 0, 0, 0, 0, 0, 0, 0, 1, 0, 0, 0, 0, 0, 0, 0,\n",
       "       0, 0, 0, 0, 0, 0, 0, 0, 0, 0, 0, 0, 0, 0, 0, 0, 0, 0, 0, 0, 0, 0,\n",
       "       0, 0, 0, 0, 0, 0, 0, 0, 0, 0, 0, 0, 0, 0, 0, 0, 0, 0, 0, 0, 0, 0,\n",
       "       0, 0, 0, 0, 0, 0, 0, 0, 0, 0, 0, 0, 0, 0, 0, 0, 0, 0, 0, 0, 0, 0,\n",
       "       0, 0, 0, 0, 0, 0, 0, 0, 0, 0, 0, 0, 0, 0, 0, 0, 0, 0, 0, 0, 0, 0,\n",
       "       0, 0, 0, 0, 0, 0, 0, 0, 0, 0, 0, 0, 0, 0, 0, 0, 0, 0, 0, 0, 0, 0,\n",
       "       0, 0, 0, 0, 0, 0, 0, 0, 0, 0, 0, 0, 0, 0, 0, 0, 0, 0, 0, 0, 0, 0,\n",
       "       0, 0, 0, 0, 0, 0, 0, 0, 0, 0, 0, 0, 0, 0, 0, 0, 0, 0, 0, 0, 0, 0,\n",
       "       0, 0, 0, 0, 0, 0, 0, 0, 0, 0, 0, 0, 0, 0, 0, 0, 0, 0, 0, 0, 0, 0,\n",
       "       0, 0, 0, 0, 0, 1, 0, 0, 0, 0, 0, 0, 0, 0, 0, 0, 0, 0, 0, 0, 0, 0,\n",
       "       0, 0, 0, 0, 0, 0, 0, 0, 0, 0, 0, 0, 0, 0, 0, 0, 0, 0, 0, 0, 0, 0,\n",
       "       0, 0, 0, 0, 0, 0, 1, 0, 0, 0, 0, 0, 0, 0, 0, 0, 0, 0, 0, 0, 0, 0,\n",
       "       0, 0, 0, 0, 0, 0, 0, 0, 0, 0, 0, 0, 0, 0, 0, 0, 0, 0, 0])"
      ]
     },
     "execution_count": 54,
     "metadata": {},
     "output_type": "execute_result"
    }
   ],
   "source": [
    "y_2000_predict_1"
   ]
  },
  {
   "cell_type": "code",
   "execution_count": 55,
   "id": "d8d8c140-9937-48bf-a3ff-17028ed169fd",
   "metadata": {},
   "outputs": [
    {
     "data": {
      "text/plain": [
       "[36, 225, 270]"
      ]
     },
     "execution_count": 55,
     "metadata": {},
     "output_type": "execute_result"
    }
   ],
   "source": [
    "hof_preds_1 = []\n",
    "i = 0\n",
    "for pred in y_2000_predict_1:\n",
    "    if pred == 1:\n",
    "        hof_preds_1.append(i)\n",
    "    i += 1\n",
    "    \n",
    "hof_preds_1"
   ]
  },
  {
   "cell_type": "code",
   "execution_count": 56,
   "id": "a709ffc0-daa6-4f59-be9b-5dee4adb9f81",
   "metadata": {},
   "outputs": [
    {
     "name": "stdout",
     "output_type": "stream",
     "text": [
      "Miguel Cabrera\n",
      "Albert Pujols\n",
      "Ichiro Suzuki\n"
     ]
    }
   ],
   "source": [
    "for player in hof_preds_1:\n",
    "    print(from_2000_names[player])"
   ]
  },
  {
   "cell_type": "code",
   "execution_count": null,
   "id": "8b38c78e-03c3-48c8-9cf5-3c398cdd1638",
   "metadata": {},
   "outputs": [],
   "source": []
  },
  {
   "cell_type": "code",
   "execution_count": 57,
   "id": "92c0002a-f719-4124-aa16-e800d3668a7d",
   "metadata": {
    "tags": []
   },
   "outputs": [
    {
     "name": "stdout",
     "output_type": "stream",
     "text": [
      "Matt Adams\n",
      "Yonder Alonso\n",
      "Jose Altuve\n",
      "Robert Andino\n",
      "Elvis Andrus\n",
      "Alex Avila\n",
      "Mike Aviles\n",
      "Erick Aybar\n",
      "Jeff Baker\n",
      "Josh Bard\n",
      "Clint Barmes\n",
      "Jason Bartlett\n",
      "Jose Bautista\n",
      "Jason Bay\n",
      "Gordon Beckham\n",
      "Brandon Belt\n",
      "Wilson Betemit\n",
      "Charlie Blackmon\n",
      "Andres Blanco\n",
      "Gregor Blanco\n",
      "Willie Bloomquist\n",
      "Emilio Bonifacio\n",
      "Peter Bourjos\n",
      "Michael Bourn\n",
      "Milton Bradley\n",
      "Michael Brantley\n",
      "Ryan Braun\n",
      "Jay Bruce\n",
      "John Buck\n",
      "Pat Burrell\n",
      "Drew Butera\n",
      "Billy Butler\n",
      "Marlon Byrd\n",
      "Eric Byrnes\n",
      "Asdrubal Cabrera\n",
      "Melky Cabrera\n",
      "Miguel Cabrera\n",
      "Lorenzo Cain\n",
      "Kole Calhoun\n",
      "Alberto Callaspo\n",
      "Robinson Cano\n",
      "Matt Carpenter\n",
      "Jamey Carroll\n",
      "Welington Castillo\n",
      "Jason Castro\n",
      "Starlin Castro\n",
      "Ronny Cedeno\n",
      "Francisco Cervelli\n",
      "Endy Chavez\n",
      "Robinson Chirinos\n",
      "Shin-Soo Choo\n",
      "Brandon Crawford\n",
      "Carl Crawford\n",
      "Joe Crede\n",
      "Coco Crisp\n",
      "Nelson Cruz\n",
      "Michael Cuddyer\n",
      "Jack Cust\n",
      "Chris Davis\n",
      "Rajai Davis\n",
      "Alejandro De Aza\n",
      "David DeJesus\n",
      "Chris Denorfia\n",
      "Daniel Descalso\n",
      "Ian Desmond\n",
      "Matt Diaz\n",
      "Greg Dobbs\n",
      "Josh Donaldson\n",
      "Ryan Doumit\n",
      "Stephen Drew\n",
      "Lucas Duda\n",
      "Adam Dunn\n",
      "Jarrod Dyson\n",
      "Adam Eaton\n",
      "David Eckstein\n",
      "A.J. Ellis\n",
      "Mark Ellis\n",
      "Jacoby Ellsbury\n",
      "Edwin Encarnacion\n",
      "Alcides Escobar\n",
      "Eduardo Escobar\n",
      "Yunel Escobar\n",
      "Andre Ethier\n",
      "Adam Everett\n",
      "Pedro Feliz\n",
      "Prince Fielder\n",
      "Chone Figgins\n",
      "Tyler Flowers\n",
      "Logan Forsythe\n",
      "Dexter Fowler\n",
      "Jeff Francoeur\n",
      "Todd Frazier\n",
      "Freddie Freeman\n",
      "David Freese\n",
      "Rafael Furcal\n",
      "Freddy Galvis\n",
      "Avisail Garcia\n",
      "Brett Gardner\n",
      "Craig Gentry\n",
      "Esteban German\n",
      "Chris Gimenez\n",
      "Ross Gload\n",
      "Paul Goldschmidt\n",
      "Jonny Gomes\n",
      "Yan Gomes\n",
      "Carlos Gomez\n",
      "Adrian Gonzalez\n",
      "Carlos Gonzalez\n",
      "Marwin Gonzalez\n",
      "Alex Gordon\n",
      "Dee Strange-Gordon\n",
      "Curtis Granderson\n",
      "Yasmani Grandal\n",
      "Didi Gregorius\n",
      "Franklin Gutierrez\n",
      "Travis Hafner\n",
      "Scott Hairston\n",
      "Bill Hall\n",
      "Ryan Hanigan\n",
      "J.J. Hardy\n",
      "Bryce Harper\n",
      "Josh Harrison\n",
      "Willie Harris\n",
      "Corey Hart\n",
      "Chase Headley\n",
      "Jason Heyward\n",
      "Aaron Hill\n",
      "Koyie Hill\n",
      "Eric Hinske\n",
      "Matt Holliday\n",
      "Brock Holt\n",
      "Eric Hosmer\n",
      "Ryan Howard\n",
      "Orlando Hudson\n",
      "Aubrey Huff\n",
      "Nick Hundley\n",
      "Chris Iannetta\n",
      "José Iglesias\n",
      "Omar Infante\n",
      "Brandon Inge\n",
      "Cesar Izturis\n",
      "Maicer Izturis\n",
      "Jon Jay\n",
      "Dan Johnson\n",
      "Kelly Johnson\n",
      "Nick Johnson\n",
      "Reed Johnson\n",
      "Adam Jones\n",
      "Matt Joyce\n",
      "Austin Kearns\n",
      "Matt Kemp\n",
      "Howie Kendrick\n",
      "Ian Kinsler\n",
      "Jason Kipnis\n",
      "Casey Kotchman\n",
      "Jason Kubel\n",
      "Gerald Laird\n",
      "Mike Lamb\n",
      "Ryan Langerhans\n",
      "Adam LaRoche\n",
      "DJ LeMahieu\n",
      "Sandy Leon\n",
      "Adam Lind\n",
      "Jose Lobaton\n",
      "James Loney\n",
      "Evan Longoria\n",
      "Felipe Lopez\n",
      "Jed Lowrie\n",
      "Jonathan Lucroy\n",
      "Ryan Ludwick\n",
      "Julio Lugo\n",
      "Manny Machado\n",
      "Martin Maldonado\n",
      "Nick Markakis\n",
      "Starling Marte\n",
      "J.D. Martinez\n",
      "Russell Martin\n",
      "Victor Martinez\n",
      "Jeff Mathis\n",
      "Hideki Matsui\n",
      "Joe Mauer\n",
      "Cameron Maybin\n",
      "Brian McCann\n",
      "Andrew McCutchen\n",
      "Nate McLouth\n",
      "Jordy Mercer\n",
      "Jason Michaels\n",
      "Chad Moeller\n",
      "Yadier Molina\n",
      "Miguel Montero\n",
      "Kendrys Morales\n",
      "Mitch Moreland\n",
      "Justin Morneau\n",
      "Logan Morrison\n",
      "Mike Morse\n",
      "Brandon Moss\n",
      "Mike Moustakas\n",
      "David Murphy\n",
      "Daniel Murphy\n",
      "Xavier Nady\n",
      "Mike Napoli\n",
      "Dioner Navarro\n",
      "Wil Nieves\n",
      "Laynce Nix\n",
      "Eduardo Nunez\n",
      "Miguel Olivo\n",
      "Lyle Overbay\n",
      "Angel Pagan\n",
      "Gerardo Parra\n",
      "Corey Patterson\n",
      "Steve Pearce\n",
      "Dustin Pedroia\n",
      "Brayan Pena\n",
      "Carlos Pena\n",
      "Hunter Pence\n",
      "Cliff Pennington\n",
      "Jhonny Peralta\n",
      "Hernan Perez\n",
      "Salvador Perez\n",
      "Brandon Phillips\n",
      "Juan Pierre\n",
      "Scott Podsednik\n",
      "AJ Pollock\n",
      "Buster Posey\n",
      "Martin Prado\n",
      "Albert Pujols\n",
      "Nick Punto\n",
      "Humberto Quintero\n",
      "Ryan Raburn\n",
      "Hanley Ramirez\n",
      "Wilson Ramos\n",
      "Colby Rasmus\n",
      "Josh Reddick\n",
      "Jose Reyes\n",
      "Mark Reynolds\n",
      "Alex Rios\n",
      "Juan Rivera\n",
      "Rene Rivera\n",
      "Anthony Rizzo\n",
      "Brian Roberts\n",
      "Sean Rodriguez\n",
      "Jimmy Rollins\n",
      "Andrew Romine\n",
      "Austin Romine\n",
      "Adam Rosales\n",
      "Cody Ross\n",
      "David Ross\n",
      "Aaron Rowand\n",
      "Carlos Ruiz\n",
      "Brendan Ryan\n",
      "Jarrod Saltalamacchia\n",
      "Freddy Sanchez\n",
      "Pablo Sandoval\n",
      "Carlos Santana\n",
      "Ramon Santiago\n",
      "Brian Schneider\n",
      "Skip Schumaker\n",
      "Marco Scutaro\n",
      "Kyle Seager\n",
      "Jean Segura\n",
      "Andrelton Simmons\n",
      "Grady Sizemore\n",
      "Seth Smith\n",
      "Justin Smoak\n",
      "Chris Snyder\n",
      "Eric Sogard\n",
      "Geovany Soto\n",
      "Denard Span\n",
      "Giancarlo Stanton\n",
      "Chris Stewart\n",
      "Ichiro Suzuki\n",
      "Kurt Suzuki\n",
      "Nick Swisher\n",
      "Mark Teixeira\n",
      "Marcus Thames\n",
      "Yorvit Torrealba\n",
      "Mike Trout\n",
      "Mark Trumbo\n",
      "Troy Tulowitzki\n",
      "Justin Turner\n",
      "Dan Uggla\n",
      "B.J. Upton\n",
      "Justin Upton\n",
      "Juan Uribe\n",
      "Chase Utley\n",
      "Luis Valbuena\n",
      "Shane Victorino\n",
      "Joey Votto\n",
      "Neil Walker\n",
      "Rickie Weeks\n",
      "Jayson Werth\n",
      "Matt Wieters\n",
      "Ty Wigginton\n",
      "Josh Willingham\n",
      "Bobby Wilson\n",
      "Jack Wilson\n",
      "Dewayne Wise\n",
      "David Wright\n",
      "Kevin Youkilis\n",
      "Chris Young\n",
      "Delmon Young\n",
      "Eric Young Jr.\n",
      "Michael Young\n",
      "Ryan Zimmerman\n",
      "Ben Zobrist\n"
     ]
    }
   ],
   "source": [
    "for player in from_2000_names:\n",
    "    print(player)"
   ]
  },
  {
   "cell_type": "code",
   "execution_count": null,
   "id": "1d742f42-0147-4614-91b1-fd11d4934825",
   "metadata": {
    "tags": []
   },
   "outputs": [],
   "source": []
  },
  {
   "cell_type": "code",
   "execution_count": null,
   "id": "b790173c-0a59-4227-9444-28ef278b4f95",
   "metadata": {},
   "outputs": [],
   "source": []
  },
  {
   "cell_type": "code",
   "execution_count": null,
   "id": "a2cf40b6-83a1-4cba-bf53-ef3949f6d025",
   "metadata": {},
   "outputs": [],
   "source": []
  }
 ],
 "metadata": {
  "kernelspec": {
   "display_name": "Python 3 (ipykernel)",
   "language": "python",
   "name": "python3"
  },
  "language_info": {
   "codemirror_mode": {
    "name": "ipython",
    "version": 3
   },
   "file_extension": ".py",
   "mimetype": "text/x-python",
   "name": "python",
   "nbconvert_exporter": "python",
   "pygments_lexer": "ipython3",
   "version": "3.9.13"
  }
 },
 "nbformat": 4,
 "nbformat_minor": 5
}
