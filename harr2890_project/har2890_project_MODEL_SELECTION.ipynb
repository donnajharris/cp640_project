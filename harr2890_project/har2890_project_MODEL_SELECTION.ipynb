{
 "cells": [
  {
   "cell_type": "markdown",
   "id": "aeff13b0",
   "metadata": {},
   "source": [
    "# Model Selection"
   ]
  },
  {
   "cell_type": "markdown",
   "id": "f0b85488",
   "metadata": {},
   "source": [
    "## Load Prepared Data "
   ]
  },
  {
   "cell_type": "markdown",
   "id": "dd2a8c98",
   "metadata": {},
   "source": [
    "**Pre-condition:** Must run Steps 1-X before running this notebook."
   ]
  },
  {
   "cell_type": "markdown",
   "id": "87067dfc",
   "metadata": {},
   "source": []
  },
  {
   "cell_type": "markdown",
   "id": "d34f19cd",
   "metadata": {},
   "source": []
  }
 ],
 "metadata": {
  "kernelspec": {
   "display_name": "Python 3 (ipykernel)",
   "language": "python",
   "name": "python3"
  },
  "language_info": {
   "codemirror_mode": {
    "name": "ipython",
    "version": 3
   },
   "file_extension": ".py",
   "mimetype": "text/x-python",
   "name": "python",
   "nbconvert_exporter": "python",
   "pygments_lexer": "ipython3",
   "version": "3.9.13"
  }
 },
 "nbformat": 4,
 "nbformat_minor": 5
}
