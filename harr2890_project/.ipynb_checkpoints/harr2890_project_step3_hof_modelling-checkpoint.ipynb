{
 "cells": [
  {
   "cell_type": "markdown",
   "id": "aeff13b0",
   "metadata": {},
   "source": [
    "# Using Historical Data to Predict Batting Success: Step 3 of 5"
   ]
  },
  {
   "cell_type": "markdown",
   "id": "13f2646f",
   "metadata": {},
   "source": [
    "Authored by: Donna J. Harris (994042890)\n",
    "\n",
    "Email: harr2890@mylaurier.ca\n",
    "\n",
    "For: CP640 Machine Learning (S22) with Professor Elham Harirpoush"
   ]
  },
  {
   "cell_type": "markdown",
   "id": "9ceafc8f",
   "metadata": {},
   "source": [
    "## Notebook Series"
   ]
  },
  {
   "cell_type": "markdown",
   "id": "09438e4f",
   "metadata": {},
   "source": [
    "Just a word about the presentation of this project code.\n",
    "\n",
    "The code is organized into a series of locally executed Jupyter notebooks, organized by step and needing to be executed in sequence to follow the flow of the entire project.\n",
    "\n",
    "This is `harr2890_project_step3_hof_modelling`, the third of five notebooks."
   ]
  },
  {
   "cell_type": "markdown",
   "id": "c0f11f8a",
   "metadata": {},
   "source": [
    "## *Step 3 - Exploration and Modelling for a Hall of Fame Approach*"
   ]
  },
  {
   "cell_type": "markdown",
   "id": "26c557ae",
   "metadata": {},
   "source": [
    "With the data ready to go, following the completion of the Step 3 Notebook, here we examine the feasibility of the Hall of Fame Approach using **classification**, evaluating both the models and the idea itself."
   ]
  },
  {
   "cell_type": "markdown",
   "id": "684260b1",
   "metadata": {},
   "source": [
    "## Environment Setup"
   ]
  },
  {
   "cell_type": "markdown",
   "id": "f4c088fa",
   "metadata": {},
   "source": [
    "Import and establish environment for our work, including showing all dataframe column values."
   ]
  },
  {
   "cell_type": "code",
   "execution_count": 1,
   "id": "08d132f4",
   "metadata": {},
   "outputs": [],
   "source": [
    "import pandas as pd\n",
    "import numpy as np\n",
    "\n",
    "pd.set_option('display.max_columns', None)"
   ]
  },
  {
   "cell_type": "markdown",
   "id": "6b4b8a24",
   "metadata": {},
   "source": [
    "### Pre-Conditions"
   ]
  },
  {
   "cell_type": "markdown",
   "id": "d1747095",
   "metadata": {},
   "source": [
    "Steps 1-2 must be run completely before running this notebook.\n",
    "\n",
    "The `data` folder must exist with the following prepared data files:\n",
    "- `./data/step2_pre_2000.csv`\n",
    "- `./data/step2_from_2000.csv`"
   ]
  },
  {
   "cell_type": "markdown",
   "id": "dd2a8c98",
   "metadata": {},
   "source": [
    "##  Loading Prepared Data Files"
   ]
  },
  {
   "cell_type": "code",
   "execution_count": 2,
   "id": "aa19826f",
   "metadata": {},
   "outputs": [
    {
     "data": {
      "text/html": [
       "<div>\n",
       "<style scoped>\n",
       "    .dataframe tbody tr th:only-of-type {\n",
       "        vertical-align: middle;\n",
       "    }\n",
       "\n",
       "    .dataframe tbody tr th {\n",
       "        vertical-align: top;\n",
       "    }\n",
       "\n",
       "    .dataframe thead th {\n",
       "        text-align: right;\n",
       "    }\n",
       "</style>\n",
       "<table border=\"1\" class=\"dataframe\">\n",
       "  <thead>\n",
       "    <tr style=\"text-align: right;\">\n",
       "      <th></th>\n",
       "      <th>ID</th>\n",
       "      <th>Player</th>\n",
       "      <th>PA</th>\n",
       "      <th>AB</th>\n",
       "      <th>R</th>\n",
       "      <th>H</th>\n",
       "      <th>2B</th>\n",
       "      <th>3B</th>\n",
       "      <th>HR</th>\n",
       "      <th>RBI</th>\n",
       "      <th>BB</th>\n",
       "      <th>SO</th>\n",
       "      <th>HBP</th>\n",
       "      <th>SH</th>\n",
       "      <th>SF</th>\n",
       "      <th>AVG</th>\n",
       "      <th>SLG</th>\n",
       "      <th>OBP</th>\n",
       "      <th>OPS</th>\n",
       "      <th>Inductee</th>\n",
       "    </tr>\n",
       "  </thead>\n",
       "  <tbody>\n",
       "    <tr>\n",
       "      <th>0</th>\n",
       "      <td>aaronha01</td>\n",
       "      <td>Henry Aaron</td>\n",
       "      <td>2898</td>\n",
       "      <td>2652</td>\n",
       "      <td>450</td>\n",
       "      <td>846</td>\n",
       "      <td>149</td>\n",
       "      <td>37</td>\n",
       "      <td>125</td>\n",
       "      <td>440</td>\n",
       "      <td>199</td>\n",
       "      <td>237</td>\n",
       "      <td>9</td>\n",
       "      <td>18</td>\n",
       "      <td>20</td>\n",
       "      <td>0.319005</td>\n",
       "      <td>0.544495</td>\n",
       "      <td>0.365972</td>\n",
       "      <td>0.910467</td>\n",
       "      <td>1</td>\n",
       "    </tr>\n",
       "    <tr>\n",
       "      <th>1</th>\n",
       "      <td>abreubo01</td>\n",
       "      <td>Bobby Abreu</td>\n",
       "      <td>2165</td>\n",
       "      <td>1829</td>\n",
       "      <td>312</td>\n",
       "      <td>572</td>\n",
       "      <td>117</td>\n",
       "      <td>29</td>\n",
       "      <td>65</td>\n",
       "      <td>273</td>\n",
       "      <td>316</td>\n",
       "      <td>413</td>\n",
       "      <td>5</td>\n",
       "      <td>4</td>\n",
       "      <td>11</td>\n",
       "      <td>0.312739</td>\n",
       "      <td>0.515036</td>\n",
       "      <td>0.413235</td>\n",
       "      <td>0.928270</td>\n",
       "      <td>0</td>\n",
       "    </tr>\n",
       "    <tr>\n",
       "      <th>2</th>\n",
       "      <td>adamsbu01</td>\n",
       "      <td>Buster Adams</td>\n",
       "      <td>2084</td>\n",
       "      <td>1821</td>\n",
       "      <td>259</td>\n",
       "      <td>487</td>\n",
       "      <td>85</td>\n",
       "      <td>11</td>\n",
       "      <td>48</td>\n",
       "      <td>234</td>\n",
       "      <td>208</td>\n",
       "      <td>255</td>\n",
       "      <td>13</td>\n",
       "      <td>42</td>\n",
       "      <td>0</td>\n",
       "      <td>0.267435</td>\n",
       "      <td>0.405272</td>\n",
       "      <td>0.346719</td>\n",
       "      <td>0.751991</td>\n",
       "      <td>0</td>\n",
       "    </tr>\n",
       "    <tr>\n",
       "      <th>3</th>\n",
       "      <td>adamssp01</td>\n",
       "      <td>Sparky Adams</td>\n",
       "      <td>2263</td>\n",
       "      <td>2025</td>\n",
       "      <td>300</td>\n",
       "      <td>591</td>\n",
       "      <td>87</td>\n",
       "      <td>17</td>\n",
       "      <td>7</td>\n",
       "      <td>148</td>\n",
       "      <td>167</td>\n",
       "      <td>75</td>\n",
       "      <td>14</td>\n",
       "      <td>40</td>\n",
       "      <td>0</td>\n",
       "      <td>0.291852</td>\n",
       "      <td>0.361975</td>\n",
       "      <td>0.349955</td>\n",
       "      <td>0.711930</td>\n",
       "      <td>0</td>\n",
       "    </tr>\n",
       "    <tr>\n",
       "      <th>4</th>\n",
       "      <td>adcocjo01</td>\n",
       "      <td>Joe Adcock</td>\n",
       "      <td>2425</td>\n",
       "      <td>2235</td>\n",
       "      <td>273</td>\n",
       "      <td>632</td>\n",
       "      <td>114</td>\n",
       "      <td>20</td>\n",
       "      <td>72</td>\n",
       "      <td>322</td>\n",
       "      <td>156</td>\n",
       "      <td>232</td>\n",
       "      <td>7</td>\n",
       "      <td>23</td>\n",
       "      <td>4</td>\n",
       "      <td>0.282774</td>\n",
       "      <td>0.448322</td>\n",
       "      <td>0.330974</td>\n",
       "      <td>0.779296</td>\n",
       "      <td>0</td>\n",
       "    </tr>\n",
       "    <tr>\n",
       "      <th>...</th>\n",
       "      <td>...</td>\n",
       "      <td>...</td>\n",
       "      <td>...</td>\n",
       "      <td>...</td>\n",
       "      <td>...</td>\n",
       "      <td>...</td>\n",
       "      <td>...</td>\n",
       "      <td>...</td>\n",
       "      <td>...</td>\n",
       "      <td>...</td>\n",
       "      <td>...</td>\n",
       "      <td>...</td>\n",
       "      <td>...</td>\n",
       "      <td>...</td>\n",
       "      <td>...</td>\n",
       "      <td>...</td>\n",
       "      <td>...</td>\n",
       "      <td>...</td>\n",
       "      <td>...</td>\n",
       "      <td>...</td>\n",
       "    </tr>\n",
       "    <tr>\n",
       "      <th>662</th>\n",
       "      <td>younger01</td>\n",
       "      <td>Eric Young Sr.</td>\n",
       "      <td>2051</td>\n",
       "      <td>1784</td>\n",
       "      <td>306</td>\n",
       "      <td>528</td>\n",
       "      <td>74</td>\n",
       "      <td>22</td>\n",
       "      <td>25</td>\n",
       "      <td>193</td>\n",
       "      <td>205</td>\n",
       "      <td>127</td>\n",
       "      <td>32</td>\n",
       "      <td>18</td>\n",
       "      <td>12</td>\n",
       "      <td>0.295964</td>\n",
       "      <td>0.404148</td>\n",
       "      <td>0.376291</td>\n",
       "      <td>0.780439</td>\n",
       "      <td>0</td>\n",
       "    </tr>\n",
       "    <tr>\n",
       "      <th>663</th>\n",
       "      <td>yountro01</td>\n",
       "      <td>Robin Yount</td>\n",
       "      <td>2869</td>\n",
       "      <td>2647</td>\n",
       "      <td>306</td>\n",
       "      <td>717</td>\n",
       "      <td>118</td>\n",
       "      <td>23</td>\n",
       "      <td>26</td>\n",
       "      <td>252</td>\n",
       "      <td>148</td>\n",
       "      <td>307</td>\n",
       "      <td>5</td>\n",
       "      <td>47</td>\n",
       "      <td>22</td>\n",
       "      <td>0.270873</td>\n",
       "      <td>0.362297</td>\n",
       "      <td>0.308292</td>\n",
       "      <td>0.670589</td>\n",
       "      <td>1</td>\n",
       "    </tr>\n",
       "    <tr>\n",
       "      <th>664</th>\n",
       "      <td>zarilal01</td>\n",
       "      <td>Al Zarilla</td>\n",
       "      <td>2014</td>\n",
       "      <td>1796</td>\n",
       "      <td>224</td>\n",
       "      <td>499</td>\n",
       "      <td>88</td>\n",
       "      <td>25</td>\n",
       "      <td>27</td>\n",
       "      <td>216</td>\n",
       "      <td>161</td>\n",
       "      <td>183</td>\n",
       "      <td>15</td>\n",
       "      <td>42</td>\n",
       "      <td>0</td>\n",
       "      <td>0.277840</td>\n",
       "      <td>0.399777</td>\n",
       "      <td>0.342292</td>\n",
       "      <td>0.742069</td>\n",
       "      <td>0</td>\n",
       "    </tr>\n",
       "    <tr>\n",
       "      <th>665</th>\n",
       "      <td>zeileto01</td>\n",
       "      <td>Todd Zeile</td>\n",
       "      <td>2462</td>\n",
       "      <td>2152</td>\n",
       "      <td>278</td>\n",
       "      <td>571</td>\n",
       "      <td>118</td>\n",
       "      <td>12</td>\n",
       "      <td>51</td>\n",
       "      <td>297</td>\n",
       "      <td>276</td>\n",
       "      <td>331</td>\n",
       "      <td>7</td>\n",
       "      <td>1</td>\n",
       "      <td>26</td>\n",
       "      <td>0.265335</td>\n",
       "      <td>0.402416</td>\n",
       "      <td>0.347013</td>\n",
       "      <td>0.749430</td>\n",
       "      <td>0</td>\n",
       "    </tr>\n",
       "    <tr>\n",
       "      <th>666</th>\n",
       "      <td>zernigu01</td>\n",
       "      <td>Gus Zernial</td>\n",
       "      <td>2673</td>\n",
       "      <td>2417</td>\n",
       "      <td>357</td>\n",
       "      <td>670</td>\n",
       "      <td>99</td>\n",
       "      <td>15</td>\n",
       "      <td>138</td>\n",
       "      <td>468</td>\n",
       "      <td>243</td>\n",
       "      <td>406</td>\n",
       "      <td>12</td>\n",
       "      <td>1</td>\n",
       "      <td>0</td>\n",
       "      <td>0.277203</td>\n",
       "      <td>0.501862</td>\n",
       "      <td>0.346183</td>\n",
       "      <td>0.848044</td>\n",
       "      <td>0</td>\n",
       "    </tr>\n",
       "  </tbody>\n",
       "</table>\n",
       "<p>667 rows × 20 columns</p>\n",
       "</div>"
      ],
      "text/plain": [
       "            ID          Player    PA    AB    R    H   2B  3B   HR  RBI   BB  \\\n",
       "0    aaronha01     Henry Aaron  2898  2652  450  846  149  37  125  440  199   \n",
       "1    abreubo01     Bobby Abreu  2165  1829  312  572  117  29   65  273  316   \n",
       "2    adamsbu01    Buster Adams  2084  1821  259  487   85  11   48  234  208   \n",
       "3    adamssp01    Sparky Adams  2263  2025  300  591   87  17    7  148  167   \n",
       "4    adcocjo01      Joe Adcock  2425  2235  273  632  114  20   72  322  156   \n",
       "..         ...             ...   ...   ...  ...  ...  ...  ..  ...  ...  ...   \n",
       "662  younger01  Eric Young Sr.  2051  1784  306  528   74  22   25  193  205   \n",
       "663  yountro01     Robin Yount  2869  2647  306  717  118  23   26  252  148   \n",
       "664  zarilal01      Al Zarilla  2014  1796  224  499   88  25   27  216  161   \n",
       "665  zeileto01      Todd Zeile  2462  2152  278  571  118  12   51  297  276   \n",
       "666  zernigu01     Gus Zernial  2673  2417  357  670   99  15  138  468  243   \n",
       "\n",
       "      SO  HBP  SH  SF       AVG       SLG       OBP       OPS  Inductee  \n",
       "0    237    9  18  20  0.319005  0.544495  0.365972  0.910467         1  \n",
       "1    413    5   4  11  0.312739  0.515036  0.413235  0.928270         0  \n",
       "2    255   13  42   0  0.267435  0.405272  0.346719  0.751991         0  \n",
       "3     75   14  40   0  0.291852  0.361975  0.349955  0.711930         0  \n",
       "4    232    7  23   4  0.282774  0.448322  0.330974  0.779296         0  \n",
       "..   ...  ...  ..  ..       ...       ...       ...       ...       ...  \n",
       "662  127   32  18  12  0.295964  0.404148  0.376291  0.780439         0  \n",
       "663  307    5  47  22  0.270873  0.362297  0.308292  0.670589         1  \n",
       "664  183   15  42   0  0.277840  0.399777  0.342292  0.742069         0  \n",
       "665  331    7   1  26  0.265335  0.402416  0.347013  0.749430         0  \n",
       "666  406   12   1   0  0.277203  0.501862  0.346183  0.848044         0  \n",
       "\n",
       "[667 rows x 20 columns]"
      ]
     },
     "execution_count": 2,
     "metadata": {},
     "output_type": "execute_result"
    }
   ],
   "source": [
    "pre_2000_csv = \"./data/step2_pre_2000.csv\"\n",
    "pre_2000 = pd.read_csv(pre_2000_csv)\n",
    "pre_2000"
   ]
  },
  {
   "cell_type": "code",
   "execution_count": 3,
   "id": "5d6d94e2",
   "metadata": {
    "scrolled": false
   },
   "outputs": [
    {
     "data": {
      "text/html": [
       "<div>\n",
       "<style scoped>\n",
       "    .dataframe tbody tr th:only-of-type {\n",
       "        vertical-align: middle;\n",
       "    }\n",
       "\n",
       "    .dataframe tbody tr th {\n",
       "        vertical-align: top;\n",
       "    }\n",
       "\n",
       "    .dataframe thead th {\n",
       "        text-align: right;\n",
       "    }\n",
       "</style>\n",
       "<table border=\"1\" class=\"dataframe\">\n",
       "  <thead>\n",
       "    <tr style=\"text-align: right;\">\n",
       "      <th></th>\n",
       "      <th>ID</th>\n",
       "      <th>Player</th>\n",
       "      <th>PA</th>\n",
       "      <th>AB</th>\n",
       "      <th>R</th>\n",
       "      <th>H</th>\n",
       "      <th>2B</th>\n",
       "      <th>3B</th>\n",
       "      <th>HR</th>\n",
       "      <th>RBI</th>\n",
       "      <th>BB</th>\n",
       "      <th>SO</th>\n",
       "      <th>HBP</th>\n",
       "      <th>SH</th>\n",
       "      <th>SF</th>\n",
       "      <th>AVG</th>\n",
       "      <th>SLG</th>\n",
       "      <th>OBP</th>\n",
       "      <th>OPS</th>\n",
       "      <th>Inductee</th>\n",
       "    </tr>\n",
       "  </thead>\n",
       "  <tbody>\n",
       "    <tr>\n",
       "      <th>0</th>\n",
       "      <td>abreujo02</td>\n",
       "      <td>José Abreu</td>\n",
       "      <td>3213</td>\n",
       "      <td>2913</td>\n",
       "      <td>398</td>\n",
       "      <td>858</td>\n",
       "      <td>180</td>\n",
       "      <td>13</td>\n",
       "      <td>146</td>\n",
       "      <td>488</td>\n",
       "      <td>209</td>\n",
       "      <td>624</td>\n",
       "      <td>67</td>\n",
       "      <td>0</td>\n",
       "      <td>24</td>\n",
       "      <td>0.294542</td>\n",
       "      <td>0.515620</td>\n",
       "      <td>0.352941</td>\n",
       "      <td>0.868561</td>\n",
       "      <td>0</td>\n",
       "    </tr>\n",
       "    <tr>\n",
       "      <th>1</th>\n",
       "      <td>ackledu01</td>\n",
       "      <td>Dustin Ackley</td>\n",
       "      <td>2277</td>\n",
       "      <td>2064</td>\n",
       "      <td>255</td>\n",
       "      <td>503</td>\n",
       "      <td>94</td>\n",
       "      <td>18</td>\n",
       "      <td>46</td>\n",
       "      <td>212</td>\n",
       "      <td>186</td>\n",
       "      <td>410</td>\n",
       "      <td>5</td>\n",
       "      <td>11</td>\n",
       "      <td>11</td>\n",
       "      <td>0.243702</td>\n",
       "      <td>0.373547</td>\n",
       "      <td>0.306267</td>\n",
       "      <td>0.679813</td>\n",
       "      <td>0</td>\n",
       "    </tr>\n",
       "    <tr>\n",
       "      <th>2</th>\n",
       "      <td>albieoz01</td>\n",
       "      <td>Ozzie Albies</td>\n",
       "      <td>2440</td>\n",
       "      <td>2243</td>\n",
       "      <td>365</td>\n",
       "      <td>613</td>\n",
       "      <td>137</td>\n",
       "      <td>25</td>\n",
       "      <td>90</td>\n",
       "      <td>311</td>\n",
       "      <td>163</td>\n",
       "      <td>422</td>\n",
       "      <td>16</td>\n",
       "      <td>2</td>\n",
       "      <td>16</td>\n",
       "      <td>0.273295</td>\n",
       "      <td>0.477040</td>\n",
       "      <td>0.324856</td>\n",
       "      <td>0.801896</td>\n",
       "      <td>0</td>\n",
       "    </tr>\n",
       "    <tr>\n",
       "      <th>3</th>\n",
       "      <td>altuvjo01</td>\n",
       "      <td>Jose Altuve</td>\n",
       "      <td>2932</td>\n",
       "      <td>2721</td>\n",
       "      <td>341</td>\n",
       "      <td>830</td>\n",
       "      <td>162</td>\n",
       "      <td>14</td>\n",
       "      <td>36</td>\n",
       "      <td>226</td>\n",
       "      <td>146</td>\n",
       "      <td>308</td>\n",
       "      <td>24</td>\n",
       "      <td>17</td>\n",
       "      <td>24</td>\n",
       "      <td>0.305035</td>\n",
       "      <td>0.414553</td>\n",
       "      <td>0.343053</td>\n",
       "      <td>0.757607</td>\n",
       "      <td>0</td>\n",
       "    </tr>\n",
       "    <tr>\n",
       "      <th>4</th>\n",
       "      <td>alvarpe01</td>\n",
       "      <td>Pedro Alvarez</td>\n",
       "      <td>2293</td>\n",
       "      <td>2063</td>\n",
       "      <td>240</td>\n",
       "      <td>484</td>\n",
       "      <td>90</td>\n",
       "      <td>6</td>\n",
       "      <td>104</td>\n",
       "      <td>324</td>\n",
       "      <td>211</td>\n",
       "      <td>678</td>\n",
       "      <td>9</td>\n",
       "      <td>1</td>\n",
       "      <td>9</td>\n",
       "      <td>0.234610</td>\n",
       "      <td>0.435288</td>\n",
       "      <td>0.307155</td>\n",
       "      <td>0.742444</td>\n",
       "      <td>0</td>\n",
       "    </tr>\n",
       "    <tr>\n",
       "      <th>...</th>\n",
       "      <td>...</td>\n",
       "      <td>...</td>\n",
       "      <td>...</td>\n",
       "      <td>...</td>\n",
       "      <td>...</td>\n",
       "      <td>...</td>\n",
       "      <td>...</td>\n",
       "      <td>...</td>\n",
       "      <td>...</td>\n",
       "      <td>...</td>\n",
       "      <td>...</td>\n",
       "      <td>...</td>\n",
       "      <td>...</td>\n",
       "      <td>...</td>\n",
       "      <td>...</td>\n",
       "      <td>...</td>\n",
       "      <td>...</td>\n",
       "      <td>...</td>\n",
       "      <td>...</td>\n",
       "      <td>...</td>\n",
       "    </tr>\n",
       "    <tr>\n",
       "      <th>229</th>\n",
       "      <td>youklke01</td>\n",
       "      <td>Kevin Youkilis</td>\n",
       "      <td>2269</td>\n",
       "      <td>1922</td>\n",
       "      <td>325</td>\n",
       "      <td>555</td>\n",
       "      <td>138</td>\n",
       "      <td>8</td>\n",
       "      <td>66</td>\n",
       "      <td>314</td>\n",
       "      <td>277</td>\n",
       "      <td>397</td>\n",
       "      <td>42</td>\n",
       "      <td>0</td>\n",
       "      <td>28</td>\n",
       "      <td>0.288762</td>\n",
       "      <td>0.471904</td>\n",
       "      <td>0.385192</td>\n",
       "      <td>0.857096</td>\n",
       "      <td>0</td>\n",
       "    </tr>\n",
       "    <tr>\n",
       "      <th>230</th>\n",
       "      <td>youngch04</td>\n",
       "      <td>Chris Young</td>\n",
       "      <td>2566</td>\n",
       "      <td>2281</td>\n",
       "      <td>328</td>\n",
       "      <td>549</td>\n",
       "      <td>136</td>\n",
       "      <td>14</td>\n",
       "      <td>98</td>\n",
       "      <td>296</td>\n",
       "      <td>244</td>\n",
       "      <td>596</td>\n",
       "      <td>14</td>\n",
       "      <td>11</td>\n",
       "      <td>16</td>\n",
       "      <td>0.240684</td>\n",
       "      <td>0.441473</td>\n",
       "      <td>0.315851</td>\n",
       "      <td>0.757324</td>\n",
       "      <td>0</td>\n",
       "    </tr>\n",
       "    <tr>\n",
       "      <th>231</th>\n",
       "      <td>youngde03</td>\n",
       "      <td>Delmon Young</td>\n",
       "      <td>2464</td>\n",
       "      <td>2311</td>\n",
       "      <td>288</td>\n",
       "      <td>675</td>\n",
       "      <td>137</td>\n",
       "      <td>8</td>\n",
       "      <td>59</td>\n",
       "      <td>344</td>\n",
       "      <td>102</td>\n",
       "      <td>429</td>\n",
       "      <td>23</td>\n",
       "      <td>1</td>\n",
       "      <td>27</td>\n",
       "      <td>0.292081</td>\n",
       "      <td>0.434877</td>\n",
       "      <td>0.324807</td>\n",
       "      <td>0.759684</td>\n",
       "      <td>0</td>\n",
       "    </tr>\n",
       "    <tr>\n",
       "      <th>232</th>\n",
       "      <td>youngmi02</td>\n",
       "      <td>Michael Young</td>\n",
       "      <td>2516</td>\n",
       "      <td>2317</td>\n",
       "      <td>353</td>\n",
       "      <td>666</td>\n",
       "      <td>110</td>\n",
       "      <td>30</td>\n",
       "      <td>56</td>\n",
       "      <td>282</td>\n",
       "      <td>147</td>\n",
       "      <td>396</td>\n",
       "      <td>5</td>\n",
       "      <td>25</td>\n",
       "      <td>22</td>\n",
       "      <td>0.287441</td>\n",
       "      <td>0.433319</td>\n",
       "      <td>0.328382</td>\n",
       "      <td>0.761701</td>\n",
       "      <td>0</td>\n",
       "    </tr>\n",
       "    <tr>\n",
       "      <th>233</th>\n",
       "      <td>zimmery01</td>\n",
       "      <td>Ryan Zimmerman</td>\n",
       "      <td>2626</td>\n",
       "      <td>2363</td>\n",
       "      <td>350</td>\n",
       "      <td>672</td>\n",
       "      <td>161</td>\n",
       "      <td>12</td>\n",
       "      <td>91</td>\n",
       "      <td>364</td>\n",
       "      <td>228</td>\n",
       "      <td>447</td>\n",
       "      <td>10</td>\n",
       "      <td>1</td>\n",
       "      <td>23</td>\n",
       "      <td>0.284384</td>\n",
       "      <td>0.478206</td>\n",
       "      <td>0.346799</td>\n",
       "      <td>0.825004</td>\n",
       "      <td>0</td>\n",
       "    </tr>\n",
       "  </tbody>\n",
       "</table>\n",
       "<p>234 rows × 20 columns</p>\n",
       "</div>"
      ],
      "text/plain": [
       "            ID          Player    PA    AB    R    H   2B  3B   HR  RBI   BB  \\\n",
       "0    abreujo02      José Abreu  3213  2913  398  858  180  13  146  488  209   \n",
       "1    ackledu01   Dustin Ackley  2277  2064  255  503   94  18   46  212  186   \n",
       "2    albieoz01    Ozzie Albies  2440  2243  365  613  137  25   90  311  163   \n",
       "3    altuvjo01     Jose Altuve  2932  2721  341  830  162  14   36  226  146   \n",
       "4    alvarpe01   Pedro Alvarez  2293  2063  240  484   90   6  104  324  211   \n",
       "..         ...             ...   ...   ...  ...  ...  ...  ..  ...  ...  ...   \n",
       "229  youklke01  Kevin Youkilis  2269  1922  325  555  138   8   66  314  277   \n",
       "230  youngch04     Chris Young  2566  2281  328  549  136  14   98  296  244   \n",
       "231  youngde03    Delmon Young  2464  2311  288  675  137   8   59  344  102   \n",
       "232  youngmi02   Michael Young  2516  2317  353  666  110  30   56  282  147   \n",
       "233  zimmery01  Ryan Zimmerman  2626  2363  350  672  161  12   91  364  228   \n",
       "\n",
       "      SO  HBP  SH  SF       AVG       SLG       OBP       OPS  Inductee  \n",
       "0    624   67   0  24  0.294542  0.515620  0.352941  0.868561         0  \n",
       "1    410    5  11  11  0.243702  0.373547  0.306267  0.679813         0  \n",
       "2    422   16   2  16  0.273295  0.477040  0.324856  0.801896         0  \n",
       "3    308   24  17  24  0.305035  0.414553  0.343053  0.757607         0  \n",
       "4    678    9   1   9  0.234610  0.435288  0.307155  0.742444         0  \n",
       "..   ...  ...  ..  ..       ...       ...       ...       ...       ...  \n",
       "229  397   42   0  28  0.288762  0.471904  0.385192  0.857096         0  \n",
       "230  596   14  11  16  0.240684  0.441473  0.315851  0.757324         0  \n",
       "231  429   23   1  27  0.292081  0.434877  0.324807  0.759684         0  \n",
       "232  396    5  25  22  0.287441  0.433319  0.328382  0.761701         0  \n",
       "233  447   10   1  23  0.284384  0.478206  0.346799  0.825004         0  \n",
       "\n",
       "[234 rows x 20 columns]"
      ]
     },
     "execution_count": 3,
     "metadata": {},
     "output_type": "execute_result"
    }
   ],
   "source": [
    "from_2000_csv = \"./data/step2_from_2000.csv\"\n",
    "from_2000 = pd.read_csv(from_2000_csv)\n",
    "from_2000"
   ]
  },
  {
   "cell_type": "markdown",
   "id": "1f978b5b",
   "metadata": {},
   "source": [
    "**NOTE:** The `from_2000` data contains _no_ players who are currently in the Hall of Fame. This is part of what will make it an interesting source of data for independent testing."
   ]
  },
  {
   "cell_type": "code",
   "execution_count": 4,
   "id": "512e3687",
   "metadata": {},
   "outputs": [
    {
     "data": {
      "text/html": [
       "<div>\n",
       "<style scoped>\n",
       "    .dataframe tbody tr th:only-of-type {\n",
       "        vertical-align: middle;\n",
       "    }\n",
       "\n",
       "    .dataframe tbody tr th {\n",
       "        vertical-align: top;\n",
       "    }\n",
       "\n",
       "    .dataframe thead th {\n",
       "        text-align: right;\n",
       "    }\n",
       "</style>\n",
       "<table border=\"1\" class=\"dataframe\">\n",
       "  <thead>\n",
       "    <tr style=\"text-align: right;\">\n",
       "      <th></th>\n",
       "      <th>ID</th>\n",
       "      <th>Player</th>\n",
       "      <th>PA</th>\n",
       "      <th>AB</th>\n",
       "      <th>R</th>\n",
       "      <th>H</th>\n",
       "      <th>2B</th>\n",
       "      <th>3B</th>\n",
       "      <th>HR</th>\n",
       "      <th>RBI</th>\n",
       "      <th>BB</th>\n",
       "      <th>SO</th>\n",
       "      <th>HBP</th>\n",
       "      <th>SH</th>\n",
       "      <th>SF</th>\n",
       "      <th>AVG</th>\n",
       "      <th>SLG</th>\n",
       "      <th>OBP</th>\n",
       "      <th>OPS</th>\n",
       "      <th>Inductee</th>\n",
       "    </tr>\n",
       "  </thead>\n",
       "  <tbody>\n",
       "  </tbody>\n",
       "</table>\n",
       "</div>"
      ],
      "text/plain": [
       "Empty DataFrame\n",
       "Columns: [ID, Player, PA, AB, R, H, 2B, 3B, HR, RBI, BB, SO, HBP, SH, SF, AVG, SLG, OBP, OPS, Inductee]\n",
       "Index: []"
      ]
     },
     "execution_count": 4,
     "metadata": {},
     "output_type": "execute_result"
    }
   ],
   "source": [
    "from_2000[from_2000['Inductee']==1]"
   ]
  },
  {
   "cell_type": "markdown",
   "id": "7e6753f2-8294-46eb-8ba6-e8201fd2e57f",
   "metadata": {},
   "source": [
    "## Extract X and y Data from `pre_2000`"
   ]
  },
  {
   "cell_type": "markdown",
   "id": "d5ed226a-7dee-4016-91a6-36d749cb6dd2",
   "metadata": {},
   "source": [
    "`pre_2000` has 1514 records. This is the data we will be focusing on for training and validating the model.\n",
    "\n",
    "`pre_2000` has 21 columns, the first two (`ID` and `Player`) are for identification purposes and last column (`Inductee`) is our label. This leaves 18 feature columns for consideration. Also, note that four of the columns (the calculated statistics) are based on other features in the data."
   ]
  },
  {
   "cell_type": "markdown",
   "id": "eb141c62-6db0-48ce-a5ef-aae23c3fbe18",
   "metadata": {},
   "source": [
    "We can extract those 18 feature columns into `X`:"
   ]
  },
  {
   "cell_type": "code",
   "execution_count": 5,
   "id": "c33efc1f-6afc-4fe7-a0f4-4ca133eeed37",
   "metadata": {},
   "outputs": [
    {
     "data": {
      "text/html": [
       "<div>\n",
       "<style scoped>\n",
       "    .dataframe tbody tr th:only-of-type {\n",
       "        vertical-align: middle;\n",
       "    }\n",
       "\n",
       "    .dataframe tbody tr th {\n",
       "        vertical-align: top;\n",
       "    }\n",
       "\n",
       "    .dataframe thead th {\n",
       "        text-align: right;\n",
       "    }\n",
       "</style>\n",
       "<table border=\"1\" class=\"dataframe\">\n",
       "  <thead>\n",
       "    <tr style=\"text-align: right;\">\n",
       "      <th></th>\n",
       "      <th>PA</th>\n",
       "      <th>AB</th>\n",
       "      <th>R</th>\n",
       "      <th>H</th>\n",
       "      <th>2B</th>\n",
       "      <th>3B</th>\n",
       "      <th>HR</th>\n",
       "      <th>RBI</th>\n",
       "      <th>BB</th>\n",
       "      <th>SO</th>\n",
       "      <th>HBP</th>\n",
       "      <th>SH</th>\n",
       "      <th>SF</th>\n",
       "      <th>AVG</th>\n",
       "      <th>SLG</th>\n",
       "      <th>OBP</th>\n",
       "      <th>OPS</th>\n",
       "    </tr>\n",
       "  </thead>\n",
       "  <tbody>\n",
       "    <tr>\n",
       "      <th>0</th>\n",
       "      <td>2898</td>\n",
       "      <td>2652</td>\n",
       "      <td>450</td>\n",
       "      <td>846</td>\n",
       "      <td>149</td>\n",
       "      <td>37</td>\n",
       "      <td>125</td>\n",
       "      <td>440</td>\n",
       "      <td>199</td>\n",
       "      <td>237</td>\n",
       "      <td>9</td>\n",
       "      <td>18</td>\n",
       "      <td>20</td>\n",
       "      <td>0.319005</td>\n",
       "      <td>0.544495</td>\n",
       "      <td>0.365972</td>\n",
       "      <td>0.910467</td>\n",
       "    </tr>\n",
       "    <tr>\n",
       "      <th>1</th>\n",
       "      <td>2165</td>\n",
       "      <td>1829</td>\n",
       "      <td>312</td>\n",
       "      <td>572</td>\n",
       "      <td>117</td>\n",
       "      <td>29</td>\n",
       "      <td>65</td>\n",
       "      <td>273</td>\n",
       "      <td>316</td>\n",
       "      <td>413</td>\n",
       "      <td>5</td>\n",
       "      <td>4</td>\n",
       "      <td>11</td>\n",
       "      <td>0.312739</td>\n",
       "      <td>0.515036</td>\n",
       "      <td>0.413235</td>\n",
       "      <td>0.928270</td>\n",
       "    </tr>\n",
       "    <tr>\n",
       "      <th>2</th>\n",
       "      <td>2084</td>\n",
       "      <td>1821</td>\n",
       "      <td>259</td>\n",
       "      <td>487</td>\n",
       "      <td>85</td>\n",
       "      <td>11</td>\n",
       "      <td>48</td>\n",
       "      <td>234</td>\n",
       "      <td>208</td>\n",
       "      <td>255</td>\n",
       "      <td>13</td>\n",
       "      <td>42</td>\n",
       "      <td>0</td>\n",
       "      <td>0.267435</td>\n",
       "      <td>0.405272</td>\n",
       "      <td>0.346719</td>\n",
       "      <td>0.751991</td>\n",
       "    </tr>\n",
       "    <tr>\n",
       "      <th>3</th>\n",
       "      <td>2263</td>\n",
       "      <td>2025</td>\n",
       "      <td>300</td>\n",
       "      <td>591</td>\n",
       "      <td>87</td>\n",
       "      <td>17</td>\n",
       "      <td>7</td>\n",
       "      <td>148</td>\n",
       "      <td>167</td>\n",
       "      <td>75</td>\n",
       "      <td>14</td>\n",
       "      <td>40</td>\n",
       "      <td>0</td>\n",
       "      <td>0.291852</td>\n",
       "      <td>0.361975</td>\n",
       "      <td>0.349955</td>\n",
       "      <td>0.711930</td>\n",
       "    </tr>\n",
       "    <tr>\n",
       "      <th>4</th>\n",
       "      <td>2425</td>\n",
       "      <td>2235</td>\n",
       "      <td>273</td>\n",
       "      <td>632</td>\n",
       "      <td>114</td>\n",
       "      <td>20</td>\n",
       "      <td>72</td>\n",
       "      <td>322</td>\n",
       "      <td>156</td>\n",
       "      <td>232</td>\n",
       "      <td>7</td>\n",
       "      <td>23</td>\n",
       "      <td>4</td>\n",
       "      <td>0.282774</td>\n",
       "      <td>0.448322</td>\n",
       "      <td>0.330974</td>\n",
       "      <td>0.779296</td>\n",
       "    </tr>\n",
       "    <tr>\n",
       "      <th>...</th>\n",
       "      <td>...</td>\n",
       "      <td>...</td>\n",
       "      <td>...</td>\n",
       "      <td>...</td>\n",
       "      <td>...</td>\n",
       "      <td>...</td>\n",
       "      <td>...</td>\n",
       "      <td>...</td>\n",
       "      <td>...</td>\n",
       "      <td>...</td>\n",
       "      <td>...</td>\n",
       "      <td>...</td>\n",
       "      <td>...</td>\n",
       "      <td>...</td>\n",
       "      <td>...</td>\n",
       "      <td>...</td>\n",
       "      <td>...</td>\n",
       "    </tr>\n",
       "    <tr>\n",
       "      <th>662</th>\n",
       "      <td>2051</td>\n",
       "      <td>1784</td>\n",
       "      <td>306</td>\n",
       "      <td>528</td>\n",
       "      <td>74</td>\n",
       "      <td>22</td>\n",
       "      <td>25</td>\n",
       "      <td>193</td>\n",
       "      <td>205</td>\n",
       "      <td>127</td>\n",
       "      <td>32</td>\n",
       "      <td>18</td>\n",
       "      <td>12</td>\n",
       "      <td>0.295964</td>\n",
       "      <td>0.404148</td>\n",
       "      <td>0.376291</td>\n",
       "      <td>0.780439</td>\n",
       "    </tr>\n",
       "    <tr>\n",
       "      <th>663</th>\n",
       "      <td>2869</td>\n",
       "      <td>2647</td>\n",
       "      <td>306</td>\n",
       "      <td>717</td>\n",
       "      <td>118</td>\n",
       "      <td>23</td>\n",
       "      <td>26</td>\n",
       "      <td>252</td>\n",
       "      <td>148</td>\n",
       "      <td>307</td>\n",
       "      <td>5</td>\n",
       "      <td>47</td>\n",
       "      <td>22</td>\n",
       "      <td>0.270873</td>\n",
       "      <td>0.362297</td>\n",
       "      <td>0.308292</td>\n",
       "      <td>0.670589</td>\n",
       "    </tr>\n",
       "    <tr>\n",
       "      <th>664</th>\n",
       "      <td>2014</td>\n",
       "      <td>1796</td>\n",
       "      <td>224</td>\n",
       "      <td>499</td>\n",
       "      <td>88</td>\n",
       "      <td>25</td>\n",
       "      <td>27</td>\n",
       "      <td>216</td>\n",
       "      <td>161</td>\n",
       "      <td>183</td>\n",
       "      <td>15</td>\n",
       "      <td>42</td>\n",
       "      <td>0</td>\n",
       "      <td>0.277840</td>\n",
       "      <td>0.399777</td>\n",
       "      <td>0.342292</td>\n",
       "      <td>0.742069</td>\n",
       "    </tr>\n",
       "    <tr>\n",
       "      <th>665</th>\n",
       "      <td>2462</td>\n",
       "      <td>2152</td>\n",
       "      <td>278</td>\n",
       "      <td>571</td>\n",
       "      <td>118</td>\n",
       "      <td>12</td>\n",
       "      <td>51</td>\n",
       "      <td>297</td>\n",
       "      <td>276</td>\n",
       "      <td>331</td>\n",
       "      <td>7</td>\n",
       "      <td>1</td>\n",
       "      <td>26</td>\n",
       "      <td>0.265335</td>\n",
       "      <td>0.402416</td>\n",
       "      <td>0.347013</td>\n",
       "      <td>0.749430</td>\n",
       "    </tr>\n",
       "    <tr>\n",
       "      <th>666</th>\n",
       "      <td>2673</td>\n",
       "      <td>2417</td>\n",
       "      <td>357</td>\n",
       "      <td>670</td>\n",
       "      <td>99</td>\n",
       "      <td>15</td>\n",
       "      <td>138</td>\n",
       "      <td>468</td>\n",
       "      <td>243</td>\n",
       "      <td>406</td>\n",
       "      <td>12</td>\n",
       "      <td>1</td>\n",
       "      <td>0</td>\n",
       "      <td>0.277203</td>\n",
       "      <td>0.501862</td>\n",
       "      <td>0.346183</td>\n",
       "      <td>0.848044</td>\n",
       "    </tr>\n",
       "  </tbody>\n",
       "</table>\n",
       "<p>667 rows × 17 columns</p>\n",
       "</div>"
      ],
      "text/plain": [
       "       PA    AB    R    H   2B  3B   HR  RBI   BB   SO  HBP  SH  SF       AVG  \\\n",
       "0    2898  2652  450  846  149  37  125  440  199  237    9  18  20  0.319005   \n",
       "1    2165  1829  312  572  117  29   65  273  316  413    5   4  11  0.312739   \n",
       "2    2084  1821  259  487   85  11   48  234  208  255   13  42   0  0.267435   \n",
       "3    2263  2025  300  591   87  17    7  148  167   75   14  40   0  0.291852   \n",
       "4    2425  2235  273  632  114  20   72  322  156  232    7  23   4  0.282774   \n",
       "..    ...   ...  ...  ...  ...  ..  ...  ...  ...  ...  ...  ..  ..       ...   \n",
       "662  2051  1784  306  528   74  22   25  193  205  127   32  18  12  0.295964   \n",
       "663  2869  2647  306  717  118  23   26  252  148  307    5  47  22  0.270873   \n",
       "664  2014  1796  224  499   88  25   27  216  161  183   15  42   0  0.277840   \n",
       "665  2462  2152  278  571  118  12   51  297  276  331    7   1  26  0.265335   \n",
       "666  2673  2417  357  670   99  15  138  468  243  406   12   1   0  0.277203   \n",
       "\n",
       "          SLG       OBP       OPS  \n",
       "0    0.544495  0.365972  0.910467  \n",
       "1    0.515036  0.413235  0.928270  \n",
       "2    0.405272  0.346719  0.751991  \n",
       "3    0.361975  0.349955  0.711930  \n",
       "4    0.448322  0.330974  0.779296  \n",
       "..        ...       ...       ...  \n",
       "662  0.404148  0.376291  0.780439  \n",
       "663  0.362297  0.308292  0.670589  \n",
       "664  0.399777  0.342292  0.742069  \n",
       "665  0.402416  0.347013  0.749430  \n",
       "666  0.501862  0.346183  0.848044  \n",
       "\n",
       "[667 rows x 17 columns]"
      ]
     },
     "execution_count": 5,
     "metadata": {},
     "output_type": "execute_result"
    }
   ],
   "source": [
    "num = pre_2000.shape[1]\n",
    "X = pre_2000[pre_2000.columns[2:num-1]]  # removes ID, and Player\n",
    "X"
   ]
  },
  {
   "cell_type": "markdown",
   "id": "ad39959f-65b4-470b-a933-b3702aea8765",
   "metadata": {},
   "source": [
    "We capture the column/feature names into `X_features`:"
   ]
  },
  {
   "cell_type": "code",
   "execution_count": 6,
   "id": "96138473-7ccf-498c-8530-2730279e3604",
   "metadata": {},
   "outputs": [
    {
     "data": {
      "text/plain": [
       "['PA',\n",
       " 'AB',\n",
       " 'R',\n",
       " 'H',\n",
       " '2B',\n",
       " '3B',\n",
       " 'HR',\n",
       " 'RBI',\n",
       " 'BB',\n",
       " 'SO',\n",
       " 'HBP',\n",
       " 'SH',\n",
       " 'SF',\n",
       " 'AVG',\n",
       " 'SLG',\n",
       " 'OBP',\n",
       " 'OPS']"
      ]
     },
     "execution_count": 6,
     "metadata": {},
     "output_type": "execute_result"
    }
   ],
   "source": [
    "X_features = X.columns.values.tolist()\n",
    "X_features"
   ]
  },
  {
   "cell_type": "markdown",
   "id": "c23988fd-27cb-43de-bde6-4b58061fb33d",
   "metadata": {},
   "source": [
    "And, finally, modify the format of `X` to be an array ready for working with `scikit-learn`."
   ]
  },
  {
   "cell_type": "code",
   "execution_count": 7,
   "id": "3179f8da-567a-41cf-802e-17957e9d82c6",
   "metadata": {},
   "outputs": [
    {
     "data": {
      "text/plain": [
       "array([[2.89800000e+03, 2.65200000e+03, 4.50000000e+02, ...,\n",
       "        5.44494721e-01, 3.65972222e-01, 9.10466943e-01],\n",
       "       [2.16500000e+03, 1.82900000e+03, 3.12000000e+02, ...,\n",
       "        5.15035539e-01, 4.13234614e-01, 9.28270152e-01],\n",
       "       [2.08400000e+03, 1.82100000e+03, 2.59000000e+02, ...,\n",
       "        4.05271829e-01, 3.46718903e-01, 7.51990732e-01],\n",
       "       ...,\n",
       "       [2.01400000e+03, 1.79600000e+03, 2.24000000e+02, ...,\n",
       "        3.99777283e-01, 3.42292089e-01, 7.42069372e-01],\n",
       "       [2.46200000e+03, 2.15200000e+03, 2.78000000e+02, ...,\n",
       "        4.02416357e-01, 3.47013409e-01, 7.49429766e-01],\n",
       "       [2.67300000e+03, 2.41700000e+03, 3.57000000e+02, ...,\n",
       "        5.01861812e-01, 3.46182635e-01, 8.48044447e-01]])"
      ]
     },
     "execution_count": 7,
     "metadata": {},
     "output_type": "execute_result"
    }
   ],
   "source": [
    "X = X.values\n",
    "X"
   ]
  },
  {
   "cell_type": "markdown",
   "id": "9baa6b4b-850a-4f54-83d7-d4d0710e6e4a",
   "metadata": {
    "tags": []
   },
   "source": [
    "Similarly for `y`, we'll extract the label column:"
   ]
  },
  {
   "cell_type": "code",
   "execution_count": 8,
   "id": "db7ea37d-fa0b-456e-b696-ba0c0e655835",
   "metadata": {},
   "outputs": [
    {
     "data": {
      "text/html": [
       "<div>\n",
       "<style scoped>\n",
       "    .dataframe tbody tr th:only-of-type {\n",
       "        vertical-align: middle;\n",
       "    }\n",
       "\n",
       "    .dataframe tbody tr th {\n",
       "        vertical-align: top;\n",
       "    }\n",
       "\n",
       "    .dataframe thead th {\n",
       "        text-align: right;\n",
       "    }\n",
       "</style>\n",
       "<table border=\"1\" class=\"dataframe\">\n",
       "  <thead>\n",
       "    <tr style=\"text-align: right;\">\n",
       "      <th></th>\n",
       "      <th>Inductee</th>\n",
       "    </tr>\n",
       "  </thead>\n",
       "  <tbody>\n",
       "    <tr>\n",
       "      <th>0</th>\n",
       "      <td>1</td>\n",
       "    </tr>\n",
       "    <tr>\n",
       "      <th>1</th>\n",
       "      <td>0</td>\n",
       "    </tr>\n",
       "    <tr>\n",
       "      <th>2</th>\n",
       "      <td>0</td>\n",
       "    </tr>\n",
       "    <tr>\n",
       "      <th>3</th>\n",
       "      <td>0</td>\n",
       "    </tr>\n",
       "    <tr>\n",
       "      <th>4</th>\n",
       "      <td>0</td>\n",
       "    </tr>\n",
       "    <tr>\n",
       "      <th>...</th>\n",
       "      <td>...</td>\n",
       "    </tr>\n",
       "    <tr>\n",
       "      <th>662</th>\n",
       "      <td>0</td>\n",
       "    </tr>\n",
       "    <tr>\n",
       "      <th>663</th>\n",
       "      <td>1</td>\n",
       "    </tr>\n",
       "    <tr>\n",
       "      <th>664</th>\n",
       "      <td>0</td>\n",
       "    </tr>\n",
       "    <tr>\n",
       "      <th>665</th>\n",
       "      <td>0</td>\n",
       "    </tr>\n",
       "    <tr>\n",
       "      <th>666</th>\n",
       "      <td>0</td>\n",
       "    </tr>\n",
       "  </tbody>\n",
       "</table>\n",
       "<p>667 rows × 1 columns</p>\n",
       "</div>"
      ],
      "text/plain": [
       "     Inductee\n",
       "0           1\n",
       "1           0\n",
       "2           0\n",
       "3           0\n",
       "4           0\n",
       "..        ...\n",
       "662         0\n",
       "663         1\n",
       "664         0\n",
       "665         0\n",
       "666         0\n",
       "\n",
       "[667 rows x 1 columns]"
      ]
     },
     "execution_count": 8,
     "metadata": {},
     "output_type": "execute_result"
    }
   ],
   "source": [
    "y = pre_2000[['Inductee']]\n",
    "y"
   ]
  },
  {
   "cell_type": "markdown",
   "id": "b99f8a13-8bba-4edc-8b46-0e1416e783bd",
   "metadata": {},
   "source": [
    "Extract the label name:"
   ]
  },
  {
   "cell_type": "code",
   "execution_count": 9,
   "id": "2d0deb2f-327f-4093-b0b3-f824122873e3",
   "metadata": {},
   "outputs": [
    {
     "data": {
      "text/plain": [
       "['Inductee']"
      ]
     },
     "execution_count": 9,
     "metadata": {},
     "output_type": "execute_result"
    }
   ],
   "source": [
    "y_label_name = y.columns.values.tolist()\n",
    "y_label_name"
   ]
  },
  {
   "cell_type": "markdown",
   "id": "e158010e-95d0-4210-95e4-a3be7b863aff",
   "metadata": {},
   "source": [
    "Then, finally, prepare `y` for use with `scikit-learn`."
   ]
  },
  {
   "cell_type": "code",
   "execution_count": 10,
   "id": "632a7162-ac1a-4c27-9503-84f634bd2352",
   "metadata": {},
   "outputs": [
    {
     "data": {
      "text/plain": [
       "array([1, 0, 0, 0, 0, 0, 0, 0, 0, 0, 0, 1, 0, 0, 0, 0, 0, 1, 1, 1, 1, 0,\n",
       "       0, 1, 0, 1, 0, 0, 1, 0, 0, 0, 0, 0, 0, 0, 0, 0, 0, 0, 0, 1, 0, 0,\n",
       "       0, 0, 1, 0, 0, 0, 0, 0, 0, 0, 0, 0, 1, 0, 0, 0, 0, 0, 1, 1, 0, 0,\n",
       "       0, 0, 0, 0, 1, 1, 0, 0, 0, 0, 0, 0, 0, 0, 0, 0, 0, 0, 0, 0, 0, 0,\n",
       "       0, 1, 0, 0, 1, 0, 1, 0, 0, 0, 0, 0, 0, 1, 0, 0, 0, 0, 0, 0, 0, 0,\n",
       "       0, 0, 0, 0, 1, 0, 0, 1, 0, 0, 1, 0, 0, 0, 0, 0, 0, 0, 0, 0, 0, 0,\n",
       "       0, 0, 0, 0, 0, 0, 0, 0, 0, 0, 0, 0, 0, 0, 1, 0, 0, 0, 0, 0, 0, 1,\n",
       "       0, 1, 1, 0, 0, 0, 0, 0, 0, 0, 0, 0, 0, 0, 0, 0, 0, 0, 0, 0, 0, 0,\n",
       "       0, 0, 0, 0, 0, 1, 0, 0, 0, 0, 0, 0, 0, 0, 0, 1, 0, 0, 0, 0, 0, 0,\n",
       "       0, 0, 0, 0, 0, 0, 0, 0, 0, 0, 0, 0, 0, 0, 0, 0, 0, 0, 1, 1, 0, 0,\n",
       "       0, 0, 0, 0, 0, 1, 0, 0, 0, 0, 0, 1, 0, 0, 0, 1, 0, 0, 0, 0, 0, 0,\n",
       "       0, 0, 0, 0, 0, 0, 0, 0, 0, 1, 0, 0, 0, 1, 0, 0, 0, 0, 0, 0, 0, 0,\n",
       "       0, 0, 0, 0, 0, 0, 0, 0, 0, 0, 0, 0, 0, 0, 0, 1, 0, 0, 0, 0, 0, 1,\n",
       "       0, 0, 0, 0, 0, 0, 0, 1, 0, 0, 0, 0, 0, 0, 0, 1, 0, 0, 0, 1, 0, 0,\n",
       "       0, 0, 0, 0, 0, 1, 0, 1, 0, 0, 0, 0, 0, 0, 0, 0, 0, 0, 0, 0, 0, 0,\n",
       "       0, 0, 0, 0, 0, 0, 0, 0, 1, 0, 0, 0, 1, 0, 0, 0, 0, 0, 0, 0, 0, 1,\n",
       "       0, 0, 0, 0, 0, 0, 0, 0, 0, 0, 0, 0, 0, 0, 0, 0, 0, 1, 1, 0, 0, 0,\n",
       "       0, 0, 0, 0, 1, 0, 0, 0, 0, 1, 1, 0, 0, 0, 0, 0, 0, 0, 0, 0, 0, 0,\n",
       "       0, 0, 0, 0, 1, 0, 0, 0, 0, 0, 0, 0, 0, 0, 1, 0, 0, 1, 1, 0, 0, 0,\n",
       "       0, 0, 0, 0, 0, 0, 0, 0, 0, 0, 1, 1, 0, 0, 0, 0, 0, 0, 0, 0, 0, 0,\n",
       "       1, 0, 0, 0, 0, 0, 0, 1, 0, 0, 0, 0, 0, 0, 0, 0, 0, 0, 0, 0, 0, 0,\n",
       "       0, 1, 0, 0, 0, 0, 0, 0, 0, 0, 1, 0, 0, 0, 1, 0, 0, 0, 0, 0, 0, 1,\n",
       "       0, 0, 0, 0, 0, 0, 0, 0, 0, 1, 0, 0, 0, 0, 0, 1, 0, 0, 1, 0, 1, 1,\n",
       "       0, 0, 0, 1, 0, 0, 0, 0, 0, 0, 0, 0, 0, 0, 0, 1, 0, 0, 0, 0, 0, 1,\n",
       "       0, 0, 1, 1, 0, 0, 0, 0, 0, 1, 0, 0, 0, 1, 0, 0, 0, 0, 0, 1, 0, 0,\n",
       "       0, 1, 0, 1, 0, 0, 0, 0, 0, 0, 0, 0, 0, 0, 0, 0, 0, 0, 0, 0, 0, 0,\n",
       "       0, 0, 0, 0, 0, 0, 0, 0, 0, 0, 0, 0, 0, 0, 0, 1, 0, 0, 0, 0, 0, 0,\n",
       "       0, 0, 0, 1, 0, 0, 0, 0, 0, 0, 0, 0, 0, 1, 0, 0, 0, 0, 0, 0, 0, 0,\n",
       "       0, 0, 0, 1, 0, 1, 1, 0, 0, 0, 0, 0, 0, 0, 0, 0, 0, 0, 0, 0, 0, 0,\n",
       "       0, 0, 1, 0, 0, 1, 0, 0, 0, 0, 0, 1, 0, 0, 0, 0, 0, 0, 0, 0, 1, 0,\n",
       "       0, 0, 0, 1, 0, 0, 0])"
      ]
     },
     "execution_count": 10,
     "metadata": {},
     "output_type": "execute_result"
    }
   ],
   "source": [
    "y = pre_2000[y_label_name[0]].values\n",
    "y"
   ]
  },
  {
   "cell_type": "markdown",
   "id": "d8874f62-81c9-4c15-b7bd-c79919af41d6",
   "metadata": {},
   "source": [
    "Before moving on, let's take a look at the breakdown between the number of Hall of Fame inductees in this dataset versus those who are not in the Hall of Fame."
   ]
  },
  {
   "cell_type": "code",
   "execution_count": 11,
   "id": "74a021c8-476e-4ca2-8360-8bfe593a7946",
   "metadata": {
    "scrolled": true
   },
   "outputs": [
    {
     "data": {
      "image/png": "[encoded data removed]",
      "text/plain": [
       "<Figure size 432x288 with 1 Axes>"
      ]
     },
     "metadata": {
      "needs_background": "light"
     },
     "output_type": "display_data"
    },
    {
     "name": "stdout",
     "output_type": "stream",
     "text": [
      "Number of Inductees:  89\n",
      "Number of Non-Inductees:  578\n"
     ]
    }
   ],
   "source": [
    "import matplotlib.pyplot as plt\n",
    "\n",
    "data = [len(pre_2000[pre_2000['Inductee']==0]), len(pre_2000[pre_2000['Inductee']==1])]\n",
    "plt.title(\"Players in the Major League Baseball Hall of Fame\\n(pre_2000 data)\")\n",
    "plt.xlabel(\"Hall of Fame Membership\")\n",
    "plt.ylabel(\"Number of Players\")\n",
    "plt.bar(['Non-Inductees','Inductees'], data)\n",
    "\n",
    "plt.show()\n",
    "\n",
    "print(\"Number of Inductees: \", len(pre_2000[pre_2000['Inductee']==1]))\n",
    "print(\"Number of Non-Inductees: \", len(pre_2000[pre_2000['Inductee']==0]))"
   ]
  },
  {
   "cell_type": "markdown",
   "id": "10bc8a6a",
   "metadata": {},
   "source": [
    "As one might expect, we can see that there are far more players not in the Hall of Fame than those who are. Part of the reason we added a minimum number of plate appearances in Step 2 was to lessen the divide between non-inductees and inductees. It is still a fairly large gap as it is a special honour, indeed."
   ]
  },
  {
   "cell_type": "markdown",
   "id": "16b12c20-6c94-4242-9802-82719ccee3a9",
   "metadata": {},
   "source": [
    "### Getting X and y `from_2000` data"
   ]
  },
  {
   "cell_type": "markdown",
   "id": "e77ae56b",
   "metadata": {},
   "source": [
    "Before going any further, part of the approach for this project is also to look at more recent player data, found in the `from_2000` dataset. So, let's extract values for `X_2000` and `y_2000` data for testing."
   ]
  },
  {
   "cell_type": "code",
   "execution_count": 12,
   "id": "4a3329d0-f7a5-4290-80f7-bb6225ff7eb1",
   "metadata": {},
   "outputs": [],
   "source": [
    "num = from_2000.shape[1]\n",
    "X_2000 = from_2000[from_2000.columns[2:num-1]]\n",
    "X_2000_features = X_2000.columns.values.tolist()\n",
    "X_2000 = X_2000.values\n",
    "\n",
    "y_2000 = pre_2000[['Inductee']]\n",
    "y_2000_label_name = y_2000.columns.values.tolist()\n",
    "y_2000 = pre_2000[y_label_name[0]].values"
   ]
  },
  {
   "cell_type": "markdown",
   "id": "cfc7c929-0ae0-4674-a834-5db98a60adb3",
   "metadata": {},
   "source": [
    "For later, we also want to isolate the names of players in the `from_2000` data for further testing."
   ]
  },
  {
   "cell_type": "code",
   "execution_count": 13,
   "id": "bfd96559-3189-4644-9e30-cbd5fe7e9a75",
   "metadata": {
    "scrolled": true
   },
   "outputs": [
    {
     "data": {
      "text/plain": [
       "0          José Abreu\n",
       "1       Dustin Ackley\n",
       "2        Ozzie Albies\n",
       "3         Jose Altuve\n",
       "4       Pedro Alvarez\n",
       "            ...      \n",
       "229    Kevin Youkilis\n",
       "230       Chris Young\n",
       "231      Delmon Young\n",
       "232     Michael Young\n",
       "233    Ryan Zimmerman\n",
       "Name: Player, Length: 234, dtype: object"
      ]
     },
     "execution_count": 13,
     "metadata": {},
     "output_type": "execute_result"
    }
   ],
   "source": [
    "from_2000_names = from_2000['Player']\n",
    "from_2000_names"
   ]
  },
  {
   "cell_type": "markdown",
   "id": "7a11994c",
   "metadata": {},
   "source": [
    "### Functions for Later Use"
   ]
  },
  {
   "cell_type": "markdown",
   "id": "a5f8996f-2e97-4140-b4f7-4f1841e66cdb",
   "metadata": {},
   "source": [
    "The following is a function to print out the predicted names from the `from_2000` data, based on the `y` array of Hall of Fame predictions. Keeping in mind that the `from_2000` data will be completely unseen."
   ]
  },
  {
   "cell_type": "code",
   "execution_count": 14,
   "id": "e4bafa89-9e52-4d5e-a682-650e5b0bdc3c",
   "metadata": {},
   "outputs": [],
   "source": [
    "def get_hall_of_fame_predictions(y_predictions):\n",
    "    predictions = []\n",
    "    i = 0\n",
    "    for pred in y_predictions:\n",
    "        if pred == 1:\n",
    "            predictions.append(i)\n",
    "        i += 1\n",
    "        \n",
    "    return predictions"
   ]
  },
  {
   "cell_type": "code",
   "execution_count": 15,
   "id": "96613364",
   "metadata": {},
   "outputs": [],
   "source": [
    "def print_predictions(y_predictions):\n",
    "    if len(y_predictions) == 0:\n",
    "        print(\"Empty player list.\")\n",
    "    else:\n",
    "        for player in y_predictions:\n",
    "            print(from_2000_names[player])"
   ]
  },
  {
   "cell_type": "markdown",
   "id": "ece39e59",
   "metadata": {},
   "source": [
    "The following is a model evaluation function that will be used throughout the notebook."
   ]
  },
  {
   "cell_type": "code",
   "execution_count": 16,
   "id": "b74561a7",
   "metadata": {},
   "outputs": [],
   "source": [
    "import matplotlib.pyplot as plt\n",
    "from sklearn.metrics import ConfusionMatrixDisplay\n",
    "\n",
    "from sklearn.metrics import accuracy_score\n",
    "from sklearn.metrics import precision_score\n",
    "from sklearn.metrics import recall_score\n",
    "from sklearn.metrics import f1_score\n",
    "from sklearn.metrics import (precision_recall_curve, PrecisionRecallDisplay)\n",
    "\n",
    "\n",
    "def print_results(model, train_x, train_y, predicted_train_y, test_x, test_y, predicted_test_y):\n",
    "    print(\"Model Performance\")\n",
    "\n",
    "    # training\n",
    "    display = ConfusionMatrixDisplay.from_estimator(\n",
    "        model,\n",
    "        train_x,\n",
    "        train_y,\n",
    "        display_labels=['Non-Inductee', 'Inductee'],\n",
    "        cmap=plt.cm.YlGn\n",
    "    )\n",
    "    display.ax_.set_title(\"Confusion Matrix - Training Data\")\n",
    "\n",
    "    plt.show()\n",
    "\n",
    "    # test\n",
    "    display = ConfusionMatrixDisplay.from_estimator(\n",
    "        model,\n",
    "        test_x,\n",
    "        test_y,\n",
    "        display_labels=['Non-Inductee', 'Inductee'],\n",
    "        cmap=plt.cm.YlGn\n",
    "    )\n",
    "    display.ax_.set_title(\"Confusion Matrix - Test Data\")\n",
    "\n",
    "    plt.show()\n",
    "\n",
    "    print('Accuracy of the model for training set: %.3f' % accuracy_score(train_y, predicted_train_y))\n",
    "    print('Accuracy of the model for test set: %.3f\\n' % accuracy_score(test_y, predicted_test_y))\n",
    "\n",
    "    print('Precision of the model for training set: %.3f' % precision_score(train_y, predicted_train_y))\n",
    "    print('Precision of the model for test set: %.3f\\n' % precision_score(test_y, predicted_test_y))\n",
    "\n",
    "    print('Recall of the model for training set: %.3f' % recall_score(train_y, predicted_train_y))\n",
    "    print('Recall of the model for test set: %.3f\\n' % recall_score(test_y, predicted_test_y))\n",
    "\n",
    "    print('F1-measure of the model for training set: %.3f' % f1_score(train_y, predicted_train_y))\n",
    "    print('F1-measure of the model for test set: %.3f\\n' % f1_score(test_y, predicted_test_y))\n",
    "\n",
    "    \n",
    "    precision, recall, _ = precision_recall_curve(train_y, predicted_train_y)\n",
    "    disp = PrecisionRecallDisplay(precision=precision, recall=recall)\n",
    "    disp.plot()\n",
    "    plt.title(\"Precision-Recall Curve - Training Data\")\n",
    "    plt.grid()\n",
    "    plt.show()\n",
    "    \n",
    "    \n",
    "    precision, recall, _ = precision_recall_curve(test_y, predicted_test_y)\n",
    "    disp = PrecisionRecallDisplay(precision=precision, recall=recall)\n",
    "    disp.plot()\n",
    "    plt.title(\"Precision-Recall Curve - Test Data\")\n",
    "    plt.grid()\n",
    "    plt.show()"
   ]
  },
  {
   "cell_type": "markdown",
   "id": "5093fc97-a875-4696-be9f-f5e48ec68a67",
   "metadata": {},
   "source": [
    "## Taking Steps Toward a Model"
   ]
  },
  {
   "cell_type": "markdown",
   "id": "af2ac1f6-93d4-4509-bc8f-eb76efb72e47",
   "metadata": {},
   "source": [
    "We are using `pre_2000` for model training and validation.\n",
    "\n",
    "`pre_2000` has 20 columns, the first two (`'ID'` and `'Player'`) are for identification purposes and last column (`'Inductee'`) is our label. This leaves 17 feature columns for consideration.\n",
    "\n",
    "Also, note that four of the columns (the calculated statistics) are based on other features in the data. We may return to remove the calcuated statistics later on.\n",
    "\n",
    "With so many dimensions, we should investigate reducing dimensionality in order to avoid overfitting. "
   ]
  },
  {
   "cell_type": "markdown",
   "id": "720df7be-02ef-4cf5-9918-19cbb0ac81ab",
   "metadata": {},
   "source": [
    "### Model 0 (M0): Logistic Regression w/scaling"
   ]
  },
  {
   "cell_type": "markdown",
   "id": "94bff12e",
   "metadata": {},
   "source": [
    "Model 0 (M0) is a simple logistic regression approach, using all 17 features and scaling, but without dimension reduction.\n",
    "\n",
    "We start with logistic regression because this is a binary classification problem."
   ]
  },
  {
   "cell_type": "code",
   "execution_count": 17,
   "id": "8052bdaf",
   "metadata": {
    "scrolled": false
   },
   "outputs": [
    {
     "name": "stdout",
     "output_type": "stream",
     "text": [
      "Model Performance\n"
     ]
    },
    {
     "data": {
      "image/png": "[encoded data removed]",
      "text/plain": [
       "<Figure size 432x288 with 2 Axes>"
      ]
     },
     "metadata": {
      "needs_background": "light"
     },
     "output_type": "display_data"
    },
    {
     "data": {
      "image/png": "[encoded data removed]",
      "text/plain": [
       "<Figure size 432x288 with 2 Axes>"
      ]
     },
     "metadata": {
      "needs_background": "light"
     },
     "output_type": "display_data"
    },
    {
     "name": "stdout",
     "output_type": "stream",
     "text": [
      "Accuracy of the model for training set: 0.902\n",
      "Accuracy of the model for test set: 0.873\n",
      "\n",
      "Precision of the model for training set: 0.806\n",
      "Precision of the model for test set: 0.400\n",
      "\n",
      "Recall of the model for training set: 0.392\n",
      "Recall of the model for test set: 0.267\n",
      "\n",
      "F1-measure of the model for training set: 0.527\n",
      "F1-measure of the model for test set: 0.320\n",
      "\n"
     ]
    },
    {
     "data": {
      "image/png": "[encoded data removed]",
      "text/plain": [
       "<Figure size 432x288 with 1 Axes>"
      ]
     },
     "metadata": {
      "needs_background": "light"
     },
     "output_type": "display_data"
    },
    {
     "data": {
      "image/png": "[encoded data removed]",
      "text/plain": [
       "<Figure size 432x288 with 1 Axes>"
      ]
     },
     "metadata": {
      "needs_background": "light"
     },
     "output_type": "display_data"
    }
   ],
   "source": [
    "from sklearn.linear_model import LogisticRegression\n",
    "from sklearn.preprocessing import StandardScaler\n",
    "\n",
    "from sklearn.model_selection import train_test_split\n",
    "\n",
    "scaler = StandardScaler()\n",
    "X0 = scaler.fit_transform(X)\n",
    "\n",
    "X_train, X_test, y_train, y_test = train_test_split(X0, y, test_size = 0.2, random_state = 42)\n",
    "\n",
    "M0 = LogisticRegression(solver = 'liblinear')\n",
    "M0.fit(X_train, y_train)\n",
    "y_train_predict = M0.predict(X_train)\n",
    "y_test_predict = M0.predict(X_test)\n",
    "\n",
    "print_results(M0, X_train, y_train, y_train_predict, X_test, y_test, y_test_predict)"
   ]
  },
  {
   "cell_type": "markdown",
   "id": "7c6533a0",
   "metadata": {},
   "source": [
    "At a first glance, the evaluation metrics seem promising. Accuracy is hovering around 90% and there are a lot of correctly identified non-inductees.\n",
    "\n",
    "However, considering the domain, we have already run into a number of problems:\n",
    "\n",
    "1. We know there are considerably more non-inductees than inductees, even a very poor model that says \"nobody is an inductee\" will have pretty high accuracy. As a result, accuracy on its own is not a good measure for performance.\n",
    "\n",
    "2. It is very much expected to have a number of non-inductees identified as inductees. There are at two common reasons for this: a) the player has not yet been voted into the Hall of Fame (but could likely be one day, once they are eligible, voted in, etc.), and b) the player has amazing results on paper, but had external issues that will likely prevent their overall qualification and acceptance into the Hall of Fame.\n",
    "\n",
    "The statistic of focus here is best represented by the _Recall_ statistic which, in this context, evaluates how well the model correctly identifies players who are in the Hall of Fame already.\n",
    "\n",
    "It is a concern that our model has such a _Recall_ value, with the training set only correctly choosing those players 36.7% of the time, and less (27.8%) in the test set."
   ]
  },
  {
   "cell_type": "markdown",
   "id": "acd91670",
   "metadata": {},
   "source": [
    "When we exercise our \"independent test set\", we can see that this model predicts nobody, which is disappointing."
   ]
  },
  {
   "cell_type": "code",
   "execution_count": 18,
   "id": "48d889e3",
   "metadata": {},
   "outputs": [
    {
     "name": "stdout",
     "output_type": "stream",
     "text": [
      "José Abreu\n",
      "Dustin Ackley\n",
      "Ozzie Albies\n",
      "Jose Altuve\n",
      "Pedro Alvarez\n",
      "Tim Anderson\n",
      "Elvis Andrus\n",
      "Nori Aoki\n",
      "Nolan Arenado\n",
      "Garrett Atkins\n",
      "Darwin Barney\n",
      "Jason Bay\n",
      "Gordon Beckham\n",
      "Cody Bellinger\n",
      "Josh Bell\n",
      "Brandon Belt\n",
      "Andrew Benintendi\n",
      "Yuniesky Betancourt\n",
      "Mookie Betts\n",
      "Hank Blalock\n",
      "Xander Bogaerts\n",
      "Michael Brantley\n",
      "Ryan Braun\n",
      "Alex Bregman\n",
      "Ben Broussard\n",
      "Jay Bruce\n",
      "Kris Bryant\n",
      "Pat Burrell\n",
      "Billy Butler\n",
      "Asdrubal Cabrera\n",
      "Melky Cabrera\n",
      "Miguel Cabrera\n",
      "Kole Calhoun\n",
      "Robinson Cano\n",
      "Jorge Cantu\n",
      "Matt Carpenter\n",
      "Nick Castellanos\n",
      "Jose Castillo\n",
      "Starlin Castro\n",
      "Yoenis Céspedes\n",
      "Matt Chapman\n",
      "Michael Conforto\n",
      "Carlos Correa\n",
      "Zack Cozart\n",
      "Brandon Crawford\n",
      "Carl Crawford\n",
      "Coco Crisp\n",
      "C.J. Cron\n",
      "Ike Davis\n",
      "Khris Davis\n",
      "David DeJesus\n",
      "Paul DeJong\n",
      "Ian Desmond\n",
      "Rafael Devers\n",
      "Corey Dickerson\n",
      "Josh Donaldson\n",
      "Brian Dozier\n",
      "Stephen Drew\n",
      "Adam Dunn\n",
      "Adam Eaton\n",
      "David Eckstein\n",
      "Mark Ellis\n",
      "Jacoby Ellsbury\n",
      "Edwin Encarnacion\n",
      "Yunel Escobar\n",
      "Andre Ethier\n",
      "Prince Fielder\n",
      "Chone Figgins\n",
      "Dexter Fowler\n",
      "Jeff Francoeur\n",
      "Maikel Franco\n",
      "Todd Frazier\n",
      "Freddie Freeman\n",
      "Kosuke Fukudome\n",
      "Rafael Furcal\n",
      "Evan Gattis\n",
      "Scooter Gennett\n",
      "Jay Gibbons\n",
      "Marcus Giles\n",
      "Paul Goldschmidt\n",
      "Adrian Gonzalez\n",
      "Carlos Gonzalez\n",
      "Alex Gordon\n",
      "Yuli Gurriel\n",
      "Curtis Granderson\n",
      "Khalil Greene\n",
      "Jedd Gyorko\n",
      "Travis Hafner\n",
      "Billy Hamilton\n",
      "Josh Hamilton\n",
      "Mitch Haniger\n",
      "J.J. Hardy\n",
      "Bryce Harper\n",
      "Brad Hawpe\n",
      "Chase Headley\n",
      "Adeiny Hechavarria\n",
      "Odubel Herrera\n",
      "Jason Heyward\n",
      "Aaron Hill\n",
      "Shea Hillenbrand\n",
      "Eric Hinske\n",
      "Matt Holliday\n",
      "Rhys Hoskins\n",
      "Eric Hosmer\n",
      "Ryan Howard\n",
      "Orlando Hudson\n",
      "Aubrey Huff\n",
      "Ender Inciarte\n",
      "Brandon Inge\n",
      "Cesar Izturis\n",
      "Austin Jackson\n",
      "Mike Jacobs\n",
      "Jon Jay\n",
      "Desmond Jennings\n",
      "Kelly Johnson\n",
      "Reed Johnson\n",
      "Garrett Jones\n",
      "Austin Kearns\n",
      "Matt Kemp\n",
      "Howie Kendrick\n",
      "Max Kepler\n",
      "Kevin Kiermaier\n",
      "Ian Kinsler\n",
      "Jason Kipnis\n",
      "Kevin Kouzmanoff\n",
      "Adam LaRoche\n",
      "Brett Lawrie\n",
      "Francisco Lindor\n",
      "James Loney\n",
      "Evan Longoria\n",
      "Jose Lopez\n",
      "Jonathan Lucroy\n",
      "Julio Lugo\n",
      "Manny Machado\n",
      "Trey Mancini\n",
      "Nick Markakis\n",
      "Ketel Marte\n",
      "Starling Marte\n",
      "J.D. Martinez\n",
      "Russell Martin\n",
      "Victor Martinez\n",
      "Hideki Matsui\n",
      "Joe Mauer\n",
      "Nomar Mazara\n",
      "Brian McCann\n",
      "Andrew McCutchen\n",
      "Casey McGehee\n",
      "Nate McLouth\n",
      "Kevin Mench\n",
      "Jordy Mercer\n",
      "Whit Merrifield\n",
      "Brad Miller\n",
      "Justin Morneau\n",
      "Mike Moustakas\n",
      "Daniel Murphy\n",
      "Wil Myers\n",
      "Rougned Odor\n",
      "Marcell Ozuna\n",
      "Joe Panik\n",
      "Gerardo Parra\n",
      "Dustin Pedroia\n",
      "Hunter Pence\n",
      "David Peralta\n",
      "Jhonny Peralta\n",
      "Salvador Perez\n",
      "Juan Pierre\n",
      "Kevin Pillar\n",
      "Stephen Piscotty\n",
      "Gregory Polanco\n",
      "Yasiel Puig\n",
      "Albert Pujols\n",
      "Alexei Ramírez\n",
      "Hanley Ramirez\n",
      "Colby Rasmus\n",
      "J.T. Realmuto\n",
      "Anthony Rendon\n",
      "Ben Revere\n",
      "Jose Reyes\n",
      "Mark Reynolds\n",
      "Alex Rios\n",
      "Anthony Rizzo\n",
      "Brian Roberts\n",
      "Jimmy Rollins\n",
      "Amed Rosario\n",
      "Eddie Rosario\n",
      "Addison Russell\n",
      "Pablo Sandoval\n",
      "Miguel Sano\n",
      "Carlos Santana\n",
      "Jonathan Schoop\n",
      "Corey Seager\n",
      "Kyle Seager\n",
      "Jean Segura\n",
      "Travis Shaw\n",
      "Andrelton Simmons\n",
      "Grady Sizemore\n",
      "Justin Smoak\n",
      "Yangervis Solarte\n",
      "Denard Span\n",
      "George Springer\n",
      "Giancarlo Stanton\n",
      "Trevor Story\n",
      "Drew Stubbs\n",
      "Eugenio Suarez\n",
      "Ichiro Suzuki\n",
      "Kurt Suzuki\n",
      "Dansby Swanson\n",
      "Nick Swisher\n",
      "Willy Taveras\n",
      "Mark Teahen\n",
      "Mark Teixeira\n",
      "Ryan Theriot\n",
      "Chad Tracy\n",
      "Mike Trout\n",
      "Mark Trumbo\n",
      "Troy Tulowitzki\n",
      "Trea Turner\n",
      "Dan Uggla\n",
      "B.J. Upton\n",
      "Justin Upton\n",
      "Juan Uribe\n",
      "Chase Utley\n",
      "Joey Votto\n",
      "Neil Walker\n",
      "Matt Wieters\n",
      "Brad Wilkerson\n",
      "Jack Wilson\n",
      "David Wright\n",
      "Christian Yelich\n",
      "Kevin Youkilis\n",
      "Chris Young\n",
      "Delmon Young\n",
      "Michael Young\n",
      "Ryan Zimmerman\n"
     ]
    }
   ],
   "source": [
    "pred0 = get_hall_of_fame_predictions(M0.predict(X_2000))\n",
    "print_predictions(pred0)"
   ]
  },
  {
   "cell_type": "code",
   "execution_count": 19,
   "id": "c54ae20e",
   "metadata": {},
   "outputs": [
    {
     "name": "stdout",
     "output_type": "stream",
     "text": [
      "The model predicted the entire list as inductees.\n"
     ]
    }
   ],
   "source": [
    "if len(X_2000) == len(pred0):\n",
    "    print(\"The model predicted the entire list as inductees.\")"
   ]
  },
  {
   "cell_type": "markdown",
   "id": "43d469e4",
   "metadata": {},
   "source": [
    "We know that's not feasible!"
   ]
  },
  {
   "cell_type": "markdown",
   "id": "239f3d63",
   "metadata": {},
   "source": [
    "In my explorations and experimentation, I discovered that _*not*_ scaling had some surprising results."
   ]
  },
  {
   "cell_type": "markdown",
   "id": "d2433cc9",
   "metadata": {},
   "source": [
    "### Model 1 (M1): Logistic Regression with no scaling"
   ]
  },
  {
   "cell_type": "markdown",
   "id": "85cda36b",
   "metadata": {},
   "source": [
    "Model 1 is exactly like Model 0, only without scaling."
   ]
  },
  {
   "cell_type": "code",
   "execution_count": 20,
   "id": "1ed9a98d-6e15-49a3-978a-363831af65ae",
   "metadata": {
    "scrolled": false
   },
   "outputs": [
    {
     "name": "stdout",
     "output_type": "stream",
     "text": [
      "Model Performance\n"
     ]
    },
    {
     "data": {
      "image/png": "[encoded data removed]",
      "text/plain": [
       "<Figure size 432x288 with 2 Axes>"
      ]
     },
     "metadata": {
      "needs_background": "light"
     },
     "output_type": "display_data"
    },
    {
     "data": {
      "image/png": "[encoded data removed]",
      "text/plain": [
       "<Figure size 432x288 with 2 Axes>"
      ]
     },
     "metadata": {
      "needs_background": "light"
     },
     "output_type": "display_data"
    },
    {
     "name": "stdout",
     "output_type": "stream",
     "text": [
      "Accuracy of the model for training set: 0.902\n",
      "Accuracy of the model for test set: 0.896\n",
      "\n",
      "Precision of the model for training set: 0.867\n",
      "Precision of the model for test set: 0.556\n",
      "\n",
      "Recall of the model for training set: 0.351\n",
      "Recall of the model for test set: 0.333\n",
      "\n",
      "F1-measure of the model for training set: 0.500\n",
      "F1-measure of the model for test set: 0.417\n",
      "\n"
     ]
    },
    {
     "data": {
      "image/png": "[encoded data removed]",
      "text/plain": [
       "<Figure size 432x288 with 1 Axes>"
      ]
     },
     "metadata": {
      "needs_background": "light"
     },
     "output_type": "display_data"
    },
    {
     "data": {
      "image/png": "[encoded data removed]",
      "text/plain": [
       "<Figure size 432x288 with 1 Axes>"
      ]
     },
     "metadata": {
      "needs_background": "light"
     },
     "output_type": "display_data"
    }
   ],
   "source": [
    "from sklearn.linear_model import LogisticRegression\n",
    "\n",
    "from sklearn.model_selection import train_test_split\n",
    "X_train, X_test, y_train, y_test = train_test_split(X, y, test_size = 0.2, random_state = 42)\n",
    "\n",
    "M1 = LogisticRegression(solver = 'liblinear')\n",
    "M1.fit(X_train, y_train)\n",
    "y_train_predict = M1.predict(X_train)\n",
    "y_test_predict = M1.predict(X_test)\n",
    "\n",
    "print_results(M1, X_train, y_train, y_train_predict, X_test, y_test, y_test_predict)"
   ]
  },
  {
   "cell_type": "markdown",
   "id": "f6a2a676",
   "metadata": {},
   "source": [
    "Interestingly, the results appear the same, but when we try the independent test again:"
   ]
  },
  {
   "cell_type": "code",
   "execution_count": 21,
   "id": "576aa84f",
   "metadata": {},
   "outputs": [
    {
     "name": "stdout",
     "output_type": "stream",
     "text": [
      "Ryan Braun\n",
      "Juan Pierre\n",
      "Albert Pujols\n",
      "Hanley Ramirez\n",
      "Ichiro Suzuki\n",
      "Mike Trout\n"
     ]
    }
   ],
   "source": [
    "pred1 = get_hall_of_fame_predictions(M1.predict(X_2000))\n",
    "print_predictions(pred1)"
   ]
  },
  {
   "cell_type": "markdown",
   "id": "845d529c",
   "metadata": {},
   "source": [
    "This time, we have a list of five players and at least three of these players are highly likely to be inducted into the Hall of Fame in the coming years. (Albert Pujols, Ichiro Suzuki, and Mike Trout.) On paper, Ryan Braun is also a candidate, so one would expect the model to suggest him -- although other factors may prevent his induction. And, Juan Pierre was a solid player but today is not generally considered a future Hall of Famer.\n",
    "\n",
    "What does this tell us? Despite the dismal _Recall_ score, this unscaled model does a much better job of identifying candidates based on their earliest season's batting peformance than the scaled model."
   ]
  },
  {
   "cell_type": "markdown",
   "id": "500e82bd",
   "metadata": {},
   "source": [
    "### M2 - Logistic Regression using GridSearchCV for Optimization"
   ]
  },
  {
   "cell_type": "code",
   "execution_count": null,
   "id": "8be8effd",
   "metadata": {},
   "outputs": [],
   "source": []
  },
  {
   "cell_type": "code",
   "execution_count": 22,
   "id": "3e4119f9",
   "metadata": {},
   "outputs": [
    {
     "name": "stdout",
     "output_type": "stream",
     "text": [
      "#### Tuning Hyper-Parameters for Recall\n",
      "\n",
      "Best parameters on dataset (X): {'C': 10}\n",
      "\n",
      "Grid scores on dataset (X):\n",
      "\t0.248 (+/-0.126) for {'C': 0.0001}\n",
      "\t0.293 (+/-0.092) for {'C': 0.001}\n",
      "\t0.315 (+/-0.094) for {'C': 0.01}\n",
      "\t0.315 (+/-0.117) for {'C': 0.1}\n",
      "\t0.304 (+/-0.096) for {'C': 1}\n",
      "\t0.326 (+/-0.112) for {'C': 10}\n",
      "\t0.315 (+/-0.117) for {'C': 100}\n",
      "\t0.315 (+/-0.094) for {'C': 1000}\n",
      "\n",
      "\n",
      "\n"
     ]
    }
   ],
   "source": [
    "from sklearn.model_selection import GridSearchCV\n",
    "\n",
    "tuned_parameters = [\n",
    "    {'C': [0.0001, 0.001, 0.01, 0.1, 1, 10, 100, 1000] }\n",
    "]\n",
    "\n",
    "print(\"#### Tuning Hyper-Parameters for Recall\")\n",
    "print()\n",
    "\n",
    "clf = GridSearchCV(LogisticRegression(solver='liblinear'), tuned_parameters, scoring=\"recall\")\n",
    "clf.fit(X, y)\n",
    "\n",
    "print(\"Best parameters on dataset (X):\",clf.best_params_)\n",
    "print(\"\\nGrid scores on dataset (X):\")\n",
    "means = clf.cv_results_[\"mean_test_score\"]\n",
    "stds = clf.cv_results_[\"std_test_score\"]\n",
    "for mean, std, params in zip(means, stds, clf.cv_results_[\"params\"]):\n",
    "    print(\"\\t%0.3f (+/-%0.03f) for %r\" % (mean, std * 2, params))\n",
    "print(\"\\n\\n\")\n",
    "    "
   ]
  },
  {
   "cell_type": "markdown",
   "id": "f10dc1f4",
   "metadata": {},
   "source": [
    "Now, let's create Model 2 (M2) with this value of C to discover if there are any improvements."
   ]
  },
  {
   "cell_type": "code",
   "execution_count": 23,
   "id": "702c2eb8",
   "metadata": {
    "scrolled": true
   },
   "outputs": [
    {
     "name": "stdout",
     "output_type": "stream",
     "text": [
      "Model Performance\n"
     ]
    },
    {
     "data": {
      "image/png": "[encoded data removed]",
      "text/plain": [
       "<Figure size 432x288 with 2 Axes>"
      ]
     },
     "metadata": {
      "needs_background": "light"
     },
     "output_type": "display_data"
    },
    {
     "data": {
      "image/png": "[encoded data removed]",
      "text/plain": [
       "<Figure size 432x288 with 2 Axes>"
      ]
     },
     "metadata": {
      "needs_background": "light"
     },
     "output_type": "display_data"
    },
    {
     "name": "stdout",
     "output_type": "stream",
     "text": [
      "Accuracy of the model for training set: 0.902\n",
      "Accuracy of the model for test set: 0.896\n",
      "\n",
      "Precision of the model for training set: 0.806\n",
      "Precision of the model for test set: 0.556\n",
      "\n",
      "Recall of the model for training set: 0.392\n",
      "Recall of the model for test set: 0.333\n",
      "\n",
      "F1-measure of the model for training set: 0.527\n",
      "F1-measure of the model for test set: 0.417\n",
      "\n"
     ]
    },
    {
     "data": {
      "image/png": "[encoded data removed]",
      "text/plain": [
       "<Figure size 432x288 with 1 Axes>"
      ]
     },
     "metadata": {
      "needs_background": "light"
     },
     "output_type": "display_data"
    },
    {
     "data": {
      "image/png": "[encoded data removed]",
      "text/plain": [
       "<Figure size 432x288 with 1 Axes>"
      ]
     },
     "metadata": {
      "needs_background": "light"
     },
     "output_type": "display_data"
    }
   ],
   "source": [
    "from sklearn.linear_model import LogisticRegression\n",
    "\n",
    "from sklearn.model_selection import train_test_split\n",
    "X_train, X_test, y_train, y_test = train_test_split(X, y, test_size = 0.2, random_state = 42)\n",
    "\n",
    "M2 = LogisticRegression(solver='liblinear', C=0.01)\n",
    "M2.fit(X_train, y_train)\n",
    "y_train_predict = M2.predict(X_train)\n",
    "y_test_predict = M2.predict(X_test)\n",
    "\n",
    "print_results(M2, X_train, y_train, y_train_predict, X_test, y_test, y_test_predict)"
   ]
  },
  {
   "cell_type": "markdown",
   "id": "081f75cb",
   "metadata": {},
   "source": [
    "The metrics for _Recall_ did not change, but let's try the independent test again:"
   ]
  },
  {
   "cell_type": "code",
   "execution_count": 24,
   "id": "b0e8b82e",
   "metadata": {},
   "outputs": [
    {
     "name": "stdout",
     "output_type": "stream",
     "text": [
      "Juan Pierre\n",
      "Albert Pujols\n",
      "Hanley Ramirez\n",
      "Ichiro Suzuki\n",
      "Mike Trout\n"
     ]
    }
   ],
   "source": [
    "pred2 = get_hall_of_fame_predictions(M2.predict(X_2000))\n",
    "print_predictions(pred2)"
   ]
  },
  {
   "cell_type": "markdown",
   "id": "988a6653",
   "metadata": {},
   "source": [
    "Intriguingly, the model has changed and our predicted inductees are three players who very likely to be inducted in the future.\n",
    "\n",
    "However, our problem remains. While the model seems to be improving some small ways, we have yet to significantly improve the _Recall_ rate. We are still only classifying 27.8% of our test data inductees correctly."
   ]
  },
  {
   "cell_type": "markdown",
   "id": "7e2e33d2",
   "metadata": {},
   "source": [
    "### Model 3 - Logistic Regression and Cross Validation"
   ]
  },
  {
   "cell_type": "markdown",
   "id": "4b611d8f",
   "metadata": {},
   "source": [
    "Let's take a quick look at the cross-validation scores across the entire pre-2000 dataset:"
   ]
  },
  {
   "cell_type": "code",
   "execution_count": 25,
   "id": "aee38717",
   "metadata": {},
   "outputs": [
    {
     "name": "stdout",
     "output_type": "stream",
     "text": [
      "[0.11111111 0.22222222 0.33333333 0.44444444 0.22222222 0.44444444\n",
      " 0.33333333 0.22222222 0.33333333 0.375     ]\n",
      "\n",
      "Average score:  0.30416666666666664\n"
     ]
    }
   ],
   "source": [
    "from sklearn.linear_model import LogisticRegression\n",
    "\n",
    "from sklearn.model_selection import cross_val_score\n",
    "\n",
    "X_train, X_test, y_train, y_test = train_test_split(X, y, test_size = 0.2, random_state = 42)\n",
    "\n",
    "M3 = LogisticRegression(solver = 'liblinear', C=0.01)\n",
    "M3.fit(X, y)\n",
    "\n",
    "scores = cross_val_score(M3, X, y, scoring='recall', cv = 10)\n",
    "print(scores)\n",
    "\n",
    "print(\"\\nAverage score: \",np.mean(scores))"
   ]
  },
  {
   "cell_type": "markdown",
   "id": "6e061dee",
   "metadata": {},
   "source": [
    "We can see nothing is shifting. It's time to consider other options."
   ]
  },
  {
   "cell_type": "markdown",
   "id": "c577c053",
   "metadata": {},
   "source": [
    "### Feature Reduction"
   ]
  },
  {
   "cell_type": "markdown",
   "id": "cc74883a",
   "metadata": {},
   "source": [
    "First, let's consider dimensionality reduction with Primary Component Analysis (PCA)."
   ]
  },
  {
   "cell_type": "code",
   "execution_count": 26,
   "id": "975a97f3",
   "metadata": {
    "scrolled": false
   },
   "outputs": [
    {
     "data": {
      "image/png": "[encoded data removed]",
      "text/plain": [
       "<Figure size 720x720 with 1 Axes>"
      ]
     },
     "metadata": {
      "needs_background": "light"
     },
     "output_type": "display_data"
    },
    {
     "name": "stdout",
     "output_type": "stream",
     "text": [
      "\n",
      "\n"
     ]
    },
    {
     "data": {
      "image/png": "[encoded data removed]",
      "text/plain": [
       "<Figure size 720x720 with 1 Axes>"
      ]
     },
     "metadata": {
      "needs_background": "light"
     },
     "output_type": "display_data"
    }
   ],
   "source": [
    "from sklearn.preprocessing import StandardScaler\n",
    "from sklearn.decomposition import PCA\n",
    "\n",
    "scaler = StandardScaler()\n",
    "scaler.fit(X)\n",
    "X_scaled = scaler.transform(X)\n",
    "\n",
    "principal = PCA(n_components = 3)\n",
    "principal.fit(X_scaled)\n",
    "X_scaled = principal.transform(X_scaled)\n",
    "\n",
    "X_scaled_train, X_scaled_test, y_train, y_test = train_test_split(X_scaled, y, test_size = 0.2, random_state = 42)\n",
    "\n",
    "\n",
    "# 2D\n",
    "plt.figure(figsize=(10, 10))\n",
    "plt.scatter(X_scaled[:,0], X_scaled[:,1], c=y, cmap='flag')\n",
    "plt.title('2D Representation of Principal Components')\n",
    "plt.xlabel('Principal Component 1')\n",
    "plt.ylabel('Principal Component 2')\n",
    "plt.show()\n",
    "\n",
    "print(\"\\n\")\n",
    "\n",
    "# 3D\n",
    "from mpl_toolkits.mplot3d import Axes3D\n",
    "fig = plt.figure(figsize=(10, 10))\n",
    "axis = fig.add_subplot(111, projection='3d')\n",
    "axis.scatter(X_scaled[:,0], X_scaled[:,1], X_scaled[:,2], c=y, cmap='flag')\n",
    "axis.set_title('3D Representation of Principal Components')\n",
    "axis.set_xlabel(\"Principal Component 1\")\n",
    "axis.set_ylabel(\"Principal Component 2\")\n",
    "axis.set_zlabel(\"Principal Component 3\")\n",
    "plt.show()"
   ]
  },
  {
   "cell_type": "markdown",
   "id": "b99e2499",
   "metadata": {},
   "source": [
    "We're not seeing any real separation of classes here, which makes some sense considering the domain. We know that there are lots of players making it into the Hall of Fame based on any number of criteria (or not inducted) and these factors are not reflected in the data we're working with.\n",
    "\n",
    "So, this may be a moment to acknowledge how flawed this approach is for predicting  future batting success.\n",
    "\n",
    "However, let's try one more experiment before moving onto another approach entirely."
   ]
  },
  {
   "cell_type": "markdown",
   "id": "26c2a006-be9e-41ed-b64e-7f74fd40d425",
   "metadata": {},
   "source": [
    "Let's try another way to improve the _Recall_ results by reducing the nunmber of features in our model. We'll try to determine feature importance using a Random Forest Classifier."
   ]
  },
  {
   "cell_type": "code",
   "execution_count": 27,
   "id": "51f7e1db-cb0b-4f42-9a01-3f3c7ce01c2c",
   "metadata": {},
   "outputs": [
    {
     "data": {
      "text/html": [
       "<style>#sk-container-id-1 {color: black;background-color: white;}#sk-container-id-1 pre{padding: 0;}#sk-container-id-1 div.sk-toggleable {background-color: white;}#sk-container-id-1 label.sk-toggleable__label {cursor: pointer;display: block;width: 100%;margin-bottom: 0;padding: 0.3em;box-sizing: border-box;text-align: center;}#sk-container-id-1 label.sk-toggleable__label-arrow:before {content: \"▸\";float: left;margin-right: 0.25em;color: #696969;}#sk-container-id-1 label.sk-toggleable__label-arrow:hover:before {color: black;}#sk-container-id-1 div.sk-estimator:hover label.sk-toggleable__label-arrow:before {color: black;}#sk-container-id-1 div.sk-toggleable__content {max-height: 0;max-width: 0;overflow: hidden;text-align: left;background-color: #f0f8ff;}#sk-container-id-1 div.sk-toggleable__content pre {margin: 0.2em;color: black;border-radius: 0.25em;background-color: #f0f8ff;}#sk-container-id-1 input.sk-toggleable__control:checked~div.sk-toggleable__content {max-height: 200px;max-width: 100%;overflow: auto;}#sk-container-id-1 input.sk-toggleable__control:checked~label.sk-toggleable__label-arrow:before {content: \"▾\";}#sk-container-id-1 div.sk-estimator input.sk-toggleable__control:checked~label.sk-toggleable__label {background-color: #d4ebff;}#sk-container-id-1 div.sk-label input.sk-toggleable__control:checked~label.sk-toggleable__label {background-color: #d4ebff;}#sk-container-id-1 input.sk-hidden--visually {border: 0;clip: rect(1px 1px 1px 1px);clip: rect(1px, 1px, 1px, 1px);height: 1px;margin: -1px;overflow: hidden;padding: 0;position: absolute;width: 1px;}#sk-container-id-1 div.sk-estimator {font-family: monospace;background-color: #f0f8ff;border: 1px dotted black;border-radius: 0.25em;box-sizing: border-box;margin-bottom: 0.5em;}#sk-container-id-1 div.sk-estimator:hover {background-color: #d4ebff;}#sk-container-id-1 div.sk-parallel-item::after {content: \"\";width: 100%;border-bottom: 1px solid gray;flex-grow: 1;}#sk-container-id-1 div.sk-label:hover label.sk-toggleable__label {background-color: #d4ebff;}#sk-container-id-1 div.sk-serial::before {content: \"\";position: absolute;border-left: 1px solid gray;box-sizing: border-box;top: 0;bottom: 0;left: 50%;z-index: 0;}#sk-container-id-1 div.sk-serial {display: flex;flex-direction: column;align-items: center;background-color: white;padding-right: 0.2em;padding-left: 0.2em;position: relative;}#sk-container-id-1 div.sk-item {position: relative;z-index: 1;}#sk-container-id-1 div.sk-parallel {display: flex;align-items: stretch;justify-content: center;background-color: white;position: relative;}#sk-container-id-1 div.sk-item::before, #sk-container-id-1 div.sk-parallel-item::before {content: \"\";position: absolute;border-left: 1px solid gray;box-sizing: border-box;top: 0;bottom: 0;left: 50%;z-index: -1;}#sk-container-id-1 div.sk-parallel-item {display: flex;flex-direction: column;z-index: 1;position: relative;background-color: white;}#sk-container-id-1 div.sk-parallel-item:first-child::after {align-self: flex-end;width: 50%;}#sk-container-id-1 div.sk-parallel-item:last-child::after {align-self: flex-start;width: 50%;}#sk-container-id-1 div.sk-parallel-item:only-child::after {width: 0;}#sk-container-id-1 div.sk-dashed-wrapped {border: 1px dashed gray;margin: 0 0.4em 0.5em 0.4em;box-sizing: border-box;padding-bottom: 0.4em;background-color: white;}#sk-container-id-1 div.sk-label label {font-family: monospace;font-weight: bold;display: inline-block;line-height: 1.2em;}#sk-container-id-1 div.sk-label-container {text-align: center;}#sk-container-id-1 div.sk-container {/* jupyter's `normalize.less` sets `[hidden] { display: none; }` but bootstrap.min.css set `[hidden] { display: none !important; }` so we also need the `!important` here to be able to override the default hidden behavior on the sphinx rendered scikit-learn.org. See: https://github.com/scikit-learn/scikit-learn/issues/21755 */display: inline-block !important;position: relative;}#sk-container-id-1 div.sk-text-repr-fallback {display: none;}</style><div id=\"sk-container-id-1\" class=\"sk-top-container\"><div class=\"sk-text-repr-fallback\"><pre>RandomForestClassifier(random_state=42)</pre><b>In a Jupyter environment, please rerun this cell to show the HTML representation or trust the notebook. <br />On GitHub, the HTML representation is unable to render, please try loading this page with nbviewer.org.</b></div><div class=\"sk-container\" hidden><div class=\"sk-item\"><div class=\"sk-estimator sk-toggleable\"><input class=\"sk-toggleable__control sk-hidden--visually\" id=\"sk-estimator-id-1\" type=\"checkbox\" checked><label for=\"sk-estimator-id-1\" class=\"sk-toggleable__label sk-toggleable__label-arrow\">RandomForestClassifier</label><div class=\"sk-toggleable__content\"><pre>RandomForestClassifier(random_state=42)</pre></div></div></div></div></div>"
      ],
      "text/plain": [
       "RandomForestClassifier(random_state=42)"
      ]
     },
     "execution_count": 27,
     "metadata": {},
     "output_type": "execute_result"
    }
   ],
   "source": [
    "from sklearn.preprocessing import StandardScaler\n",
    "scaler = StandardScaler()\n",
    "X_scaled = scaler.fit_transform(X)\n",
    "\n",
    "from sklearn.model_selection import train_test_split\n",
    "X_train, X_test, y_train, y_test = train_test_split(X_scaled, y, test_size = 0.2, random_state = 42)\n",
    "\n",
    "\n",
    "from sklearn.ensemble import RandomForestClassifier\n",
    "forest = RandomForestClassifier(random_state=42)\n",
    "forest.fit(X_train, y_train)"
   ]
  },
  {
   "cell_type": "markdown",
   "id": "888dead2-38b0-451c-8d95-12d42a2e3787",
   "metadata": {},
   "source": [
    "Next, we glean the importances from the forest classifier, first using a \"Mean Decrease in Impurity\" (or MDI) approach."
   ]
  },
  {
   "cell_type": "code",
   "execution_count": 28,
   "id": "54243c73-90bf-4d20-b251-32a67d5d7410",
   "metadata": {},
   "outputs": [],
   "source": [
    "importances = forest.feature_importances_\n",
    "std = np.std([tree.feature_importances_ for tree in forest.estimators_], axis=0)"
   ]
  },
  {
   "cell_type": "markdown",
   "id": "a2f442d4-f072-434c-b51a-5c16a7b14a40",
   "metadata": {},
   "source": [
    "Finally, we can examine feature importances visually."
   ]
  },
  {
   "cell_type": "code",
   "execution_count": 29,
   "id": "ca1844dd-4165-4fa6-92d5-2382283fca53",
   "metadata": {},
   "outputs": [
    {
     "data": {
      "image/png": "[encoded data removed]",
      "text/plain": [
       "<Figure size 576x288 with 1 Axes>"
      ]
     },
     "metadata": {
      "needs_background": "light"
     },
     "output_type": "display_data"
    }
   ],
   "source": [
    "forest_importances = pd.Series(importances, index=X_features)\n",
    "\n",
    "fig, ax = plt.subplots()\n",
    "forest_importances.plot.bar(yerr=std, ax=ax)\n",
    "\n",
    "ax.set_title(\"Feature importances using MDI\")\n",
    "ax.set_ylabel(\"Mean decrease in impurity\")\n",
    "\n",
    "fig.set_figwidth(8)\n",
    "fig.set_figheight(4)"
   ]
  },
  {
   "cell_type": "markdown",
   "id": "997a82a9-f8c3-4d54-8af7-96cf3197faae",
   "metadata": {},
   "source": [
    "By inspection, we can see that `'OPS'`, `'AVG'`, `'R'`, `'SLG'`, and `'H'` are the top five features.\n",
    "\n",
    "We need to create a reduced version of X, which we'll call `X_reduced1`."
   ]
  },
  {
   "cell_type": "code",
   "execution_count": 30,
   "id": "49c79d1a",
   "metadata": {},
   "outputs": [
    {
     "data": {
      "text/plain": [
       "array([[9.10466943e-01, 3.19004525e-01, 4.50000000e+02, 5.44494721e-01,\n",
       "        8.46000000e+02],\n",
       "       [9.28270152e-01, 3.12739202e-01, 3.12000000e+02, 5.15035539e-01,\n",
       "        5.72000000e+02],\n",
       "       [7.51990732e-01, 2.67435475e-01, 2.59000000e+02, 4.05271829e-01,\n",
       "        4.87000000e+02],\n",
       "       ...,\n",
       "       [7.42069372e-01, 2.77839644e-01, 2.24000000e+02, 3.99777283e-01,\n",
       "        4.99000000e+02],\n",
       "       [7.49429766e-01, 2.65334572e-01, 2.78000000e+02, 4.02416357e-01,\n",
       "        5.71000000e+02],\n",
       "       [8.48044447e-01, 2.77203144e-01, 3.57000000e+02, 5.01861812e-01,\n",
       "        6.70000000e+02]])"
      ]
     },
     "execution_count": 30,
     "metadata": {},
     "output_type": "execute_result"
    }
   ],
   "source": [
    "X_reduced1_features = ['OPS', 'AVG', 'R', 'SLG', 'H']\n",
    "X_reduced1 = pre_2000[X_reduced1_features].values\n",
    "X_reduced1"
   ]
  },
  {
   "cell_type": "markdown",
   "id": "b6a888d1",
   "metadata": {},
   "source": [
    "And, let's grab `X_2000_reduced1` for testing later on."
   ]
  },
  {
   "cell_type": "code",
   "execution_count": 31,
   "id": "6f13892b",
   "metadata": {},
   "outputs": [],
   "source": [
    "X_2000_reduced1 = from_2000[X_reduced1_features].values"
   ]
  },
  {
   "cell_type": "markdown",
   "id": "c59bf120-8df2-47a3-945b-3caab24703be",
   "metadata": {},
   "source": [
    "### Extraction of X, excluding the calculated statistics"
   ]
  },
  {
   "cell_type": "markdown",
   "id": "c80a42ae",
   "metadata": {},
   "source": [
    "Let's also try manually simplifying the data by removing the calculated statistics from the feature data: `'AVG'`, `'SLG'`, `'OBP'`, and `'OPS'` and then running the analysis again. (All of these have meaning in terms of understanding aspects of a player's performance, but they are all calculated from features we already have so perhaps removal of this will help in some way.)\n",
    "\n",
    "These will have a `_nc` suffix to indicate \"no calculations\"."
   ]
  },
  {
   "cell_type": "code",
   "execution_count": 32,
   "id": "be56da18-21d0-4758-bc15-41bed39d3ea2",
   "metadata": {},
   "outputs": [
    {
     "data": {
      "text/html": [
       "<div>\n",
       "<style scoped>\n",
       "    .dataframe tbody tr th:only-of-type {\n",
       "        vertical-align: middle;\n",
       "    }\n",
       "\n",
       "    .dataframe tbody tr th {\n",
       "        vertical-align: top;\n",
       "    }\n",
       "\n",
       "    .dataframe thead th {\n",
       "        text-align: right;\n",
       "    }\n",
       "</style>\n",
       "<table border=\"1\" class=\"dataframe\">\n",
       "  <thead>\n",
       "    <tr style=\"text-align: right;\">\n",
       "      <th></th>\n",
       "      <th>PA</th>\n",
       "      <th>AB</th>\n",
       "      <th>R</th>\n",
       "      <th>H</th>\n",
       "      <th>2B</th>\n",
       "      <th>3B</th>\n",
       "      <th>HR</th>\n",
       "      <th>RBI</th>\n",
       "      <th>BB</th>\n",
       "      <th>SO</th>\n",
       "      <th>HBP</th>\n",
       "      <th>SH</th>\n",
       "      <th>SF</th>\n",
       "    </tr>\n",
       "  </thead>\n",
       "  <tbody>\n",
       "    <tr>\n",
       "      <th>0</th>\n",
       "      <td>2898</td>\n",
       "      <td>2652</td>\n",
       "      <td>450</td>\n",
       "      <td>846</td>\n",
       "      <td>149</td>\n",
       "      <td>37</td>\n",
       "      <td>125</td>\n",
       "      <td>440</td>\n",
       "      <td>199</td>\n",
       "      <td>237</td>\n",
       "      <td>9</td>\n",
       "      <td>18</td>\n",
       "      <td>20</td>\n",
       "    </tr>\n",
       "    <tr>\n",
       "      <th>1</th>\n",
       "      <td>2165</td>\n",
       "      <td>1829</td>\n",
       "      <td>312</td>\n",
       "      <td>572</td>\n",
       "      <td>117</td>\n",
       "      <td>29</td>\n",
       "      <td>65</td>\n",
       "      <td>273</td>\n",
       "      <td>316</td>\n",
       "      <td>413</td>\n",
       "      <td>5</td>\n",
       "      <td>4</td>\n",
       "      <td>11</td>\n",
       "    </tr>\n",
       "    <tr>\n",
       "      <th>2</th>\n",
       "      <td>2084</td>\n",
       "      <td>1821</td>\n",
       "      <td>259</td>\n",
       "      <td>487</td>\n",
       "      <td>85</td>\n",
       "      <td>11</td>\n",
       "      <td>48</td>\n",
       "      <td>234</td>\n",
       "      <td>208</td>\n",
       "      <td>255</td>\n",
       "      <td>13</td>\n",
       "      <td>42</td>\n",
       "      <td>0</td>\n",
       "    </tr>\n",
       "    <tr>\n",
       "      <th>3</th>\n",
       "      <td>2263</td>\n",
       "      <td>2025</td>\n",
       "      <td>300</td>\n",
       "      <td>591</td>\n",
       "      <td>87</td>\n",
       "      <td>17</td>\n",
       "      <td>7</td>\n",
       "      <td>148</td>\n",
       "      <td>167</td>\n",
       "      <td>75</td>\n",
       "      <td>14</td>\n",
       "      <td>40</td>\n",
       "      <td>0</td>\n",
       "    </tr>\n",
       "    <tr>\n",
       "      <th>4</th>\n",
       "      <td>2425</td>\n",
       "      <td>2235</td>\n",
       "      <td>273</td>\n",
       "      <td>632</td>\n",
       "      <td>114</td>\n",
       "      <td>20</td>\n",
       "      <td>72</td>\n",
       "      <td>322</td>\n",
       "      <td>156</td>\n",
       "      <td>232</td>\n",
       "      <td>7</td>\n",
       "      <td>23</td>\n",
       "      <td>4</td>\n",
       "    </tr>\n",
       "    <tr>\n",
       "      <th>...</th>\n",
       "      <td>...</td>\n",
       "      <td>...</td>\n",
       "      <td>...</td>\n",
       "      <td>...</td>\n",
       "      <td>...</td>\n",
       "      <td>...</td>\n",
       "      <td>...</td>\n",
       "      <td>...</td>\n",
       "      <td>...</td>\n",
       "      <td>...</td>\n",
       "      <td>...</td>\n",
       "      <td>...</td>\n",
       "      <td>...</td>\n",
       "    </tr>\n",
       "    <tr>\n",
       "      <th>662</th>\n",
       "      <td>2051</td>\n",
       "      <td>1784</td>\n",
       "      <td>306</td>\n",
       "      <td>528</td>\n",
       "      <td>74</td>\n",
       "      <td>22</td>\n",
       "      <td>25</td>\n",
       "      <td>193</td>\n",
       "      <td>205</td>\n",
       "      <td>127</td>\n",
       "      <td>32</td>\n",
       "      <td>18</td>\n",
       "      <td>12</td>\n",
       "    </tr>\n",
       "    <tr>\n",
       "      <th>663</th>\n",
       "      <td>2869</td>\n",
       "      <td>2647</td>\n",
       "      <td>306</td>\n",
       "      <td>717</td>\n",
       "      <td>118</td>\n",
       "      <td>23</td>\n",
       "      <td>26</td>\n",
       "      <td>252</td>\n",
       "      <td>148</td>\n",
       "      <td>307</td>\n",
       "      <td>5</td>\n",
       "      <td>47</td>\n",
       "      <td>22</td>\n",
       "    </tr>\n",
       "    <tr>\n",
       "      <th>664</th>\n",
       "      <td>2014</td>\n",
       "      <td>1796</td>\n",
       "      <td>224</td>\n",
       "      <td>499</td>\n",
       "      <td>88</td>\n",
       "      <td>25</td>\n",
       "      <td>27</td>\n",
       "      <td>216</td>\n",
       "      <td>161</td>\n",
       "      <td>183</td>\n",
       "      <td>15</td>\n",
       "      <td>42</td>\n",
       "      <td>0</td>\n",
       "    </tr>\n",
       "    <tr>\n",
       "      <th>665</th>\n",
       "      <td>2462</td>\n",
       "      <td>2152</td>\n",
       "      <td>278</td>\n",
       "      <td>571</td>\n",
       "      <td>118</td>\n",
       "      <td>12</td>\n",
       "      <td>51</td>\n",
       "      <td>297</td>\n",
       "      <td>276</td>\n",
       "      <td>331</td>\n",
       "      <td>7</td>\n",
       "      <td>1</td>\n",
       "      <td>26</td>\n",
       "    </tr>\n",
       "    <tr>\n",
       "      <th>666</th>\n",
       "      <td>2673</td>\n",
       "      <td>2417</td>\n",
       "      <td>357</td>\n",
       "      <td>670</td>\n",
       "      <td>99</td>\n",
       "      <td>15</td>\n",
       "      <td>138</td>\n",
       "      <td>468</td>\n",
       "      <td>243</td>\n",
       "      <td>406</td>\n",
       "      <td>12</td>\n",
       "      <td>1</td>\n",
       "      <td>0</td>\n",
       "    </tr>\n",
       "  </tbody>\n",
       "</table>\n",
       "<p>667 rows × 13 columns</p>\n",
       "</div>"
      ],
      "text/plain": [
       "       PA    AB    R    H   2B  3B   HR  RBI   BB   SO  HBP  SH  SF\n",
       "0    2898  2652  450  846  149  37  125  440  199  237    9  18  20\n",
       "1    2165  1829  312  572  117  29   65  273  316  413    5   4  11\n",
       "2    2084  1821  259  487   85  11   48  234  208  255   13  42   0\n",
       "3    2263  2025  300  591   87  17    7  148  167   75   14  40   0\n",
       "4    2425  2235  273  632  114  20   72  322  156  232    7  23   4\n",
       "..    ...   ...  ...  ...  ...  ..  ...  ...  ...  ...  ...  ..  ..\n",
       "662  2051  1784  306  528   74  22   25  193  205  127   32  18  12\n",
       "663  2869  2647  306  717  118  23   26  252  148  307    5  47  22\n",
       "664  2014  1796  224  499   88  25   27  216  161  183   15  42   0\n",
       "665  2462  2152  278  571  118  12   51  297  276  331    7   1  26\n",
       "666  2673  2417  357  670   99  15  138  468  243  406   12   1   0\n",
       "\n",
       "[667 rows x 13 columns]"
      ]
     },
     "execution_count": 32,
     "metadata": {},
     "output_type": "execute_result"
    }
   ],
   "source": [
    "num = pre_2000.shape[1]\n",
    "X_nc = pre_2000[pre_2000.columns[2:num-5]]\n",
    "X_nc"
   ]
  },
  {
   "cell_type": "code",
   "execution_count": 33,
   "id": "2460e1f7-9ce2-4348-addf-5d7ad7e6d423",
   "metadata": {},
   "outputs": [
    {
     "data": {
      "text/plain": [
       "['PA', 'AB', 'R', 'H', '2B', '3B', 'HR', 'RBI', 'BB', 'SO', 'HBP', 'SH', 'SF']"
      ]
     },
     "execution_count": 33,
     "metadata": {},
     "output_type": "execute_result"
    }
   ],
   "source": [
    "X_nc_features = X_nc.columns.values.tolist()\n",
    "X_nc_features"
   ]
  },
  {
   "cell_type": "code",
   "execution_count": 34,
   "id": "2d00da51-2f00-4f2d-b0e5-037b78f49452",
   "metadata": {},
   "outputs": [
    {
     "data": {
      "text/plain": [
       "array([[2898, 2652,  450, ...,    9,   18,   20],\n",
       "       [2165, 1829,  312, ...,    5,    4,   11],\n",
       "       [2084, 1821,  259, ...,   13,   42,    0],\n",
       "       ...,\n",
       "       [2014, 1796,  224, ...,   15,   42,    0],\n",
       "       [2462, 2152,  278, ...,    7,    1,   26],\n",
       "       [2673, 2417,  357, ...,   12,    1,    0]])"
      ]
     },
     "execution_count": 34,
     "metadata": {},
     "output_type": "execute_result"
    }
   ],
   "source": [
    "X_nc = X_nc.values\n",
    "X_nc"
   ]
  },
  {
   "cell_type": "markdown",
   "id": "f757252f-8b46-4a65-b5f9-1a85a49f3ea1",
   "metadata": {},
   "source": [
    "And, for possible later use, let's also create a corresponding version of the data from the `from_2000` data."
   ]
  },
  {
   "cell_type": "code",
   "execution_count": 35,
   "id": "f208dec6-88d4-4615-a73c-92b77c4a5b8a",
   "metadata": {},
   "outputs": [],
   "source": [
    "num = from_2000.shape[1]\n",
    "X_nc_2000 = from_2000[from_2000.columns[2:num-5]]\n",
    "X_nc_2000_features = X_nc_2000.columns.values.tolist()\n",
    "X_nc_2000 = X_nc_2000.values"
   ]
  },
  {
   "cell_type": "markdown",
   "id": "7c0d5fb7",
   "metadata": {},
   "source": [
    "**Returning to the feature selection process,** let's look at the `X_nc` data with respect to feature performances and see what we discover."
   ]
  },
  {
   "cell_type": "code",
   "execution_count": 36,
   "id": "0e1e5bb4-b6ae-49cf-9b23-42dd3ded6560",
   "metadata": {},
   "outputs": [
    {
     "data": {
      "image/png": "[encoded data removed]",
      "text/plain": [
       "<Figure size 576x288 with 1 Axes>"
      ]
     },
     "metadata": {
      "needs_background": "light"
     },
     "output_type": "display_data"
    }
   ],
   "source": [
    "scaler = StandardScaler()\n",
    "X_nc_scaled = scaler.fit_transform(X_nc)\n",
    "\n",
    "X_nc_train, X_nc_test, y_train, y_test = train_test_split(X_nc_scaled, y, test_size = 0.2, random_state = 42)\n",
    "\n",
    "forest = RandomForestClassifier(random_state=42)\n",
    "forest.fit(X_nc_train, y_train)\n",
    "\n",
    "nc_importances = forest.feature_importances_\n",
    "std = np.std([tree.feature_importances_ for tree in forest.estimators_], axis=0)\n",
    "\n",
    "forest_nc_importances = pd.Series(nc_importances, index=X_nc_features)\n",
    "\n",
    "fig, ax = plt.subplots()\n",
    "forest_nc_importances.plot.bar(yerr=std, ax=ax)\n",
    "\n",
    "ax.set_title(\"NC Feature importances using MDI\")\n",
    "ax.set_ylabel(\"Mean decrease in impurity\")\n",
    "\n",
    "fig.set_figwidth(8)\n",
    "fig.set_figheight(4)\n",
    "\n",
    "plt.show()"
   ]
  },
  {
   "cell_type": "markdown",
   "id": "2709213e",
   "metadata": {},
   "source": [
    "By inspection, we can see that `'R'`, `'HR'`, `'RBI'`, `'H'`, and `'AB'` are the top five features."
   ]
  },
  {
   "cell_type": "markdown",
   "id": "30684302-1f2e-49b4-9d2c-83ba1dec7d7c",
   "metadata": {},
   "source": [
    "We need to create a reduced version of X, which we'll call `X_reduced2`."
   ]
  },
  {
   "cell_type": "code",
   "execution_count": 37,
   "id": "4f95a2ff-05fa-4d25-8df7-8d1b7b1a5d2b",
   "metadata": {},
   "outputs": [
    {
     "data": {
      "text/plain": [
       "array([[ 450,  125,  440,  846, 2652],\n",
       "       [ 312,   65,  273,  572, 1829],\n",
       "       [ 259,   48,  234,  487, 1821],\n",
       "       ...,\n",
       "       [ 224,   27,  216,  499, 1796],\n",
       "       [ 278,   51,  297,  571, 2152],\n",
       "       [ 357,  138,  468,  670, 2417]])"
      ]
     },
     "execution_count": 37,
     "metadata": {},
     "output_type": "execute_result"
    }
   ],
   "source": [
    "X_reduced2_features = ['R', 'HR', 'RBI', 'H', 'AB']\n",
    "X_reduced2 = pre_2000[X_reduced2_features].values\n",
    "X_reduced2"
   ]
  },
  {
   "cell_type": "markdown",
   "id": "10d20ba2",
   "metadata": {},
   "source": [
    "And, let's grab `X_2000_reduced2` for testing later on."
   ]
  },
  {
   "cell_type": "code",
   "execution_count": 38,
   "id": "29bf783f",
   "metadata": {},
   "outputs": [],
   "source": [
    "X_2000_reduced2 = from_2000[X_reduced2_features].values"
   ]
  },
  {
   "cell_type": "markdown",
   "id": "c3f0bf4d",
   "metadata": {},
   "source": [
    "### M4 - Logistic Regression, using set 1 of reduced features"
   ]
  },
  {
   "cell_type": "code",
   "execution_count": 39,
   "id": "e50f0b7a",
   "metadata": {},
   "outputs": [
    {
     "name": "stdout",
     "output_type": "stream",
     "text": [
      "Model Performance\n"
     ]
    },
    {
     "data": {
      "image/png": "[encoded data removed]",
      "text/plain": [
       "<Figure size 432x288 with 2 Axes>"
      ]
     },
     "metadata": {
      "needs_background": "light"
     },
     "output_type": "display_data"
    },
    {
     "data": {
      "image/png": "[encoded data removed]",
      "text/plain": [
       "<Figure size 432x288 with 2 Axes>"
      ]
     },
     "metadata": {
      "needs_background": "light"
     },
     "output_type": "display_data"
    },
    {
     "name": "stdout",
     "output_type": "stream",
     "text": [
      "Accuracy of the model for training set: 0.859\n",
      "Accuracy of the model for test set: 0.888\n",
      "\n",
      "Precision of the model for training set: 0.333\n",
      "Precision of the model for test set: 0.000\n",
      "\n",
      "Recall of the model for training set: 0.014\n",
      "Recall of the model for test set: 0.000\n",
      "\n",
      "F1-measure of the model for training set: 0.026\n",
      "F1-measure of the model for test set: 0.000\n",
      "\n"
     ]
    },
    {
     "name": "stderr",
     "output_type": "stream",
     "text": [
      "/usr/local/lib/python3.9/site-packages/sklearn/metrics/_classification.py:1327: UndefinedMetricWarning: Precision is ill-defined and being set to 0.0 due to no predicted samples. Use `zero_division` parameter to control this behavior.\n",
      "  _warn_prf(average, modifier, msg_start, len(result))\n"
     ]
    },
    {
     "data": {
      "image/png": "[encoded data removed]",
      "text/plain": [
       "<Figure size 432x288 with 1 Axes>"
      ]
     },
     "metadata": {
      "needs_background": "light"
     },
     "output_type": "display_data"
    },
    {
     "data": {
      "image/png": "[encoded data removed]",
      "text/plain": [
       "<Figure size 432x288 with 1 Axes>"
      ]
     },
     "metadata": {
      "needs_background": "light"
     },
     "output_type": "display_data"
    }
   ],
   "source": [
    "X_reduced_train, X_reduced_test, y_train, y_test = train_test_split(X_reduced1, y, test_size=0.2, random_state=42)\n",
    "\n",
    "M4 = LogisticRegression(solver = 'liblinear', C=0.01)\n",
    "M4.fit(X_reduced_train, y_train)\n",
    "\n",
    "y_train_predict = M4.predict(X_reduced_train)\n",
    "y_test_predict = M4.predict(X_reduced_test)\n",
    "\n",
    "print_results(M4, X_reduced_train, y_train, y_train_predict, X_reduced_test, y_test, y_test_predict)"
   ]
  },
  {
   "cell_type": "markdown",
   "id": "2cbfb4c5",
   "metadata": {},
   "source": [
    "There is definitely something wrong with this model and this set of features. Let's take a look at what we find when we reduce features not including the calculated statistics."
   ]
  },
  {
   "cell_type": "markdown",
   "id": "0de96f91",
   "metadata": {},
   "source": [
    "### M5 - Logistic Regression, using set 2 of reduced features"
   ]
  },
  {
   "cell_type": "code",
   "execution_count": 40,
   "id": "5775eca0",
   "metadata": {},
   "outputs": [
    {
     "name": "stdout",
     "output_type": "stream",
     "text": [
      "Model Performance\n"
     ]
    },
    {
     "data": {
      "image/png": "[encoded data removed]",
      "text/plain": [
       "<Figure size 432x288 with 2 Axes>"
      ]
     },
     "metadata": {
      "needs_background": "light"
     },
     "output_type": "display_data"
    },
    {
     "data": {
      "image/png": "[encoded data removed]",
      "text/plain": [
       "<Figure size 432x288 with 2 Axes>"
      ]
     },
     "metadata": {
      "needs_background": "light"
     },
     "output_type": "display_data"
    },
    {
     "name": "stdout",
     "output_type": "stream",
     "text": [
      "Accuracy of the model for training set: 0.882\n",
      "Accuracy of the model for test set: 0.896\n",
      "\n",
      "Precision of the model for training set: 0.690\n",
      "Precision of the model for test set: 0.571\n",
      "\n",
      "Recall of the model for training set: 0.270\n",
      "Recall of the model for test set: 0.267\n",
      "\n",
      "F1-measure of the model for training set: 0.388\n",
      "F1-measure of the model for test set: 0.364\n",
      "\n"
     ]
    },
    {
     "data": {
      "image/png": "[encoded data removed]",
      "text/plain": [
       "<Figure size 432x288 with 1 Axes>"
      ]
     },
     "metadata": {
      "needs_background": "light"
     },
     "output_type": "display_data"
    },
    {
     "data": {
      "image/png": "[encoded data removed]",
      "text/plain": [
       "<Figure size 432x288 with 1 Axes>"
      ]
     },
     "metadata": {
      "needs_background": "light"
     },
     "output_type": "display_data"
    }
   ],
   "source": [
    "X_reduced_train, X_reduced_test, y_train, y_test = train_test_split(X_reduced2, y, test_size=0.2, random_state=42)\n",
    "\n",
    "M5 = LogisticRegression(solver = 'liblinear', C=0.01)\n",
    "M5.fit(X_reduced_train, y_train)\n",
    "\n",
    "y_train_predict = M5.predict(X_reduced_train)\n",
    "y_test_predict = M5.predict(X_reduced_test)\n",
    "\n",
    "print_results(M5, X_reduced_train, y_train, y_train_predict, X_reduced_test, y_test, y_test_predict)"
   ]
  },
  {
   "cell_type": "markdown",
   "id": "aa176c4a",
   "metadata": {},
   "source": [
    "This is better than Model 4, but the _Recall_ isn't getting better from previous models.\n",
    "\n",
    "Looking at our independent testing again, using the second list of reduced features:\n",
    "\n",
    "(Note: there was no point in trying this with the problematic Model 4.)"
   ]
  },
  {
   "cell_type": "code",
   "execution_count": 41,
   "id": "e1542d28",
   "metadata": {},
   "outputs": [
    {
     "name": "stdout",
     "output_type": "stream",
     "text": [
      "Mookie Betts\n",
      "Ryan Braun\n",
      "Miguel Cabrera\n",
      "Matt Holliday\n",
      "Albert Pujols\n",
      "Hanley Ramirez\n",
      "Ichiro Suzuki\n",
      "Mike Trout\n",
      "Joey Votto\n",
      "David Wright\n"
     ]
    }
   ],
   "source": [
    "pred5 = get_hall_of_fame_predictions(M5.predict(X_2000_reduced2))\n",
    "print_predictions(pred5)"
   ]
  },
  {
   "cell_type": "markdown",
   "id": "d0892cfc",
   "metadata": {},
   "source": [
    "This list is slightly longer than others we've seen and has some good likelihood to it. Apart from Hanley Ramirez (who would still get some consideration but isn't at the top of anybody's list based on batting performance), all of these names are serious contenders for induction into the Hall of Fame."
   ]
  },
  {
   "cell_type": "markdown",
   "id": "b27edb08",
   "metadata": {},
   "source": [
    "### Model 6 (M6): Support Vector Classifier (using X without calculated statistics)"
   ]
  },
  {
   "cell_type": "markdown",
   "id": "f8fbe8da",
   "metadata": {},
   "source": [
    "Trying a different model, a scaled Support Vector Classifer with a polynomial kernel:"
   ]
  },
  {
   "cell_type": "code",
   "execution_count": 67,
   "id": "0c8e6b26",
   "metadata": {},
   "outputs": [
    {
     "name": "stdout",
     "output_type": "stream",
     "text": [
      "Model Performance\n"
     ]
    },
    {
     "data": {
      "image/png": "[encoded data removed]",
      "text/plain": [
       "<Figure size 432x288 with 2 Axes>"
      ]
     },
     "metadata": {
      "needs_background": "light"
     },
     "output_type": "display_data"
    },
    {
     "data": {
      "image/png": "[encoded data removed]",
      "text/plain": [
       "<Figure size 432x288 with 2 Axes>"
      ]
     },
     "metadata": {
      "needs_background": "light"
     },
     "output_type": "display_data"
    },
    {
     "name": "stdout",
     "output_type": "stream",
     "text": [
      "Accuracy of the model for training set: 0.919\n",
      "Accuracy of the model for test set: 0.866\n",
      "\n",
      "Precision of the model for training set: 0.970\n",
      "Precision of the model for test set: 0.333\n",
      "\n",
      "Recall of the model for training set: 0.432\n",
      "Recall of the model for test set: 0.200\n",
      "\n",
      "F1-measure of the model for training set: 0.598\n",
      "F1-measure of the model for test set: 0.250\n",
      "\n"
     ]
    },
    {
     "data": {
      "image/png": "[encoded data removed]",
      "text/plain": [
       "<Figure size 432x288 with 1 Axes>"
      ]
     },
     "metadata": {
      "needs_background": "light"
     },
     "output_type": "display_data"
    },
    {
     "data": {
      "image/png": "[encoded data removed]",
      "text/plain": [
       "<Figure size 432x288 with 1 Axes>"
      ]
     },
     "metadata": {
      "needs_background": "light"
     },
     "output_type": "display_data"
    }
   ],
   "source": [
    "from sklearn.preprocessing import StandardScaler\n",
    "scaler = StandardScaler()\n",
    "X6 = scaler.fit_transform(X_nc)\n",
    "\n",
    "from sklearn import svm\n",
    "\n",
    "X_train, X_test, y_train, y_test = train_test_split(X6, y, test_size=0.2, random_state=42)\n",
    "\n",
    "M6 = svm.SVC(kernel='poly')\n",
    "M6.fit(X_train, y_train)\n",
    "\n",
    "y_train_predict = M6.predict(X_train)\n",
    "y_test_predict = M6.predict(X_test)\n",
    "\n",
    "print_results(M6, X_train, y_train, y_train_predict, X_test, y_test, y_test_predict)"
   ]
  },
  {
   "cell_type": "markdown",
   "id": "e7533507",
   "metadata": {},
   "source": [
    "_Recall_ is still very poor, it is overfitting the training data still compared to the test data."
   ]
  },
  {
   "cell_type": "markdown",
   "id": "3cfe4a95",
   "metadata": {},
   "source": [
    "### Model 7 (M7): KNN Classifier (using X without calculated statistics)"
   ]
  },
  {
   "cell_type": "markdown",
   "id": "319596bd",
   "metadata": {},
   "source": [
    "Trying one more model, a KNN Classifer using a single nearest neighbour:"
   ]
  },
  {
   "cell_type": "code",
   "execution_count": 46,
   "id": "2c24d3d4",
   "metadata": {},
   "outputs": [
    {
     "name": "stdout",
     "output_type": "stream",
     "text": [
      "Model Performance\n"
     ]
    },
    {
     "data": {
      "image/png": "[encoded data removed]",
      "text/plain": [
       "<Figure size 432x288 with 2 Axes>"
      ]
     },
     "metadata": {
      "needs_background": "light"
     },
     "output_type": "display_data"
    },
    {
     "data": {
      "image/png": "[encoded data removed]",
      "text/plain": [
       "<Figure size 432x288 with 2 Axes>"
      ]
     },
     "metadata": {
      "needs_background": "light"
     },
     "output_type": "display_data"
    },
    {
     "name": "stdout",
     "output_type": "stream",
     "text": [
      "Accuracy of the model for training set: 1.000\n",
      "Accuracy of the model for test set: 0.836\n",
      "\n",
      "Precision of the model for training set: 1.000\n",
      "Precision of the model for test set: 0.182\n",
      "\n",
      "Recall of the model for training set: 1.000\n",
      "Recall of the model for test set: 0.133\n",
      "\n",
      "F1-measure of the model for training set: 1.000\n",
      "F1-measure of the model for test set: 0.154\n",
      "\n"
     ]
    },
    {
     "data": {
      "image/png": "[encoded data removed]",
      "text/plain": [
       "<Figure size 432x288 with 1 Axes>"
      ]
     },
     "metadata": {
      "needs_background": "light"
     },
     "output_type": "display_data"
    },
    {
     "data": {
      "image/png": "[encoded data removed]",
      "text/plain": [
       "<Figure size 432x288 with 1 Axes>"
      ]
     },
     "metadata": {
      "needs_background": "light"
     },
     "output_type": "display_data"
    }
   ],
   "source": [
    "from sklearn.neighbors import KNeighborsClassifier\n",
    "\n",
    "X_train, X_test, y_train, y_test = train_test_split(X_nc, y, test_size=0.2, random_state=42)\n",
    "\n",
    "M7 = KNeighborsClassifier(n_neighbors=1)\n",
    "M7.fit(X_train, y_train)\n",
    "\n",
    "y_train_predict = M7.predict(X_train)\n",
    "y_test_predict = M7.predict(X_test)\n",
    "\n",
    "print_results(M7, X_train, y_train, y_train_predict, X_test, y_test, y_test_predict)"
   ]
  },
  {
   "cell_type": "markdown",
   "id": "3590f2b6",
   "metadata": {},
   "source": [
    "The model is definitely overfitting on training and failing miserably on test data predictions.\n",
    "\n",
    "Out of curiosity, looking at our independent testing again, using the second list of reduced features:"
   ]
  },
  {
   "cell_type": "code",
   "execution_count": 48,
   "id": "4c639e5e",
   "metadata": {},
   "outputs": [
    {
     "name": "stdout",
     "output_type": "stream",
     "text": [
      "Tim Anderson\n",
      "Mookie Betts\n",
      "David Eckstein\n",
      "Odubel Herrera\n",
      "Eric Hosmer\n",
      "Ryan Howard\n",
      "Jon Jay\n",
      "Max Kepler\n",
      "Manny Machado\n",
      "Nick Markakis\n",
      "Starling Marte\n",
      "Victor Martinez\n",
      "Hideki Matsui\n",
      "Whit Merrifield\n",
      "Salvador Perez\n",
      "Juan Pierre\n",
      "Albert Pujols\n",
      "Giancarlo Stanton\n",
      "Trevor Story\n",
      "Drew Stubbs\n",
      "Ichiro Suzuki\n",
      "Nick Swisher\n",
      "Neil Walker\n",
      "Brad Wilkerson\n"
     ]
    }
   ],
   "source": [
    "pred7 = get_hall_of_fame_predictions(M7.predict(X_nc_2000))\n",
    "print_predictions(pred7)"
   ]
  },
  {
   "cell_type": "markdown",
   "id": "b66a95c4",
   "metadata": {},
   "source": [
    "As nice as it is to see a longer list, the KNN approach is just amplifying what we already have been seeing. Looking at the nearest neighbours of, presumably, some of our legitimate Hall of Fame prospects, we find players who are not remote considerations for the Hall of Fame. And, yet, many were above average batters... so perhaps there is a hint of a different direction to explore, but that's beyond the scope of this project.\n",
    "\n",
    "However, **this will end our exploration** into this **Hall of Fame Approach** and we'll continue with an entirely different approach next."
   ]
  },
  {
   "cell_type": "markdown",
   "id": "e4c0137f",
   "metadata": {},
   "source": [
    "## Model Evaluation Based on Context"
   ]
  },
  {
   "cell_type": "markdown",
   "id": "4aaeb887",
   "metadata": {},
   "source": [
    "As already mentioned throughout, this **Hall of Fame Approach**, while intriguing, is deeply flawed. Our exploration highlights some of the problems, as well as the inadequacy of the data for both predicting Hall of Fame membership and, ultimately, our goal of basing general batting success predictions on Hall of Fame induction.\n",
    "\n",
    "To be able to attempt this kind of model with any great intention, one would need to have a much deeper understanding of more components than I am currently aware of, including statistics beyond batting, specific criterion used by committees, and factors outside of the ball field.\n",
    "\n",
    "To specifically explore a Hall of Fame inspired batting success model in a more general sense, one would need to consider a deeper analysis of what makes Hall of Fame batters so great, and then from there -- instead of attempting to predict Hall of Fame induction -- classify general players based on the profile devised through that analysis."
   ]
  },
  {
   "cell_type": "markdown",
   "id": "5e6bd058",
   "metadata": {},
   "source": [
    "## Concluding Notebook Comments"
   ]
  },
  {
   "cell_type": "markdown",
   "id": "b751a849",
   "metadata": {},
   "source": [
    "**Note:** At this point, we will conclude this notebook for organizational purposes.\n",
    "\n",
    "The **purpose of this notebook** is to explore **the Hall of Fame Approach** and evaluate the models and ideas, and to summarize their success, or lack thereof.\n",
    "\n",
    "**The *next* notebook in the series is: `harr2890_project_step4_ops_data_prep`,** where the saved, data files from Step 1 will be loaded and data preparation will continue with the structuring and splitting up the data for the purposes of experimentation and modelling in a subsequent notebook dealing with **the OPS Approach**."
   ]
  }
 ],
 "metadata": {
  "kernelspec": {
   "display_name": "Python 3 (ipykernel)",
   "language": "python",
   "name": "python3"
  },
  "language_info": {
   "codemirror_mode": {
    "name": "ipython",
    "version": 3
   },
   "file_extension": ".py",
   "mimetype": "text/x-python",
   "name": "python",
   "nbconvert_exporter": "python",
   "pygments_lexer": "ipython3",
   "version": "3.9.13"
  }
 },
 "nbformat": 4,
 "nbformat_minor": 5
}
