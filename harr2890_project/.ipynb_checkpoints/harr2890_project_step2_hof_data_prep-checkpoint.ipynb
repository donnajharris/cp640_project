{
 "cells": [
  {
   "cell_type": "markdown",
   "id": "469ffd13",
   "metadata": {},
   "source": [
    "# Using Historical Data to Predict Batting Success: Step 2"
   ]
  },
  {
   "cell_type": "markdown",
   "id": "4fd96e6c",
   "metadata": {},
   "source": [
    "Authored by: Donna J. Harris (994042890)\n",
    "\n",
    "Email: harr2890@mylaurier.ca\n",
    "\n",
    "For: CP640 Machine Learning (S22) with Professor Elham Harirpoush"
   ]
  },
  {
   "cell_type": "markdown",
   "id": "a9500a08",
   "metadata": {},
   "source": [
    "## Notebook Series"
   ]
  },
  {
   "cell_type": "markdown",
   "id": "d160af4a",
   "metadata": {},
   "source": [
    "Just a word about the presentation of this project code.\n",
    "\n",
    "The code is organized into a series of locally executed Jupyter notebooks, organized by step and needing to be executed in sequence. This is `harr2890_project_step2_hof_data_prep`, the second of XXXXX notebooks.   TODO"
   ]
  },
  {
   "cell_type": "markdown",
   "id": "7a78c68e",
   "metadata": {},
   "source": [
    "## *Step 2 - Data Preparation for a Hall of Fame Approach*"
   ]
  },
  {
   "cell_type": "markdown",
   "id": "a0232ff4",
   "metadata": {},
   "source": [
    "This notebook encompasses the second phase of data preparation, continuing with the structuring and splitting up the data to the state where the experiments and modelling will be conducted based on a Hall of Fame approach."
   ]
  },
  {
   "cell_type": "markdown",
   "id": "8b37af0d",
   "metadata": {},
   "source": [
    "Here, we will be combining the main source data with our list of Hall of Fame inductees and preparing the data for exploration and modelling based on various **classification** techniques a subsequent notebook."
   ]
  },
  {
   "cell_type": "markdown",
   "id": "206d222a",
   "metadata": {},
   "source": [
    "We will also be splitting the data, based on the year 2000, so that later on in the process we can run controlled tests on unseen data which can be used to manually evaluate the results and predictions of the modelling."
   ]
  },
  {
   "cell_type": "markdown",
   "id": "ba6e28c0",
   "metadata": {},
   "source": [
    "## Environment Setup"
   ]
  },
  {
   "cell_type": "markdown",
   "id": "a0f622eb",
   "metadata": {},
   "source": [
    "Import and establish environment for our work, including showing all dataframe column values."
   ]
  },
  {
   "cell_type": "code",
   "execution_count": 1,
   "id": "b9c73aed",
   "metadata": {},
   "outputs": [],
   "source": [
    "import pandas as pd\n",
    "\n",
    "pd.set_option('display.max_columns', None)"
   ]
  },
  {
   "cell_type": "markdown",
   "id": "59f9bfa0",
   "metadata": {},
   "source": [
    "### Pre-Conditions"
   ]
  },
  {
   "cell_type": "markdown",
   "id": "4aae5383",
   "metadata": {},
   "source": [
    "Step 1 must be run completely before running this notebook.\n",
    "\n",
    "The `data` folder must exist with the following prepared data files:\n",
    "- `./data/core_mlb_dataset.csv`\n",
    "- `./data/hof_dataset.csv`"
   ]
  },
  {
   "cell_type": "markdown",
   "id": "88d7998f",
   "metadata": {},
   "source": [
    "##  Loading Prepared Data Files"
   ]
  },
  {
   "cell_type": "markdown",
   "id": "a1cb88f2",
   "metadata": {},
   "source": [
    "Load in the two stored data files: \n",
    "- Major League Baseball batting data (`./data/core_mlb_dataset.csv`)\n",
    "- Baseball Hall of Fame inductee data (`./data/hof_dataset.csv`)\n",
    "\n",
    "so we can continue with preparing this data.\n"
   ]
  },
  {
   "cell_type": "code",
   "execution_count": 2,
   "id": "561fad5c",
   "metadata": {},
   "outputs": [
    {
     "data": {
      "text/html": [
       "<div>\n",
       "<style scoped>\n",
       "    .dataframe tbody tr th:only-of-type {\n",
       "        vertical-align: middle;\n",
       "    }\n",
       "\n",
       "    .dataframe tbody tr th {\n",
       "        vertical-align: top;\n",
       "    }\n",
       "\n",
       "    .dataframe thead th {\n",
       "        text-align: right;\n",
       "    }\n",
       "</style>\n",
       "<table border=\"1\" class=\"dataframe\">\n",
       "  <thead>\n",
       "    <tr style=\"text-align: right;\">\n",
       "      <th></th>\n",
       "      <th>ID</th>\n",
       "      <th>Player</th>\n",
       "      <th>Tm</th>\n",
       "      <th>Opp</th>\n",
       "      <th>PA</th>\n",
       "      <th>AB</th>\n",
       "      <th>R</th>\n",
       "      <th>H</th>\n",
       "      <th>2B</th>\n",
       "      <th>3B</th>\n",
       "      <th>HR</th>\n",
       "      <th>RBI</th>\n",
       "      <th>BB</th>\n",
       "      <th>SO</th>\n",
       "      <th>HBP</th>\n",
       "      <th>SH</th>\n",
       "      <th>SF</th>\n",
       "      <th>Result</th>\n",
       "      <th>Season</th>\n",
       "    </tr>\n",
       "  </thead>\n",
       "  <tbody>\n",
       "    <tr>\n",
       "      <th>0</th>\n",
       "      <td>delahed01</td>\n",
       "      <td>Ed Delahanty</td>\n",
       "      <td>PHI</td>\n",
       "      <td>BRO</td>\n",
       "      <td>5</td>\n",
       "      <td>4</td>\n",
       "      <td>1</td>\n",
       "      <td>2</td>\n",
       "      <td>0</td>\n",
       "      <td>0</td>\n",
       "      <td>0</td>\n",
       "      <td>0</td>\n",
       "      <td>1</td>\n",
       "      <td>0</td>\n",
       "      <td>0</td>\n",
       "      <td>0</td>\n",
       "      <td>0</td>\n",
       "      <td>L</td>\n",
       "      <td>1901</td>\n",
       "    </tr>\n",
       "    <tr>\n",
       "      <th>1</th>\n",
       "      <td>dolanjo02</td>\n",
       "      <td>Joe Dolan</td>\n",
       "      <td>PHI</td>\n",
       "      <td>BRO</td>\n",
       "      <td>5</td>\n",
       "      <td>5</td>\n",
       "      <td>0</td>\n",
       "      <td>1</td>\n",
       "      <td>0</td>\n",
       "      <td>0</td>\n",
       "      <td>0</td>\n",
       "      <td>1</td>\n",
       "      <td>0</td>\n",
       "      <td>0</td>\n",
       "      <td>0</td>\n",
       "      <td>0</td>\n",
       "      <td>0</td>\n",
       "      <td>L</td>\n",
       "      <td>1901</td>\n",
       "    </tr>\n",
       "    <tr>\n",
       "      <th>2</th>\n",
       "      <td>childcu01</td>\n",
       "      <td>Cupid Childs</td>\n",
       "      <td>CHC</td>\n",
       "      <td>STL</td>\n",
       "      <td>5</td>\n",
       "      <td>5</td>\n",
       "      <td>1</td>\n",
       "      <td>1</td>\n",
       "      <td>0</td>\n",
       "      <td>0</td>\n",
       "      <td>0</td>\n",
       "      <td>0</td>\n",
       "      <td>0</td>\n",
       "      <td>0</td>\n",
       "      <td>0</td>\n",
       "      <td>0</td>\n",
       "      <td>0</td>\n",
       "      <td>W</td>\n",
       "      <td>1901</td>\n",
       "    </tr>\n",
       "    <tr>\n",
       "      <th>3</th>\n",
       "      <td>crolifr01</td>\n",
       "      <td>Fred Crolius</td>\n",
       "      <td>BSN</td>\n",
       "      <td>NYG</td>\n",
       "      <td>4</td>\n",
       "      <td>4</td>\n",
       "      <td>0</td>\n",
       "      <td>0</td>\n",
       "      <td>0</td>\n",
       "      <td>0</td>\n",
       "      <td>0</td>\n",
       "      <td>1</td>\n",
       "      <td>0</td>\n",
       "      <td>0</td>\n",
       "      <td>0</td>\n",
       "      <td>0</td>\n",
       "      <td>0</td>\n",
       "      <td>W</td>\n",
       "      <td>1901</td>\n",
       "    </tr>\n",
       "    <tr>\n",
       "      <th>4</th>\n",
       "      <td>delahed01</td>\n",
       "      <td>Ed Delahanty</td>\n",
       "      <td>PHI</td>\n",
       "      <td>BRO</td>\n",
       "      <td>4</td>\n",
       "      <td>4</td>\n",
       "      <td>0</td>\n",
       "      <td>0</td>\n",
       "      <td>0</td>\n",
       "      <td>0</td>\n",
       "      <td>0</td>\n",
       "      <td>0</td>\n",
       "      <td>0</td>\n",
       "      <td>2</td>\n",
       "      <td>0</td>\n",
       "      <td>0</td>\n",
       "      <td>0</td>\n",
       "      <td>L</td>\n",
       "      <td>1901</td>\n",
       "    </tr>\n",
       "    <tr>\n",
       "      <th>...</th>\n",
       "      <td>...</td>\n",
       "      <td>...</td>\n",
       "      <td>...</td>\n",
       "      <td>...</td>\n",
       "      <td>...</td>\n",
       "      <td>...</td>\n",
       "      <td>...</td>\n",
       "      <td>...</td>\n",
       "      <td>...</td>\n",
       "      <td>...</td>\n",
       "      <td>...</td>\n",
       "      <td>...</td>\n",
       "      <td>...</td>\n",
       "      <td>...</td>\n",
       "      <td>...</td>\n",
       "      <td>...</td>\n",
       "      <td>...</td>\n",
       "      <td>...</td>\n",
       "      <td>...</td>\n",
       "    </tr>\n",
       "    <tr>\n",
       "      <th>3715517</th>\n",
       "      <td>woodfja01</td>\n",
       "      <td>Jake Woodford</td>\n",
       "      <td>STL</td>\n",
       "      <td>CHC</td>\n",
       "      <td>2</td>\n",
       "      <td>1</td>\n",
       "      <td>0</td>\n",
       "      <td>0</td>\n",
       "      <td>0</td>\n",
       "      <td>0</td>\n",
       "      <td>0</td>\n",
       "      <td>0</td>\n",
       "      <td>0</td>\n",
       "      <td>0</td>\n",
       "      <td>0</td>\n",
       "      <td>1</td>\n",
       "      <td>0</td>\n",
       "      <td>L</td>\n",
       "      <td>2021</td>\n",
       "    </tr>\n",
       "    <tr>\n",
       "      <th>3715518</th>\n",
       "      <td>yastrmi01</td>\n",
       "      <td>Mike Yastrzemski</td>\n",
       "      <td>SFG</td>\n",
       "      <td>SDP</td>\n",
       "      <td>4</td>\n",
       "      <td>3</td>\n",
       "      <td>1</td>\n",
       "      <td>1</td>\n",
       "      <td>1</td>\n",
       "      <td>0</td>\n",
       "      <td>0</td>\n",
       "      <td>2</td>\n",
       "      <td>1</td>\n",
       "      <td>1</td>\n",
       "      <td>0</td>\n",
       "      <td>0</td>\n",
       "      <td>0</td>\n",
       "      <td>W</td>\n",
       "      <td>2021</td>\n",
       "    </tr>\n",
       "    <tr>\n",
       "      <th>3715519</th>\n",
       "      <td>zimmebr01</td>\n",
       "      <td>Bradley Zimmer</td>\n",
       "      <td>CLE</td>\n",
       "      <td>TEX</td>\n",
       "      <td>4</td>\n",
       "      <td>4</td>\n",
       "      <td>1</td>\n",
       "      <td>2</td>\n",
       "      <td>0</td>\n",
       "      <td>0</td>\n",
       "      <td>0</td>\n",
       "      <td>1</td>\n",
       "      <td>0</td>\n",
       "      <td>0</td>\n",
       "      <td>0</td>\n",
       "      <td>0</td>\n",
       "      <td>0</td>\n",
       "      <td>W</td>\n",
       "      <td>2021</td>\n",
       "    </tr>\n",
       "    <tr>\n",
       "      <th>3715520</th>\n",
       "      <td>zimmery01</td>\n",
       "      <td>Ryan Zimmerman</td>\n",
       "      <td>WSN</td>\n",
       "      <td>BOS</td>\n",
       "      <td>4</td>\n",
       "      <td>3</td>\n",
       "      <td>0</td>\n",
       "      <td>0</td>\n",
       "      <td>0</td>\n",
       "      <td>0</td>\n",
       "      <td>0</td>\n",
       "      <td>1</td>\n",
       "      <td>1</td>\n",
       "      <td>2</td>\n",
       "      <td>0</td>\n",
       "      <td>0</td>\n",
       "      <td>0</td>\n",
       "      <td>L</td>\n",
       "      <td>2021</td>\n",
       "    </tr>\n",
       "    <tr>\n",
       "      <th>3715521</th>\n",
       "      <td>zuninmi01</td>\n",
       "      <td>Mike Zunino</td>\n",
       "      <td>TBR</td>\n",
       "      <td>NYY</td>\n",
       "      <td>4</td>\n",
       "      <td>4</td>\n",
       "      <td>0</td>\n",
       "      <td>0</td>\n",
       "      <td>0</td>\n",
       "      <td>0</td>\n",
       "      <td>0</td>\n",
       "      <td>0</td>\n",
       "      <td>0</td>\n",
       "      <td>1</td>\n",
       "      <td>0</td>\n",
       "      <td>0</td>\n",
       "      <td>0</td>\n",
       "      <td>L</td>\n",
       "      <td>2021</td>\n",
       "    </tr>\n",
       "  </tbody>\n",
       "</table>\n",
       "<p>3715522 rows × 19 columns</p>\n",
       "</div>"
      ],
      "text/plain": [
       "                ID            Player   Tm  Opp  PA  AB  R  H  2B  3B  HR  RBI  \\\n",
       "0        delahed01      Ed Delahanty  PHI  BRO   5   4  1  2   0   0   0    0   \n",
       "1        dolanjo02         Joe Dolan  PHI  BRO   5   5  0  1   0   0   0    1   \n",
       "2        childcu01      Cupid Childs  CHC  STL   5   5  1  1   0   0   0    0   \n",
       "3        crolifr01      Fred Crolius  BSN  NYG   4   4  0  0   0   0   0    1   \n",
       "4        delahed01      Ed Delahanty  PHI  BRO   4   4  0  0   0   0   0    0   \n",
       "...            ...               ...  ...  ...  ..  .. .. ..  ..  ..  ..  ...   \n",
       "3715517  woodfja01     Jake Woodford  STL  CHC   2   1  0  0   0   0   0    0   \n",
       "3715518  yastrmi01  Mike Yastrzemski  SFG  SDP   4   3  1  1   1   0   0    2   \n",
       "3715519  zimmebr01    Bradley Zimmer  CLE  TEX   4   4  1  2   0   0   0    1   \n",
       "3715520  zimmery01    Ryan Zimmerman  WSN  BOS   4   3  0  0   0   0   0    1   \n",
       "3715521  zuninmi01       Mike Zunino  TBR  NYY   4   4  0  0   0   0   0    0   \n",
       "\n",
       "         BB  SO  HBP  SH  SF Result  Season  \n",
       "0         1   0    0   0   0      L    1901  \n",
       "1         0   0    0   0   0      L    1901  \n",
       "2         0   0    0   0   0      W    1901  \n",
       "3         0   0    0   0   0      W    1901  \n",
       "4         0   2    0   0   0      L    1901  \n",
       "...      ..  ..  ...  ..  ..    ...     ...  \n",
       "3715517   0   0    0   1   0      L    2021  \n",
       "3715518   1   1    0   0   0      W    2021  \n",
       "3715519   0   0    0   0   0      W    2021  \n",
       "3715520   1   2    0   0   0      L    2021  \n",
       "3715521   0   1    0   0   0      L    2021  \n",
       "\n",
       "[3715522 rows x 19 columns]"
      ]
     },
     "execution_count": 2,
     "metadata": {},
     "output_type": "execute_result"
    }
   ],
   "source": [
    "core_mlb_dataset = \"./data/core_mlb_dataset.csv\"\n",
    "df = pd.read_csv(core_mlb_dataset)\n",
    "df"
   ]
  },
  {
   "cell_type": "code",
   "execution_count": 3,
   "id": "bcb73226",
   "metadata": {},
   "outputs": [
    {
     "data": {
      "text/html": [
       "<div>\n",
       "<style scoped>\n",
       "    .dataframe tbody tr th:only-of-type {\n",
       "        vertical-align: middle;\n",
       "    }\n",
       "\n",
       "    .dataframe tbody tr th {\n",
       "        vertical-align: top;\n",
       "    }\n",
       "\n",
       "    .dataframe thead th {\n",
       "        text-align: right;\n",
       "    }\n",
       "</style>\n",
       "<table border=\"1\" class=\"dataframe\">\n",
       "  <thead>\n",
       "    <tr style=\"text-align: right;\">\n",
       "      <th></th>\n",
       "      <th>ID</th>\n",
       "      <th>Inductee</th>\n",
       "    </tr>\n",
       "  </thead>\n",
       "  <tbody>\n",
       "    <tr>\n",
       "      <th>0</th>\n",
       "      <td>hodgegi01</td>\n",
       "      <td>1</td>\n",
       "    </tr>\n",
       "    <tr>\n",
       "      <th>1</th>\n",
       "      <td>kaatji01</td>\n",
       "      <td>1</td>\n",
       "    </tr>\n",
       "    <tr>\n",
       "      <th>2</th>\n",
       "      <td>minosmi01</td>\n",
       "      <td>1</td>\n",
       "    </tr>\n",
       "    <tr>\n",
       "      <th>3</th>\n",
       "      <td>olivato01</td>\n",
       "      <td>1</td>\n",
       "    </tr>\n",
       "    <tr>\n",
       "      <th>4</th>\n",
       "      <td>ortizda01</td>\n",
       "      <td>1</td>\n",
       "    </tr>\n",
       "    <tr>\n",
       "      <th>...</th>\n",
       "      <td>...</td>\n",
       "      <td>...</td>\n",
       "    </tr>\n",
       "    <tr>\n",
       "      <th>263</th>\n",
       "      <td>cobbty01</td>\n",
       "      <td>1</td>\n",
       "    </tr>\n",
       "    <tr>\n",
       "      <th>264</th>\n",
       "      <td>johnswa01</td>\n",
       "      <td>1</td>\n",
       "    </tr>\n",
       "    <tr>\n",
       "      <th>265</th>\n",
       "      <td>mathech01</td>\n",
       "      <td>1</td>\n",
       "    </tr>\n",
       "    <tr>\n",
       "      <th>266</th>\n",
       "      <td>ruthba01</td>\n",
       "      <td>1</td>\n",
       "    </tr>\n",
       "    <tr>\n",
       "      <th>267</th>\n",
       "      <td>wagneho01</td>\n",
       "      <td>1</td>\n",
       "    </tr>\n",
       "  </tbody>\n",
       "</table>\n",
       "<p>268 rows × 2 columns</p>\n",
       "</div>"
      ],
      "text/plain": [
       "            ID  Inductee\n",
       "0    hodgegi01         1\n",
       "1     kaatji01         1\n",
       "2    minosmi01         1\n",
       "3    olivato01         1\n",
       "4    ortizda01         1\n",
       "..         ...       ...\n",
       "263   cobbty01         1\n",
       "264  johnswa01         1\n",
       "265  mathech01         1\n",
       "266   ruthba01         1\n",
       "267  wagneho01         1\n",
       "\n",
       "[268 rows x 2 columns]"
      ]
     },
     "execution_count": 3,
     "metadata": {},
     "output_type": "execute_result"
    }
   ],
   "source": [
    "hof_dataset = \"./data/hof_dataset.csv\"\n",
    "hof = pd.read_csv(hof_dataset)\n",
    "hof"
   ]
  },
  {
   "cell_type": "markdown",
   "id": "5fbf4620",
   "metadata": {},
   "source": [
    "## Preprocessing (Continued from the Step 1 Notebook)"
   ]
  },
  {
   "cell_type": "markdown",
   "id": "961dce00",
   "metadata": {},
   "source": [
    "### The Hall of Fame Approach"
   ]
  },
  {
   "cell_type": "markdown",
   "id": "5aee68ed",
   "metadata": {},
   "source": [
    "First, a statement of the approach here, with Hall of Fame induction data.\n",
    "\n",
    "The overarching goal is to use Major League Baseball data to predict batting success.\n",
    "\n",
    "One consideration as a measure of success is a batter's induction into the Major League Baseball Hall of Fame. With the batting data available, it seems like an interesting approach and problem to atttempt to predict batting success based on induction into the Hall of Fame. (**Note:** There are many issues with this approach, which will be explored in more depth within the Step 3 Notebook, as well as the written report.)"
   ]
  },
  {
   "cell_type": "markdown",
   "id": "ac9edb39",
   "metadata": {},
   "source": [
    "For Step 3's Notebook, the goal will be to look at a baseball player's career batting data and predict whether or not that player is in the Hall of Fame.\n",
    "\n",
    "**Note:** In the case that the player is not yet eligible for induction into the Hall of Fame (because they are currently playing or recently active) the prediction would represent the strong possibility that they would be inducted in the future once."
   ]
  },
  {
   "cell_type": "markdown",
   "id": "26233a06",
   "metadata": {},
   "source": [
    "In order to prepare the data for this approach, we will to do the following:\n",
    "1.  Arbitrarily split the data, based on the year 2000.\n",
    "2.  Generate career batting statistics for both sets of player data.\n",
    "3.  Label the career batting data with the Hall of Fame induction information."
   ]
  },
  {
   "cell_type": "markdown",
   "id": "a516b449",
   "metadata": {},
   "source": [
    "The end result will be a two dataframes containing features and label for:\n",
    "- players whose career began before 2000\n",
    "- players whose career began during or after 2000\n",
    "\n",
    "These will be stored and used in the Step 3 Notebook work. "
   ]
  },
  {
   "cell_type": "markdown",
   "id": "894c34d9",
   "metadata": {},
   "source": [
    "### Splitting the Data by 2000"
   ]
  },
  {
   "cell_type": "code",
   "execution_count": null,
   "id": "61b00c49",
   "metadata": {},
   "outputs": [],
   "source": []
  },
  {
   "cell_type": "code",
   "execution_count": null,
   "id": "8c2e58a2",
   "metadata": {},
   "outputs": [],
   "source": []
  },
  {
   "cell_type": "code",
   "execution_count": null,
   "id": "c7874592",
   "metadata": {},
   "outputs": [],
   "source": []
  },
  {
   "cell_type": "code",
   "execution_count": null,
   "id": "4b81a432",
   "metadata": {},
   "outputs": [],
   "source": []
  },
  {
   "cell_type": "code",
   "execution_count": null,
   "id": "3cc48a68",
   "metadata": {},
   "outputs": [],
   "source": []
  },
  {
   "cell_type": "code",
   "execution_count": null,
   "id": "b8f5e03f",
   "metadata": {},
   "outputs": [],
   "source": []
  },
  {
   "cell_type": "markdown",
   "id": "ad69030d",
   "metadata": {},
   "source": [
    "## Concluding Notebook Comments"
   ]
  },
  {
   "cell_type": "markdown",
   "id": "3e7cead6",
   "metadata": {},
   "source": [
    "**Note:** At this point, we will conclude this notebook for organizational purposes, as it is a logical point for saving and launching into the following experimentation and modelling based on the data prepared here.\n",
    "\n",
    "Saving the data files in various states makes it easier to re-run parts of the overall project without having to re-run every aspect."
   ]
  },
  {
   "cell_type": "markdown",
   "id": "5be70f4b",
   "metadata": {},
   "source": [
    "The purpose of this notebook is to continue on with the data preparation started in step 1, by structuring and splitting up the data to the state where the experiments and modelling will be conducted."
   ]
  },
  {
   "cell_type": "markdown",
   "id": "539e7c7f",
   "metadata": {},
   "source": [
    "The *next* notebook in the series is: `harr2890_project_step3_hof_modelling`, where the saved, data files will be loaded and ......   XXXXXX  TODO"
   ]
  }
 ],
 "metadata": {
  "kernelspec": {
   "display_name": "Python 3 (ipykernel)",
   "language": "python",
   "name": "python3"
  },
  "language_info": {
   "codemirror_mode": {
    "name": "ipython",
    "version": 3
   },
   "file_extension": ".py",
   "mimetype": "text/x-python",
   "name": "python",
   "nbconvert_exporter": "python",
   "pygments_lexer": "ipython3",
   "version": "3.9.13"
  }
 },
 "nbformat": 4,
 "nbformat_minor": 5
}
