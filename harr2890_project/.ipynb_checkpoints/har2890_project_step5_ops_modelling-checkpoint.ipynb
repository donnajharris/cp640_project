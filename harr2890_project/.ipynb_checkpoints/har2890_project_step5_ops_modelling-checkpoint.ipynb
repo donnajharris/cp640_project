{
 "cells": [
  {
   "cell_type": "markdown",
   "id": "aeff13b0",
   "metadata": {},
   "source": [
    "# Using Historical Data to Predict Batting Success: Step 5 - OPS Modelling"
   ]
  },
  {
   "cell_type": "markdown",
   "id": "0745ff8b",
   "metadata": {},
   "source": [
    "Authored by: Donna J. Harris (994042890)\n",
    "\n",
    "Email: harr2890@mylaurier.ca\n",
    "\n",
    "For: CP640 Machine Learning (S22) with Professor Elham Harirpoush"
   ]
  },
  {
   "cell_type": "markdown",
   "id": "0cd0057d",
   "metadata": {},
   "source": [
    "## Notebook Series"
   ]
  },
  {
   "cell_type": "markdown",
   "id": "73a469b9",
   "metadata": {},
   "source": [
    "Just a word about the presentation of this project code.\n",
    "\n",
    "The code is organized into a series of locally executed Jupyter notebooks, organized by step and needing to be executed in sequence. This is `harr2890_project_step5_ops_modelling`, the fifth of XXXXX notebooks.  TODO"
   ]
  },
  {
   "cell_type": "markdown",
   "id": "943711d9",
   "metadata": {},
   "source": [
    "## *Step 5 - Exploration and Modelling for an OPS Approach*"
   ]
  },
  {
   "cell_type": "markdown",
   "id": "c7d6c06a",
   "metadata": {},
   "source": [
    "word words word TODO\n"
   ]
  },
  {
   "cell_type": "markdown",
   "id": "596f3efd",
   "metadata": {},
   "source": [
    "## Environment Setup"
   ]
  },
  {
   "cell_type": "markdown",
   "id": "bb745bba",
   "metadata": {},
   "source": [
    "Import and establish environment for our work, including showing all dataframe column values."
   ]
  },
  {
   "cell_type": "code",
   "execution_count": 1,
   "id": "2fcc499a",
   "metadata": {},
   "outputs": [],
   "source": [
    "import pandas as pd\n",
    "import numpy as np\n",
    "\n",
    "pd.set_option('display.max_columns', None)"
   ]
  },
  {
   "cell_type": "markdown",
   "id": "99a32128",
   "metadata": {},
   "source": [
    "### Pre-Conditions"
   ]
  },
  {
   "cell_type": "markdown",
   "id": "d40487b6",
   "metadata": {},
   "source": [
    "Steps 1 and 4 must be run completely before running this notebook.\n",
    "\n",
    "The `data` folder must exist with the following prepared data files:\n",
    "- `./data/step4_alldata.csv`\n",
    "- `./data/step4_pre_2000.csv`\n",
    "- `./data/step4_from_2000.csv`"
   ]
  },
  {
   "cell_type": "markdown",
   "id": "dd2a8c98",
   "metadata": {},
   "source": [
    "##  Loading Prepared Data Files"
   ]
  },
  {
   "cell_type": "code",
   "execution_count": 2,
   "id": "28423f09",
   "metadata": {},
   "outputs": [
    {
     "data": {
      "text/html": [
       "<div>\n",
       "<style scoped>\n",
       "    .dataframe tbody tr th:only-of-type {\n",
       "        vertical-align: middle;\n",
       "    }\n",
       "\n",
       "    .dataframe tbody tr th {\n",
       "        vertical-align: top;\n",
       "    }\n",
       "\n",
       "    .dataframe thead th {\n",
       "        text-align: right;\n",
       "    }\n",
       "</style>\n",
       "<table border=\"1\" class=\"dataframe\">\n",
       "  <thead>\n",
       "    <tr style=\"text-align: right;\">\n",
       "      <th></th>\n",
       "      <th>ID</th>\n",
       "      <th>Player</th>\n",
       "      <th>PA</th>\n",
       "      <th>AB</th>\n",
       "      <th>R</th>\n",
       "      <th>H</th>\n",
       "      <th>2B</th>\n",
       "      <th>3B</th>\n",
       "      <th>HR</th>\n",
       "      <th>RBI</th>\n",
       "      <th>BB</th>\n",
       "      <th>SO</th>\n",
       "      <th>HBP</th>\n",
       "      <th>SH</th>\n",
       "      <th>SF</th>\n",
       "      <th>Number of Seasons</th>\n",
       "      <th>Career AVG</th>\n",
       "      <th>Career SLG</th>\n",
       "      <th>Career OBP</th>\n",
       "      <th>Career OPS</th>\n",
       "      <th>OPS Y1</th>\n",
       "      <th>OPS Y2</th>\n",
       "      <th>OPS Y3</th>\n",
       "      <th>OPS Y4</th>\n",
       "      <th>OPS Y5</th>\n",
       "      <th>OPS Y6</th>\n",
       "      <th>OPS Y7</th>\n",
       "      <th>OPS Y8</th>\n",
       "      <th>OPS Y9</th>\n",
       "      <th>OPS Y10</th>\n",
       "      <th>AVG Y1</th>\n",
       "      <th>AVG Y2</th>\n",
       "      <th>AVG Y3</th>\n",
       "      <th>AVG Y4</th>\n",
       "      <th>AVG Y5</th>\n",
       "      <th>AVG Y6</th>\n",
       "      <th>AVG Y7</th>\n",
       "      <th>AVG Y8</th>\n",
       "      <th>AVG Y9</th>\n",
       "      <th>AVG Y10</th>\n",
       "    </tr>\n",
       "  </thead>\n",
       "  <tbody>\n",
       "    <tr>\n",
       "      <th>0</th>\n",
       "      <td>willeed01</td>\n",
       "      <td>Ed Willett</td>\n",
       "      <td>704</td>\n",
       "      <td>649</td>\n",
       "      <td>56</td>\n",
       "      <td>129</td>\n",
       "      <td>25</td>\n",
       "      <td>10</td>\n",
       "      <td>5</td>\n",
       "      <td>68</td>\n",
       "      <td>25</td>\n",
       "      <td>174</td>\n",
       "      <td>6</td>\n",
       "      <td>24</td>\n",
       "      <td>0</td>\n",
       "      <td>10</td>\n",
       "      <td>0.198767</td>\n",
       "      <td>0.291217</td>\n",
       "      <td>0.235294</td>\n",
       "      <td>0.526511</td>\n",
       "      <td>0.000000</td>\n",
       "      <td>0.219780</td>\n",
       "      <td>0.367510</td>\n",
       "      <td>0.496266</td>\n",
       "      <td>0.379030</td>\n",
       "      <td>0.774655</td>\n",
       "      <td>0.456006</td>\n",
       "      <td>0.692935</td>\n",
       "      <td>0.621154</td>\n",
       "      <td>0.533333</td>\n",
       "      <td>0.000000</td>\n",
       "      <td>0.076923</td>\n",
       "      <td>0.164179</td>\n",
       "      <td>0.190909</td>\n",
       "      <td>0.134146</td>\n",
       "      <td>0.268293</td>\n",
       "      <td>0.165217</td>\n",
       "      <td>0.282609</td>\n",
       "      <td>0.234375</td>\n",
       "      <td>0.200000</td>\n",
       "    </tr>\n",
       "    <tr>\n",
       "      <th>1</th>\n",
       "      <td>daussho01</td>\n",
       "      <td>Hooks Dauss</td>\n",
       "      <td>1324</td>\n",
       "      <td>1125</td>\n",
       "      <td>107</td>\n",
       "      <td>212</td>\n",
       "      <td>41</td>\n",
       "      <td>15</td>\n",
       "      <td>6</td>\n",
       "      <td>112</td>\n",
       "      <td>145</td>\n",
       "      <td>288</td>\n",
       "      <td>8</td>\n",
       "      <td>41</td>\n",
       "      <td>0</td>\n",
       "      <td>15</td>\n",
       "      <td>0.188444</td>\n",
       "      <td>0.267556</td>\n",
       "      <td>0.285603</td>\n",
       "      <td>0.553158</td>\n",
       "      <td>1.000000</td>\n",
       "      <td>0.560802</td>\n",
       "      <td>0.578379</td>\n",
       "      <td>0.470550</td>\n",
       "      <td>0.731898</td>\n",
       "      <td>0.400920</td>\n",
       "      <td>0.559740</td>\n",
       "      <td>0.379742</td>\n",
       "      <td>0.542872</td>\n",
       "      <td>0.634387</td>\n",
       "      <td>0.250000</td>\n",
       "      <td>0.177215</td>\n",
       "      <td>0.216495</td>\n",
       "      <td>0.145631</td>\n",
       "      <td>0.222222</td>\n",
       "      <td>0.126437</td>\n",
       "      <td>0.181818</td>\n",
       "      <td>0.144330</td>\n",
       "      <td>0.170732</td>\n",
       "      <td>0.261364</td>\n",
       "    </tr>\n",
       "    <tr>\n",
       "      <th>2</th>\n",
       "      <td>coopewi01</td>\n",
       "      <td>Wilbur Cooper</td>\n",
       "      <td>1320</td>\n",
       "      <td>1232</td>\n",
       "      <td>111</td>\n",
       "      <td>295</td>\n",
       "      <td>34</td>\n",
       "      <td>18</td>\n",
       "      <td>6</td>\n",
       "      <td>103</td>\n",
       "      <td>46</td>\n",
       "      <td>139</td>\n",
       "      <td>4</td>\n",
       "      <td>35</td>\n",
       "      <td>0</td>\n",
       "      <td>15</td>\n",
       "      <td>0.239448</td>\n",
       "      <td>0.310877</td>\n",
       "      <td>0.269111</td>\n",
       "      <td>0.579987</td>\n",
       "      <td>0.368132</td>\n",
       "      <td>0.219780</td>\n",
       "      <td>0.462535</td>\n",
       "      <td>0.260180</td>\n",
       "      <td>0.455696</td>\n",
       "      <td>0.519551</td>\n",
       "      <td>0.591622</td>\n",
       "      <td>0.679654</td>\n",
       "      <td>0.537423</td>\n",
       "      <td>0.611333</td>\n",
       "      <td>0.153846</td>\n",
       "      <td>0.076923</td>\n",
       "      <td>0.206522</td>\n",
       "      <td>0.114754</td>\n",
       "      <td>0.215190</td>\n",
       "      <td>0.203883</td>\n",
       "      <td>0.242105</td>\n",
       "      <td>0.295238</td>\n",
       "      <td>0.221239</td>\n",
       "      <td>0.254098</td>\n",
       "    </tr>\n",
       "    <tr>\n",
       "      <th>3</th>\n",
       "      <td>mamaual01</td>\n",
       "      <td>Al Mamaux</td>\n",
       "      <td>466</td>\n",
       "      <td>421</td>\n",
       "      <td>39</td>\n",
       "      <td>77</td>\n",
       "      <td>12</td>\n",
       "      <td>2</td>\n",
       "      <td>1</td>\n",
       "      <td>31</td>\n",
       "      <td>27</td>\n",
       "      <td>90</td>\n",
       "      <td>3</td>\n",
       "      <td>12</td>\n",
       "      <td>0</td>\n",
       "      <td>12</td>\n",
       "      <td>0.182898</td>\n",
       "      <td>0.228029</td>\n",
       "      <td>0.237251</td>\n",
       "      <td>0.465279</td>\n",
       "      <td>0.000000</td>\n",
       "      <td>0.550000</td>\n",
       "      <td>0.363387</td>\n",
       "      <td>0.473844</td>\n",
       "      <td>0.475806</td>\n",
       "      <td>0.000000</td>\n",
       "      <td>0.479365</td>\n",
       "      <td>0.464706</td>\n",
       "      <td>0.431818</td>\n",
       "      <td>0.991071</td>\n",
       "      <td>0.000000</td>\n",
       "      <td>0.250000</td>\n",
       "      <td>0.163043</td>\n",
       "      <td>0.190909</td>\n",
       "      <td>0.225806</td>\n",
       "      <td>0.000000</td>\n",
       "      <td>0.174603</td>\n",
       "      <td>0.166667</td>\n",
       "      <td>0.181818</td>\n",
       "      <td>0.250000</td>\n",
       "    </tr>\n",
       "    <tr>\n",
       "      <th>4</th>\n",
       "      <td>ruthba01</td>\n",
       "      <td>Babe Ruth</td>\n",
       "      <td>10624</td>\n",
       "      <td>8400</td>\n",
       "      <td>2173</td>\n",
       "      <td>2872</td>\n",
       "      <td>506</td>\n",
       "      <td>137</td>\n",
       "      <td>714</td>\n",
       "      <td>2215</td>\n",
       "      <td>2063</td>\n",
       "      <td>1331</td>\n",
       "      <td>45</td>\n",
       "      <td>45</td>\n",
       "      <td>0</td>\n",
       "      <td>22</td>\n",
       "      <td>0.341905</td>\n",
       "      <td>0.689762</td>\n",
       "      <td>0.473925</td>\n",
       "      <td>1.163687</td>\n",
       "      <td>0.500000</td>\n",
       "      <td>0.952325</td>\n",
       "      <td>0.730611</td>\n",
       "      <td>0.856730</td>\n",
       "      <td>0.967903</td>\n",
       "      <td>1.114268</td>\n",
       "      <td>1.379841</td>\n",
       "      <td>1.355617</td>\n",
       "      <td>1.103689</td>\n",
       "      <td>1.313417</td>\n",
       "      <td>0.200000</td>\n",
       "      <td>0.315217</td>\n",
       "      <td>0.268116</td>\n",
       "      <td>0.325203</td>\n",
       "      <td>0.299685</td>\n",
       "      <td>0.319444</td>\n",
       "      <td>0.375546</td>\n",
       "      <td>0.377079</td>\n",
       "      <td>0.314496</td>\n",
       "      <td>0.394231</td>\n",
       "    </tr>\n",
       "    <tr>\n",
       "      <th>...</th>\n",
       "      <td>...</td>\n",
       "      <td>...</td>\n",
       "      <td>...</td>\n",
       "      <td>...</td>\n",
       "      <td>...</td>\n",
       "      <td>...</td>\n",
       "      <td>...</td>\n",
       "      <td>...</td>\n",
       "      <td>...</td>\n",
       "      <td>...</td>\n",
       "      <td>...</td>\n",
       "      <td>...</td>\n",
       "      <td>...</td>\n",
       "      <td>...</td>\n",
       "      <td>...</td>\n",
       "      <td>...</td>\n",
       "      <td>...</td>\n",
       "      <td>...</td>\n",
       "      <td>...</td>\n",
       "      <td>...</td>\n",
       "      <td>...</td>\n",
       "      <td>...</td>\n",
       "      <td>...</td>\n",
       "      <td>...</td>\n",
       "      <td>...</td>\n",
       "      <td>...</td>\n",
       "      <td>...</td>\n",
       "      <td>...</td>\n",
       "      <td>...</td>\n",
       "      <td>...</td>\n",
       "      <td>...</td>\n",
       "      <td>...</td>\n",
       "      <td>...</td>\n",
       "      <td>...</td>\n",
       "      <td>...</td>\n",
       "      <td>...</td>\n",
       "      <td>...</td>\n",
       "      <td>...</td>\n",
       "      <td>...</td>\n",
       "      <td>...</td>\n",
       "    </tr>\n",
       "    <tr>\n",
       "      <th>2394</th>\n",
       "      <td>perezhe01</td>\n",
       "      <td>Hernan Perez</td>\n",
       "      <td>1846</td>\n",
       "      <td>1745</td>\n",
       "      <td>188</td>\n",
       "      <td>436</td>\n",
       "      <td>74</td>\n",
       "      <td>11</td>\n",
       "      <td>45</td>\n",
       "      <td>180</td>\n",
       "      <td>76</td>\n",
       "      <td>397</td>\n",
       "      <td>1</td>\n",
       "      <td>12</td>\n",
       "      <td>12</td>\n",
       "      <td>10</td>\n",
       "      <td>0.249857</td>\n",
       "      <td>0.382235</td>\n",
       "      <td>0.279716</td>\n",
       "      <td>0.661951</td>\n",
       "      <td>1.000000</td>\n",
       "      <td>0.444664</td>\n",
       "      <td>0.533333</td>\n",
       "      <td>0.583502</td>\n",
       "      <td>0.730326</td>\n",
       "      <td>0.703826</td>\n",
       "      <td>0.676495</td>\n",
       "      <td>0.641605</td>\n",
       "      <td>0.333333</td>\n",
       "      <td>0.195489</td>\n",
       "      <td>0.500000</td>\n",
       "      <td>0.196970</td>\n",
       "      <td>0.200000</td>\n",
       "      <td>0.243346</td>\n",
       "      <td>0.272277</td>\n",
       "      <td>0.259259</td>\n",
       "      <td>0.253165</td>\n",
       "      <td>0.228448</td>\n",
       "      <td>0.166667</td>\n",
       "      <td>0.052632</td>\n",
       "    </tr>\n",
       "    <tr>\n",
       "      <th>2395</th>\n",
       "      <td>gomesya01</td>\n",
       "      <td>Yan Gomes</td>\n",
       "      <td>3274</td>\n",
       "      <td>3006</td>\n",
       "      <td>369</td>\n",
       "      <td>742</td>\n",
       "      <td>158</td>\n",
       "      <td>8</td>\n",
       "      <td>117</td>\n",
       "      <td>416</td>\n",
       "      <td>185</td>\n",
       "      <td>794</td>\n",
       "      <td>50</td>\n",
       "      <td>2</td>\n",
       "      <td>31</td>\n",
       "      <td>10</td>\n",
       "      <td>0.246840</td>\n",
       "      <td>0.421490</td>\n",
       "      <td>0.298594</td>\n",
       "      <td>0.720084</td>\n",
       "      <td>0.630983</td>\n",
       "      <td>0.825949</td>\n",
       "      <td>0.784906</td>\n",
       "      <td>0.658537</td>\n",
       "      <td>0.527451</td>\n",
       "      <td>0.707728</td>\n",
       "      <td>0.761775</td>\n",
       "      <td>0.704177</td>\n",
       "      <td>0.787218</td>\n",
       "      <td>0.722537</td>\n",
       "      <td>0.204082</td>\n",
       "      <td>0.293515</td>\n",
       "      <td>0.278351</td>\n",
       "      <td>0.231405</td>\n",
       "      <td>0.167331</td>\n",
       "      <td>0.231672</td>\n",
       "      <td>0.265509</td>\n",
       "      <td>0.222930</td>\n",
       "      <td>0.284404</td>\n",
       "      <td>0.252149</td>\n",
       "    </tr>\n",
       "    <tr>\n",
       "      <th>2396</th>\n",
       "      <td>simmoan01</td>\n",
       "      <td>Andrelton Simmons</td>\n",
       "      <td>4731</td>\n",
       "      <td>4366</td>\n",
       "      <td>493</td>\n",
       "      <td>1156</td>\n",
       "      <td>200</td>\n",
       "      <td>23</td>\n",
       "      <td>70</td>\n",
       "      <td>437</td>\n",
       "      <td>297</td>\n",
       "      <td>448</td>\n",
       "      <td>26</td>\n",
       "      <td>13</td>\n",
       "      <td>29</td>\n",
       "      <td>10</td>\n",
       "      <td>0.264773</td>\n",
       "      <td>0.369217</td>\n",
       "      <td>0.313480</td>\n",
       "      <td>0.682697</td>\n",
       "      <td>0.750827</td>\n",
       "      <td>0.691599</td>\n",
       "      <td>0.617196</td>\n",
       "      <td>0.659624</td>\n",
       "      <td>0.689723</td>\n",
       "      <td>0.751810</td>\n",
       "      <td>0.754196</td>\n",
       "      <td>0.673284</td>\n",
       "      <td>0.702389</td>\n",
       "      <td>0.557754</td>\n",
       "      <td>0.289157</td>\n",
       "      <td>0.247525</td>\n",
       "      <td>0.244444</td>\n",
       "      <td>0.265421</td>\n",
       "      <td>0.281250</td>\n",
       "      <td>0.278438</td>\n",
       "      <td>0.292419</td>\n",
       "      <td>0.263819</td>\n",
       "      <td>0.296610</td>\n",
       "      <td>0.223301</td>\n",
       "    </tr>\n",
       "    <tr>\n",
       "      <th>2397</th>\n",
       "      <td>mercejo03</td>\n",
       "      <td>Jordy Mercer</td>\n",
       "      <td>3416</td>\n",
       "      <td>3104</td>\n",
       "      <td>327</td>\n",
       "      <td>796</td>\n",
       "      <td>173</td>\n",
       "      <td>15</td>\n",
       "      <td>66</td>\n",
       "      <td>308</td>\n",
       "      <td>246</td>\n",
       "      <td>589</td>\n",
       "      <td>27</td>\n",
       "      <td>22</td>\n",
       "      <td>17</td>\n",
       "      <td>10</td>\n",
       "      <td>0.256443</td>\n",
       "      <td>0.385631</td>\n",
       "      <td>0.314968</td>\n",
       "      <td>0.700599</td>\n",
       "      <td>0.635674</td>\n",
       "      <td>0.771547</td>\n",
       "      <td>0.692806</td>\n",
       "      <td>0.613224</td>\n",
       "      <td>0.701352</td>\n",
       "      <td>0.732539</td>\n",
       "      <td>0.695653</td>\n",
       "      <td>0.747463</td>\n",
       "      <td>0.472727</td>\n",
       "      <td>0.671493</td>\n",
       "      <td>0.209677</td>\n",
       "      <td>0.285285</td>\n",
       "      <td>0.254941</td>\n",
       "      <td>0.243655</td>\n",
       "      <td>0.256262</td>\n",
       "      <td>0.254980</td>\n",
       "      <td>0.251269</td>\n",
       "      <td>0.269531</td>\n",
       "      <td>0.200000</td>\n",
       "      <td>0.254237</td>\n",
       "    </tr>\n",
       "    <tr>\n",
       "      <th>2398</th>\n",
       "      <td>grandya01</td>\n",
       "      <td>Yasmani Grandal</td>\n",
       "      <td>3861</td>\n",
       "      <td>3233</td>\n",
       "      <td>461</td>\n",
       "      <td>777</td>\n",
       "      <td>152</td>\n",
       "      <td>7</td>\n",
       "      <td>172</td>\n",
       "      <td>505</td>\n",
       "      <td>574</td>\n",
       "      <td>913</td>\n",
       "      <td>20</td>\n",
       "      <td>3</td>\n",
       "      <td>31</td>\n",
       "      <td>10</td>\n",
       "      <td>0.240334</td>\n",
       "      <td>0.451284</td>\n",
       "      <td>0.355365</td>\n",
       "      <td>0.806649</td>\n",
       "      <td>0.862555</td>\n",
       "      <td>0.692761</td>\n",
       "      <td>0.727844</td>\n",
       "      <td>0.755758</td>\n",
       "      <td>0.816092</td>\n",
       "      <td>0.766596</td>\n",
       "      <td>0.815330</td>\n",
       "      <td>0.847583</td>\n",
       "      <td>0.772876</td>\n",
       "      <td>0.939499</td>\n",
       "      <td>0.296875</td>\n",
       "      <td>0.215909</td>\n",
       "      <td>0.225464</td>\n",
       "      <td>0.233803</td>\n",
       "      <td>0.228205</td>\n",
       "      <td>0.246575</td>\n",
       "      <td>0.240909</td>\n",
       "      <td>0.245614</td>\n",
       "      <td>0.229814</td>\n",
       "      <td>0.240143</td>\n",
       "    </tr>\n",
       "  </tbody>\n",
       "</table>\n",
       "<p>2399 rows × 40 columns</p>\n",
       "</div>"
      ],
      "text/plain": [
       "             ID             Player     PA    AB     R     H   2B   3B   HR  \\\n",
       "0     willeed01         Ed Willett    704   649    56   129   25   10    5   \n",
       "1     daussho01        Hooks Dauss   1324  1125   107   212   41   15    6   \n",
       "2     coopewi01      Wilbur Cooper   1320  1232   111   295   34   18    6   \n",
       "3     mamaual01          Al Mamaux    466   421    39    77   12    2    1   \n",
       "4      ruthba01          Babe Ruth  10624  8400  2173  2872  506  137  714   \n",
       "...         ...                ...    ...   ...   ...   ...  ...  ...  ...   \n",
       "2394  perezhe01       Hernan Perez   1846  1745   188   436   74   11   45   \n",
       "2395  gomesya01          Yan Gomes   3274  3006   369   742  158    8  117   \n",
       "2396  simmoan01  Andrelton Simmons   4731  4366   493  1156  200   23   70   \n",
       "2397  mercejo03       Jordy Mercer   3416  3104   327   796  173   15   66   \n",
       "2398  grandya01    Yasmani Grandal   3861  3233   461   777  152    7  172   \n",
       "\n",
       "       RBI    BB    SO  HBP  SH  SF  Number of Seasons  Career AVG  \\\n",
       "0       68    25   174    6  24   0                 10    0.198767   \n",
       "1      112   145   288    8  41   0                 15    0.188444   \n",
       "2      103    46   139    4  35   0                 15    0.239448   \n",
       "3       31    27    90    3  12   0                 12    0.182898   \n",
       "4     2215  2063  1331   45  45   0                 22    0.341905   \n",
       "...    ...   ...   ...  ...  ..  ..                ...         ...   \n",
       "2394   180    76   397    1  12  12                 10    0.249857   \n",
       "2395   416   185   794   50   2  31                 10    0.246840   \n",
       "2396   437   297   448   26  13  29                 10    0.264773   \n",
       "2397   308   246   589   27  22  17                 10    0.256443   \n",
       "2398   505   574   913   20   3  31                 10    0.240334   \n",
       "\n",
       "      Career SLG  Career OBP  Career OPS    OPS Y1    OPS Y2    OPS Y3  \\\n",
       "0       0.291217    0.235294    0.526511  0.000000  0.219780  0.367510   \n",
       "1       0.267556    0.285603    0.553158  1.000000  0.560802  0.578379   \n",
       "2       0.310877    0.269111    0.579987  0.368132  0.219780  0.462535   \n",
       "3       0.228029    0.237251    0.465279  0.000000  0.550000  0.363387   \n",
       "4       0.689762    0.473925    1.163687  0.500000  0.952325  0.730611   \n",
       "...          ...         ...         ...       ...       ...       ...   \n",
       "2394    0.382235    0.279716    0.661951  1.000000  0.444664  0.533333   \n",
       "2395    0.421490    0.298594    0.720084  0.630983  0.825949  0.784906   \n",
       "2396    0.369217    0.313480    0.682697  0.750827  0.691599  0.617196   \n",
       "2397    0.385631    0.314968    0.700599  0.635674  0.771547  0.692806   \n",
       "2398    0.451284    0.355365    0.806649  0.862555  0.692761  0.727844   \n",
       "\n",
       "        OPS Y4    OPS Y5    OPS Y6    OPS Y7    OPS Y8    OPS Y9   OPS Y10  \\\n",
       "0     0.496266  0.379030  0.774655  0.456006  0.692935  0.621154  0.533333   \n",
       "1     0.470550  0.731898  0.400920  0.559740  0.379742  0.542872  0.634387   \n",
       "2     0.260180  0.455696  0.519551  0.591622  0.679654  0.537423  0.611333   \n",
       "3     0.473844  0.475806  0.000000  0.479365  0.464706  0.431818  0.991071   \n",
       "4     0.856730  0.967903  1.114268  1.379841  1.355617  1.103689  1.313417   \n",
       "...        ...       ...       ...       ...       ...       ...       ...   \n",
       "2394  0.583502  0.730326  0.703826  0.676495  0.641605  0.333333  0.195489   \n",
       "2395  0.658537  0.527451  0.707728  0.761775  0.704177  0.787218  0.722537   \n",
       "2396  0.659624  0.689723  0.751810  0.754196  0.673284  0.702389  0.557754   \n",
       "2397  0.613224  0.701352  0.732539  0.695653  0.747463  0.472727  0.671493   \n",
       "2398  0.755758  0.816092  0.766596  0.815330  0.847583  0.772876  0.939499   \n",
       "\n",
       "        AVG Y1    AVG Y2    AVG Y3    AVG Y4    AVG Y5    AVG Y6    AVG Y7  \\\n",
       "0     0.000000  0.076923  0.164179  0.190909  0.134146  0.268293  0.165217   \n",
       "1     0.250000  0.177215  0.216495  0.145631  0.222222  0.126437  0.181818   \n",
       "2     0.153846  0.076923  0.206522  0.114754  0.215190  0.203883  0.242105   \n",
       "3     0.000000  0.250000  0.163043  0.190909  0.225806  0.000000  0.174603   \n",
       "4     0.200000  0.315217  0.268116  0.325203  0.299685  0.319444  0.375546   \n",
       "...        ...       ...       ...       ...       ...       ...       ...   \n",
       "2394  0.500000  0.196970  0.200000  0.243346  0.272277  0.259259  0.253165   \n",
       "2395  0.204082  0.293515  0.278351  0.231405  0.167331  0.231672  0.265509   \n",
       "2396  0.289157  0.247525  0.244444  0.265421  0.281250  0.278438  0.292419   \n",
       "2397  0.209677  0.285285  0.254941  0.243655  0.256262  0.254980  0.251269   \n",
       "2398  0.296875  0.215909  0.225464  0.233803  0.228205  0.246575  0.240909   \n",
       "\n",
       "        AVG Y8    AVG Y9   AVG Y10  \n",
       "0     0.282609  0.234375  0.200000  \n",
       "1     0.144330  0.170732  0.261364  \n",
       "2     0.295238  0.221239  0.254098  \n",
       "3     0.166667  0.181818  0.250000  \n",
       "4     0.377079  0.314496  0.394231  \n",
       "...        ...       ...       ...  \n",
       "2394  0.228448  0.166667  0.052632  \n",
       "2395  0.222930  0.284404  0.252149  \n",
       "2396  0.263819  0.296610  0.223301  \n",
       "2397  0.269531  0.200000  0.254237  \n",
       "2398  0.245614  0.229814  0.240143  \n",
       "\n",
       "[2399 rows x 40 columns]"
      ]
     },
     "execution_count": 2,
     "metadata": {},
     "output_type": "execute_result"
    }
   ],
   "source": [
    "alldata_csv = \"./data/step4_alldata.csv\"\n",
    "all_data = pd.read_csv(alldata_csv)\n",
    "all_data"
   ]
  },
  {
   "cell_type": "code",
   "execution_count": 3,
   "id": "af43763d",
   "metadata": {
    "scrolled": true
   },
   "outputs": [],
   "source": [
    "# pre_2000_csv = \"./data/step4_pre_2000.csv\"\n",
    "# pre_2000 = pd.read_csv(pre_2000_csv)\n",
    "# pre_2000"
   ]
  },
  {
   "cell_type": "code",
   "execution_count": 4,
   "id": "e81ed908",
   "metadata": {},
   "outputs": [],
   "source": [
    "# from_2000_csv = \"./data/step4_from_2000.csv\"\n",
    "# from_2000 = pd.read_csv(from_2000_csv)\n",
    "# from_2000"
   ]
  },
  {
   "cell_type": "code",
   "execution_count": null,
   "id": "cc36e822",
   "metadata": {},
   "outputs": [],
   "source": []
  },
  {
   "cell_type": "markdown",
   "id": "5f78c2dd",
   "metadata": {},
   "source": []
  },
  {
   "cell_type": "code",
   "execution_count": 5,
   "id": "ba000abd",
   "metadata": {},
   "outputs": [],
   "source": [
    "import matplotlib.pyplot as plt\n",
    "\n",
    "def scatter_plot(feature, target):\n",
    "    plt.figure(figsize=(10, 8))\n",
    "    plt.scatter(\n",
    "        all_data[feature],\n",
    "        all_data[target],\n",
    "        c='blue'\n",
    "    )\n",
    "    plt.xlabel(\"{}\".format(feature))\n",
    "    plt.ylabel(\"{}\".format(target))\n",
    "    plt.show()"
   ]
  },
  {
   "cell_type": "code",
   "execution_count": null,
   "id": "e1736a32",
   "metadata": {},
   "outputs": [],
   "source": []
  },
  {
   "cell_type": "code",
   "execution_count": 6,
   "id": "b8eebcc7",
   "metadata": {
    "scrolled": false
   },
   "outputs": [
    {
     "data": {
      "image/png": "[encoded data removed]",
      "text/plain": [
       "<Figure size 720x576 with 1 Axes>"
      ]
     },
     "metadata": {
      "needs_background": "light"
     },
     "output_type": "display_data"
    },
    {
     "data": {
      "image/png": "[encoded data removed]",
      "text/plain": [
       "<Figure size 720x576 with 1 Axes>"
      ]
     },
     "metadata": {
      "needs_background": "light"
     },
     "output_type": "display_data"
    },
    {
     "data": {
      "image/png": "[encoded data removed]",
      "text/plain": [
       "<Figure size 720x576 with 1 Axes>"
      ]
     },
     "metadata": {
      "needs_background": "light"
     },
     "output_type": "display_data"
    },
    {
     "data": {
      "image/png": "[encoded data removed]",
      "text/plain": [
       "<Figure size 720x576 with 1 Axes>"
      ]
     },
     "metadata": {
      "needs_background": "light"
     },
     "output_type": "display_data"
    },
    {
     "data": {
      "image/png": "[encoded data removed]",
      "text/plain": [
       "<Figure size 720x576 with 1 Axes>"
      ]
     },
     "metadata": {
      "needs_background": "light"
     },
     "output_type": "display_data"
    }
   ],
   "source": [
    "scatter_plot('OPS Y1', 'OPS Y10')\n",
    "scatter_plot('OPS Y2', 'OPS Y10')\n",
    "scatter_plot('OPS Y3', 'OPS Y10')\n",
    "scatter_plot('OPS Y4', 'OPS Y10')\n",
    "scatter_plot('OPS Y5', 'OPS Y10')"
   ]
  },
  {
   "cell_type": "code",
   "execution_count": 7,
   "id": "7c68d24e",
   "metadata": {
    "scrolled": true
   },
   "outputs": [
    {
     "data": {
      "image/png": "[encoded data removed]",
      "text/plain": [
       "<Figure size 720x576 with 1 Axes>"
      ]
     },
     "metadata": {
      "needs_background": "light"
     },
     "output_type": "display_data"
    },
    {
     "data": {
      "image/png": "[encoded data removed]",
      "text/plain": [
       "<Figure size 720x576 with 1 Axes>"
      ]
     },
     "metadata": {
      "needs_background": "light"
     },
     "output_type": "display_data"
    },
    {
     "data": {
      "image/png": "[encoded data removed]",
      "text/plain": [
       "<Figure size 720x576 with 1 Axes>"
      ]
     },
     "metadata": {
      "needs_background": "light"
     },
     "output_type": "display_data"
    },
    {
     "data": {
      "image/png": "[encoded data removed]",
      "text/plain": [
       "<Figure size 720x576 with 1 Axes>"
      ]
     },
     "metadata": {
      "needs_background": "light"
     },
     "output_type": "display_data"
    },
    {
     "data": {
      "image/png": "[encoded data removed]",
      "text/plain": [
       "<Figure size 720x576 with 1 Axes>"
      ]
     },
     "metadata": {
      "needs_background": "light"
     },
     "output_type": "display_data"
    }
   ],
   "source": [
    "scatter_plot('OPS Y1', 'Career OPS')\n",
    "scatter_plot('OPS Y2', 'Career OPS')\n",
    "scatter_plot('OPS Y3', 'Career OPS')\n",
    "scatter_plot('OPS Y4', 'Career OPS')\n",
    "scatter_plot('OPS Y5', 'Career OPS')"
   ]
  },
  {
   "cell_type": "markdown",
   "id": "e3e711f0",
   "metadata": {},
   "source": [
    "I'm surprised by these results. I anticipated the 10th season OPS value to be more strongly correalated than the Career OPS, but it looks like Career OPS may be more accurately prediced.\n",
    "\n",
    "It seems like 3rd, 4th, and 5th season OPS values are more strongly correalated (increasingly so) with the value we hope to predict -- either 10th season OPS or Career OPS. However, Career OPS values tend to be more strongly related.\n",
    "\n",
    "Let's build two models, both with the 3rd, 4th, and 5th season OPS values as features. Model 1 (M1) will aim to predict the 10th season OPS and Model 2 (M2) will aim to predict the Career OPS. Based on these plots, we might expect to see more accuracy with M2. Let's try and see."
   ]
  },
  {
   "cell_type": "markdown",
   "id": "d90cb9eb",
   "metadata": {},
   "source": []
  },
  {
   "cell_type": "code",
   "execution_count": 8,
   "id": "6b36622d",
   "metadata": {},
   "outputs": [
    {
     "data": {
      "text/html": [
       "<div>\n",
       "<style scoped>\n",
       "    .dataframe tbody tr th:only-of-type {\n",
       "        vertical-align: middle;\n",
       "    }\n",
       "\n",
       "    .dataframe tbody tr th {\n",
       "        vertical-align: top;\n",
       "    }\n",
       "\n",
       "    .dataframe thead th {\n",
       "        text-align: right;\n",
       "    }\n",
       "</style>\n",
       "<table border=\"1\" class=\"dataframe\">\n",
       "  <thead>\n",
       "    <tr style=\"text-align: right;\">\n",
       "      <th></th>\n",
       "      <th>ID</th>\n",
       "      <th>Player</th>\n",
       "      <th>Career OPS</th>\n",
       "      <th>OPS Y3</th>\n",
       "      <th>OPS Y4</th>\n",
       "      <th>OPS Y5</th>\n",
       "      <th>OPS Y10</th>\n",
       "    </tr>\n",
       "  </thead>\n",
       "  <tbody>\n",
       "    <tr>\n",
       "      <th>0</th>\n",
       "      <td>willeed01</td>\n",
       "      <td>Ed Willett</td>\n",
       "      <td>0.526511</td>\n",
       "      <td>0.367510</td>\n",
       "      <td>0.496266</td>\n",
       "      <td>0.379030</td>\n",
       "      <td>0.533333</td>\n",
       "    </tr>\n",
       "    <tr>\n",
       "      <th>1</th>\n",
       "      <td>daussho01</td>\n",
       "      <td>Hooks Dauss</td>\n",
       "      <td>0.553158</td>\n",
       "      <td>0.578379</td>\n",
       "      <td>0.470550</td>\n",
       "      <td>0.731898</td>\n",
       "      <td>0.634387</td>\n",
       "    </tr>\n",
       "    <tr>\n",
       "      <th>2</th>\n",
       "      <td>coopewi01</td>\n",
       "      <td>Wilbur Cooper</td>\n",
       "      <td>0.579987</td>\n",
       "      <td>0.462535</td>\n",
       "      <td>0.260180</td>\n",
       "      <td>0.455696</td>\n",
       "      <td>0.611333</td>\n",
       "    </tr>\n",
       "    <tr>\n",
       "      <th>3</th>\n",
       "      <td>mamaual01</td>\n",
       "      <td>Al Mamaux</td>\n",
       "      <td>0.465279</td>\n",
       "      <td>0.363387</td>\n",
       "      <td>0.473844</td>\n",
       "      <td>0.475806</td>\n",
       "      <td>0.991071</td>\n",
       "    </tr>\n",
       "    <tr>\n",
       "      <th>4</th>\n",
       "      <td>ruthba01</td>\n",
       "      <td>Babe Ruth</td>\n",
       "      <td>1.163687</td>\n",
       "      <td>0.730611</td>\n",
       "      <td>0.856730</td>\n",
       "      <td>0.967903</td>\n",
       "      <td>1.313417</td>\n",
       "    </tr>\n",
       "    <tr>\n",
       "      <th>...</th>\n",
       "      <td>...</td>\n",
       "      <td>...</td>\n",
       "      <td>...</td>\n",
       "      <td>...</td>\n",
       "      <td>...</td>\n",
       "      <td>...</td>\n",
       "      <td>...</td>\n",
       "    </tr>\n",
       "    <tr>\n",
       "      <th>2394</th>\n",
       "      <td>perezhe01</td>\n",
       "      <td>Hernan Perez</td>\n",
       "      <td>0.661951</td>\n",
       "      <td>0.533333</td>\n",
       "      <td>0.583502</td>\n",
       "      <td>0.730326</td>\n",
       "      <td>0.195489</td>\n",
       "    </tr>\n",
       "    <tr>\n",
       "      <th>2395</th>\n",
       "      <td>gomesya01</td>\n",
       "      <td>Yan Gomes</td>\n",
       "      <td>0.720084</td>\n",
       "      <td>0.784906</td>\n",
       "      <td>0.658537</td>\n",
       "      <td>0.527451</td>\n",
       "      <td>0.722537</td>\n",
       "    </tr>\n",
       "    <tr>\n",
       "      <th>2396</th>\n",
       "      <td>simmoan01</td>\n",
       "      <td>Andrelton Simmons</td>\n",
       "      <td>0.682697</td>\n",
       "      <td>0.617196</td>\n",
       "      <td>0.659624</td>\n",
       "      <td>0.689723</td>\n",
       "      <td>0.557754</td>\n",
       "    </tr>\n",
       "    <tr>\n",
       "      <th>2397</th>\n",
       "      <td>mercejo03</td>\n",
       "      <td>Jordy Mercer</td>\n",
       "      <td>0.700599</td>\n",
       "      <td>0.692806</td>\n",
       "      <td>0.613224</td>\n",
       "      <td>0.701352</td>\n",
       "      <td>0.671493</td>\n",
       "    </tr>\n",
       "    <tr>\n",
       "      <th>2398</th>\n",
       "      <td>grandya01</td>\n",
       "      <td>Yasmani Grandal</td>\n",
       "      <td>0.806649</td>\n",
       "      <td>0.727844</td>\n",
       "      <td>0.755758</td>\n",
       "      <td>0.816092</td>\n",
       "      <td>0.939499</td>\n",
       "    </tr>\n",
       "  </tbody>\n",
       "</table>\n",
       "<p>2399 rows × 7 columns</p>\n",
       "</div>"
      ],
      "text/plain": [
       "             ID             Player  Career OPS    OPS Y3    OPS Y4    OPS Y5  \\\n",
       "0     willeed01         Ed Willett    0.526511  0.367510  0.496266  0.379030   \n",
       "1     daussho01        Hooks Dauss    0.553158  0.578379  0.470550  0.731898   \n",
       "2     coopewi01      Wilbur Cooper    0.579987  0.462535  0.260180  0.455696   \n",
       "3     mamaual01          Al Mamaux    0.465279  0.363387  0.473844  0.475806   \n",
       "4      ruthba01          Babe Ruth    1.163687  0.730611  0.856730  0.967903   \n",
       "...         ...                ...         ...       ...       ...       ...   \n",
       "2394  perezhe01       Hernan Perez    0.661951  0.533333  0.583502  0.730326   \n",
       "2395  gomesya01          Yan Gomes    0.720084  0.784906  0.658537  0.527451   \n",
       "2396  simmoan01  Andrelton Simmons    0.682697  0.617196  0.659624  0.689723   \n",
       "2397  mercejo03       Jordy Mercer    0.700599  0.692806  0.613224  0.701352   \n",
       "2398  grandya01    Yasmani Grandal    0.806649  0.727844  0.755758  0.816092   \n",
       "\n",
       "       OPS Y10  \n",
       "0     0.533333  \n",
       "1     0.634387  \n",
       "2     0.611333  \n",
       "3     0.991071  \n",
       "4     1.313417  \n",
       "...        ...  \n",
       "2394  0.195489  \n",
       "2395  0.722537  \n",
       "2396  0.557754  \n",
       "2397  0.671493  \n",
       "2398  0.939499  \n",
       "\n",
       "[2399 rows x 7 columns]"
      ]
     },
     "execution_count": 8,
     "metadata": {},
     "output_type": "execute_result"
    }
   ],
   "source": [
    "focus_on = ['ID', 'Player', 'Career OPS', 'OPS Y3', 'OPS Y4', 'OPS Y5', 'OPS Y10'] \n",
    "\n",
    "all_data_ops = all_data[focus_on]\n",
    "all_data_ops"
   ]
  },
  {
   "cell_type": "code",
   "execution_count": 9,
   "id": "9e967e85",
   "metadata": {},
   "outputs": [
    {
     "data": {
      "text/html": [
       "<div>\n",
       "<style scoped>\n",
       "    .dataframe tbody tr th:only-of-type {\n",
       "        vertical-align: middle;\n",
       "    }\n",
       "\n",
       "    .dataframe tbody tr th {\n",
       "        vertical-align: top;\n",
       "    }\n",
       "\n",
       "    .dataframe thead th {\n",
       "        text-align: right;\n",
       "    }\n",
       "</style>\n",
       "<table border=\"1\" class=\"dataframe\">\n",
       "  <thead>\n",
       "    <tr style=\"text-align: right;\">\n",
       "      <th></th>\n",
       "      <th>OPS Y3</th>\n",
       "      <th>OPS Y4</th>\n",
       "      <th>OPS Y5</th>\n",
       "    </tr>\n",
       "  </thead>\n",
       "  <tbody>\n",
       "    <tr>\n",
       "      <th>0</th>\n",
       "      <td>0.367510</td>\n",
       "      <td>0.496266</td>\n",
       "      <td>0.379030</td>\n",
       "    </tr>\n",
       "    <tr>\n",
       "      <th>1</th>\n",
       "      <td>0.578379</td>\n",
       "      <td>0.470550</td>\n",
       "      <td>0.731898</td>\n",
       "    </tr>\n",
       "    <tr>\n",
       "      <th>2</th>\n",
       "      <td>0.462535</td>\n",
       "      <td>0.260180</td>\n",
       "      <td>0.455696</td>\n",
       "    </tr>\n",
       "    <tr>\n",
       "      <th>3</th>\n",
       "      <td>0.363387</td>\n",
       "      <td>0.473844</td>\n",
       "      <td>0.475806</td>\n",
       "    </tr>\n",
       "    <tr>\n",
       "      <th>4</th>\n",
       "      <td>0.730611</td>\n",
       "      <td>0.856730</td>\n",
       "      <td>0.967903</td>\n",
       "    </tr>\n",
       "    <tr>\n",
       "      <th>...</th>\n",
       "      <td>...</td>\n",
       "      <td>...</td>\n",
       "      <td>...</td>\n",
       "    </tr>\n",
       "    <tr>\n",
       "      <th>2394</th>\n",
       "      <td>0.533333</td>\n",
       "      <td>0.583502</td>\n",
       "      <td>0.730326</td>\n",
       "    </tr>\n",
       "    <tr>\n",
       "      <th>2395</th>\n",
       "      <td>0.784906</td>\n",
       "      <td>0.658537</td>\n",
       "      <td>0.527451</td>\n",
       "    </tr>\n",
       "    <tr>\n",
       "      <th>2396</th>\n",
       "      <td>0.617196</td>\n",
       "      <td>0.659624</td>\n",
       "      <td>0.689723</td>\n",
       "    </tr>\n",
       "    <tr>\n",
       "      <th>2397</th>\n",
       "      <td>0.692806</td>\n",
       "      <td>0.613224</td>\n",
       "      <td>0.701352</td>\n",
       "    </tr>\n",
       "    <tr>\n",
       "      <th>2398</th>\n",
       "      <td>0.727844</td>\n",
       "      <td>0.755758</td>\n",
       "      <td>0.816092</td>\n",
       "    </tr>\n",
       "  </tbody>\n",
       "</table>\n",
       "<p>2399 rows × 3 columns</p>\n",
       "</div>"
      ],
      "text/plain": [
       "        OPS Y3    OPS Y4    OPS Y5\n",
       "0     0.367510  0.496266  0.379030\n",
       "1     0.578379  0.470550  0.731898\n",
       "2     0.462535  0.260180  0.455696\n",
       "3     0.363387  0.473844  0.475806\n",
       "4     0.730611  0.856730  0.967903\n",
       "...        ...       ...       ...\n",
       "2394  0.533333  0.583502  0.730326\n",
       "2395  0.784906  0.658537  0.527451\n",
       "2396  0.617196  0.659624  0.689723\n",
       "2397  0.692806  0.613224  0.701352\n",
       "2398  0.727844  0.755758  0.816092\n",
       "\n",
       "[2399 rows x 3 columns]"
      ]
     },
     "execution_count": 9,
     "metadata": {},
     "output_type": "execute_result"
    }
   ],
   "source": [
    "X = all_data_ops[['OPS Y3', 'OPS Y4', 'OPS Y5']]\n",
    "X"
   ]
  },
  {
   "cell_type": "code",
   "execution_count": 10,
   "id": "0d28ccee",
   "metadata": {},
   "outputs": [
    {
     "data": {
      "text/plain": [
       "array([[0.36751027, 0.49626623, 0.37903   ],\n",
       "       [0.57837942, 0.47055016, 0.73189763],\n",
       "       [0.46253469, 0.2601798 , 0.4556962 ],\n",
       "       ...,\n",
       "       [0.61719577, 0.6596236 , 0.68972288],\n",
       "       [0.69280632, 0.61322418, 0.70135209],\n",
       "       [0.72784427, 0.75575808, 0.81609157]])"
      ]
     },
     "execution_count": 10,
     "metadata": {},
     "output_type": "execute_result"
    }
   ],
   "source": [
    "X = X.values\n",
    "X"
   ]
  },
  {
   "cell_type": "markdown",
   "id": "b9a40f8a",
   "metadata": {},
   "source": []
  },
  {
   "cell_type": "code",
   "execution_count": 11,
   "id": "5b06fc67",
   "metadata": {},
   "outputs": [
    {
     "data": {
      "text/html": [
       "<div>\n",
       "<style scoped>\n",
       "    .dataframe tbody tr th:only-of-type {\n",
       "        vertical-align: middle;\n",
       "    }\n",
       "\n",
       "    .dataframe tbody tr th {\n",
       "        vertical-align: top;\n",
       "    }\n",
       "\n",
       "    .dataframe thead th {\n",
       "        text-align: right;\n",
       "    }\n",
       "</style>\n",
       "<table border=\"1\" class=\"dataframe\">\n",
       "  <thead>\n",
       "    <tr style=\"text-align: right;\">\n",
       "      <th></th>\n",
       "      <th>OPS Y10</th>\n",
       "    </tr>\n",
       "  </thead>\n",
       "  <tbody>\n",
       "    <tr>\n",
       "      <th>0</th>\n",
       "      <td>0.533333</td>\n",
       "    </tr>\n",
       "    <tr>\n",
       "      <th>1</th>\n",
       "      <td>0.634387</td>\n",
       "    </tr>\n",
       "    <tr>\n",
       "      <th>2</th>\n",
       "      <td>0.611333</td>\n",
       "    </tr>\n",
       "    <tr>\n",
       "      <th>3</th>\n",
       "      <td>0.991071</td>\n",
       "    </tr>\n",
       "    <tr>\n",
       "      <th>4</th>\n",
       "      <td>1.313417</td>\n",
       "    </tr>\n",
       "    <tr>\n",
       "      <th>...</th>\n",
       "      <td>...</td>\n",
       "    </tr>\n",
       "    <tr>\n",
       "      <th>2394</th>\n",
       "      <td>0.195489</td>\n",
       "    </tr>\n",
       "    <tr>\n",
       "      <th>2395</th>\n",
       "      <td>0.722537</td>\n",
       "    </tr>\n",
       "    <tr>\n",
       "      <th>2396</th>\n",
       "      <td>0.557754</td>\n",
       "    </tr>\n",
       "    <tr>\n",
       "      <th>2397</th>\n",
       "      <td>0.671493</td>\n",
       "    </tr>\n",
       "    <tr>\n",
       "      <th>2398</th>\n",
       "      <td>0.939499</td>\n",
       "    </tr>\n",
       "  </tbody>\n",
       "</table>\n",
       "<p>2399 rows × 1 columns</p>\n",
       "</div>"
      ],
      "text/plain": [
       "       OPS Y10\n",
       "0     0.533333\n",
       "1     0.634387\n",
       "2     0.611333\n",
       "3     0.991071\n",
       "4     1.313417\n",
       "...        ...\n",
       "2394  0.195489\n",
       "2395  0.722537\n",
       "2396  0.557754\n",
       "2397  0.671493\n",
       "2398  0.939499\n",
       "\n",
       "[2399 rows x 1 columns]"
      ]
     },
     "execution_count": 11,
     "metadata": {},
     "output_type": "execute_result"
    }
   ],
   "source": [
    "y1 = all_data_ops[['OPS Y10']]\n",
    "y1"
   ]
  },
  {
   "cell_type": "code",
   "execution_count": 12,
   "id": "80a20d1a",
   "metadata": {},
   "outputs": [
    {
     "data": {
      "text/plain": [
       "array([[0.53333333],\n",
       "       [0.63438735],\n",
       "       [0.61133342],\n",
       "       ...,\n",
       "       [0.55775399],\n",
       "       [0.67149339],\n",
       "       [0.93949936]])"
      ]
     },
     "execution_count": 12,
     "metadata": {},
     "output_type": "execute_result"
    }
   ],
   "source": [
    "y1 = y1.values\n",
    "y1"
   ]
  },
  {
   "cell_type": "code",
   "execution_count": 13,
   "id": "bedbdc70",
   "metadata": {},
   "outputs": [
    {
     "data": {
      "text/plain": [
       "0       0.526511\n",
       "1       0.553158\n",
       "2       0.579987\n",
       "3       0.465279\n",
       "4       1.163687\n",
       "          ...   \n",
       "2394    0.661951\n",
       "2395    0.720084\n",
       "2396    0.682697\n",
       "2397    0.700599\n",
       "2398    0.806649\n",
       "Name: Career OPS, Length: 2399, dtype: float64"
      ]
     },
     "execution_count": 13,
     "metadata": {},
     "output_type": "execute_result"
    }
   ],
   "source": [
    "y2 = all_data_ops['Career OPS']\n",
    "y2"
   ]
  },
  {
   "cell_type": "code",
   "execution_count": 14,
   "id": "36134f68",
   "metadata": {},
   "outputs": [
    {
     "data": {
      "text/plain": [
       "array([0.52651137, 0.55315806, 0.57998739, ..., 0.68269696, 0.70059903,\n",
       "       0.80664911])"
      ]
     },
     "execution_count": 14,
     "metadata": {},
     "output_type": "execute_result"
    }
   ],
   "source": [
    "y2 = y2.values\n",
    "y2"
   ]
  },
  {
   "cell_type": "code",
   "execution_count": null,
   "id": "9db4cc07",
   "metadata": {},
   "outputs": [],
   "source": []
  },
  {
   "cell_type": "markdown",
   "id": "d806cdbf",
   "metadata": {},
   "source": [
    "M1"
   ]
  },
  {
   "cell_type": "code",
   "execution_count": null,
   "id": "73e235dd",
   "metadata": {},
   "outputs": [],
   "source": []
  },
  {
   "cell_type": "code",
   "execution_count": 27,
   "id": "6a6fac80",
   "metadata": {},
   "outputs": [],
   "source": [
    "from sklearn.model_selection import train_test_split\n",
    "X_train, X_test, y1_train, y1_test = train_test_split(X, y1, test_size = 0.3, random_state = 42)\n",
    "X_validate, X_test, y1_validate, y1_test = train_test_split(X_test, y1_test, test_size = 0.5, random_state = 42)\n"
   ]
  },
  {
   "cell_type": "code",
   "execution_count": 15,
   "id": "64b38aa4",
   "metadata": {},
   "outputs": [
    {
     "name": "stdout",
     "output_type": "stream",
     "text": [
      "The performance of the model\n",
      "--------------------------------------\n",
      "MAE is 0.148\n",
      "RMSE is 0.238\n",
      "R-Squared is 0.295\n"
     ]
    }
   ],
   "source": [
    "from sklearn.linear_model import LinearRegression\n",
    "from sklearn.metrics import mean_squared_error\n",
    "\n",
    "\n",
    "M1 = LinearRegression()\n",
    "M1.fit(X_train, y1_train)\n",
    "\n",
    "y1_predict_validate = M1.predict(X_validate)\n",
    "\n",
    "\n",
    "from sklearn.metrics import mean_absolute_error\n",
    "mae = mean_absolute_error(y1_validate, y1_predict_validate)\n",
    "\n",
    "from sklearn.metrics import mean_squared_error\n",
    "rmse = (np.sqrt(mean_squared_error(y1_validate, y1_predict_validate)))\n",
    "\n",
    "from sklearn.metrics import r2_score\n",
    "r2 = r2_score(y1_validate, y1_predict_validate)\n",
    "\n",
    "print(\"The performance of the model\")\n",
    "print(\"--------------------------------------\")\n",
    "print('MAE is %.3f' % (mae))\n",
    "print('RMSE is %.3f' % (rmse))\n",
    "print('R-Squared is %.3f' % (r2))"
   ]
  },
  {
   "cell_type": "code",
   "execution_count": null,
   "id": "504fc403",
   "metadata": {},
   "outputs": [],
   "source": []
  },
  {
   "cell_type": "markdown",
   "id": "a4625e6d",
   "metadata": {},
   "source": [
    "M2"
   ]
  },
  {
   "cell_type": "code",
   "execution_count": 26,
   "id": "d77d24cd",
   "metadata": {},
   "outputs": [],
   "source": [
    "from sklearn.model_selection import train_test_split\n",
    "X_train, X_test, y2_train, y2_test = train_test_split(X, y2, test_size = 0.3, random_state = 42)\n",
    "X_validate, X_test, y2_validate, y2_test = train_test_split(X_test, y2_test, test_size = 0.5, random_state = 42)"
   ]
  },
  {
   "cell_type": "code",
   "execution_count": 16,
   "id": "2b3ece3f",
   "metadata": {},
   "outputs": [
    {
     "name": "stdout",
     "output_type": "stream",
     "text": [
      "The performance of the model\n",
      "--------------------------------------\n",
      "MAE is 0.051\n",
      "RMSE is 0.087\n",
      "R-Squared is 0.769\n"
     ]
    }
   ],
   "source": [
    "from sklearn.linear_model import LinearRegression\n",
    "from sklearn.metrics import mean_squared_error\n",
    "\n",
    "\n",
    "M2 = LinearRegression()\n",
    "M2.fit(X_train, y2_train)\n",
    "\n",
    "\n",
    "y2_predict_validate = M2.predict(X_validate)\n",
    "\n",
    "from sklearn.metrics import mean_absolute_error\n",
    "mae = mean_absolute_error(y2_validate, y2_predict_validate)\n",
    "\n",
    "from sklearn.metrics import mean_squared_error\n",
    "rmse = (np.sqrt(mean_squared_error(y2_validate, y2_predict_validate)))\n",
    "\n",
    "from sklearn.metrics import r2_score\n",
    "r2 = r2_score(y2_validate, y2_predict_validate)\n",
    "\n",
    "print(\"The performance of the model\")\n",
    "print(\"--------------------------------------\")\n",
    "print('MAE is %.3f' % (mae))\n",
    "print('RMSE is %.3f' % (rmse))\n",
    "print('R-Squared is %.3f' % (r2))"
   ]
  },
  {
   "cell_type": "code",
   "execution_count": null,
   "id": "811d5b34",
   "metadata": {},
   "outputs": [],
   "source": []
  },
  {
   "cell_type": "markdown",
   "id": "f24a9394",
   "metadata": {},
   "source": [
    "M3 = M2 w/ LassoCV"
   ]
  },
  {
   "cell_type": "code",
   "execution_count": 17,
   "id": "20b420d5",
   "metadata": {},
   "outputs": [
    {
     "name": "stdout",
     "output_type": "stream",
     "text": [
      "The performance of the model\n",
      "--------------------------------------\n",
      "MAE is 0.051\n",
      "RMSE is 0.087\n",
      "R-Squared is 0.769\n"
     ]
    }
   ],
   "source": [
    "from sklearn.linear_model import LassoCV\n",
    "\n",
    "M3 = LassoCV(cv = 10)\n",
    "M3.fit(X_train, y2_train.ravel())\n",
    "\n",
    "y2_predict_validate = M3.predict(X_validate)\n",
    "\n",
    "\n",
    "from sklearn.metrics import mean_absolute_error\n",
    "mae = mean_absolute_error(y2_validate, y2_predict_validate)\n",
    "\n",
    "from sklearn.metrics import mean_squared_error\n",
    "rmse = (np.sqrt(mean_squared_error(y2_validate, y2_predict_validate)))\n",
    "\n",
    "from sklearn.metrics import r2_score\n",
    "r2 = r2_score(y2_validate, y2_predict_validate)\n",
    "\n",
    "print(\"The performance of the model\")\n",
    "print(\"--------------------------------------\")\n",
    "print('MAE is %.3f' % (mae))\n",
    "print('RMSE is %.3f' % (rmse))\n",
    "print('R-Squared is %.3f' % (r2))"
   ]
  },
  {
   "cell_type": "code",
   "execution_count": null,
   "id": "7f0924d0",
   "metadata": {},
   "outputs": [],
   "source": []
  },
  {
   "cell_type": "markdown",
   "id": "df0fc0f1",
   "metadata": {},
   "source": [
    "M4 = M2 w/RidgeCV"
   ]
  },
  {
   "cell_type": "code",
   "execution_count": 18,
   "id": "2b4191df",
   "metadata": {},
   "outputs": [
    {
     "name": "stdout",
     "output_type": "stream",
     "text": [
      "The performance of the model\n",
      "--------------------------------------\n",
      "MAE is 0.051\n",
      "RMSE is 0.087\n",
      "R-Squared is 0.768\n"
     ]
    }
   ],
   "source": [
    "from sklearn.linear_model import RidgeCV\n",
    "\n",
    "M4 = RidgeCV(cv = 10)\n",
    "M4.fit(X_train, y2_train.ravel())\n",
    "\n",
    "y2_predict_validate = M4.predict(X_validate)\n",
    "\n",
    "\n",
    "from sklearn.metrics import mean_absolute_error\n",
    "mae = mean_absolute_error(y2_validate, y2_predict_validate)\n",
    "\n",
    "from sklearn.metrics import mean_squared_error\n",
    "rmse = (np.sqrt(mean_squared_error(y2_validate, y2_predict_validate)))\n",
    "\n",
    "from sklearn.metrics import r2_score\n",
    "r2 = r2_score(y2_validate, y2_predict_validate)\n",
    "\n",
    "print(\"The performance of the model\")\n",
    "print(\"--------------------------------------\")\n",
    "print('MAE is %.3f' % (mae))\n",
    "print('RMSE is %.3f' % (rmse))\n",
    "print('R-Squared is %.3f' % (r2))"
   ]
  },
  {
   "cell_type": "code",
   "execution_count": null,
   "id": "d806b24f",
   "metadata": {},
   "outputs": [],
   "source": []
  },
  {
   "cell_type": "markdown",
   "id": "390913d7",
   "metadata": {},
   "source": [
    "M5  Grad Boost"
   ]
  },
  {
   "cell_type": "code",
   "execution_count": 19,
   "id": "2d7927b5",
   "metadata": {},
   "outputs": [
    {
     "name": "stdout",
     "output_type": "stream",
     "text": [
      "The performance of the model\n",
      "--------------------------------------\n",
      "MAE is 0.045\n",
      "RMSE is 0.063\n",
      "R-Squared is 0.877\n"
     ]
    }
   ],
   "source": [
    "from sklearn.ensemble import GradientBoostingRegressor\n",
    "\n",
    "M5 = GradientBoostingRegressor()\n",
    "M5.fit(X_train, y2_train)\n",
    "\n",
    "y2_predict_validate = M5.predict(X_validate)\n",
    "\n",
    "\n",
    "from sklearn.metrics import mean_absolute_error\n",
    "mae = mean_absolute_error(y2_validate, y2_predict_validate)\n",
    "\n",
    "from sklearn.metrics import mean_squared_error\n",
    "rmse = (np.sqrt(mean_squared_error(y2_validate, y2_predict_validate)))\n",
    "\n",
    "from sklearn.metrics import r2_score\n",
    "r2 = r2_score(y2_validate, y2_predict_validate)\n",
    "\n",
    "print(\"The performance of the model\")\n",
    "print(\"--------------------------------------\")\n",
    "print('MAE is %.3f' % (mae))\n",
    "print('RMSE is %.3f' % (rmse))\n",
    "print('R-Squared is %.3f' % (r2))"
   ]
  },
  {
   "cell_type": "code",
   "execution_count": null,
   "id": "fd00d089",
   "metadata": {},
   "outputs": [],
   "source": []
  },
  {
   "cell_type": "markdown",
   "id": "16a4e79e",
   "metadata": {},
   "source": [
    "M6 Grad Boost w/ CV"
   ]
  },
  {
   "cell_type": "code",
   "execution_count": 25,
   "id": "bf926b8b",
   "metadata": {},
   "outputs": [
    {
     "name": "stdout",
     "output_type": "stream",
     "text": [
      "MAE: -0.046 (0.008)\n",
      "The performance of the model\n",
      "--------------------------------------\n",
      "MAE is 0.044\n",
      "RMSE is 0.063\n",
      "R-Squared is 0.879\n"
     ]
    }
   ],
   "source": [
    "from sklearn.ensemble import GradientBoostingRegressor\n",
    "\n",
    "from sklearn.model_selection import cross_val_score\n",
    "from sklearn.model_selection import RepeatedKFold\n",
    "\n",
    "M6 = GradientBoostingRegressor()\n",
    "cv = RepeatedKFold(n_splits=50, n_repeats=10, random_state=42)\n",
    "n_scores = cross_val_score(M6, X_train, y2_train, scoring='neg_mean_absolute_error', cv=cv, n_jobs=-1, error_score='raise')\n",
    "print('MAE: %.3f (%.3f)' % (np.mean(n_scores), np.std(n_scores)))\n",
    "\n",
    "# fit the model on the whole dataset\n",
    "M6 = GradientBoostingRegressor()\n",
    "M6.fit(X_train, y2_train)\n",
    "\n",
    "y2_predict_validate = M6.predict(X_validate)\n",
    "\n",
    "\n",
    "from sklearn.metrics import mean_absolute_error\n",
    "mae = mean_absolute_error(y2_validate, y2_predict_validate)\n",
    "\n",
    "from sklearn.metrics import mean_squared_error\n",
    "rmse = (np.sqrt(mean_squared_error(y2_validate, y2_predict_validate)))\n",
    "\n",
    "from sklearn.metrics import r2_score\n",
    "r2 = r2_score(y2_validate, y2_predict_validate)\n",
    "\n",
    "print(\"The performance of the model\")\n",
    "print(\"--------------------------------------\")\n",
    "print('MAE is %.3f' % (mae))\n",
    "print('RMSE is %.3f' % (rmse))\n",
    "print('R-Squared is %.3f' % (r2))"
   ]
  },
  {
   "cell_type": "code",
   "execution_count": null,
   "id": "1672700f",
   "metadata": {},
   "outputs": [],
   "source": []
  },
  {
   "cell_type": "code",
   "execution_count": null,
   "id": "8da2d85f",
   "metadata": {},
   "outputs": [],
   "source": []
  },
  {
   "cell_type": "code",
   "execution_count": null,
   "id": "fa9dc817",
   "metadata": {},
   "outputs": [],
   "source": []
  },
  {
   "cell_type": "code",
   "execution_count": null,
   "id": "a7147aaf",
   "metadata": {},
   "outputs": [],
   "source": []
  },
  {
   "cell_type": "code",
   "execution_count": null,
   "id": "dab517cc",
   "metadata": {},
   "outputs": [],
   "source": []
  },
  {
   "cell_type": "markdown",
   "id": "c6dfd6d4",
   "metadata": {},
   "source": [
    "### test"
   ]
  },
  {
   "cell_type": "code",
   "execution_count": 20,
   "id": "6378feff",
   "metadata": {},
   "outputs": [
    {
     "name": "stdout",
     "output_type": "stream",
     "text": [
      "The performance of the model\n",
      "--------------------------------------\n",
      "MAE is 0.046\n",
      "RMSE is 0.064\n",
      "R-Squared is 0.868\n"
     ]
    }
   ],
   "source": [
    "y2_predict_test = M5.predict(X_test)\n",
    "\n",
    "from sklearn.metrics import mean_absolute_error\n",
    "mae = mean_absolute_error(y2_test, y2_predict_test)\n",
    "\n",
    "from sklearn.metrics import mean_squared_error\n",
    "rmse = (np.sqrt(mean_squared_error(y2_test, y2_predict_test)))\n",
    "\n",
    "from sklearn.metrics import r2_score\n",
    "r2 = r2_score(y2_test, y2_predict_test)\n",
    "\n",
    "print(\"The performance of the model\")\n",
    "print(\"--------------------------------------\")\n",
    "print('MAE is %.3f' % (mae))\n",
    "print('RMSE is %.3f' % (rmse))\n",
    "print('R-Squared is %.3f' % (r2))"
   ]
  },
  {
   "cell_type": "code",
   "execution_count": null,
   "id": "30b9f972",
   "metadata": {},
   "outputs": [],
   "source": []
  },
  {
   "cell_type": "code",
   "execution_count": null,
   "id": "66a550a9",
   "metadata": {},
   "outputs": [],
   "source": []
  },
  {
   "cell_type": "markdown",
   "id": "61e2833d-c4d4-4417-bb05-3a86b6b517f4",
   "metadata": {},
   "source": []
  },
  {
   "cell_type": "markdown",
   "id": "4b3503f9-1f40-460b-8904-da42e7e9f53a",
   "metadata": {},
   "source": []
  },
  {
   "cell_type": "code",
   "execution_count": null,
   "id": "327c84b1-ef69-4951-8123-b24f00144a2b",
   "metadata": {},
   "outputs": [],
   "source": []
  },
  {
   "cell_type": "code",
   "execution_count": null,
   "id": "5798a129-3556-48b5-8a41-ac1d1a2268fb",
   "metadata": {},
   "outputs": [],
   "source": []
  },
  {
   "cell_type": "code",
   "execution_count": null,
   "id": "9ea84395-08b5-407c-a58d-257535d13563",
   "metadata": {},
   "outputs": [],
   "source": []
  },
  {
   "cell_type": "code",
   "execution_count": null,
   "id": "05500170-00d4-4618-9ff7-0d3ae5bd928a",
   "metadata": {},
   "outputs": [],
   "source": []
  },
  {
   "cell_type": "code",
   "execution_count": null,
   "id": "42e6c5c1-bcc6-4cd7-b330-b13a4b3f269e",
   "metadata": {},
   "outputs": [],
   "source": []
  },
  {
   "cell_type": "code",
   "execution_count": null,
   "id": "9f29c535-1ec4-449f-b2be-96e6af86c2f2",
   "metadata": {},
   "outputs": [],
   "source": []
  },
  {
   "cell_type": "markdown",
   "id": "ffdeb90e-b2e9-4ff6-b4a0-f153ad1b475f",
   "metadata": {},
   "source": [
    "### My Test with My Data...."
   ]
  },
  {
   "cell_type": "code",
   "execution_count": null,
   "id": "05a09496-0292-49dc-b0c0-85e699b21b92",
   "metadata": {},
   "outputs": [],
   "source": [
    "# y_my_test = from_2000_career[['OPS Y6', 'OPS Y10', 'Career OPS']]\n",
    "# y_my_test"
   ]
  },
  {
   "cell_type": "code",
   "execution_count": null,
   "id": "4aff515b-a958-48a7-bc6b-c04bd369dad1",
   "metadata": {},
   "outputs": [],
   "source": [
    "X_my_test = from_2000_career[['OPS Y1', 'OPS Y2', 'OPS Y3', 'OPS Y4', 'OPS Y5']]\n",
    "X_my_test"
   ]
  },
  {
   "cell_type": "code",
   "execution_count": null,
   "id": "b0ac7d94-aeb0-425a-8d35-67115689cc09",
   "metadata": {},
   "outputs": [],
   "source": [
    "# names_my_test = from_2000_career[['Player']]\n",
    "# names_my_test"
   ]
  },
  {
   "cell_type": "markdown",
   "id": "052fb8ec",
   "metadata": {},
   "source": [
    "'''\n",
    "Miguel Cabrera\n",
    "Albert Pujols\n",
    "Ichiro Suzuki\n",
    "Robinson Cano\n",
    "Sandy Leon\n",
    "'''\n"
   ]
  },
  {
   "cell_type": "code",
   "execution_count": null,
   "id": "3e0152a6",
   "metadata": {},
   "outputs": [],
   "source": [
    "my_player_list = pd.DataFrame()\n",
    "\n",
    "\n",
    "my_player_list = pd.concat([my_player_list, from_2000_career[from_2000_career['Player'] == 'Miguel Cabrera']],\n",
    "                          ignore_index=True)\n",
    "\n",
    "my_player_list = pd.concat([my_player_list, from_2000_career[from_2000_career['Player'] == 'Albert Pujols']],\n",
    "                           ignore_index=True)\n",
    "\n",
    "my_player_list = pd.concat([my_player_list, from_2000_career[from_2000_career['Player'] == 'Ichiro Suzuki']],\n",
    "                           ignore_index=True)\n",
    "\n",
    "my_player_list = pd.concat([my_player_list, from_2000_career[from_2000_career['Player'] == 'Robinson Cano']],\n",
    "                           ignore_index=True)\n",
    "\n",
    "my_player_list = pd.concat([my_player_list, from_2000_career[from_2000_career['Player'] == 'Sandy Leon']],\n",
    "                           ignore_index=True)\n",
    "\n",
    "my_player_list"
   ]
  },
  {
   "cell_type": "code",
   "execution_count": null,
   "id": "6d1f718d",
   "metadata": {},
   "outputs": [],
   "source": [
    "y_my_test = my_player_list[['OPS Y6', 'OPS Y10', 'Career OPS']]\n",
    "y_my_test"
   ]
  },
  {
   "cell_type": "code",
   "execution_count": null,
   "id": "3fce67af",
   "metadata": {},
   "outputs": [],
   "source": [
    "X_my_test = my_player_list[['OPS Y1', 'OPS Y2', 'OPS Y3', 'OPS Y4', 'OPS Y5']]\n",
    "X_my_test"
   ]
  },
  {
   "cell_type": "code",
   "execution_count": null,
   "id": "82bd2a9a",
   "metadata": {},
   "outputs": [],
   "source": []
  },
  {
   "cell_type": "code",
   "execution_count": null,
   "id": "4bf06230",
   "metadata": {},
   "outputs": [],
   "source": []
  },
  {
   "cell_type": "code",
   "execution_count": null,
   "id": "b91e18b3-f8b4-4b36-871f-b9b1dec1b2fc",
   "metadata": {},
   "outputs": [],
   "source": [
    "predict_my_test = LinReg.predict(X_my_test.values)\n",
    "predict_my_test\n",
    "\n",
    "#clf_1.predict(X_2000_1.values)"
   ]
  },
  {
   "cell_type": "code",
   "execution_count": null,
   "id": "b06abd72-cffb-40fa-8501-ced0a60d06a3",
   "metadata": {},
   "outputs": [],
   "source": [
    "y_my_test"
   ]
  }
 ],
 "metadata": {
  "kernelspec": {
   "display_name": "Python 3 (ipykernel)",
   "language": "python",
   "name": "python3"
  },
  "language_info": {
   "codemirror_mode": {
    "name": "ipython",
    "version": 3
   },
   "file_extension": ".py",
   "mimetype": "text/x-python",
   "name": "python",
   "nbconvert_exporter": "python",
   "pygments_lexer": "ipython3",
   "version": "3.9.13"
  }
 },
 "nbformat": 4,
 "nbformat_minor": 5
}
